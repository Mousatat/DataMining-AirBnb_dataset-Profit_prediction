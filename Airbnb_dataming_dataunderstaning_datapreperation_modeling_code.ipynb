{
  "cells": [
    {
      "cell_type": "markdown",
      "metadata": {
        "id": "_1gcStSGO6B8"
      },
      "source": [
        "**The following code mounts the Google Drive to the Colab notebook environment.**\n",
        "# install libraries and unzip files"
      ]
    },
    {
      "cell_type": "code",
      "execution_count": 48,
      "metadata": {
        "colab": {
          "base_uri": "https://localhost:8080/"
        },
        "id": "NiZtR0g1HEUi",
        "outputId": "58a23987-d105-4fb3-acc4-9124a432f900"
      },
      "outputs": [
        {
          "output_type": "stream",
          "name": "stdout",
          "text": [
            "Drive already mounted at /content/drive/; to attempt to forcibly remount, call drive.mount(\"/content/drive/\", force_remount=True).\n"
          ]
        }
      ],
      "source": [
        "from google.colab import drive\n",
        "drive.mount('/content/drive/')"
      ]
    },
    {
      "cell_type": "code",
      "execution_count": 49,
      "metadata": {
        "colab": {
          "base_uri": "https://localhost:8080/"
        },
        "id": "Q8j4M5X4HKOz",
        "outputId": "9f394272-18b3-43bc-c5cc-a6200874cfd5"
      },
      "outputs": [
        {
          "output_type": "stream",
          "name": "stdout",
          "text": [
            "Archive:  /content/drive/MyDrive/AirbnbDatasets.zip\n",
            "replace Airbnb Data/Listings.csv? [y]es, [n]o, [A]ll, [N]one, [r]ename: N\n"
          ]
        }
      ],
      "source": [
        "!unzip /content/drive/MyDrive/AirbnbDatasets.zip"
      ]
    },
    {
      "cell_type": "markdown",
      "metadata": {
        "id": "yhLzr4kfwRpF"
      },
      "source": [
        "Link to the resource of the calender paris 2021 dataset\n",
        "https://www.kaggle.com/datasets/joaobatistafilho/airbnbpariscalendar"
      ]
    },
    {
      "cell_type": "code",
      "execution_count": 47,
      "metadata": {
        "colab": {
          "base_uri": "https://localhost:8080/"
        },
        "id": "RJ1MjTS_KrQ_",
        "outputId": "4f0b18a1-cc9c-4687-8602-67c2ef93594c"
      },
      "outputs": [
        {
          "output_type": "stream",
          "name": "stdout",
          "text": [
            "Archive:  /content/drive/MyDrive/Paris-calender.zip\n",
            "  inflating: Paris-calendar-2021.csv  \n"
          ]
        }
      ],
      "source": [
        "!unzip /content/drive/MyDrive/Paris-calender.zip"
      ]
    },
    {
      "cell_type": "code",
      "execution_count": 50,
      "metadata": {
        "colab": {
          "base_uri": "https://localhost:8080/"
        },
        "id": "wc_f3Plrj0Rk",
        "outputId": "cbbd74f5-e257-4b5f-8578-43fcd23de1fc"
      },
      "outputs": [
        {
          "output_type": "stream",
          "name": "stdout",
          "text": [
            "Looking in indexes: https://pypi.org/simple, https://us-python.pkg.dev/colab-wheels/public/simple/\n",
            "Requirement already satisfied: tpot in /usr/local/lib/python3.9/dist-packages (0.11.7)\n",
            "Requirement already satisfied: deap>=1.2 in /usr/local/lib/python3.9/dist-packages (from tpot) (1.3.3)\n",
            "Requirement already satisfied: joblib>=0.13.2 in /usr/local/lib/python3.9/dist-packages (from tpot) (1.2.0)\n",
            "Requirement already satisfied: xgboost>=1.1.0 in /usr/local/lib/python3.9/dist-packages (from tpot) (1.7.5)\n",
            "Requirement already satisfied: pandas>=0.24.2 in /usr/local/lib/python3.9/dist-packages (from tpot) (1.5.3)\n",
            "Requirement already satisfied: scipy>=1.3.1 in /usr/local/lib/python3.9/dist-packages (from tpot) (1.10.1)\n",
            "Requirement already satisfied: stopit>=1.1.1 in /usr/local/lib/python3.9/dist-packages (from tpot) (1.1.2)\n",
            "Requirement already satisfied: tqdm>=4.36.1 in /usr/local/lib/python3.9/dist-packages (from tpot) (4.65.0)\n",
            "Requirement already satisfied: scikit-learn>=0.22.0 in /usr/local/lib/python3.9/dist-packages (from tpot) (1.2.2)\n",
            "Requirement already satisfied: numpy>=1.16.3 in /usr/local/lib/python3.9/dist-packages (from tpot) (1.22.4)\n",
            "Requirement already satisfied: update-checker>=0.16 in /usr/local/lib/python3.9/dist-packages (from tpot) (0.18.0)\n",
            "Requirement already satisfied: python-dateutil>=2.8.1 in /usr/local/lib/python3.9/dist-packages (from pandas>=0.24.2->tpot) (2.8.2)\n",
            "Requirement already satisfied: pytz>=2020.1 in /usr/local/lib/python3.9/dist-packages (from pandas>=0.24.2->tpot) (2022.7.1)\n",
            "Requirement already satisfied: threadpoolctl>=2.0.0 in /usr/local/lib/python3.9/dist-packages (from scikit-learn>=0.22.0->tpot) (3.1.0)\n",
            "Requirement already satisfied: requests>=2.3.0 in /usr/local/lib/python3.9/dist-packages (from update-checker>=0.16->tpot) (2.27.1)\n",
            "Requirement already satisfied: six>=1.5 in /usr/local/lib/python3.9/dist-packages (from python-dateutil>=2.8.1->pandas>=0.24.2->tpot) (1.16.0)\n",
            "Requirement already satisfied: idna<4,>=2.5 in /usr/local/lib/python3.9/dist-packages (from requests>=2.3.0->update-checker>=0.16->tpot) (3.4)\n",
            "Requirement already satisfied: certifi>=2017.4.17 in /usr/local/lib/python3.9/dist-packages (from requests>=2.3.0->update-checker>=0.16->tpot) (2022.12.7)\n",
            "Requirement already satisfied: charset-normalizer~=2.0.0 in /usr/local/lib/python3.9/dist-packages (from requests>=2.3.0->update-checker>=0.16->tpot) (2.0.12)\n",
            "Requirement already satisfied: urllib3<1.27,>=1.21.1 in /usr/local/lib/python3.9/dist-packages (from requests>=2.3.0->update-checker>=0.16->tpot) (1.26.15)\n"
          ]
        }
      ],
      "source": [
        "!pip install tpot"
      ]
    },
    {
      "cell_type": "markdown",
      "metadata": {
        "id": "kRdPbhc9PbxN"
      },
      "source": [
        "# import section"
      ]
    },
    {
      "cell_type": "code",
      "execution_count": 51,
      "metadata": {
        "id": "8NWUkYjWHQK0"
      },
      "outputs": [],
      "source": [
        "#import section\n",
        "from sklearn.preprocessing import OneHotEncoder\n",
        "from sklearn.model_selection import train_test_split\n",
        "from tpot import TPOTRegressor\n",
        "import pandas as pd\n",
        "import numpy as np\n",
        "import matplotlib.pyplot as plt\n",
        "from itertools import chain\n",
        "from sklearn.decomposition import PCA\n",
        "from sklearn.pipeline import make_pipeline\n",
        "from sklearn.impute import SimpleImputer\n",
        "from sklearn.preprocessing import StandardScaler"
      ]
    },
    {
      "cell_type": "code",
      "execution_count": 52,
      "metadata": {
        "colab": {
          "base_uri": "https://localhost:8080/"
        },
        "id": "nsWU09YUHcM6",
        "outputId": "590aeb0f-673e-4c7b-974c-db54c60a8ab7"
      },
      "outputs": [
        {
          "output_type": "stream",
          "name": "stderr",
          "text": [
            "<ipython-input-52-e4ca96877fda>:3: DtypeWarning: Columns (5,13) have mixed types. Specify dtype option on import or set low_memory=False.\n",
            "  Listings = pd.read_csv('Airbnb Data/Listings.csv',encoding='ISO-8859-1')\n"
          ]
        }
      ],
      "source": [
        "#retrieve section\n",
        "currency_changed = 0\n",
        "Listings = pd.read_csv('Airbnb Data/Listings.csv',encoding='ISO-8859-1')\n",
        "Reveiws = pd.read_csv('Airbnb Data/Reviews.csv',encoding='ISO-8859-1')"
      ]
    },
    {
      "cell_type": "markdown",
      "metadata": {
        "id": "lTvezrSVHr3K"
      },
      "source": [
        "# **Data Understanding**"
      ]
    },
    {
      "cell_type": "markdown",
      "metadata": {
        "id": "pOdlWkc0tzIF"
      },
      "source": [
        "# basic analysis for listing and reveiws"
      ]
    },
    {
      "cell_type": "markdown",
      "metadata": {
        "id": "n3zoyE9PQJvS"
      },
      "source": [
        "Get the shape of Listings and Reviews datasets"
      ]
    },
    {
      "cell_type": "code",
      "execution_count": 53,
      "metadata": {
        "colab": {
          "base_uri": "https://localhost:8080/"
        },
        "id": "ZigKrZ7swTmV",
        "outputId": "1e914389-4af5-4c37-ff18-3af4392a8e15"
      },
      "outputs": [
        {
          "output_type": "execute_result",
          "data": {
            "text/plain": [
              "(279712, 33)"
            ]
          },
          "metadata": {},
          "execution_count": 53
        }
      ],
      "source": [
        "Listings.shape"
      ]
    },
    {
      "cell_type": "code",
      "execution_count": 54,
      "metadata": {
        "colab": {
          "base_uri": "https://localhost:8080/"
        },
        "id": "wEnrvTBWwmpi",
        "outputId": "15e97f21-41be-4fd5-b882-29f375ba6591"
      },
      "outputs": [
        {
          "output_type": "execute_result",
          "data": {
            "text/plain": [
              "(5373143, 4)"
            ]
          },
          "metadata": {},
          "execution_count": 54
        }
      ],
      "source": [
        "Reveiws.shape"
      ]
    },
    {
      "cell_type": "markdown",
      "metadata": {
        "id": "wZBgIWOHQNV5"
      },
      "source": [
        "Read the Listings and Reviews data dictionary files and store them in Listings_Description and Reveiws_Description respectively"
      ]
    },
    {
      "cell_type": "code",
      "execution_count": 55,
      "metadata": {
        "id": "_nZK4bElvIXt"
      },
      "outputs": [],
      "source": [
        "Listings_Description =pd.read_csv('/content/Airbnb Data/Listings_data_dictionary.csv',encoding='ISO-8859-1')\n",
        "Reveiws_Description =pd.read_csv('/content/Airbnb Data/Reviews_data_dictionary.csv',encoding='ISO-8859-1')"
      ]
    },
    {
      "cell_type": "markdown",
      "metadata": {
        "id": "cyE_ohzuQQ1t"
      },
      "source": [
        "Get the description of the Listings and Reviews data dictionary files"
      ]
    },
    {
      "cell_type": "code",
      "execution_count": 56,
      "metadata": {
        "colab": {
          "base_uri": "https://localhost:8080/"
        },
        "id": "0jXZ50tkt-UU",
        "outputId": "4e43dd7f-646d-49b7-d225-8f72cf0f52a6"
      },
      "outputs": [
        {
          "output_type": "execute_result",
          "data": {
            "text/plain": [
              "array(['Listing ID', 'Listing Name', 'Host ID',\n",
              "       'Date the Host joined Airbnb', 'Location where the Host is based',\n",
              "       'Estimate of how long the Host takes to respond',\n",
              "       'Percentage of times the Host responds',\n",
              "       'Percentage of times the Host accepts a booking request',\n",
              "       'Binary field to determine if the Host is a Superhost',\n",
              "       'Total listings the Host has in Airbnb',\n",
              "       'Binary field to determine if the Host has a profile picture',\n",
              "       'Binary field to determine if the Host has a verified identity',\n",
              "       'Neighborhood the Listing is in', 'District the Listing is in',\n",
              "       'City the Listing is in', \"Listing's latitude\",\n",
              "       \"Listing's longitude\", 'Type of property for the Listing',\n",
              "       'Type of room type in Airbnb for the Listing',\n",
              "       'Guests the Listing accomodates', 'Bedrooms in the Listing',\n",
              "       'Amenities the Listing includes',\n",
              "       \"Listing price (in each country's currency)\",\n",
              "       'Minimum nights per booking', 'Maximum nights per booking',\n",
              "       \"Listing's overall rating (out of 100)\",\n",
              "       \"Listing's accuracy score based on what's promoted in Airbnb (out of 10)\",\n",
              "       \"Listing's cleanliness score (out of 10)\",\n",
              "       \"Listing's check-in experience score (out of 10)\",\n",
              "       \"Listing's communication with the Host score (out of 10)\",\n",
              "       \"Listing's location score within the city (out of 10)\",\n",
              "       \"Listing's value score relative to its price (out of 10)\",\n",
              "       'Binary field to determine if the Listing can be booked instantly'],\n",
              "      dtype=object)"
            ]
          },
          "metadata": {},
          "execution_count": 56
        }
      ],
      "source": [
        "Listings_Description['Description'].values"
      ]
    },
    {
      "cell_type": "code",
      "execution_count": 57,
      "metadata": {
        "colab": {
          "base_uri": "https://localhost:8080/"
        },
        "id": "p9prP2qiwxGG",
        "outputId": "8d49e274-71af-441c-f495-f85b38370177"
      },
      "outputs": [
        {
          "output_type": "execute_result",
          "data": {
            "text/plain": [
              "array(['Listing ID', 'Review ID', 'Review date', 'Reviewer ID'],\n",
              "      dtype=object)"
            ]
          },
          "metadata": {},
          "execution_count": 57
        }
      ],
      "source": [
        "Reveiws_Description['Description'].values"
      ]
    },
    {
      "cell_type": "markdown",
      "metadata": {
        "id": "WZBdPWdMQUda"
      },
      "source": [
        "Get the data types of the columns in Listings and Reviews datasets"
      ]
    },
    {
      "cell_type": "code",
      "execution_count": 58,
      "metadata": {
        "colab": {
          "base_uri": "https://localhost:8080/"
        },
        "id": "ewE0ddbDyp0V",
        "outputId": "ce788e8f-0b5c-41c8-9e17-c54fa40712ef"
      },
      "outputs": [
        {
          "output_type": "execute_result",
          "data": {
            "text/plain": [
              "array([dtype('int64'), dtype('O'), dtype('int64'), dtype('O'), dtype('O'),\n",
              "       dtype('O'), dtype('float64'), dtype('float64'), dtype('O'),\n",
              "       dtype('float64'), dtype('O'), dtype('O'), dtype('O'), dtype('O'),\n",
              "       dtype('O'), dtype('float64'), dtype('float64'), dtype('O'),\n",
              "       dtype('O'), dtype('int64'), dtype('float64'), dtype('O'),\n",
              "       dtype('int64'), dtype('int64'), dtype('int64'), dtype('float64'),\n",
              "       dtype('float64'), dtype('float64'), dtype('float64'),\n",
              "       dtype('float64'), dtype('float64'), dtype('float64'), dtype('O')],\n",
              "      dtype=object)"
            ]
          },
          "metadata": {},
          "execution_count": 58
        }
      ],
      "source": [
        "Listings.dtypes.values"
      ]
    },
    {
      "cell_type": "code",
      "execution_count": 59,
      "metadata": {
        "colab": {
          "base_uri": "https://localhost:8080/"
        },
        "id": "1hM7F4bQzakr",
        "outputId": "d42823ff-1f59-4208-8d0d-c2500ba004f6"
      },
      "outputs": [
        {
          "output_type": "execute_result",
          "data": {
            "text/plain": [
              "array([dtype('int64'), dtype('int64'), dtype('O'), dtype('int64')],\n",
              "      dtype=object)"
            ]
          },
          "metadata": {},
          "execution_count": 59
        }
      ],
      "source": [
        "Reveiws.dtypes.values"
      ]
    },
    {
      "cell_type": "markdown",
      "metadata": {
        "id": "KQ9fA4HjUjde"
      },
      "source": [
        "# Currency exchange"
      ]
    },
    {
      "cell_type": "markdown",
      "metadata": {
        "id": "JGiSQp0OQYyj"
      },
      "source": [
        "Get the names of the cities"
      ]
    },
    {
      "cell_type": "code",
      "execution_count": 60,
      "metadata": {
        "colab": {
          "base_uri": "https://localhost:8080/"
        },
        "id": "jntSyOkMHv1L",
        "outputId": "30433e32-4ac4-49c7-916c-53a261b04c50"
      },
      "outputs": [
        {
          "output_type": "stream",
          "name": "stdout",
          "text": [
            "['Paris', 'New York', 'Bangkok', 'Rio de Janeiro', 'Sydney', 'Istanbul', 'Rome', 'Hong Kong', 'Mexico City', 'Cape Town']\n"
          ]
        }
      ],
      "source": [
        "\n",
        "list_of_cities = []\n",
        "for i in Listings['city']:\n",
        "  if i not in list_of_cities:\n",
        "    list_of_cities.append(i)\n",
        "print(list_of_cities)"
      ]
    },
    {
      "cell_type": "markdown",
      "metadata": {
        "id": "NQ2nGtejQc6T"
      },
      "source": [
        "currency exchange to dollar"
      ]
    },
    {
      "cell_type": "code",
      "execution_count": 61,
      "metadata": {
        "id": "uydSs1YMIIQy"
      },
      "outputs": [],
      "source": [
        "X_to_dollar ={\n",
        "    'Paris':1.24,'New York':1,'Bangkok':0.029,'Rio de Janeiro': 0.196,'Sydney':0.671,'Istanbul':0.052,'Rome':0.220,'Hong Kong':0.13,'Mexico City': 0.055,'Cape Town':0.056\n",
        "}\n",
        "def update_price_to_dollar(row,city,currency_ischanged):\n",
        "  if currency_ischanged:\n",
        "    return row['price'] \n",
        "  return row['price'] * X_to_dollar[city]\n",
        "\n",
        "Listings['price'] = Listings.apply(lambda  row : update_price_to_dollar(row,row['city'],currency_changed), axis = 1)\n",
        "currency_changed = 1"
      ]
    },
    {
      "cell_type": "code",
      "execution_count": 62,
      "metadata": {
        "colab": {
          "base_uri": "https://localhost:8080/",
          "height": 608
        },
        "id": "LXcp4Rt7Qj95",
        "outputId": "8dc38063-70dd-4383-8a11-5abc36226195"
      },
      "outputs": [
        {
          "output_type": "stream",
          "name": "stdout",
          "text": [
            "count    279712.000000\n",
            "mean        108.161907\n",
            "std         409.528535\n",
            "min           0.000000\n",
            "25%          27.286750\n",
            "50%          60.842000\n",
            "75%         112.399000\n",
            "max      122542.336000\n",
            "Name: price, dtype: float64\n"
          ]
        },
        {
          "output_type": "display_data",
          "data": {
            "text/plain": [
              "<Figure size 640x480 with 1 Axes>"
            ],
            "image/png": "[encoded data removed]"
          },
          "metadata": {}
        }
      ],
      "source": [
        "#Represent prices in dollar X-axis is price , Y-axis is number of listings\n",
        "#I filtered the very big prices in this representations because it will distory the diagram\n",
        "print(Listings['price'].describe())   # was used to print the statistical summary of the \n",
        "filtered_df_price = Listings[Listings['price'] < 1000] #was used to filter out the rows where the 'price' column is greater than or equal to 1000.\n",
        "filtered_df_price['price'].hist(bins = 100) # was used to plot a histogram of the 'price' column of the filtered dataframe.\n",
        "plt.title(\"Figure-1\")\n",
        "plt.show()"
      ]
    },
    {
      "cell_type": "markdown",
      "metadata": {
        "id": "08ADPZMgUuXC"
      },
      "source": [
        "# Date understanding"
      ]
    },
    {
      "cell_type": "code",
      "execution_count": 63,
      "metadata": {
        "id": "grD08ydMZFUH"
      },
      "outputs": [],
      "source": [
        "def update_nan_values(row,columns_name, value):\n",
        "  \"\"\"This function is to update null values with a value\"\"\"\n",
        "\n",
        "  if type(row[columns_name]) is float and np.isnan(row[columns_name]) :\n",
        "    return value\n",
        "  else: \n",
        "    return row[columns_name]"
      ]
    },
    {
      "cell_type": "code",
      "execution_count": 64,
      "metadata": {
        "colab": {
          "base_uri": "https://localhost:8080/"
        },
        "id": "z4Kp1xmvU2lw",
        "outputId": "93ff44e5-f812-449f-84de-24a7689c4fcb"
      },
      "outputs": [
        {
          "output_type": "stream",
          "name": "stdout",
          "text": [
            "2008-11-16\n",
            "2021-03-01\n"
          ]
        }
      ],
      "source": [
        "#This code is used to print the minimum and maximum date from the 'date' column of the Reviews dataset\n",
        "print(Reveiws['date'].min())\n",
        "print(Reveiws['date'].max())"
      ]
    },
    {
      "cell_type": "code",
      "execution_count": 65,
      "metadata": {
        "colab": {
          "base_uri": "https://localhost:8080/"
        },
        "id": "VR7nqUdzVyLU",
        "outputId": "fcf9a054-727b-4331-c243-5feffdc58f5c"
      },
      "outputs": [
        {
          "output_type": "stream",
          "name": "stdout",
          "text": [
            "2008-08-12\n",
            "2021-02-26\n"
          ]
        }
      ],
      "source": [
        "# remove all nan values from the dataset on host_since field\n",
        "Listings_filtered = Listings.copy()\n",
        "null_value_update = '2014-07-31'\n",
        "Listings_filtered['host_since'] = Listings_filtered.apply(lambda row: update_nan_values(row,'host_since',null_value_update), axis=1)\n",
        "\n",
        "print(Listings_filtered['host_since'].min())\n",
        "print(Listings_filtered['host_since'].max())"
      ]
    },
    {
      "cell_type": "markdown",
      "metadata": {
        "id": "MjUxUNPRRsrJ"
      },
      "source": [
        "The code creates a list of years and defines a function that extracts the year from a given date column in a DataFrame, and then groups the filtered Listings and Reviews DataFrames by year using this function."
      ]
    },
    {
      "cell_type": "code",
      "execution_count": 66,
      "metadata": {
        "id": "4M8sxnqud1c1"
      },
      "outputs": [],
      "source": [
        "years=['2008','2009','2010','2011','2012','2013','2014','2015','2016','2017','2018','2019','2020']\n",
        "\n",
        "def grouping_by_date_yearly(row,column_name,df):\n",
        "  year , _ , _ = df[column_name][row].split(\"-\")\n",
        "  return year\n",
        "grouped_Listings_filtered = Listings_filtered.groupby(lambda row: grouping_by_date_yearly(row,'host_since',Listings_filtered))\n",
        "grouped_Reveiws = Reveiws.groupby(lambda row: grouping_by_date_yearly(row,'date',Reveiws))\n",
        "\n"
      ]
    },
    {
      "cell_type": "markdown",
      "metadata": {
        "id": "44moe5WvRw4_"
      },
      "source": [
        "I splitted data based on year to see the distrubution of reviews and listing based on year"
      ]
    },
    {
      "cell_type": "code",
      "execution_count": 67,
      "metadata": {
        "colab": {
          "base_uri": "https://localhost:8080/"
        },
        "id": "iLrDOknNrCxX",
        "outputId": "91ef3e1b-c320-4d19-c509-8c5c9e7fab1f"
      },
      "outputs": [
        {
          "output_type": "stream",
          "name": "stdout",
          "text": [
            "2008\n",
            "Reviews Example:  4623201    2008-11-16\n",
            "Name: date, dtype: object\n",
            "\n",
            "Listing Example: 27149    2008-09-19\n",
            "Name: host_since, dtype: object\n",
            "\n",
            "\n",
            "2009\n",
            "Reviews Example:  330335    2009-06-30\n",
            "Name: date, dtype: object\n",
            "\n",
            "Listing Example: 3314    2009-10-28\n",
            "Name: host_since, dtype: object\n",
            "\n",
            "\n",
            "2010\n",
            "Reviews Example:  330340    2010-02-07\n",
            "Name: date, dtype: object\n",
            "\n",
            "Listing Example: 337    2010-09-06\n",
            "Name: host_since, dtype: object\n",
            "\n",
            "\n",
            "2011\n",
            "Reviews Example:  330347    2011-04-20\n",
            "Name: date, dtype: object\n",
            "\n",
            "Listing Example: 0    2011-12-03\n",
            "Name: host_since, dtype: object\n",
            "\n",
            "\n",
            "2012\n",
            "Reviews Example:  330356    2012-01-29\n",
            "Name: date, dtype: object\n",
            "\n",
            "Listing Example: 21    2012-11-18\n",
            "Name: host_since, dtype: object\n",
            "\n",
            "\n",
            "2013\n",
            "Reviews Example:  330364    2013-01-25\n",
            "Name: date, dtype: object\n",
            "\n",
            "Listing Example: 1    2013-11-29\n",
            "Name: host_since, dtype: object\n",
            "\n",
            "\n",
            "2014\n",
            "Reviews Example:  330375    2014-01-07\n",
            "Name: date, dtype: object\n",
            "\n",
            "Listing Example: 2    2014-07-31\n",
            "Name: host_since, dtype: object\n",
            "\n",
            "\n",
            "2015\n",
            "Reviews Example:  255252    2015-09-21\n",
            "Name: date, dtype: object\n",
            "\n",
            "Listing Example: 8    2015-06-14\n",
            "Name: host_since, dtype: object\n",
            "\n",
            "\n",
            "2016\n",
            "Reviews Example:  82958    2016-11-13\n",
            "Name: date, dtype: object\n",
            "\n",
            "Listing Example: 17    2016-03-21\n",
            "Name: host_since, dtype: object\n",
            "\n",
            "\n",
            "2017\n",
            "Reviews Example:  24622    2017-04-17\n",
            "Name: date, dtype: object\n",
            "\n",
            "Listing Example: 51    2017-06-14\n",
            "Name: host_since, dtype: object\n",
            "\n",
            "\n",
            "2018\n",
            "Reviews Example:  0    2018-09-30\n",
            "Name: date, dtype: object\n",
            "\n",
            "Listing Example: 61    2018-05-28\n",
            "Name: host_since, dtype: object\n",
            "\n",
            "\n",
            "2019\n",
            "Reviews Example:  3575    2019-06-02\n",
            "Name: date, dtype: object\n",
            "\n",
            "Listing Example: 75    2019-02-18\n",
            "Name: host_since, dtype: object\n",
            "\n",
            "\n",
            "2020\n",
            "Reviews Example:  54102    2020-01-02\n",
            "Name: date, dtype: object\n",
            "\n",
            "Listing Example: 571    2020-06-08\n",
            "Name: host_since, dtype: object\n",
            "\n",
            "\n"
          ]
        }
      ],
      "source": [
        "year_based_R_df={}\n",
        "year_based_L_df={}\n",
        "for i in years:\n",
        "  year_based_R_df[i] = grouped_Reveiws.get_group(i)\n",
        "  year_based_L_df[i] = grouped_Listings_filtered.get_group(i)\n",
        "  print(i)\n",
        "  print(\"Reviews Example: \",year_based_R_df[i]['date'].head(1))\n",
        "  print(\"\")\n",
        "  print(\"Listing Example:\",year_based_L_df[i]['host_since'].head(1))\n",
        "  print(\"\\n\")"
      ]
    },
    {
      "cell_type": "markdown",
      "metadata": {
        "id": "Vzml4-fTSK60"
      },
      "source": [
        "This code calculates the number of reviews and listings for each year between 2008 and 2020 and plots the data on a line chart with the title \"Figure-2\"."
      ]
    },
    {
      "cell_type": "code",
      "execution_count": 68,
      "metadata": {
        "colab": {
          "base_uri": "https://localhost:8080/",
          "height": 452
        },
        "id": "TvDQ8qqf7nH4",
        "outputId": "b3039511-8219-42dd-b3c7-693ab13eb217"
      },
      "outputs": [
        {
          "output_type": "display_data",
          "data": {
            "text/plain": [
              "<Figure size 640x480 with 1 Axes>"
            ],
            "image/png": "[encoded data removed]"
          },
          "metadata": {}
        }
      ],
      "source": [
        "year_based_R_len = []\n",
        "year_based_L_len = []\n",
        "for year in years:\n",
        "  year_based_R_len.append(len(year_based_R_df[year]))\n",
        "  year_based_L_len.append(len(year_based_L_df[year]))\n",
        "plt.plot(years,year_based_R_len)\n",
        "plt.plot(years,year_based_L_len)\n",
        "plt.title(\"Figure-2\")\n",
        "plt.show()"
      ]
    },
    {
      "cell_type": "markdown",
      "metadata": {
        "id": "wM1MhZlvr1Vu"
      },
      "source": [
        "# Crossing between calender and listings"
      ]
    },
    {
      "cell_type": "code",
      "execution_count": 69,
      "metadata": {
        "id": "AldKmrgDuc7_"
      },
      "outputs": [],
      "source": [
        "currency_changed_calender = 0\n",
        "Paris_calinder = pd.read_csv('/content/Paris-calendar-2021.csv')"
      ]
    },
    {
      "cell_type": "markdown",
      "metadata": {
        "id": "bux-YLSGxkzX"
      },
      "source": [
        "# basic understanding of Paris-calendar dataset"
      ]
    },
    {
      "cell_type": "code",
      "execution_count": 70,
      "metadata": {
        "colab": {
          "base_uri": "https://localhost:8080/"
        },
        "id": "JIjiOZSwx0Vm",
        "outputId": "f1d8398a-675f-4479-a5c9-45595284d0a7"
      },
      "outputs": [
        {
          "output_type": "execute_result",
          "data": {
            "text/plain": [
              "(23610091, 7)"
            ]
          },
          "metadata": {},
          "execution_count": 70
        }
      ],
      "source": [
        "Paris_calinder.shape"
      ]
    },
    {
      "cell_type": "code",
      "execution_count": 71,
      "metadata": {
        "colab": {
          "base_uri": "https://localhost:8080/"
        },
        "id": "EorJq5pfx4CG",
        "outputId": "b7017a4d-ab30-45af-f097-4f28174dec71"
      },
      "outputs": [
        {
          "output_type": "execute_result",
          "data": {
            "text/plain": [
              "Index(['listing_id', 'date', 'available', 'price', 'adjusted_price',\n",
              "       'minimum_nights', 'maximum_nights'],\n",
              "      dtype='object')"
            ]
          },
          "metadata": {},
          "execution_count": 71
        }
      ],
      "source": [
        "Paris_calinder.columns"
      ]
    },
    {
      "cell_type": "code",
      "execution_count": 72,
      "metadata": {
        "colab": {
          "base_uri": "https://localhost:8080/"
        },
        "id": "FMDEWL7Mzt4O",
        "outputId": "46af850b-e440-4b2e-b331-cf620846fcb0"
      },
      "outputs": [
        {
          "output_type": "execute_result",
          "data": {
            "text/plain": [
              "array([dtype('int64'), dtype('O'), dtype('O'), dtype('O'), dtype('O'),\n",
              "       dtype('float64'), dtype('float64')], dtype=object)"
            ]
          },
          "metadata": {},
          "execution_count": 72
        }
      ],
      "source": [
        "Paris_calinder.dtypes.values"
      ]
    },
    {
      "cell_type": "code",
      "execution_count": 73,
      "metadata": {
        "colab": {
          "base_uri": "https://localhost:8080/",
          "height": 380
        },
        "id": "Z9R3NWUisXOt",
        "outputId": "3bda439f-7c1b-4093-afb0-b8d6d5609853"
      },
      "outputs": [
        {
          "output_type": "stream",
          "name": "stdout",
          "text": [
            "64677\n"
          ]
        },
        {
          "output_type": "execute_result",
          "data": {
            "text/plain": [
              "   listing_id        date available    price adjusted_price  minimum_nights  \\\n",
              "0       11170  2021-02-13         f   $75.00         $75.00             2.0   \n",
              "1       55239  2021-02-13         f  $360.00        $353.00             2.0   \n",
              "2       55239  2021-02-14         t  $360.00        $353.00             2.0   \n",
              "3       55239  2021-02-15         t  $360.00        $353.00             2.0   \n",
              "4       55239  2021-02-16         t  $360.00        $353.00             2.0   \n",
              "5       55239  2021-02-17         t  $360.00        $360.00             2.0   \n",
              "6       55239  2021-02-18         t  $360.00        $360.00             2.0   \n",
              "7       55239  2021-02-19         t  $360.00        $360.00             2.0   \n",
              "8       55239  2021-02-20         t  $360.00        $360.00             2.0   \n",
              "9       55239  2021-02-21         t  $360.00        $360.00             2.0   \n",
              "\n",
              "   maximum_nights  \n",
              "0          1125.0  \n",
              "1          1125.0  \n",
              "2          1125.0  \n",
              "3          1125.0  \n",
              "4          1125.0  \n",
              "5          1125.0  \n",
              "6          1125.0  \n",
              "7          1125.0  \n",
              "8          1125.0  \n",
              "9          1125.0  "
            ],
            "text/html": [
              "\n",
              "  <div id=\"df-08e19284-f279-41df-98ca-96a9aefe2ac9\">\n",
              "    <div class=\"colab-df-container\">\n",
              "      <div>\n",
              "<style scoped>\n",
              "    .dataframe tbody tr th:only-of-type {\n",
              "        vertical-align: middle;\n",
              "    }\n",
              "\n",
              "    .dataframe tbody tr th {\n",
              "        vertical-align: top;\n",
              "    }\n",
              "\n",
              "    .dataframe thead th {\n",
              "        text-align: right;\n",
              "    }\n",
              "</style>\n",
              "<table border=\"1\" class=\"dataframe\">\n",
              "  <thead>\n",
              "    <tr style=\"text-align: right;\">\n",
              "      <th></th>\n",
              "      <th>listing_id</th>\n",
              "      <th>date</th>\n",
              "      <th>available</th>\n",
              "      <th>price</th>\n",
              "      <th>adjusted_price</th>\n",
              "      <th>minimum_nights</th>\n",
              "      <th>maximum_nights</th>\n",
              "    </tr>\n",
              "  </thead>\n",
              "  <tbody>\n",
              "    <tr>\n",
              "      <th>0</th>\n",
              "      <td>11170</td>\n",
              "      <td>2021-02-13</td>\n",
              "      <td>f</td>\n",
              "      <td>$75.00</td>\n",
              "      <td>$75.00</td>\n",
              "      <td>2.0</td>\n",
              "      <td>1125.0</td>\n",
              "    </tr>\n",
              "    <tr>\n",
              "      <th>1</th>\n",
              "      <td>55239</td>\n",
              "      <td>2021-02-13</td>\n",
              "      <td>f</td>\n",
              "      <td>$360.00</td>\n",
              "      <td>$353.00</td>\n",
              "      <td>2.0</td>\n",
              "      <td>1125.0</td>\n",
              "    </tr>\n",
              "    <tr>\n",
              "      <th>2</th>\n",
              "      <td>55239</td>\n",
              "      <td>2021-02-14</td>\n",
              "      <td>t</td>\n",
              "      <td>$360.00</td>\n",
              "      <td>$353.00</td>\n",
              "      <td>2.0</td>\n",
              "      <td>1125.0</td>\n",
              "    </tr>\n",
              "    <tr>\n",
              "      <th>3</th>\n",
              "      <td>55239</td>\n",
              "      <td>2021-02-15</td>\n",
              "      <td>t</td>\n",
              "      <td>$360.00</td>\n",
              "      <td>$353.00</td>\n",
              "      <td>2.0</td>\n",
              "      <td>1125.0</td>\n",
              "    </tr>\n",
              "    <tr>\n",
              "      <th>4</th>\n",
              "      <td>55239</td>\n",
              "      <td>2021-02-16</td>\n",
              "      <td>t</td>\n",
              "      <td>$360.00</td>\n",
              "      <td>$353.00</td>\n",
              "      <td>2.0</td>\n",
              "      <td>1125.0</td>\n",
              "    </tr>\n",
              "    <tr>\n",
              "      <th>5</th>\n",
              "      <td>55239</td>\n",
              "      <td>2021-02-17</td>\n",
              "      <td>t</td>\n",
              "      <td>$360.00</td>\n",
              "      <td>$360.00</td>\n",
              "      <td>2.0</td>\n",
              "      <td>1125.0</td>\n",
              "    </tr>\n",
              "    <tr>\n",
              "      <th>6</th>\n",
              "      <td>55239</td>\n",
              "      <td>2021-02-18</td>\n",
              "      <td>t</td>\n",
              "      <td>$360.00</td>\n",
              "      <td>$360.00</td>\n",
              "      <td>2.0</td>\n",
              "      <td>1125.0</td>\n",
              "    </tr>\n",
              "    <tr>\n",
              "      <th>7</th>\n",
              "      <td>55239</td>\n",
              "      <td>2021-02-19</td>\n",
              "      <td>t</td>\n",
              "      <td>$360.00</td>\n",
              "      <td>$360.00</td>\n",
              "      <td>2.0</td>\n",
              "      <td>1125.0</td>\n",
              "    </tr>\n",
              "    <tr>\n",
              "      <th>8</th>\n",
              "      <td>55239</td>\n",
              "      <td>2021-02-20</td>\n",
              "      <td>t</td>\n",
              "      <td>$360.00</td>\n",
              "      <td>$360.00</td>\n",
              "      <td>2.0</td>\n",
              "      <td>1125.0</td>\n",
              "    </tr>\n",
              "    <tr>\n",
              "      <th>9</th>\n",
              "      <td>55239</td>\n",
              "      <td>2021-02-21</td>\n",
              "      <td>t</td>\n",
              "      <td>$360.00</td>\n",
              "      <td>$360.00</td>\n",
              "      <td>2.0</td>\n",
              "      <td>1125.0</td>\n",
              "    </tr>\n",
              "  </tbody>\n",
              "</table>\n",
              "</div>\n",
              "      <button class=\"colab-df-convert\" onclick=\"convertToInteractive('df-08e19284-f279-41df-98ca-96a9aefe2ac9')\"\n",
              "              title=\"Convert this dataframe to an interactive table.\"\n",
              "              style=\"display:none;\">\n",
              "        \n",
              "  <svg xmlns=\"http://www.w3.org/2000/svg\" height=\"24px\"viewBox=\"0 0 24 24\"\n",
              "       width=\"24px\">\n",
              "    <path d=\"M0 0h24v24H0V0z\" fill=\"none\"/>\n",
              "    <path d=\"M18.56 5.44l.94 2.06.94-2.06 2.06-.94-2.06-.94-.94-2.06-.94 2.06-2.06.94zm-11 1L8.5 8.5l.94-2.06 2.06-.94-2.06-.94L8.5 2.5l-.94 2.06-2.06.94zm10 10l.94 2.06.94-2.06 2.06-.94-2.06-.94-.94-2.06-.94 2.06-2.06.94z\"/><path d=\"M17.41 7.96l-1.37-1.37c-.4-.4-.92-.59-1.43-.59-.52 0-1.04.2-1.43.59L10.3 9.45l-7.72 7.72c-.78.78-.78 2.05 0 2.83L4 21.41c.39.39.9.59 1.41.59.51 0 1.02-.2 1.41-.59l7.78-7.78 2.81-2.81c.8-.78.8-2.07 0-2.86zM5.41 20L4 18.59l7.72-7.72 1.47 1.35L5.41 20z\"/>\n",
              "  </svg>\n",
              "      </button>\n",
              "      \n",
              "  <style>\n",
              "    .colab-df-container {\n",
              "      display:flex;\n",
              "      flex-wrap:wrap;\n",
              "      gap: 12px;\n",
              "    }\n",
              "\n",
              "    .colab-df-convert {\n",
              "      background-color: #E8F0FE;\n",
              "      border: none;\n",
              "      border-radius: 50%;\n",
              "      cursor: pointer;\n",
              "      display: none;\n",
              "      fill: #1967D2;\n",
              "      height: 32px;\n",
              "      padding: 0 0 0 0;\n",
              "      width: 32px;\n",
              "    }\n",
              "\n",
              "    .colab-df-convert:hover {\n",
              "      background-color: #E2EBFA;\n",
              "      box-shadow: 0px 1px 2px rgba(60, 64, 67, 0.3), 0px 1px 3px 1px rgba(60, 64, 67, 0.15);\n",
              "      fill: #174EA6;\n",
              "    }\n",
              "\n",
              "    [theme=dark] .colab-df-convert {\n",
              "      background-color: #3B4455;\n",
              "      fill: #D2E3FC;\n",
              "    }\n",
              "\n",
              "    [theme=dark] .colab-df-convert:hover {\n",
              "      background-color: #434B5C;\n",
              "      box-shadow: 0px 1px 3px 1px rgba(0, 0, 0, 0.15);\n",
              "      filter: drop-shadow(0px 1px 2px rgba(0, 0, 0, 0.3));\n",
              "      fill: #FFFFFF;\n",
              "    }\n",
              "  </style>\n",
              "\n",
              "      <script>\n",
              "        const buttonEl =\n",
              "          document.querySelector('#df-08e19284-f279-41df-98ca-96a9aefe2ac9 button.colab-df-convert');\n",
              "        buttonEl.style.display =\n",
              "          google.colab.kernel.accessAllowed ? 'block' : 'none';\n",
              "\n",
              "        async function convertToInteractive(key) {\n",
              "          const element = document.querySelector('#df-08e19284-f279-41df-98ca-96a9aefe2ac9');\n",
              "          const dataTable =\n",
              "            await google.colab.kernel.invokeFunction('convertToInteractive',\n",
              "                                                     [key], {});\n",
              "          if (!dataTable) return;\n",
              "\n",
              "          const docLinkHtml = 'Like what you see? Visit the ' +\n",
              "            '<a target=\"_blank\" href=https://colab.research.google.com/notebooks/data_table.ipynb>data table notebook</a>'\n",
              "            + ' to learn more about interactive tables.';\n",
              "          element.innerHTML = '';\n",
              "          dataTable['output_type'] = 'display_data';\n",
              "          await google.colab.output.renderOutput(dataTable, element);\n",
              "          const docLink = document.createElement('div');\n",
              "          docLink.innerHTML = docLinkHtml;\n",
              "          element.appendChild(docLink);\n",
              "        }\n",
              "      </script>\n",
              "    </div>\n",
              "  </div>\n",
              "  "
            ]
          },
          "metadata": {},
          "execution_count": 73
        }
      ],
      "source": [
        "print(Paris_calinder['listing_id'].nunique()) # Count the number of unique listing_id values\n",
        "Paris_calinder.head(10)"
      ]
    },
    {
      "cell_type": "code",
      "execution_count": 74,
      "metadata": {
        "colab": {
          "base_uri": "https://localhost:8080/"
        },
        "id": "hlecr6AXsfHU",
        "outputId": "c3e089f3-6063-4cc3-bab8-9eb6a3923f30"
      },
      "outputs": [
        {
          "output_type": "stream",
          "name": "stdout",
          "text": [
            "31942\n"
          ]
        }
      ],
      "source": [
        "paris_ids=[]\n",
        "for index, row in Listings_filtered.iterrows(): # Iterate through each row of Listings_filtered\n",
        "  if (row['listing_id'] in Paris_calinder['listing_id']) and (row['city']=='Paris'): # Check if the listing ID is in the Paris calendar and the city is Paris\n",
        "    paris_ids.append(row['listing_id']) # If it is, add the listing ID to the paris_ids list\n",
        "print(len(paris_ids))"
      ]
    },
    {
      "cell_type": "code",
      "execution_count": 75,
      "metadata": {
        "colab": {
          "base_uri": "https://localhost:8080/"
        },
        "id": "ObgIuUfCwbS-",
        "outputId": "477bc6e0-f8da-484b-af1a-f3dc1c55f720"
      },
      "outputs": [
        {
          "output_type": "stream",
          "name": "stdout",
          "text": [
            "149    136.4\n",
            "Name: price, dtype: float64\n",
            "136.4\n"
          ]
        }
      ],
      "source": [
        "#to make sure that the calender contain data for the same listing_id in listings dataset\n",
        "#I compared both prices after converting the caleder dataset prices to dollar too \n",
        "row1 = Listings[Listings['listing_id']==paris_ids[100]]\n",
        "print(row1['price'])\n",
        "row2 = Paris_calinder[Paris_calinder['listing_id']==paris_ids[100]]\n",
        "_,price_ex = row2['price'].values[0].split('$')\n",
        "\n",
        "print(float(price_ex)* X_to_dollar['Paris'])"
      ]
    },
    {
      "cell_type": "code",
      "execution_count": 76,
      "metadata": {
        "colab": {
          "base_uri": "https://localhost:8080/",
          "height": 70
        },
        "id": "lySml908vN-9",
        "outputId": "2264c5f0-c7ad-4247-9dbe-b37a59baa415"
      },
      "outputs": [
        {
          "output_type": "execute_result",
          "data": {
            "text/plain": [
              "\"number_of_nights_per_id = {}\\nfor index, row in Paris_calinder.iterrows():\\n  if row['available']=='f':\\n    if row['listing_id'] in number_of_nights_per_id:\\n      number_of_nights_per_id[row['listing_id']]  += 1\\n    else:\\n      number_of_nights_per_id[row['listing_id']] = 1\\n\""
            ],
            "application/vnd.google.colaboratory.intrinsic+json": {
              "type": "string"
            }
          },
          "metadata": {},
          "execution_count": 76
        }
      ],
      "source": [
        "#The next section is much faster with the same result\n",
        "\"\"\"number_of_nights_per_id = {}\n",
        "for index, row in Paris_calinder.iterrows():\n",
        "  if row['available']=='f':\n",
        "    if row['listing_id'] in number_of_nights_per_id:\n",
        "      number_of_nights_per_id[row['listing_id']]  += 1\n",
        "    else:\n",
        "      number_of_nights_per_id[row['listing_id']] = 1\n",
        "\"\"\""
      ]
    },
    {
      "cell_type": "markdown",
      "metadata": {
        "id": "01SqhfY2UYsz"
      },
      "source": [
        "iterating through each row of a DataFrame called Paris_calinder and counting the number of nights that each listing ID is available."
      ]
    },
    {
      "cell_type": "code",
      "execution_count": 77,
      "metadata": {
        "colab": {
          "base_uri": "https://localhost:8080/"
        },
        "id": "vHl6SD3M7qFw",
        "outputId": "bf7aa44d-d038-4b8e-cb81-cf10e43c7651"
      },
      "outputs": [
        {
          "output_type": "stream",
          "name": "stdout",
          "text": [
            "1000000\n",
            "2000000\n",
            "3000000\n",
            "4000000\n",
            "5000000\n",
            "6000000\n",
            "7000000\n",
            "8000000\n",
            "9000000\n",
            "10000000\n",
            "11000000\n",
            "12000000\n",
            "13000000\n",
            "14000000\n",
            "15000000\n",
            "16000000\n",
            "17000000\n",
            "18000000\n",
            "19000000\n",
            "20000000\n",
            "21000000\n",
            "22000000\n",
            "23000000\n"
          ]
        }
      ],
      "source": [
        "number_of_nights_per_id1 = {}\n",
        "j=0\n",
        "for row in Paris_calinder.itertuples(index=False):\n",
        "  j+=1\n",
        "  if j%1000000 == 0:\n",
        "    print(j)\n",
        "  if row[2]=='f':\n",
        "    if row[0] in number_of_nights_per_id1:\n",
        "      number_of_nights_per_id1[row[0]]  += 1\n",
        "    else:\n",
        "      number_of_nights_per_id1[row[0]] = 1\n",
        "  elif row[2]!='f' and row[0] not in number_of_nights_per_id1:\n",
        "     number_of_nights_per_id1[row[0]] = 0"
      ]
    },
    {
      "cell_type": "code",
      "execution_count": 78,
      "metadata": {
        "id": "ue8294mYD1aB",
        "colab": {
          "base_uri": "https://localhost:8080/"
        },
        "outputId": "e7327761-607b-449e-a552-8044e1952997"
      },
      "outputs": [
        {
          "output_type": "stream",
          "name": "stdout",
          "text": [
            "64677\n",
            "31942\n"
          ]
        }
      ],
      "source": [
        "#getting only the listing_ids that is exist in our listing dataset\n",
        "number_of_nights_per_id_filtered = number_of_nights_per_id1.copy()\n",
        "\n",
        "print(len (number_of_nights_per_id_filtered))\n",
        "for id in number_of_nights_per_id1:\n",
        "  if id not in paris_ids:\n",
        "    del number_of_nights_per_id_filtered[id]\n",
        "print(len (number_of_nights_per_id_filtered))"
      ]
    },
    {
      "cell_type": "code",
      "execution_count": 79,
      "metadata": {
        "id": "VLTweG5yGAbC",
        "colab": {
          "base_uri": "https://localhost:8080/",
          "height": 708
        },
        "outputId": "41b91faa-abca-444f-c443-5197c68ddf80"
      },
      "outputs": [
        {
          "output_type": "stream",
          "name": "stdout",
          "text": [
            "31942\n"
          ]
        },
        {
          "output_type": "execute_result",
          "data": {
            "text/plain": [
              "(array([ 3504.,   347.,   425.,   180.,   187.,   196.,   309.,   137.,\n",
              "          132.,    94.,   204.,    93.,   110.,   204.,   210.,    87.,\n",
              "           87.,    57.,   241.,    96.,    65.,    36.,   116.,    86.,\n",
              "           54.,   682.,   177.,   203.,    50.,    60.,    72.,   163.,\n",
              "           55.,    65.,    77.,   121.,    60.,   924.,   218.,   220.,\n",
              "          106.,   117.,    78.,   475.,   119.,   102.,    71.,   224.,\n",
              "          169., 20077.]),\n",
              " array([  0.  ,   7.36,  14.72,  22.08,  29.44,  36.8 ,  44.16,  51.52,\n",
              "         58.88,  66.24,  73.6 ,  80.96,  88.32,  95.68, 103.04, 110.4 ,\n",
              "        117.76, 125.12, 132.48, 139.84, 147.2 , 154.56, 161.92, 169.28,\n",
              "        176.64, 184.  , 191.36, 198.72, 206.08, 213.44, 220.8 , 228.16,\n",
              "        235.52, 242.88, 250.24, 257.6 , 264.96, 272.32, 279.68, 287.04,\n",
              "        294.4 , 301.76, 309.12, 316.48, 323.84, 331.2 , 338.56, 345.92,\n",
              "        353.28, 360.64, 368.  ]),\n",
              " <BarContainer object of 50 artists>)"
            ]
          },
          "metadata": {},
          "execution_count": 79
        },
        {
          "output_type": "display_data",
          "data": {
            "text/plain": [
              "<Figure size 640x480 with 1 Axes>"
            ],
            "image/png": "[encoded data removed]"
          },
          "metadata": {}
        }
      ],
      "source": [
        "# ploting the distribution of the number of days in one year that each listing is full\n",
        "values = list(number_of_nights_per_id_filtered.values())\n",
        "print(len(number_of_nights_per_id_filtered))\n",
        "plt.hist(values, bins=50)"
      ]
    },
    {
      "cell_type": "markdown",
      "metadata": {
        "id": "B9Qe5qkGITDq"
      },
      "source": [
        "**preprocess the listing dataset**"
      ]
    },
    {
      "cell_type": "code",
      "execution_count": 80,
      "metadata": {
        "id": "5CU0jO-uFuJ7",
        "colab": {
          "base_uri": "https://localhost:8080/"
        },
        "outputId": "fd52afe4-2382-4d68-8f31-7a59d14c444d"
      },
      "outputs": [
        {
          "output_type": "stream",
          "name": "stdout",
          "text": [
            "With all Ids 64690\n",
            "With only shared Ids 31942\n"
          ]
        },
        {
          "output_type": "execute_result",
          "data": {
            "text/plain": [
              "0      Paris\n",
              "1      Paris\n",
              "2      Paris\n",
              "3      Paris\n",
              "4      Paris\n",
              "       ...  \n",
              "144    Paris\n",
              "145    Paris\n",
              "146    Paris\n",
              "147    Paris\n",
              "148    Paris\n",
              "Name: city, Length: 100, dtype: object"
            ]
          },
          "metadata": {},
          "execution_count": 80
        }
      ],
      "source": [
        "# drop the data which is not paris\n",
        "Listing_paris_filter = Listings_filtered.copy()\n",
        "Listing_paris_filter = Listing_paris_filter.drop(Listing_paris_filter[Listing_paris_filter['city'] != 'Paris'].index)\n",
        "print(\"With all Ids\",len(Listing_paris_filter))\n",
        "Listing_paris_filter = Listing_paris_filter[Listing_paris_filter['listing_id'].isin(paris_ids)]\n",
        "print(\"With only shared Ids\",len(Listing_paris_filter))\n",
        "Listing_paris_filter['city'].head(100)"
      ]
    },
    {
      "cell_type": "code",
      "execution_count": 81,
      "metadata": {
        "id": "x2tG1vWaOoqQ",
        "colab": {
          "base_uri": "https://localhost:8080/"
        },
        "outputId": "b62885cf-97a4-47a0-d380-d162422bb0cf"
      },
      "outputs": [
        {
          "output_type": "stream",
          "name": "stdout",
          "text": [
            "0           281420\n",
            "1          3705183\n",
            "2          4082273\n",
            "3          4797344\n",
            "4          4823489\n",
            "            ...   \n",
            "279636    22980552\n",
            "279637    23016641\n",
            "279638    23103869\n",
            "279639    23227926\n",
            "279640    23552264\n",
            "Name: listing_id, Length: 31942, dtype: int64\n"
          ]
        }
      ],
      "source": [
        "for i in paris_ids:\n",
        "  if i not in Listing_paris_filter['listing_id'].values:\n",
        "    print(1)\n",
        "for i in Listing_paris_filter['listing_id']:\n",
        "  if i not in paris_ids:\n",
        "    print(22)\n",
        "for i in paris_ids:\n",
        "  if i not in number_of_nights_per_id_filtered:\n",
        "    print(33)\n",
        "print(Listing_paris_filter['listing_id'])"
      ]
    },
    {
      "cell_type": "code",
      "execution_count": 82,
      "metadata": {
        "colab": {
          "base_uri": "https://localhost:8080/"
        },
        "id": "-09Z26vcMGGP",
        "outputId": "9026e9ca-ba7f-4c03-dcb8-dd4b22c6bc69"
      },
      "outputs": [
        {
          "output_type": "stream",
          "name": "stderr",
          "text": [
            "<ipython-input-82-63c94e4972c5>:5: SettingWithCopyWarning: \n",
            "A value is trying to be set on a copy of a slice from a DataFrame\n",
            "\n",
            "See the caveats in the documentation: https://pandas.pydata.org/pandas-docs/stable/user_guide/indexing.html#returning-a-view-versus-a-copy\n",
            "  Listing_paris_filter['nights_reserved'][index] = x\n"
          ]
        },
        {
          "output_type": "stream",
          "name": "stdout",
          "text": [
            "0    365\n",
            "1    365\n",
            "2    365\n",
            "Name: nights_reserved, dtype: object\n"
          ]
        }
      ],
      "source": [
        "Listing_paris_filter['nights_reserved'] = None\n",
        "for index, row in Listing_paris_filter.iterrows():\n",
        "  id = row['listing_id']\n",
        "  x = number_of_nights_per_id_filtered[id]\n",
        "  Listing_paris_filter['nights_reserved'][index] = x\n",
        "print(Listing_paris_filter['nights_reserved'].head(3))"
      ]
    },
    {
      "cell_type": "code",
      "execution_count": 83,
      "metadata": {
        "colab": {
          "base_uri": "https://localhost:8080/",
          "height": 469
        },
        "id": "0dUpqIAagDnP",
        "outputId": "25cd6f72-ce50-4e59-b41f-48e99daafc41"
      },
      "outputs": [
        {
          "output_type": "stream",
          "name": "stdout",
          "text": [
            "31942\n"
          ]
        },
        {
          "output_type": "display_data",
          "data": {
            "text/plain": [
              "<Figure size 640x480 with 1 Axes>"
            ],
            "image/png": "[encoded data removed]"
          },
          "metadata": {}
        }
      ],
      "source": [
        "# finally as we see here the distubution of number of nights reservened in paris at 2021 is very real and similar to the distubution that we saw before\n",
        "print(len(Listing_paris_filter))\n",
        "Listing_paris_filter['nights_reserved'].hist(bins=50)\n",
        "plt.title(\"Figure-3\")\n",
        "plt.show()"
      ]
    },
    {
      "cell_type": "markdown",
      "metadata": {
        "id": "8wReHOeQgq8m"
      },
      "source": [
        "**calculating profit and assign it as column**"
      ]
    },
    {
      "cell_type": "code",
      "execution_count": 84,
      "metadata": {
        "colab": {
          "base_uri": "https://localhost:8080/"
        },
        "id": "kUGIglVYgxGq",
        "outputId": "c96bf558-0347-4f55-ec62-f43650e030f7"
      },
      "outputs": [
        {
          "output_type": "stream",
          "name": "stderr",
          "text": [
            "<ipython-input-84-67f5c8f8868c>:6: SettingWithCopyWarning: \n",
            "A value is trying to be set on a copy of a slice from a DataFrame\n",
            "\n",
            "See the caveats in the documentation: https://pandas.pydata.org/pandas-docs/stable/user_guide/indexing.html#returning-a-view-versus-a-copy\n",
            "  Listing_paris_filter['profit'][index] = profit_calculater(row['nights_reserved'],row['price'])\n"
          ]
        }
      ],
      "source": [
        "def profit_calculater(number_of_nights, price):\n",
        "  return int(number_of_nights * price)\n",
        "Listing_paris_filter['profit'] = None\n",
        "for index, row in Listing_paris_filter.iterrows():\n",
        "  #Listing_paris_filter['profit'] = Listing_paris_filter['nights_reserved'] * Listing_paris_filter['price']\n",
        "  Listing_paris_filter['profit'][index] = profit_calculater(row['nights_reserved'],row['price'])"
      ]
    },
    {
      "cell_type": "code",
      "execution_count": 85,
      "metadata": {
        "id": "SPijFKuoh16v",
        "colab": {
          "base_uri": "https://localhost:8080/",
          "height": 452
        },
        "outputId": "2a67e2ee-65e7-4a30-e894-789c49d4beb3"
      },
      "outputs": [
        {
          "output_type": "display_data",
          "data": {
            "text/plain": [
              "<Figure size 640x480 with 1 Axes>"
            ],
            "image/png": "[encoded data removed]"
          },
          "metadata": {}
        }
      ],
      "source": [
        "# ploting the distubution of profit between listings \n",
        "# of course there will be alot of listing (~3400) with no profit at all and that what we gonna fix it \n",
        "profit_for_plotting =[]\n",
        "profit_count ={}\n",
        "for i in Listing_paris_filter['profit']:\n",
        "  if i in profit_count:\n",
        "    profit_count[i] += 1\n",
        "  else:\n",
        "    profit_count[i] = 1\n",
        "  if i< 100000:\n",
        "    profit_for_plotting.append(i)\n",
        "plt.hist(profit_for_plotting,bins=100)\n",
        "plt.title(\"Figure-4\")\n",
        "plt.show()"
      ]
    },
    {
      "cell_type": "markdown",
      "metadata": {
        "id": "KjrCUnbhspOx"
      },
      "source": [
        "# **Removing the unused columns and continue preprocessing**"
      ]
    },
    {
      "cell_type": "code",
      "execution_count": 86,
      "metadata": {
        "id": "TFW2xuGrpCji",
        "colab": {
          "base_uri": "https://localhost:8080/"
        },
        "outputId": "dd37cffa-9811-483d-f924-ccbc7ff82bc3"
      },
      "outputs": [
        {
          "output_type": "execute_result",
          "data": {
            "text/plain": [
              "Index(['listing_id', 'name', 'host_id', 'host_since', 'host_location',\n",
              "       'host_response_time', 'host_response_rate', 'host_acceptance_rate',\n",
              "       'host_is_superhost', 'host_total_listings_count',\n",
              "       'host_has_profile_pic', 'host_identity_verified', 'neighbourhood',\n",
              "       'district', 'city', 'latitude', 'longitude', 'property_type',\n",
              "       'room_type', 'accommodates', 'bedrooms', 'amenities', 'price',\n",
              "       'minimum_nights', 'maximum_nights', 'review_scores_rating',\n",
              "       'review_scores_accuracy', 'review_scores_cleanliness',\n",
              "       'review_scores_checkin', 'review_scores_communication',\n",
              "       'review_scores_location', 'review_scores_value', 'instant_bookable',\n",
              "       'nights_reserved', 'profit'],\n",
              "      dtype='object')"
            ]
          },
          "metadata": {},
          "execution_count": 86
        }
      ],
      "source": [
        "L_dataset = Listing_paris_filter.copy()\n",
        "L_dataset.columns"
      ]
    },
    {
      "cell_type": "code",
      "execution_count": 87,
      "metadata": {
        "id": "c4zAaRg0s1nh"
      },
      "outputs": [],
      "source": [
        "if 'host_id' in L_dataset.columns:\n",
        "  L_dataset = L_dataset.drop('host_id', axis=1)\n",
        "if 'district' in L_dataset.columns:\n",
        " L_dataset = L_dataset.drop('district', axis=1)\n",
        "if 'host_location' in  L_dataset.columns:\n",
        "  L_dataset = L_dataset.drop('host_location', axis=1)\n",
        "if 'host_response_time' in  L_dataset.columns:\n",
        "  L_dataset = L_dataset.drop('host_response_time', axis=1)\n",
        "if 'host_response_rate' in  L_dataset.columns:\n",
        "  L_dataset = L_dataset.drop('host_response_rate', axis=1)\n",
        "if 'host_acceptance_rate' in  L_dataset.columns:\n",
        "  L_dataset = L_dataset.drop('host_acceptance_rate', axis=1)\n",
        "if 'host_response_rate' in  L_dataset.columns:\n",
        "  L_dataset = L_dataset.drop('host_response_rate', axis=1)\n",
        "if 'host_has_profile_pic' in  L_dataset.columns:\n",
        "  L_dataset = L_dataset.drop('host_has_profile_pic', axis=1)\n",
        "if 'host_identity_verified' in  L_dataset.columns:\n",
        "  L_dataset = L_dataset.drop('host_identity_verified', axis=1)\n",
        "if 'neighbourhood' in  L_dataset.columns:\n",
        "  L_dataset = L_dataset.drop('neighbourhood', axis=1)\n",
        "if 'name' in  L_dataset.columns:\n",
        "  L_dataset = L_dataset.drop('name', axis=1)\n",
        "\n"
      ]
    },
    {
      "cell_type": "code",
      "execution_count": 88,
      "metadata": {
        "colab": {
          "base_uri": "https://localhost:8080/",
          "height": 452
        },
        "id": "q63hcinMwC4a",
        "outputId": "791a724f-8f4f-4234-e8b0-2fc0e2c6043e"
      },
      "outputs": [
        {
          "output_type": "display_data",
          "data": {
            "text/plain": [
              "<Figure size 640x480 with 1 Axes>"
            ],
            "image/png": "[encoded data removed]"
          },
          "metadata": {}
        }
      ],
      "source": [
        "def update_date_host_since_to_int(row,columns_name, value):\n",
        "  \"\"\"This function is to update date from full representation to int year\"\"\"\n",
        "  if type(row[columns_name]) is int:\n",
        "    return row[columns_name]\n",
        "  return int(row['host_since'][0:4])\n",
        "L_dataset['host_since'] = L_dataset.apply(lambda row: update_date_host_since_to_int(row,'host_since',0), axis=1)\n",
        "L_dataset['host_since'].hist(bins=20)\n",
        "plt.title(\"Figure-5\")\n",
        "plt.show()"
      ]
    },
    {
      "cell_type": "markdown",
      "metadata": {
        "id": "h_cyIWkmXjaO"
      },
      "source": [
        "encoding host_is_superhost"
      ]
    },
    {
      "cell_type": "code",
      "execution_count": 89,
      "metadata": {
        "colab": {
          "base_uri": "https://localhost:8080/",
          "height": 447
        },
        "id": "cjfZU-EX1nG6",
        "outputId": "913299e5-a45d-4ced-c3ac-a79ebd924df5"
      },
      "outputs": [
        {
          "output_type": "execute_result",
          "data": {
            "text/plain": [
              "<Axes: >"
            ]
          },
          "metadata": {},
          "execution_count": 89
        },
        {
          "output_type": "display_data",
          "data": {
            "text/plain": [
              "<Figure size 640x480 with 1 Axes>"
            ],
            "image/png": "[encoded data removed]"
          },
          "metadata": {}
        }
      ],
      "source": [
        "def update_ordinal_encoder_to_bool(row,column):\n",
        "  \"\"\"Ordinal encoding column\"\"\"\n",
        "  if type(row[column]) is bool:\n",
        "    return row[column]\n",
        "  if row[column] == 'f':\n",
        "    return 0\n",
        "  else:\n",
        "    return 1\n",
        "# encoding host_is_superhost\n",
        "L_dataset['host_is_superhost'] = Listings.apply(lambda  row : update_ordinal_encoder_to_bool(row,'host_is_superhost'), axis = 1)\n",
        "L_dataset['host_is_superhost'].hist(bins=10)"
      ]
    },
    {
      "cell_type": "markdown",
      "metadata": {
        "id": "aM6NOY2PXpEl"
      },
      "source": [
        "# One hot encoding "
      ]
    },
    {
      "cell_type": "code",
      "execution_count": 90,
      "metadata": {
        "id": "y3o_C6U84tYk"
      },
      "outputs": [],
      "source": [
        "def One_Hot_Encoder_function(dataset , column):\n",
        "  \"\"\"This Function to One hot encode any column\"\"\"\n",
        "  if column not in dataset.columns:\n",
        "    return dataset\n",
        "  One_Hot_Encoder = OneHotEncoder()\n",
        "  one_hot_encoded = pd.get_dummies(dataset[column], prefix=column)\n",
        "  one_hot_encoded_df = pd.concat([dataset, one_hot_encoded], axis=1)\n",
        "  one_hot_encoded_df = one_hot_encoded_df.drop(column, axis=1)\n",
        "  return one_hot_encoded_df\n"
      ]
    },
    {
      "cell_type": "code",
      "execution_count": 91,
      "metadata": {
        "colab": {
          "base_uri": "https://localhost:8080/"
        },
        "id": "nnILNWDs8tut",
        "outputId": "63656497-cec7-4f9b-8c09-094aec009ea2"
      },
      "outputs": [
        {
          "output_type": "stream",
          "name": "stdout",
          "text": [
            "['Entire apartment' 'Entire loft' 'Entire house'\n",
            " 'Private room in apartment' 'Entire condominium' 'Earth house'\n",
            " 'Entire townhouse' 'Room in serviced apartment'\n",
            " 'Entire serviced apartment' 'Private room in house' 'Entire villa'\n",
            " 'Private room in guest suite' 'Private room in condominium'\n",
            " 'Private room in loft' 'Entire guest suite' 'Entire place'\n",
            " 'Room in boutique hotel' 'Entire floor' 'Entire guesthouse' 'Houseboat'\n",
            " 'Entire cottage' 'Boat' 'Tiny house' 'Private room in guesthouse'\n",
            " 'Entire home/apt' 'Room in bed and breakfast'\n",
            " 'Private room in bed and breakfast' 'Private room in villa'\n",
            " 'Room in aparthotel' 'Private room in chalet' 'Entire bed and breakfast'\n",
            " 'Private room in townhouse' 'Shared room in apartment' 'Cave'\n",
            " 'Private room in boat' 'Private room' 'Private room in earth house'\n",
            " 'Shared room in condominium' 'Room in hotel'\n",
            " 'Private room in serviced apartment' 'Shared room in loft'\n",
            " 'Private room in houseboat' 'Shared room in house'\n",
            " 'Shared room in townhouse' 'Shared room in igloo' 'Treehouse'\n",
            " 'Shared room in tiny house' 'Shared room in guesthouse'\n",
            " 'Shared room in guest suite' 'Private room in hostel'\n",
            " 'Private room in nature lodge' 'Dome house'\n",
            " 'Shared room in bed and breakfast']\n",
            "25\n",
            "77\n",
            "Index(['listing_id', 'host_since', 'host_is_superhost',\n",
            "       'host_total_listings_count', 'city', 'latitude', 'longitude',\n",
            "       'room_type', 'accommodates', 'bedrooms', 'amenities', 'price',\n",
            "       'minimum_nights', 'maximum_nights', 'review_scores_rating',\n",
            "       'review_scores_accuracy', 'review_scores_cleanliness',\n",
            "       'review_scores_checkin', 'review_scores_communication',\n",
            "       'review_scores_location', 'review_scores_value', 'instant_bookable',\n",
            "       'nights_reserved', 'profit', 'property_type_Boat', 'property_type_Cave',\n",
            "       'property_type_Dome house', 'property_type_Earth house',\n",
            "       'property_type_Entire apartment',\n",
            "       'property_type_Entire bed and breakfast',\n",
            "       'property_type_Entire condominium', 'property_type_Entire cottage',\n",
            "       'property_type_Entire floor', 'property_type_Entire guest suite',\n",
            "       'property_type_Entire guesthouse', 'property_type_Entire home/apt',\n",
            "       'property_type_Entire house', 'property_type_Entire loft',\n",
            "       'property_type_Entire place', 'property_type_Entire serviced apartment',\n",
            "       'property_type_Entire townhouse', 'property_type_Entire villa',\n",
            "       'property_type_Houseboat', 'property_type_Private room',\n",
            "       'property_type_Private room in apartment',\n",
            "       'property_type_Private room in bed and breakfast',\n",
            "       'property_type_Private room in boat',\n",
            "       'property_type_Private room in chalet',\n",
            "       'property_type_Private room in condominium',\n",
            "       'property_type_Private room in earth house',\n",
            "       'property_type_Private room in guest suite',\n",
            "       'property_type_Private room in guesthouse',\n",
            "       'property_type_Private room in hostel',\n",
            "       'property_type_Private room in house',\n",
            "       'property_type_Private room in houseboat',\n",
            "       'property_type_Private room in loft',\n",
            "       'property_type_Private room in nature lodge',\n",
            "       'property_type_Private room in serviced apartment',\n",
            "       'property_type_Private room in townhouse',\n",
            "       'property_type_Private room in villa',\n",
            "       'property_type_Room in aparthotel',\n",
            "       'property_type_Room in bed and breakfast',\n",
            "       'property_type_Room in boutique hotel', 'property_type_Room in hotel',\n",
            "       'property_type_Room in serviced apartment',\n",
            "       'property_type_Shared room in apartment',\n",
            "       'property_type_Shared room in bed and breakfast',\n",
            "       'property_type_Shared room in condominium',\n",
            "       'property_type_Shared room in guest suite',\n",
            "       'property_type_Shared room in guesthouse',\n",
            "       'property_type_Shared room in house',\n",
            "       'property_type_Shared room in igloo',\n",
            "       'property_type_Shared room in loft',\n",
            "       'property_type_Shared room in tiny house',\n",
            "       'property_type_Shared room in townhouse', 'property_type_Tiny house',\n",
            "       'property_type_Treehouse'],\n",
            "      dtype='object')\n"
          ]
        }
      ],
      "source": [
        "# encoding property_type\n",
        "print(L_dataset['property_type'].unique())\n",
        "print(len(L_dataset.columns))\n",
        "L_dataset_E1 = One_Hot_Encoder_function(L_dataset,'property_type')\n",
        "print (len(L_dataset_E1.columns))\n",
        "print(L_dataset_E1.columns)"
      ]
    },
    {
      "cell_type": "code",
      "execution_count": 92,
      "metadata": {
        "colab": {
          "base_uri": "https://localhost:8080/"
        },
        "id": "xp--mvG19dOl",
        "outputId": "10736c3b-b07b-4be5-b2f9-bedc1d0930e8"
      },
      "outputs": [
        {
          "output_type": "stream",
          "name": "stdout",
          "text": [
            "['Entire place' 'Private room' 'Hotel room' 'Shared room']\n",
            "80\n",
            "Index(['listing_id', 'host_since', 'host_is_superhost',\n",
            "       'host_total_listings_count', 'city', 'latitude', 'longitude',\n",
            "       'accommodates', 'bedrooms', 'amenities', 'price', 'minimum_nights',\n",
            "       'maximum_nights', 'review_scores_rating', 'review_scores_accuracy',\n",
            "       'review_scores_cleanliness', 'review_scores_checkin',\n",
            "       'review_scores_communication', 'review_scores_location',\n",
            "       'review_scores_value', 'instant_bookable', 'nights_reserved', 'profit',\n",
            "       'property_type_Boat', 'property_type_Cave', 'property_type_Dome house',\n",
            "       'property_type_Earth house', 'property_type_Entire apartment',\n",
            "       'property_type_Entire bed and breakfast',\n",
            "       'property_type_Entire condominium', 'property_type_Entire cottage',\n",
            "       'property_type_Entire floor', 'property_type_Entire guest suite',\n",
            "       'property_type_Entire guesthouse', 'property_type_Entire home/apt',\n",
            "       'property_type_Entire house', 'property_type_Entire loft',\n",
            "       'property_type_Entire place', 'property_type_Entire serviced apartment',\n",
            "       'property_type_Entire townhouse', 'property_type_Entire villa',\n",
            "       'property_type_Houseboat', 'property_type_Private room',\n",
            "       'property_type_Private room in apartment',\n",
            "       'property_type_Private room in bed and breakfast',\n",
            "       'property_type_Private room in boat',\n",
            "       'property_type_Private room in chalet',\n",
            "       'property_type_Private room in condominium',\n",
            "       'property_type_Private room in earth house',\n",
            "       'property_type_Private room in guest suite',\n",
            "       'property_type_Private room in guesthouse',\n",
            "       'property_type_Private room in hostel',\n",
            "       'property_type_Private room in house',\n",
            "       'property_type_Private room in houseboat',\n",
            "       'property_type_Private room in loft',\n",
            "       'property_type_Private room in nature lodge',\n",
            "       'property_type_Private room in serviced apartment',\n",
            "       'property_type_Private room in townhouse',\n",
            "       'property_type_Private room in villa',\n",
            "       'property_type_Room in aparthotel',\n",
            "       'property_type_Room in bed and breakfast',\n",
            "       'property_type_Room in boutique hotel', 'property_type_Room in hotel',\n",
            "       'property_type_Room in serviced apartment',\n",
            "       'property_type_Shared room in apartment',\n",
            "       'property_type_Shared room in bed and breakfast',\n",
            "       'property_type_Shared room in condominium',\n",
            "       'property_type_Shared room in guest suite',\n",
            "       'property_type_Shared room in guesthouse',\n",
            "       'property_type_Shared room in house',\n",
            "       'property_type_Shared room in igloo',\n",
            "       'property_type_Shared room in loft',\n",
            "       'property_type_Shared room in tiny house',\n",
            "       'property_type_Shared room in townhouse', 'property_type_Tiny house',\n",
            "       'property_type_Treehouse', 'room_type_Entire place',\n",
            "       'room_type_Hotel room', 'room_type_Private room',\n",
            "       'room_type_Shared room'],\n",
            "      dtype='object')\n"
          ]
        }
      ],
      "source": [
        "# encoding room_type\n",
        "print(L_dataset_E1['room_type'].unique())\n",
        "L_dataset_E2 = One_Hot_Encoder_function(L_dataset_E1,'room_type')\n",
        "print(len(L_dataset_E2.columns))\n",
        "print(L_dataset_E2.columns)"
      ]
    },
    {
      "cell_type": "code",
      "execution_count": 93,
      "metadata": {
        "colab": {
          "base_uri": "https://localhost:8080/",
          "height": 447
        },
        "id": "q4-jFpU7-0CO",
        "outputId": "09e6a7f3-3f53-40ce-f4b8-0985cf0f3ed1"
      },
      "outputs": [
        {
          "output_type": "execute_result",
          "data": {
            "text/plain": [
              "<Axes: >"
            ]
          },
          "metadata": {},
          "execution_count": 93
        },
        {
          "output_type": "display_data",
          "data": {
            "text/plain": [
              "<Figure size 640x480 with 1 Axes>"
            ],
            "image/png": "[encoded data removed]"
          },
          "metadata": {}
        }
      ],
      "source": [
        "# encoding instant_bookable\n",
        "L_dataset_E2['instant_bookable'] = Listings.apply(lambda  row : update_ordinal_encoder_to_bool(row,'instant_bookable'), axis = 1)\n",
        "L_dataset_E2['instant_bookable'].hist(bins=10)"
      ]
    },
    {
      "cell_type": "markdown",
      "metadata": {
        "id": "Y6pHASp4AfS-"
      },
      "source": [
        "# **Amenities Encoding**\n",
        "\n",
        "Unfortunately amenities are saved as a json, but read_csv recognizes only a string. In the first step we will split the string in parts and using regular expressions we will remove unnecessary characters. Then we will encode amenities as dummy variables\n",
        "\n"
      ]
    },
    {
      "cell_type": "code",
      "execution_count": 94,
      "metadata": {
        "colab": {
          "base_uri": "https://localhost:8080/",
          "height": 393
        },
        "id": "Tp-5GbU5_tXc",
        "outputId": "3c20a641-1020-45c5-d283-7ecef6f3d7f8"
      },
      "outputs": [
        {
          "output_type": "execute_result",
          "data": {
            "text/plain": [
              "           0           1           2              3   \\\n",
              "0  [\"Heating\"   \"Kitchen\"    \"Washer\"         \"Wifi\"   \n",
              "1  [\"Shampoo\"   \"Heating\"   \"Kitchen\"   \"Essentials\"   \n",
              "2  [\"Heating\"        \"TV\"   \"Kitchen\"       \"Washer\"   \n",
              "\n",
              "                            4                            5        6   \\\n",
              "0   \"Long term stays allowed\"]                         None     None   \n",
              "1                     \"Washer\"                      \"Dryer\"   \"Wifi\"   \n",
              "2                       \"Wifi\"   \"Long term stays allowed\"]     None   \n",
              "\n",
              "                            7     8     9   ...    53    54    55    56    57  \\\n",
              "0                         None  None  None  ...  None  None  None  None  None   \n",
              "1   \"Long term stays allowed\"]  None  None  ...  None  None  None  None  None   \n",
              "2                         None  None  None  ...  None  None  None  None  None   \n",
              "\n",
              "     58    59    60    61    62  \n",
              "0  None  None  None  None  None  \n",
              "1  None  None  None  None  None  \n",
              "2  None  None  None  None  None  \n",
              "\n",
              "[3 rows x 63 columns]"
            ],
            "text/html": [
              "\n",
              "  <div id=\"df-064c2ea4-f568-4933-abab-a38146bd4d31\">\n",
              "    <div class=\"colab-df-container\">\n",
              "      <div>\n",
              "<style scoped>\n",
              "    .dataframe tbody tr th:only-of-type {\n",
              "        vertical-align: middle;\n",
              "    }\n",
              "\n",
              "    .dataframe tbody tr th {\n",
              "        vertical-align: top;\n",
              "    }\n",
              "\n",
              "    .dataframe thead th {\n",
              "        text-align: right;\n",
              "    }\n",
              "</style>\n",
              "<table border=\"1\" class=\"dataframe\">\n",
              "  <thead>\n",
              "    <tr style=\"text-align: right;\">\n",
              "      <th></th>\n",
              "      <th>0</th>\n",
              "      <th>1</th>\n",
              "      <th>2</th>\n",
              "      <th>3</th>\n",
              "      <th>4</th>\n",
              "      <th>5</th>\n",
              "      <th>6</th>\n",
              "      <th>7</th>\n",
              "      <th>8</th>\n",
              "      <th>9</th>\n",
              "      <th>...</th>\n",
              "      <th>53</th>\n",
              "      <th>54</th>\n",
              "      <th>55</th>\n",
              "      <th>56</th>\n",
              "      <th>57</th>\n",
              "      <th>58</th>\n",
              "      <th>59</th>\n",
              "      <th>60</th>\n",
              "      <th>61</th>\n",
              "      <th>62</th>\n",
              "    </tr>\n",
              "  </thead>\n",
              "  <tbody>\n",
              "    <tr>\n",
              "      <th>0</th>\n",
              "      <td>[\"Heating\"</td>\n",
              "      <td>\"Kitchen\"</td>\n",
              "      <td>\"Washer\"</td>\n",
              "      <td>\"Wifi\"</td>\n",
              "      <td>\"Long term stays allowed\"]</td>\n",
              "      <td>None</td>\n",
              "      <td>None</td>\n",
              "      <td>None</td>\n",
              "      <td>None</td>\n",
              "      <td>None</td>\n",
              "      <td>...</td>\n",
              "      <td>None</td>\n",
              "      <td>None</td>\n",
              "      <td>None</td>\n",
              "      <td>None</td>\n",
              "      <td>None</td>\n",
              "      <td>None</td>\n",
              "      <td>None</td>\n",
              "      <td>None</td>\n",
              "      <td>None</td>\n",
              "      <td>None</td>\n",
              "    </tr>\n",
              "    <tr>\n",
              "      <th>1</th>\n",
              "      <td>[\"Shampoo\"</td>\n",
              "      <td>\"Heating\"</td>\n",
              "      <td>\"Kitchen\"</td>\n",
              "      <td>\"Essentials\"</td>\n",
              "      <td>\"Washer\"</td>\n",
              "      <td>\"Dryer\"</td>\n",
              "      <td>\"Wifi\"</td>\n",
              "      <td>\"Long term stays allowed\"]</td>\n",
              "      <td>None</td>\n",
              "      <td>None</td>\n",
              "      <td>...</td>\n",
              "      <td>None</td>\n",
              "      <td>None</td>\n",
              "      <td>None</td>\n",
              "      <td>None</td>\n",
              "      <td>None</td>\n",
              "      <td>None</td>\n",
              "      <td>None</td>\n",
              "      <td>None</td>\n",
              "      <td>None</td>\n",
              "      <td>None</td>\n",
              "    </tr>\n",
              "    <tr>\n",
              "      <th>2</th>\n",
              "      <td>[\"Heating\"</td>\n",
              "      <td>\"TV\"</td>\n",
              "      <td>\"Kitchen\"</td>\n",
              "      <td>\"Washer\"</td>\n",
              "      <td>\"Wifi\"</td>\n",
              "      <td>\"Long term stays allowed\"]</td>\n",
              "      <td>None</td>\n",
              "      <td>None</td>\n",
              "      <td>None</td>\n",
              "      <td>None</td>\n",
              "      <td>...</td>\n",
              "      <td>None</td>\n",
              "      <td>None</td>\n",
              "      <td>None</td>\n",
              "      <td>None</td>\n",
              "      <td>None</td>\n",
              "      <td>None</td>\n",
              "      <td>None</td>\n",
              "      <td>None</td>\n",
              "      <td>None</td>\n",
              "      <td>None</td>\n",
              "    </tr>\n",
              "  </tbody>\n",
              "</table>\n",
              "<p>3 rows × 63 columns</p>\n",
              "</div>\n",
              "      <button class=\"colab-df-convert\" onclick=\"convertToInteractive('df-064c2ea4-f568-4933-abab-a38146bd4d31')\"\n",
              "              title=\"Convert this dataframe to an interactive table.\"\n",
              "              style=\"display:none;\">\n",
              "        \n",
              "  <svg xmlns=\"http://www.w3.org/2000/svg\" height=\"24px\"viewBox=\"0 0 24 24\"\n",
              "       width=\"24px\">\n",
              "    <path d=\"M0 0h24v24H0V0z\" fill=\"none\"/>\n",
              "    <path d=\"M18.56 5.44l.94 2.06.94-2.06 2.06-.94-2.06-.94-.94-2.06-.94 2.06-2.06.94zm-11 1L8.5 8.5l.94-2.06 2.06-.94-2.06-.94L8.5 2.5l-.94 2.06-2.06.94zm10 10l.94 2.06.94-2.06 2.06-.94-2.06-.94-.94-2.06-.94 2.06-2.06.94z\"/><path d=\"M17.41 7.96l-1.37-1.37c-.4-.4-.92-.59-1.43-.59-.52 0-1.04.2-1.43.59L10.3 9.45l-7.72 7.72c-.78.78-.78 2.05 0 2.83L4 21.41c.39.39.9.59 1.41.59.51 0 1.02-.2 1.41-.59l7.78-7.78 2.81-2.81c.8-.78.8-2.07 0-2.86zM5.41 20L4 18.59l7.72-7.72 1.47 1.35L5.41 20z\"/>\n",
              "  </svg>\n",
              "      </button>\n",
              "      \n",
              "  <style>\n",
              "    .colab-df-container {\n",
              "      display:flex;\n",
              "      flex-wrap:wrap;\n",
              "      gap: 12px;\n",
              "    }\n",
              "\n",
              "    .colab-df-convert {\n",
              "      background-color: #E8F0FE;\n",
              "      border: none;\n",
              "      border-radius: 50%;\n",
              "      cursor: pointer;\n",
              "      display: none;\n",
              "      fill: #1967D2;\n",
              "      height: 32px;\n",
              "      padding: 0 0 0 0;\n",
              "      width: 32px;\n",
              "    }\n",
              "\n",
              "    .colab-df-convert:hover {\n",
              "      background-color: #E2EBFA;\n",
              "      box-shadow: 0px 1px 2px rgba(60, 64, 67, 0.3), 0px 1px 3px 1px rgba(60, 64, 67, 0.15);\n",
              "      fill: #174EA6;\n",
              "    }\n",
              "\n",
              "    [theme=dark] .colab-df-convert {\n",
              "      background-color: #3B4455;\n",
              "      fill: #D2E3FC;\n",
              "    }\n",
              "\n",
              "    [theme=dark] .colab-df-convert:hover {\n",
              "      background-color: #434B5C;\n",
              "      box-shadow: 0px 1px 3px 1px rgba(0, 0, 0, 0.15);\n",
              "      filter: drop-shadow(0px 1px 2px rgba(0, 0, 0, 0.3));\n",
              "      fill: #FFFFFF;\n",
              "    }\n",
              "  </style>\n",
              "\n",
              "      <script>\n",
              "        const buttonEl =\n",
              "          document.querySelector('#df-064c2ea4-f568-4933-abab-a38146bd4d31 button.colab-df-convert');\n",
              "        buttonEl.style.display =\n",
              "          google.colab.kernel.accessAllowed ? 'block' : 'none';\n",
              "\n",
              "        async function convertToInteractive(key) {\n",
              "          const element = document.querySelector('#df-064c2ea4-f568-4933-abab-a38146bd4d31');\n",
              "          const dataTable =\n",
              "            await google.colab.kernel.invokeFunction('convertToInteractive',\n",
              "                                                     [key], {});\n",
              "          if (!dataTable) return;\n",
              "\n",
              "          const docLinkHtml = 'Like what you see? Visit the ' +\n",
              "            '<a target=\"_blank\" href=https://colab.research.google.com/notebooks/data_table.ipynb>data table notebook</a>'\n",
              "            + ' to learn more about interactive tables.';\n",
              "          element.innerHTML = '';\n",
              "          dataTable['output_type'] = 'display_data';\n",
              "          await google.colab.output.renderOutput(dataTable, element);\n",
              "          const docLink = document.createElement('div');\n",
              "          docLink.innerHTML = docLinkHtml;\n",
              "          element.appendChild(docLink);\n",
              "        }\n",
              "      </script>\n",
              "    </div>\n",
              "  </div>\n",
              "  "
            ]
          },
          "metadata": {},
          "execution_count": 94
        }
      ],
      "source": [
        "amenities = L_dataset_E2[\"amenities\"].str.split(\",\",expand=True)\n",
        "amenities.head(3)"
      ]
    },
    {
      "cell_type": "markdown",
      "metadata": {
        "id": "ceDFNqS8YKHH"
      },
      "source": [
        "The first line is using the \"replace\" method on the \"amenities\" dataframe to replace any non-word and non-space characters with an empty string (i.e., removing them from the strings in the dataframe).\n",
        "The second line is creating a list called \"amenities_list\" that contains the unique values of each column in the \"amenities\" dataframe (as a list) using a list comprehension and the \"unique\" and \"tolist\" methods.\n",
        "The third line is flattening the nested list structure of \"amenities_list\" using the \"chain.from_iterable\" method from the \"itertools\" library, converting the resulting iterable to a list, and then creating a set from that list. This essentially creates a set of all unique values across all columns in the \"amenities\" dataframe.\n",
        "The fourth line is removing any empty strings or None values from the set of unique values."
      ]
    },
    {
      "cell_type": "code",
      "execution_count": 95,
      "metadata": {
        "id": "qYSKgSUtBIJz"
      },
      "outputs": [],
      "source": [
        "amenities = amenities.replace(regex=[\"[^\\w\\s]\"], value=\"\")\n",
        "amenities_list = [amenities[item].unique().tolist() for item in amenities.columns.values]\n",
        "amenities_list = set(list(chain.from_iterable(amenities_list)))\n",
        "amenities_list.remove('')\n",
        "amenities_list.remove(None) "
      ]
    },
    {
      "cell_type": "code",
      "execution_count": 96,
      "metadata": {
        "colab": {
          "base_uri": "https://localhost:8080/"
        },
        "id": "Tdtg_zlJYZgS",
        "outputId": "6b45da4c-5ad6-460f-abe4-9a0710a0318c"
      },
      "outputs": [
        {
          "output_type": "execute_result",
          "data": {
            "text/plain": [
              "{' 1 space',\n",
              " ' 103 TV with Netflix',\n",
              " ' 2 fours Microonde et chaleur tournante stainless steel oven',\n",
              " ' 23 HDTV with premium cable',\n",
              " ' 32 HDTV',\n",
              " ' 40 HDTV with Netflix',\n",
              " ' 41 HDTV with standard cable',\n",
              " ' 42 HDTV with Netflix',\n",
              " ' 45 HDTV with Netflix',\n",
              " ' 48 HDTV with premium cable',\n",
              " ' 55 HDTV with Netflix',\n",
              " ' 60 HDTV',\n",
              " ' AESOP shampoo',\n",
              " ' Aderma body soap',\n",
              " ' Aesop  body soap',\n",
              " ' Aesop  conditioner',\n",
              " ' Aesop conditioner',\n",
              " ' Aesop shampoo',\n",
              " ' Air conditioning',\n",
              " ' Alarm system',\n",
              " ' Amazon Prime Video',\n",
              " ' Amu00e9ricain refrigerator',\n",
              " ' Apple  Bluetooth sound system',\n",
              " ' BBQ grill',\n",
              " ' Baby bath',\n",
              " ' Baby monitor',\n",
              " ' Baby safety gates',\n",
              " ' Babysitter recommendations',\n",
              " ' Baking sheet',\n",
              " ' Balcony',\n",
              " ' Bang  Olufsen Bluetooth sound system',\n",
              " ' Barbecue utensils',\n",
              " ' Bathroom essentials',\n",
              " ' Bathtub',\n",
              " ' Beach essentials',\n",
              " ' Beachfront',\n",
              " ' Bed linens',\n",
              " ' Bedroom comforts',\n",
              " ' Bikes',\n",
              " ' Blender',\n",
              " ' BluRay player',\n",
              " ' Bluetooth sound system',\n",
              " ' Board games',\n",
              " ' Body soap',\n",
              " ' Bosch stainless steel gas stove',\n",
              " ' Bosch stainless steel oven',\n",
              " ' Bose Bluetooth sound system',\n",
              " ' Bose sound system with Bluetooth and aux',\n",
              " ' Bose sound system with aux',\n",
              " ' Brandt gas stove',\n",
              " ' Brandt stainless steel oven',\n",
              " ' Bread maker',\n",
              " ' Breakfast',\n",
              " ' Building staff',\n",
              " ' Cable TV',\n",
              " ' Cadum ou Fer u00e0 Cheval body soap',\n",
              " ' Candy refrigerator',\n",
              " ' Carbon monoxide alarm',\n",
              " ' Ceiling fan',\n",
              " ' Central air conditioning',\n",
              " ' Central heating',\n",
              " ' Changing table',\n",
              " ' Chefs kitchen',\n",
              " ' Childrenu2019s books and toys',\n",
              " ' Childrenu2019s books and toys for ages 10 years old',\n",
              " ' Childrenu2019s dinnerware',\n",
              " ' Chromecast',\n",
              " ' Cleaning before checkout',\n",
              " ' Cleaning products',\n",
              " ' Clothing storage',\n",
              " ' Clothing storage closet',\n",
              " ' Clothing storage closet and dresser',\n",
              " ' Clothing storage closet and walkin closet',\n",
              " ' Clothing storage closet and wardrobe',\n",
              " ' Clothing storage dresser',\n",
              " ' Clothing storage dresser and closet',\n",
              " ' Clothing storage walkin closet',\n",
              " ' Clothing storage walkin closet and closet',\n",
              " ' Clothing storage walkin closet and dresser',\n",
              " ' Clothing storage wardrobe',\n",
              " ' Clothing storage wardrobe and closet',\n",
              " ' Clothing storage wardrobe and dresser',\n",
              " ' Clothing storage wardrobe and walkin closet',\n",
              " ' Coffee maker',\n",
              " ' Conditioner',\n",
              " ' Cooking basics',\n",
              " ' Courtyard',\n",
              " ' Crib',\n",
              " ' DJCODE body soap',\n",
              " ' DVD player',\n",
              " ' DeDietrich stainless steel oven',\n",
              " ' Dedicated workspace',\n",
              " ' Dedicated workspace desk',\n",
              " ' Dedicated workspace office chair and desk',\n",
              " ' Dedicated workspace office chair and table',\n",
              " ' Dedicated workspace table',\n",
              " ' Dedicated workspace table and desk',\n",
              " ' Dedicated workspace table and office chair',\n",
              " ' Denon  Megaboom sound system with Bluetooth and aux',\n",
              " ' Denon Bluetooth sound system',\n",
              " ' Denon sound system with Bluetooth and aux',\n",
              " ' Dining area',\n",
              " ' Dining area for 10 people',\n",
              " ' Dining area for 4 people',\n",
              " ' Dining table',\n",
              " ' Dishes and silverware',\n",
              " ' Dishwasher',\n",
              " ' Dop',\n",
              " ' Dop or le petit marseillais shampoo',\n",
              " ' Dove body soap',\n",
              " ' Dryer',\n",
              " ' Dryer u2013 In building',\n",
              " ' Dryer u2013u00a0In unit',\n",
              " ' Drying rack for clothing',\n",
              " ' EV charger',\n",
              " ' Electric stove',\n",
              " ' Electrolux induction stove',\n",
              " ' Elevator',\n",
              " ' Espresso machine',\n",
              " ' Essentials',\n",
              " ' Ethernet connection',\n",
              " ' Extra pillows and blankets',\n",
              " ' Fire extinguisher',\n",
              " ' Fireplace guards',\n",
              " ' First aid kit',\n",
              " ' Free driveway parking on premises u2013 1 space',\n",
              " ' Free dryeru2013In building',\n",
              " ' Free dryeru2013In unit',\n",
              " ' Free parking garage on premises',\n",
              " ' Free parking garage on premises u2013 1 space',\n",
              " ' Free parking on premises',\n",
              " ' Free residential garage on premises u2013 1 space',\n",
              " ' Free street parking',\n",
              " ' Free washer',\n",
              " ' Free washeru2013In building',\n",
              " ' Free washeru2013In unit',\n",
              " ' Freezer',\n",
              " ' Full kitchen',\n",
              " ' Game console',\n",
              " ' Game console Nintendo Switch',\n",
              " ' Game console Nintendo Wii',\n",
              " ' Game room',\n",
              " ' Garden',\n",
              " ' Garden or backyard',\n",
              " ' Garnier shampoo',\n",
              " ' Gas grill',\n",
              " ' Gas stove',\n",
              " ' Gautier Bluetooth sound system',\n",
              " ' Gym',\n",
              " ' HBO Max',\n",
              " ' HDTV',\n",
              " ' HDTV with Amazon Prime Video',\n",
              " ' HDTV with Chromecast',\n",
              " ' HDTV with Netflix',\n",
              " ' HDTV with premium cable',\n",
              " ' HDTV with standard cable',\n",
              " ' Hair dryer',\n",
              " ' Hangers',\n",
              " ' Harman Kardon sound system with Bluetooth and aux',\n",
              " ' Heating',\n",
              " ' High chair',\n",
              " ' Hitachi stainless steel oven',\n",
              " ' Host greets you',\n",
              " ' Hot tub',\n",
              " ' Hot water',\n",
              " ' Hot water kettle',\n",
              " ' Ikea refrigerator',\n",
              " ' Indoor fireplace',\n",
              " ' Indu00e9sit refrigerator',\n",
              " ' Induction stove',\n",
              " ' Internet',\n",
              " ' Iron',\n",
              " ' Ironing board',\n",
              " ' Keurig coffee machine',\n",
              " ' Keypad',\n",
              " ' Kitchen',\n",
              " ' LACANCHE gas stove',\n",
              " ' LG refrigerator',\n",
              " ' LIEBHERR refrigerator',\n",
              " ' LOru00e9al conditioner',\n",
              " ' Lake access',\n",
              " ' Laundromat nearby',\n",
              " ' Le Petit Marseillais body soap',\n",
              " ' Le Petit Marseillais shampoo',\n",
              " ' Le petit Marseillais body soap',\n",
              " ' Library',\n",
              " ' Liebherr  petit congu00e9lateur refrigerator',\n",
              " ' Lock on bedroom door',\n",
              " ' Lockbox',\n",
              " ' Long term stays allowed',\n",
              " ' Loreal  conditioner',\n",
              " ' Lounge area',\n",
              " ' Lu2019Oru00e9al  conditioner',\n",
              " ' Lu2019oreal shampoo',\n",
              " ' Luggage dropoff allowed',\n",
              " ' MIELE refrigerator',\n",
              " ' Marshall  sound system with Bluetooth and aux',\n",
              " ' Marshall Bluetooth sound system',\n",
              " ' Massage bed',\n",
              " ' Microwave',\n",
              " ' Miele refrigerator',\n",
              " ' Mini four oven',\n",
              " ' Mini fridge',\n",
              " ' Mosquito net',\n",
              " ' Moulinex oven',\n",
              " ' Music system',\n",
              " ' Naim audio et enceintes avant Scu00e8ne sound system',\n",
              " ' Nespresso machine',\n",
              " ' Netflix',\n",
              " ' ONKYO sound system',\n",
              " ' Office',\n",
              " ' Outdoor dining area',\n",
              " ' Outdoor furniture',\n",
              " ' Outdoor shower',\n",
              " ' Outlet covers',\n",
              " ' Oven',\n",
              " ' PANASONIC sound system',\n",
              " ' PRO LINE electric stove',\n",
              " ' PRO LINE refrigerator',\n",
              " ' Pack u2019n Playtravel crib',\n",
              " ' Paid dryeru2013In unit',\n",
              " ' Paid parking garage off premises',\n",
              " ' Paid parking garage off premises u2013 EUR35 per day',\n",
              " ' Paid parking garage on premises',\n",
              " ' Paid parking garage on premises u2013 1 space',\n",
              " ' Paid parking garage on premises u2013 680 spaces',\n",
              " ' Paid parking garage on premises u2013 EUR20 per day',\n",
              " ' Paid parking lot on premises',\n",
              " ' Paid parking lot on premises u2013 1 space',\n",
              " ' Paid parking off premises',\n",
              " ' Paid parking on premises',\n",
              " ' Paid street parking off premises',\n",
              " ' Paid street parking off premises u2013 EUR2 per hour',\n",
              " ' Paid street parking off premises u2013 EUR35 per day',\n",
              " ' Paid street parking off premises u2013 EUR4 per hour',\n",
              " ' Paid valet parking on premises u2013 400 spaces',\n",
              " ' Paid washeru2013In unit',\n",
              " ' Parking',\n",
              " ' Patio',\n",
              " ' Patio or balcony',\n",
              " ' Petit Marseillais body soap',\n",
              " ' Petit marseillais  body soap',\n",
              " ' Pets allowed',\n",
              " ' Piano',\n",
              " ' Ping pong table',\n",
              " ' Pioneer Bluetooth sound system',\n",
              " ' Pocket wifi',\n",
              " ' Pool',\n",
              " ' Portable air conditioning',\n",
              " ' Portable fans',\n",
              " ' Portable heater',\n",
              " ' Pourover coffee',\n",
              " ' Printer',\n",
              " ' Private entrance',\n",
              " ' Private garden or backyard',\n",
              " ' Private living room',\n",
              " ' Private sauna',\n",
              " ' Projector',\n",
              " ' Proline refrigerator',\n",
              " ' ROSIERES electric stove',\n",
              " ' Radiant heating',\n",
              " ' Record player',\n",
              " ' Refrigerator',\n",
              " ' Restaurant',\n",
              " ' Rice maker',\n",
              " ' Roomdarkening shades',\n",
              " ' Ru00e9frigerateur congu00e9lateur marque Siemens refrigerator',\n",
              " ' SAMSUNG refrigerator',\n",
              " ' SCOTT sound system with aux',\n",
              " ' SMEG induction stove',\n",
              " ' SMEG stainless steel gas stove',\n",
              " ' SONOS sound system',\n",
              " ' Safe',\n",
              " ' Samsung oven',\n",
              " ' Samsung refrigerator',\n",
              " ' Sanex body soap',\n",
              " ' Savon de Marseille body soap',\n",
              " ' Savon de marseille body soap',\n",
              " ' Savon liquide Petit Marseillais body soap',\n",
              " ' Schneider oven',\n",
              " ' Self checkin',\n",
              " ' Shampoo',\n",
              " ' Shared fenced garden or backyard',\n",
              " ' Shared garden or backyard',\n",
              " ' Shower gel',\n",
              " ' Siemens',\n",
              " ' Siemens oven',\n",
              " ' Siemens refrigerator',\n",
              " ' Single level home',\n",
              " ' SkiinSkiout',\n",
              " ' Smart lock',\n",
              " ' Smeg induction stove',\n",
              " ' Smeg refrigerator',\n",
              " ' Smoke alarm',\n",
              " ' Smoking allowed',\n",
              " ' Smoking parlor',\n",
              " ' Sonos sound system',\n",
              " ' Sonos sound system with aux',\n",
              " ' Sony sound system',\n",
              " ' Sony sound system with Bluetooth and aux',\n",
              " ' Sound system',\n",
              " ' Sound system with Bluetooth and aux',\n",
              " ' Sound system with aux',\n",
              " ' Spa access',\n",
              " ' Spa equipment',\n",
              " ' Stainless steel oven',\n",
              " ' Steam room',\n",
              " ' Stove',\n",
              " ' Suitable for events',\n",
              " ' Surround sound system',\n",
              " ' TV',\n",
              " ' TV with Chromecast',\n",
              " ' TV with Netflix',\n",
              " ' TV with standard cable',\n",
              " ' Table corner guards',\n",
              " ' Terrace',\n",
              " ' Thomson refrigerator',\n",
              " ' Thomson sound system with Bluetooth and aux',\n",
              " ' Toaster',\n",
              " ' Trash compactor',\n",
              " ' URIAGE GEL DERMATOLOGIQUE body soap',\n",
              " ' Video Games',\n",
              " ' Washer',\n",
              " ' Washer u2013u00a0In building',\n",
              " ' Washer u2013u00a0In unit',\n",
              " ' Waterfront',\n",
              " ' Whirlpool refrigerator',\n",
              " ' Whirlpool stainless steel oven',\n",
              " ' Wifi',\n",
              " ' Wifi u2013 100 Mbps',\n",
              " ' Wifi u2013 1000 Mbps',\n",
              " ' Wifi u2013 250 Mbps',\n",
              " ' Wifi u2013 300 Mbps',\n",
              " ' Wifi u2013 500 Mbps',\n",
              " ' Window AC unit',\n",
              " ' Window guards',\n",
              " ' Wine glasses',\n",
              " ' Wonderboom Bluetooth sound system',\n",
              " ' Yves Rocher conditioner',\n",
              " ' and closet',\n",
              " ' and dresser',\n",
              " ' and office chair',\n",
              " ' and table',\n",
              " ' and walkin closet',\n",
              " ' avec friseur refrigerator',\n",
              " ' bio  organic   body soap',\n",
              " ' bosch stainless steel oven',\n",
              " ' bose Bluetooth sound system',\n",
              " ' bose sound system with Bluetooth and aux',\n",
              " ' combi ru00e9frigu00e9rateur  4 freezer refrigerator',\n",
              " ' creative sound system with Bluetooth and aux',\n",
              " ' desk',\n",
              " ' dresser',\n",
              " ' electrolux refrigerator',\n",
              " ' elseve conditioner',\n",
              " ' fait maison au karitu00e9 body soap',\n",
              " ' firstline oven',\n",
              " ' firstline refrigerator',\n",
              " ' iPad',\n",
              " ' iPod dock',\n",
              " ' neffe stainless steel gas stove',\n",
              " ' office chair',\n",
              " ' petit marseillais bio body soap',\n",
              " ' petit marseillais conditioner',\n",
              " ' plaque de cuisson 5 feux marque Neff gas stove',\n",
              " ' premium cable',\n",
              " ' pur savon de Marseille body soap',\n",
              " ' real soap from Aleppo body soap',\n",
              " ' rosiere stainless steel induction stove',\n",
              " ' rosiere stainless steel oven',\n",
              " ' rosiu00e8re stainless steel induction stove',\n",
              " ' sans du00e9conner  conditioner',\n",
              " ' sauter oven',\n",
              " ' seb oven',\n",
              " ' sony sound system',\n",
              " ' standard cable',\n",
              " ' walkin closet',\n",
              " ' wardrobe',\n",
              " ' whirlpool refrigerator',\n",
              " ' whirlpool stainless steel oven',\n",
              " 'Air conditioning',\n",
              " 'BBQ grill',\n",
              " 'BOSE sound system',\n",
              " 'Babysitter recommendations',\n",
              " 'Baking sheet',\n",
              " 'Bathtub',\n",
              " 'Bedroom comforts',\n",
              " 'Bidet',\n",
              " 'Board games',\n",
              " 'Body soap',\n",
              " 'Books',\n",
              " 'Breakfast',\n",
              " 'Building staff',\n",
              " 'Carbon monoxide alarm',\n",
              " 'Chefs kitchen',\n",
              " 'Childrenu2019s books and toys',\n",
              " 'Clothing storage dresser and walkin closet',\n",
              " 'Coffee maker',\n",
              " 'Cooking basics',\n",
              " 'Crib',\n",
              " 'Dedicated workspace',\n",
              " 'Dedicated workspace table',\n",
              " 'Dishes and silverware',\n",
              " 'Dishwasher',\n",
              " 'Dryer',\n",
              " 'Electric stove',\n",
              " 'Elevator',\n",
              " 'Essentials',\n",
              " 'Ethernet connection',\n",
              " 'Extra pillows and blankets',\n",
              " 'Fire extinguisher',\n",
              " 'Fireplace guards',\n",
              " 'First Line refrigerator',\n",
              " 'First aid kit',\n",
              " 'Free parking on premises',\n",
              " 'Free street parking',\n",
              " 'Game console',\n",
              " 'Garden or backyard',\n",
              " 'Gas stove',\n",
              " 'Gym',\n",
              " 'HDTV with premium cable',\n",
              " 'Hair dryer',\n",
              " 'Hangers',\n",
              " 'Heating',\n",
              " 'High chair',\n",
              " 'Host greets you',\n",
              " 'Hot tub',\n",
              " 'Hot water',\n",
              " 'Hot water kettle',\n",
              " 'Indoor fireplace',\n",
              " 'Iron',\n",
              " 'Kitchen',\n",
              " 'Lacanche oven',\n",
              " 'Lake access',\n",
              " 'Liebherr refrigerator',\n",
              " 'Lock on bedroom door',\n",
              " 'Lockbox',\n",
              " 'Long term stays allowed',\n",
              " 'Luggage dropoff allowed',\n",
              " 'MIELE oven',\n",
              " 'Oceanic induction stove',\n",
              " 'Outdoor dining area',\n",
              " 'Outdoor shower',\n",
              " 'Outlet covers',\n",
              " 'Oven',\n",
              " 'PRO LINE oven',\n",
              " 'Pack u2019n Playtravel crib',\n",
              " 'Paid parking garage on premises u2013 680 spaces',\n",
              " 'Paid parking lot off premises',\n",
              " 'Paid parking off premises',\n",
              " 'Paid parking on premises',\n",
              " 'Patio or balcony',\n",
              " 'Petit Marseillais body soap',\n",
              " 'Philips Bluetooth sound system',\n",
              " 'Pocket wifi',\n",
              " 'Pool',\n",
              " 'Portable heater',\n",
              " 'Pourover coffee',\n",
              " 'Private entrance',\n",
              " 'Private fenced garden or backyard',\n",
              " 'Private living room',\n",
              " 'Self checkin',\n",
              " 'Shampoo',\n",
              " 'Shower gel',\n",
              " 'Siemens stainless steel oven',\n",
              " 'Single level home',\n",
              " 'Smeg stainless steel oven',\n",
              " 'Smoke alarm',\n",
              " 'Sound system',\n",
              " 'Stove',\n",
              " 'TV',\n",
              " 'Table corner guards',\n",
              " 'Washer',\n",
              " 'Washer u2013u00a0In building',\n",
              " 'Washer u2013u00a0In unit',\n",
              " 'Wifi',\n",
              " 'Wifi u2013 1024 Mbps',\n",
              " 'Window guards',\n",
              " 'bosch induction stove'}"
            ]
          },
          "metadata": {},
          "execution_count": 96
        }
      ],
      "source": [
        "amenities_list"
      ]
    },
    {
      "cell_type": "code",
      "execution_count": 97,
      "metadata": {
        "colab": {
          "base_uri": "https://localhost:8080/"
        },
        "id": "KB1vfwpdBRIE",
        "outputId": "72fba859-de41-42f2-95b9-c3ededf34782"
      },
      "outputs": [
        {
          "output_type": "execute_result",
          "data": {
            "text/plain": [
              "479"
            ]
          },
          "metadata": {},
          "execution_count": 97
        }
      ],
      "source": [
        "len(amenities_list)"
      ]
    },
    {
      "cell_type": "code",
      "execution_count": 98,
      "metadata": {
        "colab": {
          "base_uri": "https://localhost:8080/"
        },
        "id": "Zz0bhY2BCJFU",
        "outputId": "8c1d9863-e827-46a0-f576-91007aabce89"
      },
      "outputs": [
        {
          "output_type": "stream",
          "name": "stderr",
          "text": [
            "<ipython-input-98-36dc8c5ed2be>:2: PerformanceWarning: DataFrame is highly fragmented.  This is usually the result of calling `frame.insert` many times, which has poor performance.  Consider joining all columns at once using pd.concat(axis=1) instead. To get a de-fragmented frame, use `newframe = frame.copy()`\n",
            "  L_dataset_E2[items] = L_dataset_E2[\"amenities\"].apply(lambda x: 1 if items in x else 0)\n",
            "<ipython-input-98-36dc8c5ed2be>:2: PerformanceWarning: DataFrame is highly fragmented.  This is usually the result of calling `frame.insert` many times, which has poor performance.  Consider joining all columns at once using pd.concat(axis=1) instead. To get a de-fragmented frame, use `newframe = frame.copy()`\n",
            "  L_dataset_E2[items] = L_dataset_E2[\"amenities\"].apply(lambda x: 1 if items in x else 0)\n",
            "<ipython-input-98-36dc8c5ed2be>:2: PerformanceWarning: DataFrame is highly fragmented.  This is usually the result of calling `frame.insert` many times, which has poor performance.  Consider joining all columns at once using pd.concat(axis=1) instead. To get a de-fragmented frame, use `newframe = frame.copy()`\n",
            "  L_dataset_E2[items] = L_dataset_E2[\"amenities\"].apply(lambda x: 1 if items in x else 0)\n",
            "<ipython-input-98-36dc8c5ed2be>:2: PerformanceWarning: DataFrame is highly fragmented.  This is usually the result of calling `frame.insert` many times, which has poor performance.  Consider joining all columns at once using pd.concat(axis=1) instead. To get a de-fragmented frame, use `newframe = frame.copy()`\n",
            "  L_dataset_E2[items] = L_dataset_E2[\"amenities\"].apply(lambda x: 1 if items in x else 0)\n",
            "<ipython-input-98-36dc8c5ed2be>:2: PerformanceWarning: DataFrame is highly fragmented.  This is usually the result of calling `frame.insert` many times, which has poor performance.  Consider joining all columns at once using pd.concat(axis=1) instead. To get a de-fragmented frame, use `newframe = frame.copy()`\n",
            "  L_dataset_E2[items] = L_dataset_E2[\"amenities\"].apply(lambda x: 1 if items in x else 0)\n",
            "<ipython-input-98-36dc8c5ed2be>:2: PerformanceWarning: DataFrame is highly fragmented.  This is usually the result of calling `frame.insert` many times, which has poor performance.  Consider joining all columns at once using pd.concat(axis=1) instead. To get a de-fragmented frame, use `newframe = frame.copy()`\n",
            "  L_dataset_E2[items] = L_dataset_E2[\"amenities\"].apply(lambda x: 1 if items in x else 0)\n",
            "<ipython-input-98-36dc8c5ed2be>:2: PerformanceWarning: DataFrame is highly fragmented.  This is usually the result of calling `frame.insert` many times, which has poor performance.  Consider joining all columns at once using pd.concat(axis=1) instead. To get a de-fragmented frame, use `newframe = frame.copy()`\n",
            "  L_dataset_E2[items] = L_dataset_E2[\"amenities\"].apply(lambda x: 1 if items in x else 0)\n",
            "<ipython-input-98-36dc8c5ed2be>:2: PerformanceWarning: DataFrame is highly fragmented.  This is usually the result of calling `frame.insert` many times, which has poor performance.  Consider joining all columns at once using pd.concat(axis=1) instead. To get a de-fragmented frame, use `newframe = frame.copy()`\n",
            "  L_dataset_E2[items] = L_dataset_E2[\"amenities\"].apply(lambda x: 1 if items in x else 0)\n",
            "<ipython-input-98-36dc8c5ed2be>:2: PerformanceWarning: DataFrame is highly fragmented.  This is usually the result of calling `frame.insert` many times, which has poor performance.  Consider joining all columns at once using pd.concat(axis=1) instead. To get a de-fragmented frame, use `newframe = frame.copy()`\n",
            "  L_dataset_E2[items] = L_dataset_E2[\"amenities\"].apply(lambda x: 1 if items in x else 0)\n",
            "<ipython-input-98-36dc8c5ed2be>:2: PerformanceWarning: DataFrame is highly fragmented.  This is usually the result of calling `frame.insert` many times, which has poor performance.  Consider joining all columns at once using pd.concat(axis=1) instead. To get a de-fragmented frame, use `newframe = frame.copy()`\n",
            "  L_dataset_E2[items] = L_dataset_E2[\"amenities\"].apply(lambda x: 1 if items in x else 0)\n",
            "<ipython-input-98-36dc8c5ed2be>:2: PerformanceWarning: DataFrame is highly fragmented.  This is usually the result of calling `frame.insert` many times, which has poor performance.  Consider joining all columns at once using pd.concat(axis=1) instead. To get a de-fragmented frame, use `newframe = frame.copy()`\n",
            "  L_dataset_E2[items] = L_dataset_E2[\"amenities\"].apply(lambda x: 1 if items in x else 0)\n",
            "<ipython-input-98-36dc8c5ed2be>:2: PerformanceWarning: DataFrame is highly fragmented.  This is usually the result of calling `frame.insert` many times, which has poor performance.  Consider joining all columns at once using pd.concat(axis=1) instead. To get a de-fragmented frame, use `newframe = frame.copy()`\n",
            "  L_dataset_E2[items] = L_dataset_E2[\"amenities\"].apply(lambda x: 1 if items in x else 0)\n",
            "<ipython-input-98-36dc8c5ed2be>:2: PerformanceWarning: DataFrame is highly fragmented.  This is usually the result of calling `frame.insert` many times, which has poor performance.  Consider joining all columns at once using pd.concat(axis=1) instead. To get a de-fragmented frame, use `newframe = frame.copy()`\n",
            "  L_dataset_E2[items] = L_dataset_E2[\"amenities\"].apply(lambda x: 1 if items in x else 0)\n",
            "<ipython-input-98-36dc8c5ed2be>:2: PerformanceWarning: DataFrame is highly fragmented.  This is usually the result of calling `frame.insert` many times, which has poor performance.  Consider joining all columns at once using pd.concat(axis=1) instead. To get a de-fragmented frame, use `newframe = frame.copy()`\n",
            "  L_dataset_E2[items] = L_dataset_E2[\"amenities\"].apply(lambda x: 1 if items in x else 0)\n",
            "<ipython-input-98-36dc8c5ed2be>:2: PerformanceWarning: DataFrame is highly fragmented.  This is usually the result of calling `frame.insert` many times, which has poor performance.  Consider joining all columns at once using pd.concat(axis=1) instead. To get a de-fragmented frame, use `newframe = frame.copy()`\n",
            "  L_dataset_E2[items] = L_dataset_E2[\"amenities\"].apply(lambda x: 1 if items in x else 0)\n",
            "<ipython-input-98-36dc8c5ed2be>:2: PerformanceWarning: DataFrame is highly fragmented.  This is usually the result of calling `frame.insert` many times, which has poor performance.  Consider joining all columns at once using pd.concat(axis=1) instead. To get a de-fragmented frame, use `newframe = frame.copy()`\n",
            "  L_dataset_E2[items] = L_dataset_E2[\"amenities\"].apply(lambda x: 1 if items in x else 0)\n",
            "<ipython-input-98-36dc8c5ed2be>:2: PerformanceWarning: DataFrame is highly fragmented.  This is usually the result of calling `frame.insert` many times, which has poor performance.  Consider joining all columns at once using pd.concat(axis=1) instead. To get a de-fragmented frame, use `newframe = frame.copy()`\n",
            "  L_dataset_E2[items] = L_dataset_E2[\"amenities\"].apply(lambda x: 1 if items in x else 0)\n",
            "<ipython-input-98-36dc8c5ed2be>:2: PerformanceWarning: DataFrame is highly fragmented.  This is usually the result of calling `frame.insert` many times, which has poor performance.  Consider joining all columns at once using pd.concat(axis=1) instead. To get a de-fragmented frame, use `newframe = frame.copy()`\n",
            "  L_dataset_E2[items] = L_dataset_E2[\"amenities\"].apply(lambda x: 1 if items in x else 0)\n",
            "<ipython-input-98-36dc8c5ed2be>:2: PerformanceWarning: DataFrame is highly fragmented.  This is usually the result of calling `frame.insert` many times, which has poor performance.  Consider joining all columns at once using pd.concat(axis=1) instead. To get a de-fragmented frame, use `newframe = frame.copy()`\n",
            "  L_dataset_E2[items] = L_dataset_E2[\"amenities\"].apply(lambda x: 1 if items in x else 0)\n",
            "<ipython-input-98-36dc8c5ed2be>:2: PerformanceWarning: DataFrame is highly fragmented.  This is usually the result of calling `frame.insert` many times, which has poor performance.  Consider joining all columns at once using pd.concat(axis=1) instead. To get a de-fragmented frame, use `newframe = frame.copy()`\n",
            "  L_dataset_E2[items] = L_dataset_E2[\"amenities\"].apply(lambda x: 1 if items in x else 0)\n",
            "<ipython-input-98-36dc8c5ed2be>:2: PerformanceWarning: DataFrame is highly fragmented.  This is usually the result of calling `frame.insert` many times, which has poor performance.  Consider joining all columns at once using pd.concat(axis=1) instead. To get a de-fragmented frame, use `newframe = frame.copy()`\n",
            "  L_dataset_E2[items] = L_dataset_E2[\"amenities\"].apply(lambda x: 1 if items in x else 0)\n",
            "<ipython-input-98-36dc8c5ed2be>:2: PerformanceWarning: DataFrame is highly fragmented.  This is usually the result of calling `frame.insert` many times, which has poor performance.  Consider joining all columns at once using pd.concat(axis=1) instead. To get a de-fragmented frame, use `newframe = frame.copy()`\n",
            "  L_dataset_E2[items] = L_dataset_E2[\"amenities\"].apply(lambda x: 1 if items in x else 0)\n",
            "<ipython-input-98-36dc8c5ed2be>:2: PerformanceWarning: DataFrame is highly fragmented.  This is usually the result of calling `frame.insert` many times, which has poor performance.  Consider joining all columns at once using pd.concat(axis=1) instead. To get a de-fragmented frame, use `newframe = frame.copy()`\n",
            "  L_dataset_E2[items] = L_dataset_E2[\"amenities\"].apply(lambda x: 1 if items in x else 0)\n",
            "<ipython-input-98-36dc8c5ed2be>:2: PerformanceWarning: DataFrame is highly fragmented.  This is usually the result of calling `frame.insert` many times, which has poor performance.  Consider joining all columns at once using pd.concat(axis=1) instead. To get a de-fragmented frame, use `newframe = frame.copy()`\n",
            "  L_dataset_E2[items] = L_dataset_E2[\"amenities\"].apply(lambda x: 1 if items in x else 0)\n",
            "<ipython-input-98-36dc8c5ed2be>:2: PerformanceWarning: DataFrame is highly fragmented.  This is usually the result of calling `frame.insert` many times, which has poor performance.  Consider joining all columns at once using pd.concat(axis=1) instead. To get a de-fragmented frame, use `newframe = frame.copy()`\n",
            "  L_dataset_E2[items] = L_dataset_E2[\"amenities\"].apply(lambda x: 1 if items in x else 0)\n",
            "<ipython-input-98-36dc8c5ed2be>:2: PerformanceWarning: DataFrame is highly fragmented.  This is usually the result of calling `frame.insert` many times, which has poor performance.  Consider joining all columns at once using pd.concat(axis=1) instead. To get a de-fragmented frame, use `newframe = frame.copy()`\n",
            "  L_dataset_E2[items] = L_dataset_E2[\"amenities\"].apply(lambda x: 1 if items in x else 0)\n",
            "<ipython-input-98-36dc8c5ed2be>:2: PerformanceWarning: DataFrame is highly fragmented.  This is usually the result of calling `frame.insert` many times, which has poor performance.  Consider joining all columns at once using pd.concat(axis=1) instead. To get a de-fragmented frame, use `newframe = frame.copy()`\n",
            "  L_dataset_E2[items] = L_dataset_E2[\"amenities\"].apply(lambda x: 1 if items in x else 0)\n",
            "<ipython-input-98-36dc8c5ed2be>:2: PerformanceWarning: DataFrame is highly fragmented.  This is usually the result of calling `frame.insert` many times, which has poor performance.  Consider joining all columns at once using pd.concat(axis=1) instead. To get a de-fragmented frame, use `newframe = frame.copy()`\n",
            "  L_dataset_E2[items] = L_dataset_E2[\"amenities\"].apply(lambda x: 1 if items in x else 0)\n",
            "<ipython-input-98-36dc8c5ed2be>:2: PerformanceWarning: DataFrame is highly fragmented.  This is usually the result of calling `frame.insert` many times, which has poor performance.  Consider joining all columns at once using pd.concat(axis=1) instead. To get a de-fragmented frame, use `newframe = frame.copy()`\n",
            "  L_dataset_E2[items] = L_dataset_E2[\"amenities\"].apply(lambda x: 1 if items in x else 0)\n",
            "<ipython-input-98-36dc8c5ed2be>:2: PerformanceWarning: DataFrame is highly fragmented.  This is usually the result of calling `frame.insert` many times, which has poor performance.  Consider joining all columns at once using pd.concat(axis=1) instead. To get a de-fragmented frame, use `newframe = frame.copy()`\n",
            "  L_dataset_E2[items] = L_dataset_E2[\"amenities\"].apply(lambda x: 1 if items in x else 0)\n",
            "<ipython-input-98-36dc8c5ed2be>:2: PerformanceWarning: DataFrame is highly fragmented.  This is usually the result of calling `frame.insert` many times, which has poor performance.  Consider joining all columns at once using pd.concat(axis=1) instead. To get a de-fragmented frame, use `newframe = frame.copy()`\n",
            "  L_dataset_E2[items] = L_dataset_E2[\"amenities\"].apply(lambda x: 1 if items in x else 0)\n",
            "<ipython-input-98-36dc8c5ed2be>:2: PerformanceWarning: DataFrame is highly fragmented.  This is usually the result of calling `frame.insert` many times, which has poor performance.  Consider joining all columns at once using pd.concat(axis=1) instead. To get a de-fragmented frame, use `newframe = frame.copy()`\n",
            "  L_dataset_E2[items] = L_dataset_E2[\"amenities\"].apply(lambda x: 1 if items in x else 0)\n",
            "<ipython-input-98-36dc8c5ed2be>:2: PerformanceWarning: DataFrame is highly fragmented.  This is usually the result of calling `frame.insert` many times, which has poor performance.  Consider joining all columns at once using pd.concat(axis=1) instead. To get a de-fragmented frame, use `newframe = frame.copy()`\n",
            "  L_dataset_E2[items] = L_dataset_E2[\"amenities\"].apply(lambda x: 1 if items in x else 0)\n",
            "<ipython-input-98-36dc8c5ed2be>:2: PerformanceWarning: DataFrame is highly fragmented.  This is usually the result of calling `frame.insert` many times, which has poor performance.  Consider joining all columns at once using pd.concat(axis=1) instead. To get a de-fragmented frame, use `newframe = frame.copy()`\n",
            "  L_dataset_E2[items] = L_dataset_E2[\"amenities\"].apply(lambda x: 1 if items in x else 0)\n",
            "<ipython-input-98-36dc8c5ed2be>:2: PerformanceWarning: DataFrame is highly fragmented.  This is usually the result of calling `frame.insert` many times, which has poor performance.  Consider joining all columns at once using pd.concat(axis=1) instead. To get a de-fragmented frame, use `newframe = frame.copy()`\n",
            "  L_dataset_E2[items] = L_dataset_E2[\"amenities\"].apply(lambda x: 1 if items in x else 0)\n",
            "<ipython-input-98-36dc8c5ed2be>:2: PerformanceWarning: DataFrame is highly fragmented.  This is usually the result of calling `frame.insert` many times, which has poor performance.  Consider joining all columns at once using pd.concat(axis=1) instead. To get a de-fragmented frame, use `newframe = frame.copy()`\n",
            "  L_dataset_E2[items] = L_dataset_E2[\"amenities\"].apply(lambda x: 1 if items in x else 0)\n",
            "<ipython-input-98-36dc8c5ed2be>:2: PerformanceWarning: DataFrame is highly fragmented.  This is usually the result of calling `frame.insert` many times, which has poor performance.  Consider joining all columns at once using pd.concat(axis=1) instead. To get a de-fragmented frame, use `newframe = frame.copy()`\n",
            "  L_dataset_E2[items] = L_dataset_E2[\"amenities\"].apply(lambda x: 1 if items in x else 0)\n",
            "<ipython-input-98-36dc8c5ed2be>:2: PerformanceWarning: DataFrame is highly fragmented.  This is usually the result of calling `frame.insert` many times, which has poor performance.  Consider joining all columns at once using pd.concat(axis=1) instead. To get a de-fragmented frame, use `newframe = frame.copy()`\n",
            "  L_dataset_E2[items] = L_dataset_E2[\"amenities\"].apply(lambda x: 1 if items in x else 0)\n",
            "<ipython-input-98-36dc8c5ed2be>:2: PerformanceWarning: DataFrame is highly fragmented.  This is usually the result of calling `frame.insert` many times, which has poor performance.  Consider joining all columns at once using pd.concat(axis=1) instead. To get a de-fragmented frame, use `newframe = frame.copy()`\n",
            "  L_dataset_E2[items] = L_dataset_E2[\"amenities\"].apply(lambda x: 1 if items in x else 0)\n",
            "<ipython-input-98-36dc8c5ed2be>:2: PerformanceWarning: DataFrame is highly fragmented.  This is usually the result of calling `frame.insert` many times, which has poor performance.  Consider joining all columns at once using pd.concat(axis=1) instead. To get a de-fragmented frame, use `newframe = frame.copy()`\n",
            "  L_dataset_E2[items] = L_dataset_E2[\"amenities\"].apply(lambda x: 1 if items in x else 0)\n",
            "<ipython-input-98-36dc8c5ed2be>:2: PerformanceWarning: DataFrame is highly fragmented.  This is usually the result of calling `frame.insert` many times, which has poor performance.  Consider joining all columns at once using pd.concat(axis=1) instead. To get a de-fragmented frame, use `newframe = frame.copy()`\n",
            "  L_dataset_E2[items] = L_dataset_E2[\"amenities\"].apply(lambda x: 1 if items in x else 0)\n",
            "<ipython-input-98-36dc8c5ed2be>:2: PerformanceWarning: DataFrame is highly fragmented.  This is usually the result of calling `frame.insert` many times, which has poor performance.  Consider joining all columns at once using pd.concat(axis=1) instead. To get a de-fragmented frame, use `newframe = frame.copy()`\n",
            "  L_dataset_E2[items] = L_dataset_E2[\"amenities\"].apply(lambda x: 1 if items in x else 0)\n",
            "<ipython-input-98-36dc8c5ed2be>:2: PerformanceWarning: DataFrame is highly fragmented.  This is usually the result of calling `frame.insert` many times, which has poor performance.  Consider joining all columns at once using pd.concat(axis=1) instead. To get a de-fragmented frame, use `newframe = frame.copy()`\n",
            "  L_dataset_E2[items] = L_dataset_E2[\"amenities\"].apply(lambda x: 1 if items in x else 0)\n",
            "<ipython-input-98-36dc8c5ed2be>:2: PerformanceWarning: DataFrame is highly fragmented.  This is usually the result of calling `frame.insert` many times, which has poor performance.  Consider joining all columns at once using pd.concat(axis=1) instead. To get a de-fragmented frame, use `newframe = frame.copy()`\n",
            "  L_dataset_E2[items] = L_dataset_E2[\"amenities\"].apply(lambda x: 1 if items in x else 0)\n",
            "<ipython-input-98-36dc8c5ed2be>:2: PerformanceWarning: DataFrame is highly fragmented.  This is usually the result of calling `frame.insert` many times, which has poor performance.  Consider joining all columns at once using pd.concat(axis=1) instead. To get a de-fragmented frame, use `newframe = frame.copy()`\n",
            "  L_dataset_E2[items] = L_dataset_E2[\"amenities\"].apply(lambda x: 1 if items in x else 0)\n",
            "<ipython-input-98-36dc8c5ed2be>:2: PerformanceWarning: DataFrame is highly fragmented.  This is usually the result of calling `frame.insert` many times, which has poor performance.  Consider joining all columns at once using pd.concat(axis=1) instead. To get a de-fragmented frame, use `newframe = frame.copy()`\n",
            "  L_dataset_E2[items] = L_dataset_E2[\"amenities\"].apply(lambda x: 1 if items in x else 0)\n",
            "<ipython-input-98-36dc8c5ed2be>:2: PerformanceWarning: DataFrame is highly fragmented.  This is usually the result of calling `frame.insert` many times, which has poor performance.  Consider joining all columns at once using pd.concat(axis=1) instead. To get a de-fragmented frame, use `newframe = frame.copy()`\n",
            "  L_dataset_E2[items] = L_dataset_E2[\"amenities\"].apply(lambda x: 1 if items in x else 0)\n",
            "<ipython-input-98-36dc8c5ed2be>:2: PerformanceWarning: DataFrame is highly fragmented.  This is usually the result of calling `frame.insert` many times, which has poor performance.  Consider joining all columns at once using pd.concat(axis=1) instead. To get a de-fragmented frame, use `newframe = frame.copy()`\n",
            "  L_dataset_E2[items] = L_dataset_E2[\"amenities\"].apply(lambda x: 1 if items in x else 0)\n",
            "<ipython-input-98-36dc8c5ed2be>:2: PerformanceWarning: DataFrame is highly fragmented.  This is usually the result of calling `frame.insert` many times, which has poor performance.  Consider joining all columns at once using pd.concat(axis=1) instead. To get a de-fragmented frame, use `newframe = frame.copy()`\n",
            "  L_dataset_E2[items] = L_dataset_E2[\"amenities\"].apply(lambda x: 1 if items in x else 0)\n",
            "<ipython-input-98-36dc8c5ed2be>:2: PerformanceWarning: DataFrame is highly fragmented.  This is usually the result of calling `frame.insert` many times, which has poor performance.  Consider joining all columns at once using pd.concat(axis=1) instead. To get a de-fragmented frame, use `newframe = frame.copy()`\n",
            "  L_dataset_E2[items] = L_dataset_E2[\"amenities\"].apply(lambda x: 1 if items in x else 0)\n",
            "<ipython-input-98-36dc8c5ed2be>:2: PerformanceWarning: DataFrame is highly fragmented.  This is usually the result of calling `frame.insert` many times, which has poor performance.  Consider joining all columns at once using pd.concat(axis=1) instead. To get a de-fragmented frame, use `newframe = frame.copy()`\n",
            "  L_dataset_E2[items] = L_dataset_E2[\"amenities\"].apply(lambda x: 1 if items in x else 0)\n",
            "<ipython-input-98-36dc8c5ed2be>:2: PerformanceWarning: DataFrame is highly fragmented.  This is usually the result of calling `frame.insert` many times, which has poor performance.  Consider joining all columns at once using pd.concat(axis=1) instead. To get a de-fragmented frame, use `newframe = frame.copy()`\n",
            "  L_dataset_E2[items] = L_dataset_E2[\"amenities\"].apply(lambda x: 1 if items in x else 0)\n",
            "<ipython-input-98-36dc8c5ed2be>:2: PerformanceWarning: DataFrame is highly fragmented.  This is usually the result of calling `frame.insert` many times, which has poor performance.  Consider joining all columns at once using pd.concat(axis=1) instead. To get a de-fragmented frame, use `newframe = frame.copy()`\n",
            "  L_dataset_E2[items] = L_dataset_E2[\"amenities\"].apply(lambda x: 1 if items in x else 0)\n",
            "<ipython-input-98-36dc8c5ed2be>:2: PerformanceWarning: DataFrame is highly fragmented.  This is usually the result of calling `frame.insert` many times, which has poor performance.  Consider joining all columns at once using pd.concat(axis=1) instead. To get a de-fragmented frame, use `newframe = frame.copy()`\n",
            "  L_dataset_E2[items] = L_dataset_E2[\"amenities\"].apply(lambda x: 1 if items in x else 0)\n",
            "<ipython-input-98-36dc8c5ed2be>:2: PerformanceWarning: DataFrame is highly fragmented.  This is usually the result of calling `frame.insert` many times, which has poor performance.  Consider joining all columns at once using pd.concat(axis=1) instead. To get a de-fragmented frame, use `newframe = frame.copy()`\n",
            "  L_dataset_E2[items] = L_dataset_E2[\"amenities\"].apply(lambda x: 1 if items in x else 0)\n",
            "<ipython-input-98-36dc8c5ed2be>:2: PerformanceWarning: DataFrame is highly fragmented.  This is usually the result of calling `frame.insert` many times, which has poor performance.  Consider joining all columns at once using pd.concat(axis=1) instead. To get a de-fragmented frame, use `newframe = frame.copy()`\n",
            "  L_dataset_E2[items] = L_dataset_E2[\"amenities\"].apply(lambda x: 1 if items in x else 0)\n",
            "<ipython-input-98-36dc8c5ed2be>:2: PerformanceWarning: DataFrame is highly fragmented.  This is usually the result of calling `frame.insert` many times, which has poor performance.  Consider joining all columns at once using pd.concat(axis=1) instead. To get a de-fragmented frame, use `newframe = frame.copy()`\n",
            "  L_dataset_E2[items] = L_dataset_E2[\"amenities\"].apply(lambda x: 1 if items in x else 0)\n",
            "<ipython-input-98-36dc8c5ed2be>:2: PerformanceWarning: DataFrame is highly fragmented.  This is usually the result of calling `frame.insert` many times, which has poor performance.  Consider joining all columns at once using pd.concat(axis=1) instead. To get a de-fragmented frame, use `newframe = frame.copy()`\n",
            "  L_dataset_E2[items] = L_dataset_E2[\"amenities\"].apply(lambda x: 1 if items in x else 0)\n",
            "<ipython-input-98-36dc8c5ed2be>:2: PerformanceWarning: DataFrame is highly fragmented.  This is usually the result of calling `frame.insert` many times, which has poor performance.  Consider joining all columns at once using pd.concat(axis=1) instead. To get a de-fragmented frame, use `newframe = frame.copy()`\n",
            "  L_dataset_E2[items] = L_dataset_E2[\"amenities\"].apply(lambda x: 1 if items in x else 0)\n",
            "<ipython-input-98-36dc8c5ed2be>:2: PerformanceWarning: DataFrame is highly fragmented.  This is usually the result of calling `frame.insert` many times, which has poor performance.  Consider joining all columns at once using pd.concat(axis=1) instead. To get a de-fragmented frame, use `newframe = frame.copy()`\n",
            "  L_dataset_E2[items] = L_dataset_E2[\"amenities\"].apply(lambda x: 1 if items in x else 0)\n",
            "<ipython-input-98-36dc8c5ed2be>:2: PerformanceWarning: DataFrame is highly fragmented.  This is usually the result of calling `frame.insert` many times, which has poor performance.  Consider joining all columns at once using pd.concat(axis=1) instead. To get a de-fragmented frame, use `newframe = frame.copy()`\n",
            "  L_dataset_E2[items] = L_dataset_E2[\"amenities\"].apply(lambda x: 1 if items in x else 0)\n",
            "<ipython-input-98-36dc8c5ed2be>:2: PerformanceWarning: DataFrame is highly fragmented.  This is usually the result of calling `frame.insert` many times, which has poor performance.  Consider joining all columns at once using pd.concat(axis=1) instead. To get a de-fragmented frame, use `newframe = frame.copy()`\n",
            "  L_dataset_E2[items] = L_dataset_E2[\"amenities\"].apply(lambda x: 1 if items in x else 0)\n",
            "<ipython-input-98-36dc8c5ed2be>:2: PerformanceWarning: DataFrame is highly fragmented.  This is usually the result of calling `frame.insert` many times, which has poor performance.  Consider joining all columns at once using pd.concat(axis=1) instead. To get a de-fragmented frame, use `newframe = frame.copy()`\n",
            "  L_dataset_E2[items] = L_dataset_E2[\"amenities\"].apply(lambda x: 1 if items in x else 0)\n",
            "<ipython-input-98-36dc8c5ed2be>:2: PerformanceWarning: DataFrame is highly fragmented.  This is usually the result of calling `frame.insert` many times, which has poor performance.  Consider joining all columns at once using pd.concat(axis=1) instead. To get a de-fragmented frame, use `newframe = frame.copy()`\n",
            "  L_dataset_E2[items] = L_dataset_E2[\"amenities\"].apply(lambda x: 1 if items in x else 0)\n",
            "<ipython-input-98-36dc8c5ed2be>:2: PerformanceWarning: DataFrame is highly fragmented.  This is usually the result of calling `frame.insert` many times, which has poor performance.  Consider joining all columns at once using pd.concat(axis=1) instead. To get a de-fragmented frame, use `newframe = frame.copy()`\n",
            "  L_dataset_E2[items] = L_dataset_E2[\"amenities\"].apply(lambda x: 1 if items in x else 0)\n",
            "<ipython-input-98-36dc8c5ed2be>:2: PerformanceWarning: DataFrame is highly fragmented.  This is usually the result of calling `frame.insert` many times, which has poor performance.  Consider joining all columns at once using pd.concat(axis=1) instead. To get a de-fragmented frame, use `newframe = frame.copy()`\n",
            "  L_dataset_E2[items] = L_dataset_E2[\"amenities\"].apply(lambda x: 1 if items in x else 0)\n",
            "<ipython-input-98-36dc8c5ed2be>:2: PerformanceWarning: DataFrame is highly fragmented.  This is usually the result of calling `frame.insert` many times, which has poor performance.  Consider joining all columns at once using pd.concat(axis=1) instead. To get a de-fragmented frame, use `newframe = frame.copy()`\n",
            "  L_dataset_E2[items] = L_dataset_E2[\"amenities\"].apply(lambda x: 1 if items in x else 0)\n",
            "<ipython-input-98-36dc8c5ed2be>:2: PerformanceWarning: DataFrame is highly fragmented.  This is usually the result of calling `frame.insert` many times, which has poor performance.  Consider joining all columns at once using pd.concat(axis=1) instead. To get a de-fragmented frame, use `newframe = frame.copy()`\n",
            "  L_dataset_E2[items] = L_dataset_E2[\"amenities\"].apply(lambda x: 1 if items in x else 0)\n",
            "<ipython-input-98-36dc8c5ed2be>:2: PerformanceWarning: DataFrame is highly fragmented.  This is usually the result of calling `frame.insert` many times, which has poor performance.  Consider joining all columns at once using pd.concat(axis=1) instead. To get a de-fragmented frame, use `newframe = frame.copy()`\n",
            "  L_dataset_E2[items] = L_dataset_E2[\"amenities\"].apply(lambda x: 1 if items in x else 0)\n",
            "<ipython-input-98-36dc8c5ed2be>:2: PerformanceWarning: DataFrame is highly fragmented.  This is usually the result of calling `frame.insert` many times, which has poor performance.  Consider joining all columns at once using pd.concat(axis=1) instead. To get a de-fragmented frame, use `newframe = frame.copy()`\n",
            "  L_dataset_E2[items] = L_dataset_E2[\"amenities\"].apply(lambda x: 1 if items in x else 0)\n",
            "<ipython-input-98-36dc8c5ed2be>:2: PerformanceWarning: DataFrame is highly fragmented.  This is usually the result of calling `frame.insert` many times, which has poor performance.  Consider joining all columns at once using pd.concat(axis=1) instead. To get a de-fragmented frame, use `newframe = frame.copy()`\n",
            "  L_dataset_E2[items] = L_dataset_E2[\"amenities\"].apply(lambda x: 1 if items in x else 0)\n",
            "<ipython-input-98-36dc8c5ed2be>:2: PerformanceWarning: DataFrame is highly fragmented.  This is usually the result of calling `frame.insert` many times, which has poor performance.  Consider joining all columns at once using pd.concat(axis=1) instead. To get a de-fragmented frame, use `newframe = frame.copy()`\n",
            "  L_dataset_E2[items] = L_dataset_E2[\"amenities\"].apply(lambda x: 1 if items in x else 0)\n",
            "<ipython-input-98-36dc8c5ed2be>:2: PerformanceWarning: DataFrame is highly fragmented.  This is usually the result of calling `frame.insert` many times, which has poor performance.  Consider joining all columns at once using pd.concat(axis=1) instead. To get a de-fragmented frame, use `newframe = frame.copy()`\n",
            "  L_dataset_E2[items] = L_dataset_E2[\"amenities\"].apply(lambda x: 1 if items in x else 0)\n",
            "<ipython-input-98-36dc8c5ed2be>:2: PerformanceWarning: DataFrame is highly fragmented.  This is usually the result of calling `frame.insert` many times, which has poor performance.  Consider joining all columns at once using pd.concat(axis=1) instead. To get a de-fragmented frame, use `newframe = frame.copy()`\n",
            "  L_dataset_E2[items] = L_dataset_E2[\"amenities\"].apply(lambda x: 1 if items in x else 0)\n",
            "<ipython-input-98-36dc8c5ed2be>:2: PerformanceWarning: DataFrame is highly fragmented.  This is usually the result of calling `frame.insert` many times, which has poor performance.  Consider joining all columns at once using pd.concat(axis=1) instead. To get a de-fragmented frame, use `newframe = frame.copy()`\n",
            "  L_dataset_E2[items] = L_dataset_E2[\"amenities\"].apply(lambda x: 1 if items in x else 0)\n",
            "<ipython-input-98-36dc8c5ed2be>:2: PerformanceWarning: DataFrame is highly fragmented.  This is usually the result of calling `frame.insert` many times, which has poor performance.  Consider joining all columns at once using pd.concat(axis=1) instead. To get a de-fragmented frame, use `newframe = frame.copy()`\n",
            "  L_dataset_E2[items] = L_dataset_E2[\"amenities\"].apply(lambda x: 1 if items in x else 0)\n",
            "<ipython-input-98-36dc8c5ed2be>:2: PerformanceWarning: DataFrame is highly fragmented.  This is usually the result of calling `frame.insert` many times, which has poor performance.  Consider joining all columns at once using pd.concat(axis=1) instead. To get a de-fragmented frame, use `newframe = frame.copy()`\n",
            "  L_dataset_E2[items] = L_dataset_E2[\"amenities\"].apply(lambda x: 1 if items in x else 0)\n",
            "<ipython-input-98-36dc8c5ed2be>:2: PerformanceWarning: DataFrame is highly fragmented.  This is usually the result of calling `frame.insert` many times, which has poor performance.  Consider joining all columns at once using pd.concat(axis=1) instead. To get a de-fragmented frame, use `newframe = frame.copy()`\n",
            "  L_dataset_E2[items] = L_dataset_E2[\"amenities\"].apply(lambda x: 1 if items in x else 0)\n",
            "<ipython-input-98-36dc8c5ed2be>:2: PerformanceWarning: DataFrame is highly fragmented.  This is usually the result of calling `frame.insert` many times, which has poor performance.  Consider joining all columns at once using pd.concat(axis=1) instead. To get a de-fragmented frame, use `newframe = frame.copy()`\n",
            "  L_dataset_E2[items] = L_dataset_E2[\"amenities\"].apply(lambda x: 1 if items in x else 0)\n",
            "<ipython-input-98-36dc8c5ed2be>:2: PerformanceWarning: DataFrame is highly fragmented.  This is usually the result of calling `frame.insert` many times, which has poor performance.  Consider joining all columns at once using pd.concat(axis=1) instead. To get a de-fragmented frame, use `newframe = frame.copy()`\n",
            "  L_dataset_E2[items] = L_dataset_E2[\"amenities\"].apply(lambda x: 1 if items in x else 0)\n",
            "<ipython-input-98-36dc8c5ed2be>:2: PerformanceWarning: DataFrame is highly fragmented.  This is usually the result of calling `frame.insert` many times, which has poor performance.  Consider joining all columns at once using pd.concat(axis=1) instead. To get a de-fragmented frame, use `newframe = frame.copy()`\n",
            "  L_dataset_E2[items] = L_dataset_E2[\"amenities\"].apply(lambda x: 1 if items in x else 0)\n",
            "<ipython-input-98-36dc8c5ed2be>:2: PerformanceWarning: DataFrame is highly fragmented.  This is usually the result of calling `frame.insert` many times, which has poor performance.  Consider joining all columns at once using pd.concat(axis=1) instead. To get a de-fragmented frame, use `newframe = frame.copy()`\n",
            "  L_dataset_E2[items] = L_dataset_E2[\"amenities\"].apply(lambda x: 1 if items in x else 0)\n",
            "<ipython-input-98-36dc8c5ed2be>:2: PerformanceWarning: DataFrame is highly fragmented.  This is usually the result of calling `frame.insert` many times, which has poor performance.  Consider joining all columns at once using pd.concat(axis=1) instead. To get a de-fragmented frame, use `newframe = frame.copy()`\n",
            "  L_dataset_E2[items] = L_dataset_E2[\"amenities\"].apply(lambda x: 1 if items in x else 0)\n",
            "<ipython-input-98-36dc8c5ed2be>:2: PerformanceWarning: DataFrame is highly fragmented.  This is usually the result of calling `frame.insert` many times, which has poor performance.  Consider joining all columns at once using pd.concat(axis=1) instead. To get a de-fragmented frame, use `newframe = frame.copy()`\n",
            "  L_dataset_E2[items] = L_dataset_E2[\"amenities\"].apply(lambda x: 1 if items in x else 0)\n",
            "<ipython-input-98-36dc8c5ed2be>:2: PerformanceWarning: DataFrame is highly fragmented.  This is usually the result of calling `frame.insert` many times, which has poor performance.  Consider joining all columns at once using pd.concat(axis=1) instead. To get a de-fragmented frame, use `newframe = frame.copy()`\n",
            "  L_dataset_E2[items] = L_dataset_E2[\"amenities\"].apply(lambda x: 1 if items in x else 0)\n",
            "<ipython-input-98-36dc8c5ed2be>:2: PerformanceWarning: DataFrame is highly fragmented.  This is usually the result of calling `frame.insert` many times, which has poor performance.  Consider joining all columns at once using pd.concat(axis=1) instead. To get a de-fragmented frame, use `newframe = frame.copy()`\n",
            "  L_dataset_E2[items] = L_dataset_E2[\"amenities\"].apply(lambda x: 1 if items in x else 0)\n",
            "<ipython-input-98-36dc8c5ed2be>:2: PerformanceWarning: DataFrame is highly fragmented.  This is usually the result of calling `frame.insert` many times, which has poor performance.  Consider joining all columns at once using pd.concat(axis=1) instead. To get a de-fragmented frame, use `newframe = frame.copy()`\n",
            "  L_dataset_E2[items] = L_dataset_E2[\"amenities\"].apply(lambda x: 1 if items in x else 0)\n",
            "<ipython-input-98-36dc8c5ed2be>:2: PerformanceWarning: DataFrame is highly fragmented.  This is usually the result of calling `frame.insert` many times, which has poor performance.  Consider joining all columns at once using pd.concat(axis=1) instead. To get a de-fragmented frame, use `newframe = frame.copy()`\n",
            "  L_dataset_E2[items] = L_dataset_E2[\"amenities\"].apply(lambda x: 1 if items in x else 0)\n",
            "<ipython-input-98-36dc8c5ed2be>:2: PerformanceWarning: DataFrame is highly fragmented.  This is usually the result of calling `frame.insert` many times, which has poor performance.  Consider joining all columns at once using pd.concat(axis=1) instead. To get a de-fragmented frame, use `newframe = frame.copy()`\n",
            "  L_dataset_E2[items] = L_dataset_E2[\"amenities\"].apply(lambda x: 1 if items in x else 0)\n",
            "<ipython-input-98-36dc8c5ed2be>:2: PerformanceWarning: DataFrame is highly fragmented.  This is usually the result of calling `frame.insert` many times, which has poor performance.  Consider joining all columns at once using pd.concat(axis=1) instead. To get a de-fragmented frame, use `newframe = frame.copy()`\n",
            "  L_dataset_E2[items] = L_dataset_E2[\"amenities\"].apply(lambda x: 1 if items in x else 0)\n",
            "<ipython-input-98-36dc8c5ed2be>:2: PerformanceWarning: DataFrame is highly fragmented.  This is usually the result of calling `frame.insert` many times, which has poor performance.  Consider joining all columns at once using pd.concat(axis=1) instead. To get a de-fragmented frame, use `newframe = frame.copy()`\n",
            "  L_dataset_E2[items] = L_dataset_E2[\"amenities\"].apply(lambda x: 1 if items in x else 0)\n",
            "<ipython-input-98-36dc8c5ed2be>:2: PerformanceWarning: DataFrame is highly fragmented.  This is usually the result of calling `frame.insert` many times, which has poor performance.  Consider joining all columns at once using pd.concat(axis=1) instead. To get a de-fragmented frame, use `newframe = frame.copy()`\n",
            "  L_dataset_E2[items] = L_dataset_E2[\"amenities\"].apply(lambda x: 1 if items in x else 0)\n",
            "<ipython-input-98-36dc8c5ed2be>:2: PerformanceWarning: DataFrame is highly fragmented.  This is usually the result of calling `frame.insert` many times, which has poor performance.  Consider joining all columns at once using pd.concat(axis=1) instead. To get a de-fragmented frame, use `newframe = frame.copy()`\n",
            "  L_dataset_E2[items] = L_dataset_E2[\"amenities\"].apply(lambda x: 1 if items in x else 0)\n",
            "<ipython-input-98-36dc8c5ed2be>:2: PerformanceWarning: DataFrame is highly fragmented.  This is usually the result of calling `frame.insert` many times, which has poor performance.  Consider joining all columns at once using pd.concat(axis=1) instead. To get a de-fragmented frame, use `newframe = frame.copy()`\n",
            "  L_dataset_E2[items] = L_dataset_E2[\"amenities\"].apply(lambda x: 1 if items in x else 0)\n",
            "<ipython-input-98-36dc8c5ed2be>:2: PerformanceWarning: DataFrame is highly fragmented.  This is usually the result of calling `frame.insert` many times, which has poor performance.  Consider joining all columns at once using pd.concat(axis=1) instead. To get a de-fragmented frame, use `newframe = frame.copy()`\n",
            "  L_dataset_E2[items] = L_dataset_E2[\"amenities\"].apply(lambda x: 1 if items in x else 0)\n",
            "<ipython-input-98-36dc8c5ed2be>:2: PerformanceWarning: DataFrame is highly fragmented.  This is usually the result of calling `frame.insert` many times, which has poor performance.  Consider joining all columns at once using pd.concat(axis=1) instead. To get a de-fragmented frame, use `newframe = frame.copy()`\n",
            "  L_dataset_E2[items] = L_dataset_E2[\"amenities\"].apply(lambda x: 1 if items in x else 0)\n",
            "<ipython-input-98-36dc8c5ed2be>:2: PerformanceWarning: DataFrame is highly fragmented.  This is usually the result of calling `frame.insert` many times, which has poor performance.  Consider joining all columns at once using pd.concat(axis=1) instead. To get a de-fragmented frame, use `newframe = frame.copy()`\n",
            "  L_dataset_E2[items] = L_dataset_E2[\"amenities\"].apply(lambda x: 1 if items in x else 0)\n",
            "<ipython-input-98-36dc8c5ed2be>:2: PerformanceWarning: DataFrame is highly fragmented.  This is usually the result of calling `frame.insert` many times, which has poor performance.  Consider joining all columns at once using pd.concat(axis=1) instead. To get a de-fragmented frame, use `newframe = frame.copy()`\n",
            "  L_dataset_E2[items] = L_dataset_E2[\"amenities\"].apply(lambda x: 1 if items in x else 0)\n",
            "<ipython-input-98-36dc8c5ed2be>:2: PerformanceWarning: DataFrame is highly fragmented.  This is usually the result of calling `frame.insert` many times, which has poor performance.  Consider joining all columns at once using pd.concat(axis=1) instead. To get a de-fragmented frame, use `newframe = frame.copy()`\n",
            "  L_dataset_E2[items] = L_dataset_E2[\"amenities\"].apply(lambda x: 1 if items in x else 0)\n",
            "<ipython-input-98-36dc8c5ed2be>:2: PerformanceWarning: DataFrame is highly fragmented.  This is usually the result of calling `frame.insert` many times, which has poor performance.  Consider joining all columns at once using pd.concat(axis=1) instead. To get a de-fragmented frame, use `newframe = frame.copy()`\n",
            "  L_dataset_E2[items] = L_dataset_E2[\"amenities\"].apply(lambda x: 1 if items in x else 0)\n",
            "<ipython-input-98-36dc8c5ed2be>:2: PerformanceWarning: DataFrame is highly fragmented.  This is usually the result of calling `frame.insert` many times, which has poor performance.  Consider joining all columns at once using pd.concat(axis=1) instead. To get a de-fragmented frame, use `newframe = frame.copy()`\n",
            "  L_dataset_E2[items] = L_dataset_E2[\"amenities\"].apply(lambda x: 1 if items in x else 0)\n",
            "<ipython-input-98-36dc8c5ed2be>:2: PerformanceWarning: DataFrame is highly fragmented.  This is usually the result of calling `frame.insert` many times, which has poor performance.  Consider joining all columns at once using pd.concat(axis=1) instead. To get a de-fragmented frame, use `newframe = frame.copy()`\n",
            "  L_dataset_E2[items] = L_dataset_E2[\"amenities\"].apply(lambda x: 1 if items in x else 0)\n",
            "<ipython-input-98-36dc8c5ed2be>:2: PerformanceWarning: DataFrame is highly fragmented.  This is usually the result of calling `frame.insert` many times, which has poor performance.  Consider joining all columns at once using pd.concat(axis=1) instead. To get a de-fragmented frame, use `newframe = frame.copy()`\n",
            "  L_dataset_E2[items] = L_dataset_E2[\"amenities\"].apply(lambda x: 1 if items in x else 0)\n",
            "<ipython-input-98-36dc8c5ed2be>:2: PerformanceWarning: DataFrame is highly fragmented.  This is usually the result of calling `frame.insert` many times, which has poor performance.  Consider joining all columns at once using pd.concat(axis=1) instead. To get a de-fragmented frame, use `newframe = frame.copy()`\n",
            "  L_dataset_E2[items] = L_dataset_E2[\"amenities\"].apply(lambda x: 1 if items in x else 0)\n",
            "<ipython-input-98-36dc8c5ed2be>:2: PerformanceWarning: DataFrame is highly fragmented.  This is usually the result of calling `frame.insert` many times, which has poor performance.  Consider joining all columns at once using pd.concat(axis=1) instead. To get a de-fragmented frame, use `newframe = frame.copy()`\n",
            "  L_dataset_E2[items] = L_dataset_E2[\"amenities\"].apply(lambda x: 1 if items in x else 0)\n",
            "<ipython-input-98-36dc8c5ed2be>:2: PerformanceWarning: DataFrame is highly fragmented.  This is usually the result of calling `frame.insert` many times, which has poor performance.  Consider joining all columns at once using pd.concat(axis=1) instead. To get a de-fragmented frame, use `newframe = frame.copy()`\n",
            "  L_dataset_E2[items] = L_dataset_E2[\"amenities\"].apply(lambda x: 1 if items in x else 0)\n",
            "<ipython-input-98-36dc8c5ed2be>:2: PerformanceWarning: DataFrame is highly fragmented.  This is usually the result of calling `frame.insert` many times, which has poor performance.  Consider joining all columns at once using pd.concat(axis=1) instead. To get a de-fragmented frame, use `newframe = frame.copy()`\n",
            "  L_dataset_E2[items] = L_dataset_E2[\"amenities\"].apply(lambda x: 1 if items in x else 0)\n",
            "<ipython-input-98-36dc8c5ed2be>:2: PerformanceWarning: DataFrame is highly fragmented.  This is usually the result of calling `frame.insert` many times, which has poor performance.  Consider joining all columns at once using pd.concat(axis=1) instead. To get a de-fragmented frame, use `newframe = frame.copy()`\n",
            "  L_dataset_E2[items] = L_dataset_E2[\"amenities\"].apply(lambda x: 1 if items in x else 0)\n",
            "<ipython-input-98-36dc8c5ed2be>:2: PerformanceWarning: DataFrame is highly fragmented.  This is usually the result of calling `frame.insert` many times, which has poor performance.  Consider joining all columns at once using pd.concat(axis=1) instead. To get a de-fragmented frame, use `newframe = frame.copy()`\n",
            "  L_dataset_E2[items] = L_dataset_E2[\"amenities\"].apply(lambda x: 1 if items in x else 0)\n",
            "<ipython-input-98-36dc8c5ed2be>:2: PerformanceWarning: DataFrame is highly fragmented.  This is usually the result of calling `frame.insert` many times, which has poor performance.  Consider joining all columns at once using pd.concat(axis=1) instead. To get a de-fragmented frame, use `newframe = frame.copy()`\n",
            "  L_dataset_E2[items] = L_dataset_E2[\"amenities\"].apply(lambda x: 1 if items in x else 0)\n",
            "<ipython-input-98-36dc8c5ed2be>:2: PerformanceWarning: DataFrame is highly fragmented.  This is usually the result of calling `frame.insert` many times, which has poor performance.  Consider joining all columns at once using pd.concat(axis=1) instead. To get a de-fragmented frame, use `newframe = frame.copy()`\n",
            "  L_dataset_E2[items] = L_dataset_E2[\"amenities\"].apply(lambda x: 1 if items in x else 0)\n",
            "<ipython-input-98-36dc8c5ed2be>:2: PerformanceWarning: DataFrame is highly fragmented.  This is usually the result of calling `frame.insert` many times, which has poor performance.  Consider joining all columns at once using pd.concat(axis=1) instead. To get a de-fragmented frame, use `newframe = frame.copy()`\n",
            "  L_dataset_E2[items] = L_dataset_E2[\"amenities\"].apply(lambda x: 1 if items in x else 0)\n",
            "<ipython-input-98-36dc8c5ed2be>:2: PerformanceWarning: DataFrame is highly fragmented.  This is usually the result of calling `frame.insert` many times, which has poor performance.  Consider joining all columns at once using pd.concat(axis=1) instead. To get a de-fragmented frame, use `newframe = frame.copy()`\n",
            "  L_dataset_E2[items] = L_dataset_E2[\"amenities\"].apply(lambda x: 1 if items in x else 0)\n",
            "<ipython-input-98-36dc8c5ed2be>:2: PerformanceWarning: DataFrame is highly fragmented.  This is usually the result of calling `frame.insert` many times, which has poor performance.  Consider joining all columns at once using pd.concat(axis=1) instead. To get a de-fragmented frame, use `newframe = frame.copy()`\n",
            "  L_dataset_E2[items] = L_dataset_E2[\"amenities\"].apply(lambda x: 1 if items in x else 0)\n",
            "<ipython-input-98-36dc8c5ed2be>:2: PerformanceWarning: DataFrame is highly fragmented.  This is usually the result of calling `frame.insert` many times, which has poor performance.  Consider joining all columns at once using pd.concat(axis=1) instead. To get a de-fragmented frame, use `newframe = frame.copy()`\n",
            "  L_dataset_E2[items] = L_dataset_E2[\"amenities\"].apply(lambda x: 1 if items in x else 0)\n",
            "<ipython-input-98-36dc8c5ed2be>:2: PerformanceWarning: DataFrame is highly fragmented.  This is usually the result of calling `frame.insert` many times, which has poor performance.  Consider joining all columns at once using pd.concat(axis=1) instead. To get a de-fragmented frame, use `newframe = frame.copy()`\n",
            "  L_dataset_E2[items] = L_dataset_E2[\"amenities\"].apply(lambda x: 1 if items in x else 0)\n",
            "<ipython-input-98-36dc8c5ed2be>:2: PerformanceWarning: DataFrame is highly fragmented.  This is usually the result of calling `frame.insert` many times, which has poor performance.  Consider joining all columns at once using pd.concat(axis=1) instead. To get a de-fragmented frame, use `newframe = frame.copy()`\n",
            "  L_dataset_E2[items] = L_dataset_E2[\"amenities\"].apply(lambda x: 1 if items in x else 0)\n",
            "<ipython-input-98-36dc8c5ed2be>:2: PerformanceWarning: DataFrame is highly fragmented.  This is usually the result of calling `frame.insert` many times, which has poor performance.  Consider joining all columns at once using pd.concat(axis=1) instead. To get a de-fragmented frame, use `newframe = frame.copy()`\n",
            "  L_dataset_E2[items] = L_dataset_E2[\"amenities\"].apply(lambda x: 1 if items in x else 0)\n",
            "<ipython-input-98-36dc8c5ed2be>:2: PerformanceWarning: DataFrame is highly fragmented.  This is usually the result of calling `frame.insert` many times, which has poor performance.  Consider joining all columns at once using pd.concat(axis=1) instead. To get a de-fragmented frame, use `newframe = frame.copy()`\n",
            "  L_dataset_E2[items] = L_dataset_E2[\"amenities\"].apply(lambda x: 1 if items in x else 0)\n",
            "<ipython-input-98-36dc8c5ed2be>:2: PerformanceWarning: DataFrame is highly fragmented.  This is usually the result of calling `frame.insert` many times, which has poor performance.  Consider joining all columns at once using pd.concat(axis=1) instead. To get a de-fragmented frame, use `newframe = frame.copy()`\n",
            "  L_dataset_E2[items] = L_dataset_E2[\"amenities\"].apply(lambda x: 1 if items in x else 0)\n",
            "<ipython-input-98-36dc8c5ed2be>:2: PerformanceWarning: DataFrame is highly fragmented.  This is usually the result of calling `frame.insert` many times, which has poor performance.  Consider joining all columns at once using pd.concat(axis=1) instead. To get a de-fragmented frame, use `newframe = frame.copy()`\n",
            "  L_dataset_E2[items] = L_dataset_E2[\"amenities\"].apply(lambda x: 1 if items in x else 0)\n",
            "<ipython-input-98-36dc8c5ed2be>:2: PerformanceWarning: DataFrame is highly fragmented.  This is usually the result of calling `frame.insert` many times, which has poor performance.  Consider joining all columns at once using pd.concat(axis=1) instead. To get a de-fragmented frame, use `newframe = frame.copy()`\n",
            "  L_dataset_E2[items] = L_dataset_E2[\"amenities\"].apply(lambda x: 1 if items in x else 0)\n",
            "<ipython-input-98-36dc8c5ed2be>:2: PerformanceWarning: DataFrame is highly fragmented.  This is usually the result of calling `frame.insert` many times, which has poor performance.  Consider joining all columns at once using pd.concat(axis=1) instead. To get a de-fragmented frame, use `newframe = frame.copy()`\n",
            "  L_dataset_E2[items] = L_dataset_E2[\"amenities\"].apply(lambda x: 1 if items in x else 0)\n",
            "<ipython-input-98-36dc8c5ed2be>:2: PerformanceWarning: DataFrame is highly fragmented.  This is usually the result of calling `frame.insert` many times, which has poor performance.  Consider joining all columns at once using pd.concat(axis=1) instead. To get a de-fragmented frame, use `newframe = frame.copy()`\n",
            "  L_dataset_E2[items] = L_dataset_E2[\"amenities\"].apply(lambda x: 1 if items in x else 0)\n",
            "<ipython-input-98-36dc8c5ed2be>:2: PerformanceWarning: DataFrame is highly fragmented.  This is usually the result of calling `frame.insert` many times, which has poor performance.  Consider joining all columns at once using pd.concat(axis=1) instead. To get a de-fragmented frame, use `newframe = frame.copy()`\n",
            "  L_dataset_E2[items] = L_dataset_E2[\"amenities\"].apply(lambda x: 1 if items in x else 0)\n",
            "<ipython-input-98-36dc8c5ed2be>:2: PerformanceWarning: DataFrame is highly fragmented.  This is usually the result of calling `frame.insert` many times, which has poor performance.  Consider joining all columns at once using pd.concat(axis=1) instead. To get a de-fragmented frame, use `newframe = frame.copy()`\n",
            "  L_dataset_E2[items] = L_dataset_E2[\"amenities\"].apply(lambda x: 1 if items in x else 0)\n",
            "<ipython-input-98-36dc8c5ed2be>:2: PerformanceWarning: DataFrame is highly fragmented.  This is usually the result of calling `frame.insert` many times, which has poor performance.  Consider joining all columns at once using pd.concat(axis=1) instead. To get a de-fragmented frame, use `newframe = frame.copy()`\n",
            "  L_dataset_E2[items] = L_dataset_E2[\"amenities\"].apply(lambda x: 1 if items in x else 0)\n",
            "<ipython-input-98-36dc8c5ed2be>:2: PerformanceWarning: DataFrame is highly fragmented.  This is usually the result of calling `frame.insert` many times, which has poor performance.  Consider joining all columns at once using pd.concat(axis=1) instead. To get a de-fragmented frame, use `newframe = frame.copy()`\n",
            "  L_dataset_E2[items] = L_dataset_E2[\"amenities\"].apply(lambda x: 1 if items in x else 0)\n",
            "<ipython-input-98-36dc8c5ed2be>:2: PerformanceWarning: DataFrame is highly fragmented.  This is usually the result of calling `frame.insert` many times, which has poor performance.  Consider joining all columns at once using pd.concat(axis=1) instead. To get a de-fragmented frame, use `newframe = frame.copy()`\n",
            "  L_dataset_E2[items] = L_dataset_E2[\"amenities\"].apply(lambda x: 1 if items in x else 0)\n",
            "<ipython-input-98-36dc8c5ed2be>:2: PerformanceWarning: DataFrame is highly fragmented.  This is usually the result of calling `frame.insert` many times, which has poor performance.  Consider joining all columns at once using pd.concat(axis=1) instead. To get a de-fragmented frame, use `newframe = frame.copy()`\n",
            "  L_dataset_E2[items] = L_dataset_E2[\"amenities\"].apply(lambda x: 1 if items in x else 0)\n",
            "<ipython-input-98-36dc8c5ed2be>:2: PerformanceWarning: DataFrame is highly fragmented.  This is usually the result of calling `frame.insert` many times, which has poor performance.  Consider joining all columns at once using pd.concat(axis=1) instead. To get a de-fragmented frame, use `newframe = frame.copy()`\n",
            "  L_dataset_E2[items] = L_dataset_E2[\"amenities\"].apply(lambda x: 1 if items in x else 0)\n",
            "<ipython-input-98-36dc8c5ed2be>:2: PerformanceWarning: DataFrame is highly fragmented.  This is usually the result of calling `frame.insert` many times, which has poor performance.  Consider joining all columns at once using pd.concat(axis=1) instead. To get a de-fragmented frame, use `newframe = frame.copy()`\n",
            "  L_dataset_E2[items] = L_dataset_E2[\"amenities\"].apply(lambda x: 1 if items in x else 0)\n",
            "<ipython-input-98-36dc8c5ed2be>:2: PerformanceWarning: DataFrame is highly fragmented.  This is usually the result of calling `frame.insert` many times, which has poor performance.  Consider joining all columns at once using pd.concat(axis=1) instead. To get a de-fragmented frame, use `newframe = frame.copy()`\n",
            "  L_dataset_E2[items] = L_dataset_E2[\"amenities\"].apply(lambda x: 1 if items in x else 0)\n",
            "<ipython-input-98-36dc8c5ed2be>:2: PerformanceWarning: DataFrame is highly fragmented.  This is usually the result of calling `frame.insert` many times, which has poor performance.  Consider joining all columns at once using pd.concat(axis=1) instead. To get a de-fragmented frame, use `newframe = frame.copy()`\n",
            "  L_dataset_E2[items] = L_dataset_E2[\"amenities\"].apply(lambda x: 1 if items in x else 0)\n",
            "<ipython-input-98-36dc8c5ed2be>:2: PerformanceWarning: DataFrame is highly fragmented.  This is usually the result of calling `frame.insert` many times, which has poor performance.  Consider joining all columns at once using pd.concat(axis=1) instead. To get a de-fragmented frame, use `newframe = frame.copy()`\n",
            "  L_dataset_E2[items] = L_dataset_E2[\"amenities\"].apply(lambda x: 1 if items in x else 0)\n",
            "<ipython-input-98-36dc8c5ed2be>:2: PerformanceWarning: DataFrame is highly fragmented.  This is usually the result of calling `frame.insert` many times, which has poor performance.  Consider joining all columns at once using pd.concat(axis=1) instead. To get a de-fragmented frame, use `newframe = frame.copy()`\n",
            "  L_dataset_E2[items] = L_dataset_E2[\"amenities\"].apply(lambda x: 1 if items in x else 0)\n",
            "<ipython-input-98-36dc8c5ed2be>:2: PerformanceWarning: DataFrame is highly fragmented.  This is usually the result of calling `frame.insert` many times, which has poor performance.  Consider joining all columns at once using pd.concat(axis=1) instead. To get a de-fragmented frame, use `newframe = frame.copy()`\n",
            "  L_dataset_E2[items] = L_dataset_E2[\"amenities\"].apply(lambda x: 1 if items in x else 0)\n",
            "<ipython-input-98-36dc8c5ed2be>:2: PerformanceWarning: DataFrame is highly fragmented.  This is usually the result of calling `frame.insert` many times, which has poor performance.  Consider joining all columns at once using pd.concat(axis=1) instead. To get a de-fragmented frame, use `newframe = frame.copy()`\n",
            "  L_dataset_E2[items] = L_dataset_E2[\"amenities\"].apply(lambda x: 1 if items in x else 0)\n",
            "<ipython-input-98-36dc8c5ed2be>:2: PerformanceWarning: DataFrame is highly fragmented.  This is usually the result of calling `frame.insert` many times, which has poor performance.  Consider joining all columns at once using pd.concat(axis=1) instead. To get a de-fragmented frame, use `newframe = frame.copy()`\n",
            "  L_dataset_E2[items] = L_dataset_E2[\"amenities\"].apply(lambda x: 1 if items in x else 0)\n",
            "<ipython-input-98-36dc8c5ed2be>:2: PerformanceWarning: DataFrame is highly fragmented.  This is usually the result of calling `frame.insert` many times, which has poor performance.  Consider joining all columns at once using pd.concat(axis=1) instead. To get a de-fragmented frame, use `newframe = frame.copy()`\n",
            "  L_dataset_E2[items] = L_dataset_E2[\"amenities\"].apply(lambda x: 1 if items in x else 0)\n",
            "<ipython-input-98-36dc8c5ed2be>:2: PerformanceWarning: DataFrame is highly fragmented.  This is usually the result of calling `frame.insert` many times, which has poor performance.  Consider joining all columns at once using pd.concat(axis=1) instead. To get a de-fragmented frame, use `newframe = frame.copy()`\n",
            "  L_dataset_E2[items] = L_dataset_E2[\"amenities\"].apply(lambda x: 1 if items in x else 0)\n",
            "<ipython-input-98-36dc8c5ed2be>:2: PerformanceWarning: DataFrame is highly fragmented.  This is usually the result of calling `frame.insert` many times, which has poor performance.  Consider joining all columns at once using pd.concat(axis=1) instead. To get a de-fragmented frame, use `newframe = frame.copy()`\n",
            "  L_dataset_E2[items] = L_dataset_E2[\"amenities\"].apply(lambda x: 1 if items in x else 0)\n",
            "<ipython-input-98-36dc8c5ed2be>:2: PerformanceWarning: DataFrame is highly fragmented.  This is usually the result of calling `frame.insert` many times, which has poor performance.  Consider joining all columns at once using pd.concat(axis=1) instead. To get a de-fragmented frame, use `newframe = frame.copy()`\n",
            "  L_dataset_E2[items] = L_dataset_E2[\"amenities\"].apply(lambda x: 1 if items in x else 0)\n",
            "<ipython-input-98-36dc8c5ed2be>:2: PerformanceWarning: DataFrame is highly fragmented.  This is usually the result of calling `frame.insert` many times, which has poor performance.  Consider joining all columns at once using pd.concat(axis=1) instead. To get a de-fragmented frame, use `newframe = frame.copy()`\n",
            "  L_dataset_E2[items] = L_dataset_E2[\"amenities\"].apply(lambda x: 1 if items in x else 0)\n",
            "<ipython-input-98-36dc8c5ed2be>:2: PerformanceWarning: DataFrame is highly fragmented.  This is usually the result of calling `frame.insert` many times, which has poor performance.  Consider joining all columns at once using pd.concat(axis=1) instead. To get a de-fragmented frame, use `newframe = frame.copy()`\n",
            "  L_dataset_E2[items] = L_dataset_E2[\"amenities\"].apply(lambda x: 1 if items in x else 0)\n",
            "<ipython-input-98-36dc8c5ed2be>:2: PerformanceWarning: DataFrame is highly fragmented.  This is usually the result of calling `frame.insert` many times, which has poor performance.  Consider joining all columns at once using pd.concat(axis=1) instead. To get a de-fragmented frame, use `newframe = frame.copy()`\n",
            "  L_dataset_E2[items] = L_dataset_E2[\"amenities\"].apply(lambda x: 1 if items in x else 0)\n",
            "<ipython-input-98-36dc8c5ed2be>:2: PerformanceWarning: DataFrame is highly fragmented.  This is usually the result of calling `frame.insert` many times, which has poor performance.  Consider joining all columns at once using pd.concat(axis=1) instead. To get a de-fragmented frame, use `newframe = frame.copy()`\n",
            "  L_dataset_E2[items] = L_dataset_E2[\"amenities\"].apply(lambda x: 1 if items in x else 0)\n",
            "<ipython-input-98-36dc8c5ed2be>:2: PerformanceWarning: DataFrame is highly fragmented.  This is usually the result of calling `frame.insert` many times, which has poor performance.  Consider joining all columns at once using pd.concat(axis=1) instead. To get a de-fragmented frame, use `newframe = frame.copy()`\n",
            "  L_dataset_E2[items] = L_dataset_E2[\"amenities\"].apply(lambda x: 1 if items in x else 0)\n",
            "<ipython-input-98-36dc8c5ed2be>:2: PerformanceWarning: DataFrame is highly fragmented.  This is usually the result of calling `frame.insert` many times, which has poor performance.  Consider joining all columns at once using pd.concat(axis=1) instead. To get a de-fragmented frame, use `newframe = frame.copy()`\n",
            "  L_dataset_E2[items] = L_dataset_E2[\"amenities\"].apply(lambda x: 1 if items in x else 0)\n",
            "<ipython-input-98-36dc8c5ed2be>:2: PerformanceWarning: DataFrame is highly fragmented.  This is usually the result of calling `frame.insert` many times, which has poor performance.  Consider joining all columns at once using pd.concat(axis=1) instead. To get a de-fragmented frame, use `newframe = frame.copy()`\n",
            "  L_dataset_E2[items] = L_dataset_E2[\"amenities\"].apply(lambda x: 1 if items in x else 0)\n",
            "<ipython-input-98-36dc8c5ed2be>:2: PerformanceWarning: DataFrame is highly fragmented.  This is usually the result of calling `frame.insert` many times, which has poor performance.  Consider joining all columns at once using pd.concat(axis=1) instead. To get a de-fragmented frame, use `newframe = frame.copy()`\n",
            "  L_dataset_E2[items] = L_dataset_E2[\"amenities\"].apply(lambda x: 1 if items in x else 0)\n",
            "<ipython-input-98-36dc8c5ed2be>:2: PerformanceWarning: DataFrame is highly fragmented.  This is usually the result of calling `frame.insert` many times, which has poor performance.  Consider joining all columns at once using pd.concat(axis=1) instead. To get a de-fragmented frame, use `newframe = frame.copy()`\n",
            "  L_dataset_E2[items] = L_dataset_E2[\"amenities\"].apply(lambda x: 1 if items in x else 0)\n",
            "<ipython-input-98-36dc8c5ed2be>:2: PerformanceWarning: DataFrame is highly fragmented.  This is usually the result of calling `frame.insert` many times, which has poor performance.  Consider joining all columns at once using pd.concat(axis=1) instead. To get a de-fragmented frame, use `newframe = frame.copy()`\n",
            "  L_dataset_E2[items] = L_dataset_E2[\"amenities\"].apply(lambda x: 1 if items in x else 0)\n",
            "<ipython-input-98-36dc8c5ed2be>:2: PerformanceWarning: DataFrame is highly fragmented.  This is usually the result of calling `frame.insert` many times, which has poor performance.  Consider joining all columns at once using pd.concat(axis=1) instead. To get a de-fragmented frame, use `newframe = frame.copy()`\n",
            "  L_dataset_E2[items] = L_dataset_E2[\"amenities\"].apply(lambda x: 1 if items in x else 0)\n",
            "<ipython-input-98-36dc8c5ed2be>:2: PerformanceWarning: DataFrame is highly fragmented.  This is usually the result of calling `frame.insert` many times, which has poor performance.  Consider joining all columns at once using pd.concat(axis=1) instead. To get a de-fragmented frame, use `newframe = frame.copy()`\n",
            "  L_dataset_E2[items] = L_dataset_E2[\"amenities\"].apply(lambda x: 1 if items in x else 0)\n",
            "<ipython-input-98-36dc8c5ed2be>:2: PerformanceWarning: DataFrame is highly fragmented.  This is usually the result of calling `frame.insert` many times, which has poor performance.  Consider joining all columns at once using pd.concat(axis=1) instead. To get a de-fragmented frame, use `newframe = frame.copy()`\n",
            "  L_dataset_E2[items] = L_dataset_E2[\"amenities\"].apply(lambda x: 1 if items in x else 0)\n",
            "<ipython-input-98-36dc8c5ed2be>:2: PerformanceWarning: DataFrame is highly fragmented.  This is usually the result of calling `frame.insert` many times, which has poor performance.  Consider joining all columns at once using pd.concat(axis=1) instead. To get a de-fragmented frame, use `newframe = frame.copy()`\n",
            "  L_dataset_E2[items] = L_dataset_E2[\"amenities\"].apply(lambda x: 1 if items in x else 0)\n",
            "<ipython-input-98-36dc8c5ed2be>:2: PerformanceWarning: DataFrame is highly fragmented.  This is usually the result of calling `frame.insert` many times, which has poor performance.  Consider joining all columns at once using pd.concat(axis=1) instead. To get a de-fragmented frame, use `newframe = frame.copy()`\n",
            "  L_dataset_E2[items] = L_dataset_E2[\"amenities\"].apply(lambda x: 1 if items in x else 0)\n",
            "<ipython-input-98-36dc8c5ed2be>:2: PerformanceWarning: DataFrame is highly fragmented.  This is usually the result of calling `frame.insert` many times, which has poor performance.  Consider joining all columns at once using pd.concat(axis=1) instead. To get a de-fragmented frame, use `newframe = frame.copy()`\n",
            "  L_dataset_E2[items] = L_dataset_E2[\"amenities\"].apply(lambda x: 1 if items in x else 0)\n",
            "<ipython-input-98-36dc8c5ed2be>:2: PerformanceWarning: DataFrame is highly fragmented.  This is usually the result of calling `frame.insert` many times, which has poor performance.  Consider joining all columns at once using pd.concat(axis=1) instead. To get a de-fragmented frame, use `newframe = frame.copy()`\n",
            "  L_dataset_E2[items] = L_dataset_E2[\"amenities\"].apply(lambda x: 1 if items in x else 0)\n",
            "<ipython-input-98-36dc8c5ed2be>:2: PerformanceWarning: DataFrame is highly fragmented.  This is usually the result of calling `frame.insert` many times, which has poor performance.  Consider joining all columns at once using pd.concat(axis=1) instead. To get a de-fragmented frame, use `newframe = frame.copy()`\n",
            "  L_dataset_E2[items] = L_dataset_E2[\"amenities\"].apply(lambda x: 1 if items in x else 0)\n",
            "<ipython-input-98-36dc8c5ed2be>:2: PerformanceWarning: DataFrame is highly fragmented.  This is usually the result of calling `frame.insert` many times, which has poor performance.  Consider joining all columns at once using pd.concat(axis=1) instead. To get a de-fragmented frame, use `newframe = frame.copy()`\n",
            "  L_dataset_E2[items] = L_dataset_E2[\"amenities\"].apply(lambda x: 1 if items in x else 0)\n",
            "<ipython-input-98-36dc8c5ed2be>:2: PerformanceWarning: DataFrame is highly fragmented.  This is usually the result of calling `frame.insert` many times, which has poor performance.  Consider joining all columns at once using pd.concat(axis=1) instead. To get a de-fragmented frame, use `newframe = frame.copy()`\n",
            "  L_dataset_E2[items] = L_dataset_E2[\"amenities\"].apply(lambda x: 1 if items in x else 0)\n",
            "<ipython-input-98-36dc8c5ed2be>:2: PerformanceWarning: DataFrame is highly fragmented.  This is usually the result of calling `frame.insert` many times, which has poor performance.  Consider joining all columns at once using pd.concat(axis=1) instead. To get a de-fragmented frame, use `newframe = frame.copy()`\n",
            "  L_dataset_E2[items] = L_dataset_E2[\"amenities\"].apply(lambda x: 1 if items in x else 0)\n",
            "<ipython-input-98-36dc8c5ed2be>:2: PerformanceWarning: DataFrame is highly fragmented.  This is usually the result of calling `frame.insert` many times, which has poor performance.  Consider joining all columns at once using pd.concat(axis=1) instead. To get a de-fragmented frame, use `newframe = frame.copy()`\n",
            "  L_dataset_E2[items] = L_dataset_E2[\"amenities\"].apply(lambda x: 1 if items in x else 0)\n",
            "<ipython-input-98-36dc8c5ed2be>:2: PerformanceWarning: DataFrame is highly fragmented.  This is usually the result of calling `frame.insert` many times, which has poor performance.  Consider joining all columns at once using pd.concat(axis=1) instead. To get a de-fragmented frame, use `newframe = frame.copy()`\n",
            "  L_dataset_E2[items] = L_dataset_E2[\"amenities\"].apply(lambda x: 1 if items in x else 0)\n",
            "<ipython-input-98-36dc8c5ed2be>:2: PerformanceWarning: DataFrame is highly fragmented.  This is usually the result of calling `frame.insert` many times, which has poor performance.  Consider joining all columns at once using pd.concat(axis=1) instead. To get a de-fragmented frame, use `newframe = frame.copy()`\n",
            "  L_dataset_E2[items] = L_dataset_E2[\"amenities\"].apply(lambda x: 1 if items in x else 0)\n",
            "<ipython-input-98-36dc8c5ed2be>:2: PerformanceWarning: DataFrame is highly fragmented.  This is usually the result of calling `frame.insert` many times, which has poor performance.  Consider joining all columns at once using pd.concat(axis=1) instead. To get a de-fragmented frame, use `newframe = frame.copy()`\n",
            "  L_dataset_E2[items] = L_dataset_E2[\"amenities\"].apply(lambda x: 1 if items in x else 0)\n",
            "<ipython-input-98-36dc8c5ed2be>:2: PerformanceWarning: DataFrame is highly fragmented.  This is usually the result of calling `frame.insert` many times, which has poor performance.  Consider joining all columns at once using pd.concat(axis=1) instead. To get a de-fragmented frame, use `newframe = frame.copy()`\n",
            "  L_dataset_E2[items] = L_dataset_E2[\"amenities\"].apply(lambda x: 1 if items in x else 0)\n",
            "<ipython-input-98-36dc8c5ed2be>:2: PerformanceWarning: DataFrame is highly fragmented.  This is usually the result of calling `frame.insert` many times, which has poor performance.  Consider joining all columns at once using pd.concat(axis=1) instead. To get a de-fragmented frame, use `newframe = frame.copy()`\n",
            "  L_dataset_E2[items] = L_dataset_E2[\"amenities\"].apply(lambda x: 1 if items in x else 0)\n",
            "<ipython-input-98-36dc8c5ed2be>:2: PerformanceWarning: DataFrame is highly fragmented.  This is usually the result of calling `frame.insert` many times, which has poor performance.  Consider joining all columns at once using pd.concat(axis=1) instead. To get a de-fragmented frame, use `newframe = frame.copy()`\n",
            "  L_dataset_E2[items] = L_dataset_E2[\"amenities\"].apply(lambda x: 1 if items in x else 0)\n",
            "<ipython-input-98-36dc8c5ed2be>:2: PerformanceWarning: DataFrame is highly fragmented.  This is usually the result of calling `frame.insert` many times, which has poor performance.  Consider joining all columns at once using pd.concat(axis=1) instead. To get a de-fragmented frame, use `newframe = frame.copy()`\n",
            "  L_dataset_E2[items] = L_dataset_E2[\"amenities\"].apply(lambda x: 1 if items in x else 0)\n",
            "<ipython-input-98-36dc8c5ed2be>:2: PerformanceWarning: DataFrame is highly fragmented.  This is usually the result of calling `frame.insert` many times, which has poor performance.  Consider joining all columns at once using pd.concat(axis=1) instead. To get a de-fragmented frame, use `newframe = frame.copy()`\n",
            "  L_dataset_E2[items] = L_dataset_E2[\"amenities\"].apply(lambda x: 1 if items in x else 0)\n",
            "<ipython-input-98-36dc8c5ed2be>:2: PerformanceWarning: DataFrame is highly fragmented.  This is usually the result of calling `frame.insert` many times, which has poor performance.  Consider joining all columns at once using pd.concat(axis=1) instead. To get a de-fragmented frame, use `newframe = frame.copy()`\n",
            "  L_dataset_E2[items] = L_dataset_E2[\"amenities\"].apply(lambda x: 1 if items in x else 0)\n",
            "<ipython-input-98-36dc8c5ed2be>:2: PerformanceWarning: DataFrame is highly fragmented.  This is usually the result of calling `frame.insert` many times, which has poor performance.  Consider joining all columns at once using pd.concat(axis=1) instead. To get a de-fragmented frame, use `newframe = frame.copy()`\n",
            "  L_dataset_E2[items] = L_dataset_E2[\"amenities\"].apply(lambda x: 1 if items in x else 0)\n",
            "<ipython-input-98-36dc8c5ed2be>:2: PerformanceWarning: DataFrame is highly fragmented.  This is usually the result of calling `frame.insert` many times, which has poor performance.  Consider joining all columns at once using pd.concat(axis=1) instead. To get a de-fragmented frame, use `newframe = frame.copy()`\n",
            "  L_dataset_E2[items] = L_dataset_E2[\"amenities\"].apply(lambda x: 1 if items in x else 0)\n",
            "<ipython-input-98-36dc8c5ed2be>:2: PerformanceWarning: DataFrame is highly fragmented.  This is usually the result of calling `frame.insert` many times, which has poor performance.  Consider joining all columns at once using pd.concat(axis=1) instead. To get a de-fragmented frame, use `newframe = frame.copy()`\n",
            "  L_dataset_E2[items] = L_dataset_E2[\"amenities\"].apply(lambda x: 1 if items in x else 0)\n",
            "<ipython-input-98-36dc8c5ed2be>:2: PerformanceWarning: DataFrame is highly fragmented.  This is usually the result of calling `frame.insert` many times, which has poor performance.  Consider joining all columns at once using pd.concat(axis=1) instead. To get a de-fragmented frame, use `newframe = frame.copy()`\n",
            "  L_dataset_E2[items] = L_dataset_E2[\"amenities\"].apply(lambda x: 1 if items in x else 0)\n",
            "<ipython-input-98-36dc8c5ed2be>:2: PerformanceWarning: DataFrame is highly fragmented.  This is usually the result of calling `frame.insert` many times, which has poor performance.  Consider joining all columns at once using pd.concat(axis=1) instead. To get a de-fragmented frame, use `newframe = frame.copy()`\n",
            "  L_dataset_E2[items] = L_dataset_E2[\"amenities\"].apply(lambda x: 1 if items in x else 0)\n",
            "<ipython-input-98-36dc8c5ed2be>:2: PerformanceWarning: DataFrame is highly fragmented.  This is usually the result of calling `frame.insert` many times, which has poor performance.  Consider joining all columns at once using pd.concat(axis=1) instead. To get a de-fragmented frame, use `newframe = frame.copy()`\n",
            "  L_dataset_E2[items] = L_dataset_E2[\"amenities\"].apply(lambda x: 1 if items in x else 0)\n",
            "<ipython-input-98-36dc8c5ed2be>:2: PerformanceWarning: DataFrame is highly fragmented.  This is usually the result of calling `frame.insert` many times, which has poor performance.  Consider joining all columns at once using pd.concat(axis=1) instead. To get a de-fragmented frame, use `newframe = frame.copy()`\n",
            "  L_dataset_E2[items] = L_dataset_E2[\"amenities\"].apply(lambda x: 1 if items in x else 0)\n",
            "<ipython-input-98-36dc8c5ed2be>:2: PerformanceWarning: DataFrame is highly fragmented.  This is usually the result of calling `frame.insert` many times, which has poor performance.  Consider joining all columns at once using pd.concat(axis=1) instead. To get a de-fragmented frame, use `newframe = frame.copy()`\n",
            "  L_dataset_E2[items] = L_dataset_E2[\"amenities\"].apply(lambda x: 1 if items in x else 0)\n",
            "<ipython-input-98-36dc8c5ed2be>:2: PerformanceWarning: DataFrame is highly fragmented.  This is usually the result of calling `frame.insert` many times, which has poor performance.  Consider joining all columns at once using pd.concat(axis=1) instead. To get a de-fragmented frame, use `newframe = frame.copy()`\n",
            "  L_dataset_E2[items] = L_dataset_E2[\"amenities\"].apply(lambda x: 1 if items in x else 0)\n",
            "<ipython-input-98-36dc8c5ed2be>:2: PerformanceWarning: DataFrame is highly fragmented.  This is usually the result of calling `frame.insert` many times, which has poor performance.  Consider joining all columns at once using pd.concat(axis=1) instead. To get a de-fragmented frame, use `newframe = frame.copy()`\n",
            "  L_dataset_E2[items] = L_dataset_E2[\"amenities\"].apply(lambda x: 1 if items in x else 0)\n",
            "<ipython-input-98-36dc8c5ed2be>:2: PerformanceWarning: DataFrame is highly fragmented.  This is usually the result of calling `frame.insert` many times, which has poor performance.  Consider joining all columns at once using pd.concat(axis=1) instead. To get a de-fragmented frame, use `newframe = frame.copy()`\n",
            "  L_dataset_E2[items] = L_dataset_E2[\"amenities\"].apply(lambda x: 1 if items in x else 0)\n",
            "<ipython-input-98-36dc8c5ed2be>:2: PerformanceWarning: DataFrame is highly fragmented.  This is usually the result of calling `frame.insert` many times, which has poor performance.  Consider joining all columns at once using pd.concat(axis=1) instead. To get a de-fragmented frame, use `newframe = frame.copy()`\n",
            "  L_dataset_E2[items] = L_dataset_E2[\"amenities\"].apply(lambda x: 1 if items in x else 0)\n",
            "<ipython-input-98-36dc8c5ed2be>:2: PerformanceWarning: DataFrame is highly fragmented.  This is usually the result of calling `frame.insert` many times, which has poor performance.  Consider joining all columns at once using pd.concat(axis=1) instead. To get a de-fragmented frame, use `newframe = frame.copy()`\n",
            "  L_dataset_E2[items] = L_dataset_E2[\"amenities\"].apply(lambda x: 1 if items in x else 0)\n",
            "<ipython-input-98-36dc8c5ed2be>:2: PerformanceWarning: DataFrame is highly fragmented.  This is usually the result of calling `frame.insert` many times, which has poor performance.  Consider joining all columns at once using pd.concat(axis=1) instead. To get a de-fragmented frame, use `newframe = frame.copy()`\n",
            "  L_dataset_E2[items] = L_dataset_E2[\"amenities\"].apply(lambda x: 1 if items in x else 0)\n",
            "<ipython-input-98-36dc8c5ed2be>:2: PerformanceWarning: DataFrame is highly fragmented.  This is usually the result of calling `frame.insert` many times, which has poor performance.  Consider joining all columns at once using pd.concat(axis=1) instead. To get a de-fragmented frame, use `newframe = frame.copy()`\n",
            "  L_dataset_E2[items] = L_dataset_E2[\"amenities\"].apply(lambda x: 1 if items in x else 0)\n",
            "<ipython-input-98-36dc8c5ed2be>:2: PerformanceWarning: DataFrame is highly fragmented.  This is usually the result of calling `frame.insert` many times, which has poor performance.  Consider joining all columns at once using pd.concat(axis=1) instead. To get a de-fragmented frame, use `newframe = frame.copy()`\n",
            "  L_dataset_E2[items] = L_dataset_E2[\"amenities\"].apply(lambda x: 1 if items in x else 0)\n",
            "<ipython-input-98-36dc8c5ed2be>:2: PerformanceWarning: DataFrame is highly fragmented.  This is usually the result of calling `frame.insert` many times, which has poor performance.  Consider joining all columns at once using pd.concat(axis=1) instead. To get a de-fragmented frame, use `newframe = frame.copy()`\n",
            "  L_dataset_E2[items] = L_dataset_E2[\"amenities\"].apply(lambda x: 1 if items in x else 0)\n",
            "<ipython-input-98-36dc8c5ed2be>:2: PerformanceWarning: DataFrame is highly fragmented.  This is usually the result of calling `frame.insert` many times, which has poor performance.  Consider joining all columns at once using pd.concat(axis=1) instead. To get a de-fragmented frame, use `newframe = frame.copy()`\n",
            "  L_dataset_E2[items] = L_dataset_E2[\"amenities\"].apply(lambda x: 1 if items in x else 0)\n",
            "<ipython-input-98-36dc8c5ed2be>:2: PerformanceWarning: DataFrame is highly fragmented.  This is usually the result of calling `frame.insert` many times, which has poor performance.  Consider joining all columns at once using pd.concat(axis=1) instead. To get a de-fragmented frame, use `newframe = frame.copy()`\n",
            "  L_dataset_E2[items] = L_dataset_E2[\"amenities\"].apply(lambda x: 1 if items in x else 0)\n",
            "<ipython-input-98-36dc8c5ed2be>:2: PerformanceWarning: DataFrame is highly fragmented.  This is usually the result of calling `frame.insert` many times, which has poor performance.  Consider joining all columns at once using pd.concat(axis=1) instead. To get a de-fragmented frame, use `newframe = frame.copy()`\n",
            "  L_dataset_E2[items] = L_dataset_E2[\"amenities\"].apply(lambda x: 1 if items in x else 0)\n",
            "<ipython-input-98-36dc8c5ed2be>:2: PerformanceWarning: DataFrame is highly fragmented.  This is usually the result of calling `frame.insert` many times, which has poor performance.  Consider joining all columns at once using pd.concat(axis=1) instead. To get a de-fragmented frame, use `newframe = frame.copy()`\n",
            "  L_dataset_E2[items] = L_dataset_E2[\"amenities\"].apply(lambda x: 1 if items in x else 0)\n",
            "<ipython-input-98-36dc8c5ed2be>:2: PerformanceWarning: DataFrame is highly fragmented.  This is usually the result of calling `frame.insert` many times, which has poor performance.  Consider joining all columns at once using pd.concat(axis=1) instead. To get a de-fragmented frame, use `newframe = frame.copy()`\n",
            "  L_dataset_E2[items] = L_dataset_E2[\"amenities\"].apply(lambda x: 1 if items in x else 0)\n",
            "<ipython-input-98-36dc8c5ed2be>:2: PerformanceWarning: DataFrame is highly fragmented.  This is usually the result of calling `frame.insert` many times, which has poor performance.  Consider joining all columns at once using pd.concat(axis=1) instead. To get a de-fragmented frame, use `newframe = frame.copy()`\n",
            "  L_dataset_E2[items] = L_dataset_E2[\"amenities\"].apply(lambda x: 1 if items in x else 0)\n",
            "<ipython-input-98-36dc8c5ed2be>:2: PerformanceWarning: DataFrame is highly fragmented.  This is usually the result of calling `frame.insert` many times, which has poor performance.  Consider joining all columns at once using pd.concat(axis=1) instead. To get a de-fragmented frame, use `newframe = frame.copy()`\n",
            "  L_dataset_E2[items] = L_dataset_E2[\"amenities\"].apply(lambda x: 1 if items in x else 0)\n",
            "<ipython-input-98-36dc8c5ed2be>:2: PerformanceWarning: DataFrame is highly fragmented.  This is usually the result of calling `frame.insert` many times, which has poor performance.  Consider joining all columns at once using pd.concat(axis=1) instead. To get a de-fragmented frame, use `newframe = frame.copy()`\n",
            "  L_dataset_E2[items] = L_dataset_E2[\"amenities\"].apply(lambda x: 1 if items in x else 0)\n",
            "<ipython-input-98-36dc8c5ed2be>:2: PerformanceWarning: DataFrame is highly fragmented.  This is usually the result of calling `frame.insert` many times, which has poor performance.  Consider joining all columns at once using pd.concat(axis=1) instead. To get a de-fragmented frame, use `newframe = frame.copy()`\n",
            "  L_dataset_E2[items] = L_dataset_E2[\"amenities\"].apply(lambda x: 1 if items in x else 0)\n",
            "<ipython-input-98-36dc8c5ed2be>:2: PerformanceWarning: DataFrame is highly fragmented.  This is usually the result of calling `frame.insert` many times, which has poor performance.  Consider joining all columns at once using pd.concat(axis=1) instead. To get a de-fragmented frame, use `newframe = frame.copy()`\n",
            "  L_dataset_E2[items] = L_dataset_E2[\"amenities\"].apply(lambda x: 1 if items in x else 0)\n",
            "<ipython-input-98-36dc8c5ed2be>:2: PerformanceWarning: DataFrame is highly fragmented.  This is usually the result of calling `frame.insert` many times, which has poor performance.  Consider joining all columns at once using pd.concat(axis=1) instead. To get a de-fragmented frame, use `newframe = frame.copy()`\n",
            "  L_dataset_E2[items] = L_dataset_E2[\"amenities\"].apply(lambda x: 1 if items in x else 0)\n",
            "<ipython-input-98-36dc8c5ed2be>:2: PerformanceWarning: DataFrame is highly fragmented.  This is usually the result of calling `frame.insert` many times, which has poor performance.  Consider joining all columns at once using pd.concat(axis=1) instead. To get a de-fragmented frame, use `newframe = frame.copy()`\n",
            "  L_dataset_E2[items] = L_dataset_E2[\"amenities\"].apply(lambda x: 1 if items in x else 0)\n",
            "<ipython-input-98-36dc8c5ed2be>:2: PerformanceWarning: DataFrame is highly fragmented.  This is usually the result of calling `frame.insert` many times, which has poor performance.  Consider joining all columns at once using pd.concat(axis=1) instead. To get a de-fragmented frame, use `newframe = frame.copy()`\n",
            "  L_dataset_E2[items] = L_dataset_E2[\"amenities\"].apply(lambda x: 1 if items in x else 0)\n",
            "<ipython-input-98-36dc8c5ed2be>:2: PerformanceWarning: DataFrame is highly fragmented.  This is usually the result of calling `frame.insert` many times, which has poor performance.  Consider joining all columns at once using pd.concat(axis=1) instead. To get a de-fragmented frame, use `newframe = frame.copy()`\n",
            "  L_dataset_E2[items] = L_dataset_E2[\"amenities\"].apply(lambda x: 1 if items in x else 0)\n",
            "<ipython-input-98-36dc8c5ed2be>:2: PerformanceWarning: DataFrame is highly fragmented.  This is usually the result of calling `frame.insert` many times, which has poor performance.  Consider joining all columns at once using pd.concat(axis=1) instead. To get a de-fragmented frame, use `newframe = frame.copy()`\n",
            "  L_dataset_E2[items] = L_dataset_E2[\"amenities\"].apply(lambda x: 1 if items in x else 0)\n",
            "<ipython-input-98-36dc8c5ed2be>:2: PerformanceWarning: DataFrame is highly fragmented.  This is usually the result of calling `frame.insert` many times, which has poor performance.  Consider joining all columns at once using pd.concat(axis=1) instead. To get a de-fragmented frame, use `newframe = frame.copy()`\n",
            "  L_dataset_E2[items] = L_dataset_E2[\"amenities\"].apply(lambda x: 1 if items in x else 0)\n",
            "<ipython-input-98-36dc8c5ed2be>:2: PerformanceWarning: DataFrame is highly fragmented.  This is usually the result of calling `frame.insert` many times, which has poor performance.  Consider joining all columns at once using pd.concat(axis=1) instead. To get a de-fragmented frame, use `newframe = frame.copy()`\n",
            "  L_dataset_E2[items] = L_dataset_E2[\"amenities\"].apply(lambda x: 1 if items in x else 0)\n",
            "<ipython-input-98-36dc8c5ed2be>:2: PerformanceWarning: DataFrame is highly fragmented.  This is usually the result of calling `frame.insert` many times, which has poor performance.  Consider joining all columns at once using pd.concat(axis=1) instead. To get a de-fragmented frame, use `newframe = frame.copy()`\n",
            "  L_dataset_E2[items] = L_dataset_E2[\"amenities\"].apply(lambda x: 1 if items in x else 0)\n",
            "<ipython-input-98-36dc8c5ed2be>:2: PerformanceWarning: DataFrame is highly fragmented.  This is usually the result of calling `frame.insert` many times, which has poor performance.  Consider joining all columns at once using pd.concat(axis=1) instead. To get a de-fragmented frame, use `newframe = frame.copy()`\n",
            "  L_dataset_E2[items] = L_dataset_E2[\"amenities\"].apply(lambda x: 1 if items in x else 0)\n",
            "<ipython-input-98-36dc8c5ed2be>:2: PerformanceWarning: DataFrame is highly fragmented.  This is usually the result of calling `frame.insert` many times, which has poor performance.  Consider joining all columns at once using pd.concat(axis=1) instead. To get a de-fragmented frame, use `newframe = frame.copy()`\n",
            "  L_dataset_E2[items] = L_dataset_E2[\"amenities\"].apply(lambda x: 1 if items in x else 0)\n",
            "<ipython-input-98-36dc8c5ed2be>:2: PerformanceWarning: DataFrame is highly fragmented.  This is usually the result of calling `frame.insert` many times, which has poor performance.  Consider joining all columns at once using pd.concat(axis=1) instead. To get a de-fragmented frame, use `newframe = frame.copy()`\n",
            "  L_dataset_E2[items] = L_dataset_E2[\"amenities\"].apply(lambda x: 1 if items in x else 0)\n",
            "<ipython-input-98-36dc8c5ed2be>:2: PerformanceWarning: DataFrame is highly fragmented.  This is usually the result of calling `frame.insert` many times, which has poor performance.  Consider joining all columns at once using pd.concat(axis=1) instead. To get a de-fragmented frame, use `newframe = frame.copy()`\n",
            "  L_dataset_E2[items] = L_dataset_E2[\"amenities\"].apply(lambda x: 1 if items in x else 0)\n",
            "<ipython-input-98-36dc8c5ed2be>:2: PerformanceWarning: DataFrame is highly fragmented.  This is usually the result of calling `frame.insert` many times, which has poor performance.  Consider joining all columns at once using pd.concat(axis=1) instead. To get a de-fragmented frame, use `newframe = frame.copy()`\n",
            "  L_dataset_E2[items] = L_dataset_E2[\"amenities\"].apply(lambda x: 1 if items in x else 0)\n",
            "<ipython-input-98-36dc8c5ed2be>:2: PerformanceWarning: DataFrame is highly fragmented.  This is usually the result of calling `frame.insert` many times, which has poor performance.  Consider joining all columns at once using pd.concat(axis=1) instead. To get a de-fragmented frame, use `newframe = frame.copy()`\n",
            "  L_dataset_E2[items] = L_dataset_E2[\"amenities\"].apply(lambda x: 1 if items in x else 0)\n",
            "<ipython-input-98-36dc8c5ed2be>:2: PerformanceWarning: DataFrame is highly fragmented.  This is usually the result of calling `frame.insert` many times, which has poor performance.  Consider joining all columns at once using pd.concat(axis=1) instead. To get a de-fragmented frame, use `newframe = frame.copy()`\n",
            "  L_dataset_E2[items] = L_dataset_E2[\"amenities\"].apply(lambda x: 1 if items in x else 0)\n",
            "<ipython-input-98-36dc8c5ed2be>:2: PerformanceWarning: DataFrame is highly fragmented.  This is usually the result of calling `frame.insert` many times, which has poor performance.  Consider joining all columns at once using pd.concat(axis=1) instead. To get a de-fragmented frame, use `newframe = frame.copy()`\n",
            "  L_dataset_E2[items] = L_dataset_E2[\"amenities\"].apply(lambda x: 1 if items in x else 0)\n",
            "<ipython-input-98-36dc8c5ed2be>:2: PerformanceWarning: DataFrame is highly fragmented.  This is usually the result of calling `frame.insert` many times, which has poor performance.  Consider joining all columns at once using pd.concat(axis=1) instead. To get a de-fragmented frame, use `newframe = frame.copy()`\n",
            "  L_dataset_E2[items] = L_dataset_E2[\"amenities\"].apply(lambda x: 1 if items in x else 0)\n",
            "<ipython-input-98-36dc8c5ed2be>:2: PerformanceWarning: DataFrame is highly fragmented.  This is usually the result of calling `frame.insert` many times, which has poor performance.  Consider joining all columns at once using pd.concat(axis=1) instead. To get a de-fragmented frame, use `newframe = frame.copy()`\n",
            "  L_dataset_E2[items] = L_dataset_E2[\"amenities\"].apply(lambda x: 1 if items in x else 0)\n",
            "<ipython-input-98-36dc8c5ed2be>:2: PerformanceWarning: DataFrame is highly fragmented.  This is usually the result of calling `frame.insert` many times, which has poor performance.  Consider joining all columns at once using pd.concat(axis=1) instead. To get a de-fragmented frame, use `newframe = frame.copy()`\n",
            "  L_dataset_E2[items] = L_dataset_E2[\"amenities\"].apply(lambda x: 1 if items in x else 0)\n",
            "<ipython-input-98-36dc8c5ed2be>:2: PerformanceWarning: DataFrame is highly fragmented.  This is usually the result of calling `frame.insert` many times, which has poor performance.  Consider joining all columns at once using pd.concat(axis=1) instead. To get a de-fragmented frame, use `newframe = frame.copy()`\n",
            "  L_dataset_E2[items] = L_dataset_E2[\"amenities\"].apply(lambda x: 1 if items in x else 0)\n",
            "<ipython-input-98-36dc8c5ed2be>:2: PerformanceWarning: DataFrame is highly fragmented.  This is usually the result of calling `frame.insert` many times, which has poor performance.  Consider joining all columns at once using pd.concat(axis=1) instead. To get a de-fragmented frame, use `newframe = frame.copy()`\n",
            "  L_dataset_E2[items] = L_dataset_E2[\"amenities\"].apply(lambda x: 1 if items in x else 0)\n",
            "<ipython-input-98-36dc8c5ed2be>:2: PerformanceWarning: DataFrame is highly fragmented.  This is usually the result of calling `frame.insert` many times, which has poor performance.  Consider joining all columns at once using pd.concat(axis=1) instead. To get a de-fragmented frame, use `newframe = frame.copy()`\n",
            "  L_dataset_E2[items] = L_dataset_E2[\"amenities\"].apply(lambda x: 1 if items in x else 0)\n",
            "<ipython-input-98-36dc8c5ed2be>:2: PerformanceWarning: DataFrame is highly fragmented.  This is usually the result of calling `frame.insert` many times, which has poor performance.  Consider joining all columns at once using pd.concat(axis=1) instead. To get a de-fragmented frame, use `newframe = frame.copy()`\n",
            "  L_dataset_E2[items] = L_dataset_E2[\"amenities\"].apply(lambda x: 1 if items in x else 0)\n",
            "<ipython-input-98-36dc8c5ed2be>:2: PerformanceWarning: DataFrame is highly fragmented.  This is usually the result of calling `frame.insert` many times, which has poor performance.  Consider joining all columns at once using pd.concat(axis=1) instead. To get a de-fragmented frame, use `newframe = frame.copy()`\n",
            "  L_dataset_E2[items] = L_dataset_E2[\"amenities\"].apply(lambda x: 1 if items in x else 0)\n",
            "<ipython-input-98-36dc8c5ed2be>:2: PerformanceWarning: DataFrame is highly fragmented.  This is usually the result of calling `frame.insert` many times, which has poor performance.  Consider joining all columns at once using pd.concat(axis=1) instead. To get a de-fragmented frame, use `newframe = frame.copy()`\n",
            "  L_dataset_E2[items] = L_dataset_E2[\"amenities\"].apply(lambda x: 1 if items in x else 0)\n",
            "<ipython-input-98-36dc8c5ed2be>:2: PerformanceWarning: DataFrame is highly fragmented.  This is usually the result of calling `frame.insert` many times, which has poor performance.  Consider joining all columns at once using pd.concat(axis=1) instead. To get a de-fragmented frame, use `newframe = frame.copy()`\n",
            "  L_dataset_E2[items] = L_dataset_E2[\"amenities\"].apply(lambda x: 1 if items in x else 0)\n",
            "<ipython-input-98-36dc8c5ed2be>:2: PerformanceWarning: DataFrame is highly fragmented.  This is usually the result of calling `frame.insert` many times, which has poor performance.  Consider joining all columns at once using pd.concat(axis=1) instead. To get a de-fragmented frame, use `newframe = frame.copy()`\n",
            "  L_dataset_E2[items] = L_dataset_E2[\"amenities\"].apply(lambda x: 1 if items in x else 0)\n",
            "<ipython-input-98-36dc8c5ed2be>:2: PerformanceWarning: DataFrame is highly fragmented.  This is usually the result of calling `frame.insert` many times, which has poor performance.  Consider joining all columns at once using pd.concat(axis=1) instead. To get a de-fragmented frame, use `newframe = frame.copy()`\n",
            "  L_dataset_E2[items] = L_dataset_E2[\"amenities\"].apply(lambda x: 1 if items in x else 0)\n",
            "<ipython-input-98-36dc8c5ed2be>:2: PerformanceWarning: DataFrame is highly fragmented.  This is usually the result of calling `frame.insert` many times, which has poor performance.  Consider joining all columns at once using pd.concat(axis=1) instead. To get a de-fragmented frame, use `newframe = frame.copy()`\n",
            "  L_dataset_E2[items] = L_dataset_E2[\"amenities\"].apply(lambda x: 1 if items in x else 0)\n",
            "<ipython-input-98-36dc8c5ed2be>:2: PerformanceWarning: DataFrame is highly fragmented.  This is usually the result of calling `frame.insert` many times, which has poor performance.  Consider joining all columns at once using pd.concat(axis=1) instead. To get a de-fragmented frame, use `newframe = frame.copy()`\n",
            "  L_dataset_E2[items] = L_dataset_E2[\"amenities\"].apply(lambda x: 1 if items in x else 0)\n",
            "<ipython-input-98-36dc8c5ed2be>:2: PerformanceWarning: DataFrame is highly fragmented.  This is usually the result of calling `frame.insert` many times, which has poor performance.  Consider joining all columns at once using pd.concat(axis=1) instead. To get a de-fragmented frame, use `newframe = frame.copy()`\n",
            "  L_dataset_E2[items] = L_dataset_E2[\"amenities\"].apply(lambda x: 1 if items in x else 0)\n",
            "<ipython-input-98-36dc8c5ed2be>:2: PerformanceWarning: DataFrame is highly fragmented.  This is usually the result of calling `frame.insert` many times, which has poor performance.  Consider joining all columns at once using pd.concat(axis=1) instead. To get a de-fragmented frame, use `newframe = frame.copy()`\n",
            "  L_dataset_E2[items] = L_dataset_E2[\"amenities\"].apply(lambda x: 1 if items in x else 0)\n",
            "<ipython-input-98-36dc8c5ed2be>:2: PerformanceWarning: DataFrame is highly fragmented.  This is usually the result of calling `frame.insert` many times, which has poor performance.  Consider joining all columns at once using pd.concat(axis=1) instead. To get a de-fragmented frame, use `newframe = frame.copy()`\n",
            "  L_dataset_E2[items] = L_dataset_E2[\"amenities\"].apply(lambda x: 1 if items in x else 0)\n",
            "<ipython-input-98-36dc8c5ed2be>:2: PerformanceWarning: DataFrame is highly fragmented.  This is usually the result of calling `frame.insert` many times, which has poor performance.  Consider joining all columns at once using pd.concat(axis=1) instead. To get a de-fragmented frame, use `newframe = frame.copy()`\n",
            "  L_dataset_E2[items] = L_dataset_E2[\"amenities\"].apply(lambda x: 1 if items in x else 0)\n",
            "<ipython-input-98-36dc8c5ed2be>:2: PerformanceWarning: DataFrame is highly fragmented.  This is usually the result of calling `frame.insert` many times, which has poor performance.  Consider joining all columns at once using pd.concat(axis=1) instead. To get a de-fragmented frame, use `newframe = frame.copy()`\n",
            "  L_dataset_E2[items] = L_dataset_E2[\"amenities\"].apply(lambda x: 1 if items in x else 0)\n",
            "<ipython-input-98-36dc8c5ed2be>:2: PerformanceWarning: DataFrame is highly fragmented.  This is usually the result of calling `frame.insert` many times, which has poor performance.  Consider joining all columns at once using pd.concat(axis=1) instead. To get a de-fragmented frame, use `newframe = frame.copy()`\n",
            "  L_dataset_E2[items] = L_dataset_E2[\"amenities\"].apply(lambda x: 1 if items in x else 0)\n",
            "<ipython-input-98-36dc8c5ed2be>:2: PerformanceWarning: DataFrame is highly fragmented.  This is usually the result of calling `frame.insert` many times, which has poor performance.  Consider joining all columns at once using pd.concat(axis=1) instead. To get a de-fragmented frame, use `newframe = frame.copy()`\n",
            "  L_dataset_E2[items] = L_dataset_E2[\"amenities\"].apply(lambda x: 1 if items in x else 0)\n",
            "<ipython-input-98-36dc8c5ed2be>:2: PerformanceWarning: DataFrame is highly fragmented.  This is usually the result of calling `frame.insert` many times, which has poor performance.  Consider joining all columns at once using pd.concat(axis=1) instead. To get a de-fragmented frame, use `newframe = frame.copy()`\n",
            "  L_dataset_E2[items] = L_dataset_E2[\"amenities\"].apply(lambda x: 1 if items in x else 0)\n",
            "<ipython-input-98-36dc8c5ed2be>:2: PerformanceWarning: DataFrame is highly fragmented.  This is usually the result of calling `frame.insert` many times, which has poor performance.  Consider joining all columns at once using pd.concat(axis=1) instead. To get a de-fragmented frame, use `newframe = frame.copy()`\n",
            "  L_dataset_E2[items] = L_dataset_E2[\"amenities\"].apply(lambda x: 1 if items in x else 0)\n",
            "<ipython-input-98-36dc8c5ed2be>:2: PerformanceWarning: DataFrame is highly fragmented.  This is usually the result of calling `frame.insert` many times, which has poor performance.  Consider joining all columns at once using pd.concat(axis=1) instead. To get a de-fragmented frame, use `newframe = frame.copy()`\n",
            "  L_dataset_E2[items] = L_dataset_E2[\"amenities\"].apply(lambda x: 1 if items in x else 0)\n",
            "<ipython-input-98-36dc8c5ed2be>:2: PerformanceWarning: DataFrame is highly fragmented.  This is usually the result of calling `frame.insert` many times, which has poor performance.  Consider joining all columns at once using pd.concat(axis=1) instead. To get a de-fragmented frame, use `newframe = frame.copy()`\n",
            "  L_dataset_E2[items] = L_dataset_E2[\"amenities\"].apply(lambda x: 1 if items in x else 0)\n",
            "<ipython-input-98-36dc8c5ed2be>:2: PerformanceWarning: DataFrame is highly fragmented.  This is usually the result of calling `frame.insert` many times, which has poor performance.  Consider joining all columns at once using pd.concat(axis=1) instead. To get a de-fragmented frame, use `newframe = frame.copy()`\n",
            "  L_dataset_E2[items] = L_dataset_E2[\"amenities\"].apply(lambda x: 1 if items in x else 0)\n",
            "<ipython-input-98-36dc8c5ed2be>:2: PerformanceWarning: DataFrame is highly fragmented.  This is usually the result of calling `frame.insert` many times, which has poor performance.  Consider joining all columns at once using pd.concat(axis=1) instead. To get a de-fragmented frame, use `newframe = frame.copy()`\n",
            "  L_dataset_E2[items] = L_dataset_E2[\"amenities\"].apply(lambda x: 1 if items in x else 0)\n",
            "<ipython-input-98-36dc8c5ed2be>:2: PerformanceWarning: DataFrame is highly fragmented.  This is usually the result of calling `frame.insert` many times, which has poor performance.  Consider joining all columns at once using pd.concat(axis=1) instead. To get a de-fragmented frame, use `newframe = frame.copy()`\n",
            "  L_dataset_E2[items] = L_dataset_E2[\"amenities\"].apply(lambda x: 1 if items in x else 0)\n",
            "<ipython-input-98-36dc8c5ed2be>:2: PerformanceWarning: DataFrame is highly fragmented.  This is usually the result of calling `frame.insert` many times, which has poor performance.  Consider joining all columns at once using pd.concat(axis=1) instead. To get a de-fragmented frame, use `newframe = frame.copy()`\n",
            "  L_dataset_E2[items] = L_dataset_E2[\"amenities\"].apply(lambda x: 1 if items in x else 0)\n",
            "<ipython-input-98-36dc8c5ed2be>:2: PerformanceWarning: DataFrame is highly fragmented.  This is usually the result of calling `frame.insert` many times, which has poor performance.  Consider joining all columns at once using pd.concat(axis=1) instead. To get a de-fragmented frame, use `newframe = frame.copy()`\n",
            "  L_dataset_E2[items] = L_dataset_E2[\"amenities\"].apply(lambda x: 1 if items in x else 0)\n",
            "<ipython-input-98-36dc8c5ed2be>:2: PerformanceWarning: DataFrame is highly fragmented.  This is usually the result of calling `frame.insert` many times, which has poor performance.  Consider joining all columns at once using pd.concat(axis=1) instead. To get a de-fragmented frame, use `newframe = frame.copy()`\n",
            "  L_dataset_E2[items] = L_dataset_E2[\"amenities\"].apply(lambda x: 1 if items in x else 0)\n",
            "<ipython-input-98-36dc8c5ed2be>:2: PerformanceWarning: DataFrame is highly fragmented.  This is usually the result of calling `frame.insert` many times, which has poor performance.  Consider joining all columns at once using pd.concat(axis=1) instead. To get a de-fragmented frame, use `newframe = frame.copy()`\n",
            "  L_dataset_E2[items] = L_dataset_E2[\"amenities\"].apply(lambda x: 1 if items in x else 0)\n",
            "<ipython-input-98-36dc8c5ed2be>:2: PerformanceWarning: DataFrame is highly fragmented.  This is usually the result of calling `frame.insert` many times, which has poor performance.  Consider joining all columns at once using pd.concat(axis=1) instead. To get a de-fragmented frame, use `newframe = frame.copy()`\n",
            "  L_dataset_E2[items] = L_dataset_E2[\"amenities\"].apply(lambda x: 1 if items in x else 0)\n",
            "<ipython-input-98-36dc8c5ed2be>:2: PerformanceWarning: DataFrame is highly fragmented.  This is usually the result of calling `frame.insert` many times, which has poor performance.  Consider joining all columns at once using pd.concat(axis=1) instead. To get a de-fragmented frame, use `newframe = frame.copy()`\n",
            "  L_dataset_E2[items] = L_dataset_E2[\"amenities\"].apply(lambda x: 1 if items in x else 0)\n",
            "<ipython-input-98-36dc8c5ed2be>:2: PerformanceWarning: DataFrame is highly fragmented.  This is usually the result of calling `frame.insert` many times, which has poor performance.  Consider joining all columns at once using pd.concat(axis=1) instead. To get a de-fragmented frame, use `newframe = frame.copy()`\n",
            "  L_dataset_E2[items] = L_dataset_E2[\"amenities\"].apply(lambda x: 1 if items in x else 0)\n",
            "<ipython-input-98-36dc8c5ed2be>:2: PerformanceWarning: DataFrame is highly fragmented.  This is usually the result of calling `frame.insert` many times, which has poor performance.  Consider joining all columns at once using pd.concat(axis=1) instead. To get a de-fragmented frame, use `newframe = frame.copy()`\n",
            "  L_dataset_E2[items] = L_dataset_E2[\"amenities\"].apply(lambda x: 1 if items in x else 0)\n",
            "<ipython-input-98-36dc8c5ed2be>:2: PerformanceWarning: DataFrame is highly fragmented.  This is usually the result of calling `frame.insert` many times, which has poor performance.  Consider joining all columns at once using pd.concat(axis=1) instead. To get a de-fragmented frame, use `newframe = frame.copy()`\n",
            "  L_dataset_E2[items] = L_dataset_E2[\"amenities\"].apply(lambda x: 1 if items in x else 0)\n",
            "<ipython-input-98-36dc8c5ed2be>:2: PerformanceWarning: DataFrame is highly fragmented.  This is usually the result of calling `frame.insert` many times, which has poor performance.  Consider joining all columns at once using pd.concat(axis=1) instead. To get a de-fragmented frame, use `newframe = frame.copy()`\n",
            "  L_dataset_E2[items] = L_dataset_E2[\"amenities\"].apply(lambda x: 1 if items in x else 0)\n",
            "<ipython-input-98-36dc8c5ed2be>:2: PerformanceWarning: DataFrame is highly fragmented.  This is usually the result of calling `frame.insert` many times, which has poor performance.  Consider joining all columns at once using pd.concat(axis=1) instead. To get a de-fragmented frame, use `newframe = frame.copy()`\n",
            "  L_dataset_E2[items] = L_dataset_E2[\"amenities\"].apply(lambda x: 1 if items in x else 0)\n",
            "<ipython-input-98-36dc8c5ed2be>:2: PerformanceWarning: DataFrame is highly fragmented.  This is usually the result of calling `frame.insert` many times, which has poor performance.  Consider joining all columns at once using pd.concat(axis=1) instead. To get a de-fragmented frame, use `newframe = frame.copy()`\n",
            "  L_dataset_E2[items] = L_dataset_E2[\"amenities\"].apply(lambda x: 1 if items in x else 0)\n",
            "<ipython-input-98-36dc8c5ed2be>:2: PerformanceWarning: DataFrame is highly fragmented.  This is usually the result of calling `frame.insert` many times, which has poor performance.  Consider joining all columns at once using pd.concat(axis=1) instead. To get a de-fragmented frame, use `newframe = frame.copy()`\n",
            "  L_dataset_E2[items] = L_dataset_E2[\"amenities\"].apply(lambda x: 1 if items in x else 0)\n",
            "<ipython-input-98-36dc8c5ed2be>:2: PerformanceWarning: DataFrame is highly fragmented.  This is usually the result of calling `frame.insert` many times, which has poor performance.  Consider joining all columns at once using pd.concat(axis=1) instead. To get a de-fragmented frame, use `newframe = frame.copy()`\n",
            "  L_dataset_E2[items] = L_dataset_E2[\"amenities\"].apply(lambda x: 1 if items in x else 0)\n",
            "<ipython-input-98-36dc8c5ed2be>:2: PerformanceWarning: DataFrame is highly fragmented.  This is usually the result of calling `frame.insert` many times, which has poor performance.  Consider joining all columns at once using pd.concat(axis=1) instead. To get a de-fragmented frame, use `newframe = frame.copy()`\n",
            "  L_dataset_E2[items] = L_dataset_E2[\"amenities\"].apply(lambda x: 1 if items in x else 0)\n",
            "<ipython-input-98-36dc8c5ed2be>:2: PerformanceWarning: DataFrame is highly fragmented.  This is usually the result of calling `frame.insert` many times, which has poor performance.  Consider joining all columns at once using pd.concat(axis=1) instead. To get a de-fragmented frame, use `newframe = frame.copy()`\n",
            "  L_dataset_E2[items] = L_dataset_E2[\"amenities\"].apply(lambda x: 1 if items in x else 0)\n",
            "<ipython-input-98-36dc8c5ed2be>:2: PerformanceWarning: DataFrame is highly fragmented.  This is usually the result of calling `frame.insert` many times, which has poor performance.  Consider joining all columns at once using pd.concat(axis=1) instead. To get a de-fragmented frame, use `newframe = frame.copy()`\n",
            "  L_dataset_E2[items] = L_dataset_E2[\"amenities\"].apply(lambda x: 1 if items in x else 0)\n",
            "<ipython-input-98-36dc8c5ed2be>:2: PerformanceWarning: DataFrame is highly fragmented.  This is usually the result of calling `frame.insert` many times, which has poor performance.  Consider joining all columns at once using pd.concat(axis=1) instead. To get a de-fragmented frame, use `newframe = frame.copy()`\n",
            "  L_dataset_E2[items] = L_dataset_E2[\"amenities\"].apply(lambda x: 1 if items in x else 0)\n",
            "<ipython-input-98-36dc8c5ed2be>:2: PerformanceWarning: DataFrame is highly fragmented.  This is usually the result of calling `frame.insert` many times, which has poor performance.  Consider joining all columns at once using pd.concat(axis=1) instead. To get a de-fragmented frame, use `newframe = frame.copy()`\n",
            "  L_dataset_E2[items] = L_dataset_E2[\"amenities\"].apply(lambda x: 1 if items in x else 0)\n",
            "<ipython-input-98-36dc8c5ed2be>:2: PerformanceWarning: DataFrame is highly fragmented.  This is usually the result of calling `frame.insert` many times, which has poor performance.  Consider joining all columns at once using pd.concat(axis=1) instead. To get a de-fragmented frame, use `newframe = frame.copy()`\n",
            "  L_dataset_E2[items] = L_dataset_E2[\"amenities\"].apply(lambda x: 1 if items in x else 0)\n",
            "<ipython-input-98-36dc8c5ed2be>:2: PerformanceWarning: DataFrame is highly fragmented.  This is usually the result of calling `frame.insert` many times, which has poor performance.  Consider joining all columns at once using pd.concat(axis=1) instead. To get a de-fragmented frame, use `newframe = frame.copy()`\n",
            "  L_dataset_E2[items] = L_dataset_E2[\"amenities\"].apply(lambda x: 1 if items in x else 0)\n",
            "<ipython-input-98-36dc8c5ed2be>:2: PerformanceWarning: DataFrame is highly fragmented.  This is usually the result of calling `frame.insert` many times, which has poor performance.  Consider joining all columns at once using pd.concat(axis=1) instead. To get a de-fragmented frame, use `newframe = frame.copy()`\n",
            "  L_dataset_E2[items] = L_dataset_E2[\"amenities\"].apply(lambda x: 1 if items in x else 0)\n",
            "<ipython-input-98-36dc8c5ed2be>:2: PerformanceWarning: DataFrame is highly fragmented.  This is usually the result of calling `frame.insert` many times, which has poor performance.  Consider joining all columns at once using pd.concat(axis=1) instead. To get a de-fragmented frame, use `newframe = frame.copy()`\n",
            "  L_dataset_E2[items] = L_dataset_E2[\"amenities\"].apply(lambda x: 1 if items in x else 0)\n",
            "<ipython-input-98-36dc8c5ed2be>:2: PerformanceWarning: DataFrame is highly fragmented.  This is usually the result of calling `frame.insert` many times, which has poor performance.  Consider joining all columns at once using pd.concat(axis=1) instead. To get a de-fragmented frame, use `newframe = frame.copy()`\n",
            "  L_dataset_E2[items] = L_dataset_E2[\"amenities\"].apply(lambda x: 1 if items in x else 0)\n",
            "<ipython-input-98-36dc8c5ed2be>:2: PerformanceWarning: DataFrame is highly fragmented.  This is usually the result of calling `frame.insert` many times, which has poor performance.  Consider joining all columns at once using pd.concat(axis=1) instead. To get a de-fragmented frame, use `newframe = frame.copy()`\n",
            "  L_dataset_E2[items] = L_dataset_E2[\"amenities\"].apply(lambda x: 1 if items in x else 0)\n",
            "<ipython-input-98-36dc8c5ed2be>:2: PerformanceWarning: DataFrame is highly fragmented.  This is usually the result of calling `frame.insert` many times, which has poor performance.  Consider joining all columns at once using pd.concat(axis=1) instead. To get a de-fragmented frame, use `newframe = frame.copy()`\n",
            "  L_dataset_E2[items] = L_dataset_E2[\"amenities\"].apply(lambda x: 1 if items in x else 0)\n",
            "<ipython-input-98-36dc8c5ed2be>:2: PerformanceWarning: DataFrame is highly fragmented.  This is usually the result of calling `frame.insert` many times, which has poor performance.  Consider joining all columns at once using pd.concat(axis=1) instead. To get a de-fragmented frame, use `newframe = frame.copy()`\n",
            "  L_dataset_E2[items] = L_dataset_E2[\"amenities\"].apply(lambda x: 1 if items in x else 0)\n",
            "<ipython-input-98-36dc8c5ed2be>:2: PerformanceWarning: DataFrame is highly fragmented.  This is usually the result of calling `frame.insert` many times, which has poor performance.  Consider joining all columns at once using pd.concat(axis=1) instead. To get a de-fragmented frame, use `newframe = frame.copy()`\n",
            "  L_dataset_E2[items] = L_dataset_E2[\"amenities\"].apply(lambda x: 1 if items in x else 0)\n",
            "<ipython-input-98-36dc8c5ed2be>:2: PerformanceWarning: DataFrame is highly fragmented.  This is usually the result of calling `frame.insert` many times, which has poor performance.  Consider joining all columns at once using pd.concat(axis=1) instead. To get a de-fragmented frame, use `newframe = frame.copy()`\n",
            "  L_dataset_E2[items] = L_dataset_E2[\"amenities\"].apply(lambda x: 1 if items in x else 0)\n",
            "<ipython-input-98-36dc8c5ed2be>:2: PerformanceWarning: DataFrame is highly fragmented.  This is usually the result of calling `frame.insert` many times, which has poor performance.  Consider joining all columns at once using pd.concat(axis=1) instead. To get a de-fragmented frame, use `newframe = frame.copy()`\n",
            "  L_dataset_E2[items] = L_dataset_E2[\"amenities\"].apply(lambda x: 1 if items in x else 0)\n",
            "<ipython-input-98-36dc8c5ed2be>:2: PerformanceWarning: DataFrame is highly fragmented.  This is usually the result of calling `frame.insert` many times, which has poor performance.  Consider joining all columns at once using pd.concat(axis=1) instead. To get a de-fragmented frame, use `newframe = frame.copy()`\n",
            "  L_dataset_E2[items] = L_dataset_E2[\"amenities\"].apply(lambda x: 1 if items in x else 0)\n",
            "<ipython-input-98-36dc8c5ed2be>:2: PerformanceWarning: DataFrame is highly fragmented.  This is usually the result of calling `frame.insert` many times, which has poor performance.  Consider joining all columns at once using pd.concat(axis=1) instead. To get a de-fragmented frame, use `newframe = frame.copy()`\n",
            "  L_dataset_E2[items] = L_dataset_E2[\"amenities\"].apply(lambda x: 1 if items in x else 0)\n",
            "<ipython-input-98-36dc8c5ed2be>:2: PerformanceWarning: DataFrame is highly fragmented.  This is usually the result of calling `frame.insert` many times, which has poor performance.  Consider joining all columns at once using pd.concat(axis=1) instead. To get a de-fragmented frame, use `newframe = frame.copy()`\n",
            "  L_dataset_E2[items] = L_dataset_E2[\"amenities\"].apply(lambda x: 1 if items in x else 0)\n",
            "<ipython-input-98-36dc8c5ed2be>:2: PerformanceWarning: DataFrame is highly fragmented.  This is usually the result of calling `frame.insert` many times, which has poor performance.  Consider joining all columns at once using pd.concat(axis=1) instead. To get a de-fragmented frame, use `newframe = frame.copy()`\n",
            "  L_dataset_E2[items] = L_dataset_E2[\"amenities\"].apply(lambda x: 1 if items in x else 0)\n",
            "<ipython-input-98-36dc8c5ed2be>:2: PerformanceWarning: DataFrame is highly fragmented.  This is usually the result of calling `frame.insert` many times, which has poor performance.  Consider joining all columns at once using pd.concat(axis=1) instead. To get a de-fragmented frame, use `newframe = frame.copy()`\n",
            "  L_dataset_E2[items] = L_dataset_E2[\"amenities\"].apply(lambda x: 1 if items in x else 0)\n",
            "<ipython-input-98-36dc8c5ed2be>:2: PerformanceWarning: DataFrame is highly fragmented.  This is usually the result of calling `frame.insert` many times, which has poor performance.  Consider joining all columns at once using pd.concat(axis=1) instead. To get a de-fragmented frame, use `newframe = frame.copy()`\n",
            "  L_dataset_E2[items] = L_dataset_E2[\"amenities\"].apply(lambda x: 1 if items in x else 0)\n",
            "<ipython-input-98-36dc8c5ed2be>:2: PerformanceWarning: DataFrame is highly fragmented.  This is usually the result of calling `frame.insert` many times, which has poor performance.  Consider joining all columns at once using pd.concat(axis=1) instead. To get a de-fragmented frame, use `newframe = frame.copy()`\n",
            "  L_dataset_E2[items] = L_dataset_E2[\"amenities\"].apply(lambda x: 1 if items in x else 0)\n",
            "<ipython-input-98-36dc8c5ed2be>:2: PerformanceWarning: DataFrame is highly fragmented.  This is usually the result of calling `frame.insert` many times, which has poor performance.  Consider joining all columns at once using pd.concat(axis=1) instead. To get a de-fragmented frame, use `newframe = frame.copy()`\n",
            "  L_dataset_E2[items] = L_dataset_E2[\"amenities\"].apply(lambda x: 1 if items in x else 0)\n",
            "<ipython-input-98-36dc8c5ed2be>:2: PerformanceWarning: DataFrame is highly fragmented.  This is usually the result of calling `frame.insert` many times, which has poor performance.  Consider joining all columns at once using pd.concat(axis=1) instead. To get a de-fragmented frame, use `newframe = frame.copy()`\n",
            "  L_dataset_E2[items] = L_dataset_E2[\"amenities\"].apply(lambda x: 1 if items in x else 0)\n",
            "<ipython-input-98-36dc8c5ed2be>:2: PerformanceWarning: DataFrame is highly fragmented.  This is usually the result of calling `frame.insert` many times, which has poor performance.  Consider joining all columns at once using pd.concat(axis=1) instead. To get a de-fragmented frame, use `newframe = frame.copy()`\n",
            "  L_dataset_E2[items] = L_dataset_E2[\"amenities\"].apply(lambda x: 1 if items in x else 0)\n",
            "<ipython-input-98-36dc8c5ed2be>:2: PerformanceWarning: DataFrame is highly fragmented.  This is usually the result of calling `frame.insert` many times, which has poor performance.  Consider joining all columns at once using pd.concat(axis=1) instead. To get a de-fragmented frame, use `newframe = frame.copy()`\n",
            "  L_dataset_E2[items] = L_dataset_E2[\"amenities\"].apply(lambda x: 1 if items in x else 0)\n",
            "<ipython-input-98-36dc8c5ed2be>:2: PerformanceWarning: DataFrame is highly fragmented.  This is usually the result of calling `frame.insert` many times, which has poor performance.  Consider joining all columns at once using pd.concat(axis=1) instead. To get a de-fragmented frame, use `newframe = frame.copy()`\n",
            "  L_dataset_E2[items] = L_dataset_E2[\"amenities\"].apply(lambda x: 1 if items in x else 0)\n",
            "<ipython-input-98-36dc8c5ed2be>:2: PerformanceWarning: DataFrame is highly fragmented.  This is usually the result of calling `frame.insert` many times, which has poor performance.  Consider joining all columns at once using pd.concat(axis=1) instead. To get a de-fragmented frame, use `newframe = frame.copy()`\n",
            "  L_dataset_E2[items] = L_dataset_E2[\"amenities\"].apply(lambda x: 1 if items in x else 0)\n",
            "<ipython-input-98-36dc8c5ed2be>:2: PerformanceWarning: DataFrame is highly fragmented.  This is usually the result of calling `frame.insert` many times, which has poor performance.  Consider joining all columns at once using pd.concat(axis=1) instead. To get a de-fragmented frame, use `newframe = frame.copy()`\n",
            "  L_dataset_E2[items] = L_dataset_E2[\"amenities\"].apply(lambda x: 1 if items in x else 0)\n",
            "<ipython-input-98-36dc8c5ed2be>:2: PerformanceWarning: DataFrame is highly fragmented.  This is usually the result of calling `frame.insert` many times, which has poor performance.  Consider joining all columns at once using pd.concat(axis=1) instead. To get a de-fragmented frame, use `newframe = frame.copy()`\n",
            "  L_dataset_E2[items] = L_dataset_E2[\"amenities\"].apply(lambda x: 1 if items in x else 0)\n",
            "<ipython-input-98-36dc8c5ed2be>:2: PerformanceWarning: DataFrame is highly fragmented.  This is usually the result of calling `frame.insert` many times, which has poor performance.  Consider joining all columns at once using pd.concat(axis=1) instead. To get a de-fragmented frame, use `newframe = frame.copy()`\n",
            "  L_dataset_E2[items] = L_dataset_E2[\"amenities\"].apply(lambda x: 1 if items in x else 0)\n",
            "<ipython-input-98-36dc8c5ed2be>:2: PerformanceWarning: DataFrame is highly fragmented.  This is usually the result of calling `frame.insert` many times, which has poor performance.  Consider joining all columns at once using pd.concat(axis=1) instead. To get a de-fragmented frame, use `newframe = frame.copy()`\n",
            "  L_dataset_E2[items] = L_dataset_E2[\"amenities\"].apply(lambda x: 1 if items in x else 0)\n",
            "<ipython-input-98-36dc8c5ed2be>:2: PerformanceWarning: DataFrame is highly fragmented.  This is usually the result of calling `frame.insert` many times, which has poor performance.  Consider joining all columns at once using pd.concat(axis=1) instead. To get a de-fragmented frame, use `newframe = frame.copy()`\n",
            "  L_dataset_E2[items] = L_dataset_E2[\"amenities\"].apply(lambda x: 1 if items in x else 0)\n",
            "<ipython-input-98-36dc8c5ed2be>:2: PerformanceWarning: DataFrame is highly fragmented.  This is usually the result of calling `frame.insert` many times, which has poor performance.  Consider joining all columns at once using pd.concat(axis=1) instead. To get a de-fragmented frame, use `newframe = frame.copy()`\n",
            "  L_dataset_E2[items] = L_dataset_E2[\"amenities\"].apply(lambda x: 1 if items in x else 0)\n",
            "<ipython-input-98-36dc8c5ed2be>:2: PerformanceWarning: DataFrame is highly fragmented.  This is usually the result of calling `frame.insert` many times, which has poor performance.  Consider joining all columns at once using pd.concat(axis=1) instead. To get a de-fragmented frame, use `newframe = frame.copy()`\n",
            "  L_dataset_E2[items] = L_dataset_E2[\"amenities\"].apply(lambda x: 1 if items in x else 0)\n",
            "<ipython-input-98-36dc8c5ed2be>:2: PerformanceWarning: DataFrame is highly fragmented.  This is usually the result of calling `frame.insert` many times, which has poor performance.  Consider joining all columns at once using pd.concat(axis=1) instead. To get a de-fragmented frame, use `newframe = frame.copy()`\n",
            "  L_dataset_E2[items] = L_dataset_E2[\"amenities\"].apply(lambda x: 1 if items in x else 0)\n",
            "<ipython-input-98-36dc8c5ed2be>:2: PerformanceWarning: DataFrame is highly fragmented.  This is usually the result of calling `frame.insert` many times, which has poor performance.  Consider joining all columns at once using pd.concat(axis=1) instead. To get a de-fragmented frame, use `newframe = frame.copy()`\n",
            "  L_dataset_E2[items] = L_dataset_E2[\"amenities\"].apply(lambda x: 1 if items in x else 0)\n",
            "<ipython-input-98-36dc8c5ed2be>:2: PerformanceWarning: DataFrame is highly fragmented.  This is usually the result of calling `frame.insert` many times, which has poor performance.  Consider joining all columns at once using pd.concat(axis=1) instead. To get a de-fragmented frame, use `newframe = frame.copy()`\n",
            "  L_dataset_E2[items] = L_dataset_E2[\"amenities\"].apply(lambda x: 1 if items in x else 0)\n",
            "<ipython-input-98-36dc8c5ed2be>:2: PerformanceWarning: DataFrame is highly fragmented.  This is usually the result of calling `frame.insert` many times, which has poor performance.  Consider joining all columns at once using pd.concat(axis=1) instead. To get a de-fragmented frame, use `newframe = frame.copy()`\n",
            "  L_dataset_E2[items] = L_dataset_E2[\"amenities\"].apply(lambda x: 1 if items in x else 0)\n",
            "<ipython-input-98-36dc8c5ed2be>:2: PerformanceWarning: DataFrame is highly fragmented.  This is usually the result of calling `frame.insert` many times, which has poor performance.  Consider joining all columns at once using pd.concat(axis=1) instead. To get a de-fragmented frame, use `newframe = frame.copy()`\n",
            "  L_dataset_E2[items] = L_dataset_E2[\"amenities\"].apply(lambda x: 1 if items in x else 0)\n",
            "<ipython-input-98-36dc8c5ed2be>:2: PerformanceWarning: DataFrame is highly fragmented.  This is usually the result of calling `frame.insert` many times, which has poor performance.  Consider joining all columns at once using pd.concat(axis=1) instead. To get a de-fragmented frame, use `newframe = frame.copy()`\n",
            "  L_dataset_E2[items] = L_dataset_E2[\"amenities\"].apply(lambda x: 1 if items in x else 0)\n",
            "<ipython-input-98-36dc8c5ed2be>:2: PerformanceWarning: DataFrame is highly fragmented.  This is usually the result of calling `frame.insert` many times, which has poor performance.  Consider joining all columns at once using pd.concat(axis=1) instead. To get a de-fragmented frame, use `newframe = frame.copy()`\n",
            "  L_dataset_E2[items] = L_dataset_E2[\"amenities\"].apply(lambda x: 1 if items in x else 0)\n",
            "<ipython-input-98-36dc8c5ed2be>:2: PerformanceWarning: DataFrame is highly fragmented.  This is usually the result of calling `frame.insert` many times, which has poor performance.  Consider joining all columns at once using pd.concat(axis=1) instead. To get a de-fragmented frame, use `newframe = frame.copy()`\n",
            "  L_dataset_E2[items] = L_dataset_E2[\"amenities\"].apply(lambda x: 1 if items in x else 0)\n",
            "<ipython-input-98-36dc8c5ed2be>:2: PerformanceWarning: DataFrame is highly fragmented.  This is usually the result of calling `frame.insert` many times, which has poor performance.  Consider joining all columns at once using pd.concat(axis=1) instead. To get a de-fragmented frame, use `newframe = frame.copy()`\n",
            "  L_dataset_E2[items] = L_dataset_E2[\"amenities\"].apply(lambda x: 1 if items in x else 0)\n",
            "<ipython-input-98-36dc8c5ed2be>:2: PerformanceWarning: DataFrame is highly fragmented.  This is usually the result of calling `frame.insert` many times, which has poor performance.  Consider joining all columns at once using pd.concat(axis=1) instead. To get a de-fragmented frame, use `newframe = frame.copy()`\n",
            "  L_dataset_E2[items] = L_dataset_E2[\"amenities\"].apply(lambda x: 1 if items in x else 0)\n",
            "<ipython-input-98-36dc8c5ed2be>:2: PerformanceWarning: DataFrame is highly fragmented.  This is usually the result of calling `frame.insert` many times, which has poor performance.  Consider joining all columns at once using pd.concat(axis=1) instead. To get a de-fragmented frame, use `newframe = frame.copy()`\n",
            "  L_dataset_E2[items] = L_dataset_E2[\"amenities\"].apply(lambda x: 1 if items in x else 0)\n",
            "<ipython-input-98-36dc8c5ed2be>:2: PerformanceWarning: DataFrame is highly fragmented.  This is usually the result of calling `frame.insert` many times, which has poor performance.  Consider joining all columns at once using pd.concat(axis=1) instead. To get a de-fragmented frame, use `newframe = frame.copy()`\n",
            "  L_dataset_E2[items] = L_dataset_E2[\"amenities\"].apply(lambda x: 1 if items in x else 0)\n",
            "<ipython-input-98-36dc8c5ed2be>:2: PerformanceWarning: DataFrame is highly fragmented.  This is usually the result of calling `frame.insert` many times, which has poor performance.  Consider joining all columns at once using pd.concat(axis=1) instead. To get a de-fragmented frame, use `newframe = frame.copy()`\n",
            "  L_dataset_E2[items] = L_dataset_E2[\"amenities\"].apply(lambda x: 1 if items in x else 0)\n",
            "<ipython-input-98-36dc8c5ed2be>:2: PerformanceWarning: DataFrame is highly fragmented.  This is usually the result of calling `frame.insert` many times, which has poor performance.  Consider joining all columns at once using pd.concat(axis=1) instead. To get a de-fragmented frame, use `newframe = frame.copy()`\n",
            "  L_dataset_E2[items] = L_dataset_E2[\"amenities\"].apply(lambda x: 1 if items in x else 0)\n",
            "<ipython-input-98-36dc8c5ed2be>:2: PerformanceWarning: DataFrame is highly fragmented.  This is usually the result of calling `frame.insert` many times, which has poor performance.  Consider joining all columns at once using pd.concat(axis=1) instead. To get a de-fragmented frame, use `newframe = frame.copy()`\n",
            "  L_dataset_E2[items] = L_dataset_E2[\"amenities\"].apply(lambda x: 1 if items in x else 0)\n",
            "<ipython-input-98-36dc8c5ed2be>:2: PerformanceWarning: DataFrame is highly fragmented.  This is usually the result of calling `frame.insert` many times, which has poor performance.  Consider joining all columns at once using pd.concat(axis=1) instead. To get a de-fragmented frame, use `newframe = frame.copy()`\n",
            "  L_dataset_E2[items] = L_dataset_E2[\"amenities\"].apply(lambda x: 1 if items in x else 0)\n",
            "<ipython-input-98-36dc8c5ed2be>:2: PerformanceWarning: DataFrame is highly fragmented.  This is usually the result of calling `frame.insert` many times, which has poor performance.  Consider joining all columns at once using pd.concat(axis=1) instead. To get a de-fragmented frame, use `newframe = frame.copy()`\n",
            "  L_dataset_E2[items] = L_dataset_E2[\"amenities\"].apply(lambda x: 1 if items in x else 0)\n",
            "<ipython-input-98-36dc8c5ed2be>:2: PerformanceWarning: DataFrame is highly fragmented.  This is usually the result of calling `frame.insert` many times, which has poor performance.  Consider joining all columns at once using pd.concat(axis=1) instead. To get a de-fragmented frame, use `newframe = frame.copy()`\n",
            "  L_dataset_E2[items] = L_dataset_E2[\"amenities\"].apply(lambda x: 1 if items in x else 0)\n",
            "<ipython-input-98-36dc8c5ed2be>:2: PerformanceWarning: DataFrame is highly fragmented.  This is usually the result of calling `frame.insert` many times, which has poor performance.  Consider joining all columns at once using pd.concat(axis=1) instead. To get a de-fragmented frame, use `newframe = frame.copy()`\n",
            "  L_dataset_E2[items] = L_dataset_E2[\"amenities\"].apply(lambda x: 1 if items in x else 0)\n",
            "<ipython-input-98-36dc8c5ed2be>:2: PerformanceWarning: DataFrame is highly fragmented.  This is usually the result of calling `frame.insert` many times, which has poor performance.  Consider joining all columns at once using pd.concat(axis=1) instead. To get a de-fragmented frame, use `newframe = frame.copy()`\n",
            "  L_dataset_E2[items] = L_dataset_E2[\"amenities\"].apply(lambda x: 1 if items in x else 0)\n",
            "<ipython-input-98-36dc8c5ed2be>:2: PerformanceWarning: DataFrame is highly fragmented.  This is usually the result of calling `frame.insert` many times, which has poor performance.  Consider joining all columns at once using pd.concat(axis=1) instead. To get a de-fragmented frame, use `newframe = frame.copy()`\n",
            "  L_dataset_E2[items] = L_dataset_E2[\"amenities\"].apply(lambda x: 1 if items in x else 0)\n",
            "<ipython-input-98-36dc8c5ed2be>:2: PerformanceWarning: DataFrame is highly fragmented.  This is usually the result of calling `frame.insert` many times, which has poor performance.  Consider joining all columns at once using pd.concat(axis=1) instead. To get a de-fragmented frame, use `newframe = frame.copy()`\n",
            "  L_dataset_E2[items] = L_dataset_E2[\"amenities\"].apply(lambda x: 1 if items in x else 0)\n",
            "<ipython-input-98-36dc8c5ed2be>:2: PerformanceWarning: DataFrame is highly fragmented.  This is usually the result of calling `frame.insert` many times, which has poor performance.  Consider joining all columns at once using pd.concat(axis=1) instead. To get a de-fragmented frame, use `newframe = frame.copy()`\n",
            "  L_dataset_E2[items] = L_dataset_E2[\"amenities\"].apply(lambda x: 1 if items in x else 0)\n",
            "<ipython-input-98-36dc8c5ed2be>:2: PerformanceWarning: DataFrame is highly fragmented.  This is usually the result of calling `frame.insert` many times, which has poor performance.  Consider joining all columns at once using pd.concat(axis=1) instead. To get a de-fragmented frame, use `newframe = frame.copy()`\n",
            "  L_dataset_E2[items] = L_dataset_E2[\"amenities\"].apply(lambda x: 1 if items in x else 0)\n",
            "<ipython-input-98-36dc8c5ed2be>:2: PerformanceWarning: DataFrame is highly fragmented.  This is usually the result of calling `frame.insert` many times, which has poor performance.  Consider joining all columns at once using pd.concat(axis=1) instead. To get a de-fragmented frame, use `newframe = frame.copy()`\n",
            "  L_dataset_E2[items] = L_dataset_E2[\"amenities\"].apply(lambda x: 1 if items in x else 0)\n",
            "<ipython-input-98-36dc8c5ed2be>:2: PerformanceWarning: DataFrame is highly fragmented.  This is usually the result of calling `frame.insert` many times, which has poor performance.  Consider joining all columns at once using pd.concat(axis=1) instead. To get a de-fragmented frame, use `newframe = frame.copy()`\n",
            "  L_dataset_E2[items] = L_dataset_E2[\"amenities\"].apply(lambda x: 1 if items in x else 0)\n",
            "<ipython-input-98-36dc8c5ed2be>:2: PerformanceWarning: DataFrame is highly fragmented.  This is usually the result of calling `frame.insert` many times, which has poor performance.  Consider joining all columns at once using pd.concat(axis=1) instead. To get a de-fragmented frame, use `newframe = frame.copy()`\n",
            "  L_dataset_E2[items] = L_dataset_E2[\"amenities\"].apply(lambda x: 1 if items in x else 0)\n",
            "<ipython-input-98-36dc8c5ed2be>:2: PerformanceWarning: DataFrame is highly fragmented.  This is usually the result of calling `frame.insert` many times, which has poor performance.  Consider joining all columns at once using pd.concat(axis=1) instead. To get a de-fragmented frame, use `newframe = frame.copy()`\n",
            "  L_dataset_E2[items] = L_dataset_E2[\"amenities\"].apply(lambda x: 1 if items in x else 0)\n",
            "<ipython-input-98-36dc8c5ed2be>:2: PerformanceWarning: DataFrame is highly fragmented.  This is usually the result of calling `frame.insert` many times, which has poor performance.  Consider joining all columns at once using pd.concat(axis=1) instead. To get a de-fragmented frame, use `newframe = frame.copy()`\n",
            "  L_dataset_E2[items] = L_dataset_E2[\"amenities\"].apply(lambda x: 1 if items in x else 0)\n",
            "<ipython-input-98-36dc8c5ed2be>:2: PerformanceWarning: DataFrame is highly fragmented.  This is usually the result of calling `frame.insert` many times, which has poor performance.  Consider joining all columns at once using pd.concat(axis=1) instead. To get a de-fragmented frame, use `newframe = frame.copy()`\n",
            "  L_dataset_E2[items] = L_dataset_E2[\"amenities\"].apply(lambda x: 1 if items in x else 0)\n",
            "<ipython-input-98-36dc8c5ed2be>:2: PerformanceWarning: DataFrame is highly fragmented.  This is usually the result of calling `frame.insert` many times, which has poor performance.  Consider joining all columns at once using pd.concat(axis=1) instead. To get a de-fragmented frame, use `newframe = frame.copy()`\n",
            "  L_dataset_E2[items] = L_dataset_E2[\"amenities\"].apply(lambda x: 1 if items in x else 0)\n",
            "<ipython-input-98-36dc8c5ed2be>:2: PerformanceWarning: DataFrame is highly fragmented.  This is usually the result of calling `frame.insert` many times, which has poor performance.  Consider joining all columns at once using pd.concat(axis=1) instead. To get a de-fragmented frame, use `newframe = frame.copy()`\n",
            "  L_dataset_E2[items] = L_dataset_E2[\"amenities\"].apply(lambda x: 1 if items in x else 0)\n",
            "<ipython-input-98-36dc8c5ed2be>:2: PerformanceWarning: DataFrame is highly fragmented.  This is usually the result of calling `frame.insert` many times, which has poor performance.  Consider joining all columns at once using pd.concat(axis=1) instead. To get a de-fragmented frame, use `newframe = frame.copy()`\n",
            "  L_dataset_E2[items] = L_dataset_E2[\"amenities\"].apply(lambda x: 1 if items in x else 0)\n",
            "<ipython-input-98-36dc8c5ed2be>:2: PerformanceWarning: DataFrame is highly fragmented.  This is usually the result of calling `frame.insert` many times, which has poor performance.  Consider joining all columns at once using pd.concat(axis=1) instead. To get a de-fragmented frame, use `newframe = frame.copy()`\n",
            "  L_dataset_E2[items] = L_dataset_E2[\"amenities\"].apply(lambda x: 1 if items in x else 0)\n",
            "<ipython-input-98-36dc8c5ed2be>:2: PerformanceWarning: DataFrame is highly fragmented.  This is usually the result of calling `frame.insert` many times, which has poor performance.  Consider joining all columns at once using pd.concat(axis=1) instead. To get a de-fragmented frame, use `newframe = frame.copy()`\n",
            "  L_dataset_E2[items] = L_dataset_E2[\"amenities\"].apply(lambda x: 1 if items in x else 0)\n",
            "<ipython-input-98-36dc8c5ed2be>:2: PerformanceWarning: DataFrame is highly fragmented.  This is usually the result of calling `frame.insert` many times, which has poor performance.  Consider joining all columns at once using pd.concat(axis=1) instead. To get a de-fragmented frame, use `newframe = frame.copy()`\n",
            "  L_dataset_E2[items] = L_dataset_E2[\"amenities\"].apply(lambda x: 1 if items in x else 0)\n",
            "<ipython-input-98-36dc8c5ed2be>:2: PerformanceWarning: DataFrame is highly fragmented.  This is usually the result of calling `frame.insert` many times, which has poor performance.  Consider joining all columns at once using pd.concat(axis=1) instead. To get a de-fragmented frame, use `newframe = frame.copy()`\n",
            "  L_dataset_E2[items] = L_dataset_E2[\"amenities\"].apply(lambda x: 1 if items in x else 0)\n",
            "<ipython-input-98-36dc8c5ed2be>:2: PerformanceWarning: DataFrame is highly fragmented.  This is usually the result of calling `frame.insert` many times, which has poor performance.  Consider joining all columns at once using pd.concat(axis=1) instead. To get a de-fragmented frame, use `newframe = frame.copy()`\n",
            "  L_dataset_E2[items] = L_dataset_E2[\"amenities\"].apply(lambda x: 1 if items in x else 0)\n",
            "<ipython-input-98-36dc8c5ed2be>:2: PerformanceWarning: DataFrame is highly fragmented.  This is usually the result of calling `frame.insert` many times, which has poor performance.  Consider joining all columns at once using pd.concat(axis=1) instead. To get a de-fragmented frame, use `newframe = frame.copy()`\n",
            "  L_dataset_E2[items] = L_dataset_E2[\"amenities\"].apply(lambda x: 1 if items in x else 0)\n",
            "<ipython-input-98-36dc8c5ed2be>:2: PerformanceWarning: DataFrame is highly fragmented.  This is usually the result of calling `frame.insert` many times, which has poor performance.  Consider joining all columns at once using pd.concat(axis=1) instead. To get a de-fragmented frame, use `newframe = frame.copy()`\n",
            "  L_dataset_E2[items] = L_dataset_E2[\"amenities\"].apply(lambda x: 1 if items in x else 0)\n",
            "<ipython-input-98-36dc8c5ed2be>:2: PerformanceWarning: DataFrame is highly fragmented.  This is usually the result of calling `frame.insert` many times, which has poor performance.  Consider joining all columns at once using pd.concat(axis=1) instead. To get a de-fragmented frame, use `newframe = frame.copy()`\n",
            "  L_dataset_E2[items] = L_dataset_E2[\"amenities\"].apply(lambda x: 1 if items in x else 0)\n",
            "<ipython-input-98-36dc8c5ed2be>:2: PerformanceWarning: DataFrame is highly fragmented.  This is usually the result of calling `frame.insert` many times, which has poor performance.  Consider joining all columns at once using pd.concat(axis=1) instead. To get a de-fragmented frame, use `newframe = frame.copy()`\n",
            "  L_dataset_E2[items] = L_dataset_E2[\"amenities\"].apply(lambda x: 1 if items in x else 0)\n",
            "<ipython-input-98-36dc8c5ed2be>:2: PerformanceWarning: DataFrame is highly fragmented.  This is usually the result of calling `frame.insert` many times, which has poor performance.  Consider joining all columns at once using pd.concat(axis=1) instead. To get a de-fragmented frame, use `newframe = frame.copy()`\n",
            "  L_dataset_E2[items] = L_dataset_E2[\"amenities\"].apply(lambda x: 1 if items in x else 0)\n",
            "<ipython-input-98-36dc8c5ed2be>:2: PerformanceWarning: DataFrame is highly fragmented.  This is usually the result of calling `frame.insert` many times, which has poor performance.  Consider joining all columns at once using pd.concat(axis=1) instead. To get a de-fragmented frame, use `newframe = frame.copy()`\n",
            "  L_dataset_E2[items] = L_dataset_E2[\"amenities\"].apply(lambda x: 1 if items in x else 0)\n",
            "<ipython-input-98-36dc8c5ed2be>:2: PerformanceWarning: DataFrame is highly fragmented.  This is usually the result of calling `frame.insert` many times, which has poor performance.  Consider joining all columns at once using pd.concat(axis=1) instead. To get a de-fragmented frame, use `newframe = frame.copy()`\n",
            "  L_dataset_E2[items] = L_dataset_E2[\"amenities\"].apply(lambda x: 1 if items in x else 0)\n",
            "<ipython-input-98-36dc8c5ed2be>:2: PerformanceWarning: DataFrame is highly fragmented.  This is usually the result of calling `frame.insert` many times, which has poor performance.  Consider joining all columns at once using pd.concat(axis=1) instead. To get a de-fragmented frame, use `newframe = frame.copy()`\n",
            "  L_dataset_E2[items] = L_dataset_E2[\"amenities\"].apply(lambda x: 1 if items in x else 0)\n",
            "<ipython-input-98-36dc8c5ed2be>:2: PerformanceWarning: DataFrame is highly fragmented.  This is usually the result of calling `frame.insert` many times, which has poor performance.  Consider joining all columns at once using pd.concat(axis=1) instead. To get a de-fragmented frame, use `newframe = frame.copy()`\n",
            "  L_dataset_E2[items] = L_dataset_E2[\"amenities\"].apply(lambda x: 1 if items in x else 0)\n",
            "<ipython-input-98-36dc8c5ed2be>:2: PerformanceWarning: DataFrame is highly fragmented.  This is usually the result of calling `frame.insert` many times, which has poor performance.  Consider joining all columns at once using pd.concat(axis=1) instead. To get a de-fragmented frame, use `newframe = frame.copy()`\n",
            "  L_dataset_E2[items] = L_dataset_E2[\"amenities\"].apply(lambda x: 1 if items in x else 0)\n",
            "<ipython-input-98-36dc8c5ed2be>:2: PerformanceWarning: DataFrame is highly fragmented.  This is usually the result of calling `frame.insert` many times, which has poor performance.  Consider joining all columns at once using pd.concat(axis=1) instead. To get a de-fragmented frame, use `newframe = frame.copy()`\n",
            "  L_dataset_E2[items] = L_dataset_E2[\"amenities\"].apply(lambda x: 1 if items in x else 0)\n",
            "<ipython-input-98-36dc8c5ed2be>:2: PerformanceWarning: DataFrame is highly fragmented.  This is usually the result of calling `frame.insert` many times, which has poor performance.  Consider joining all columns at once using pd.concat(axis=1) instead. To get a de-fragmented frame, use `newframe = frame.copy()`\n",
            "  L_dataset_E2[items] = L_dataset_E2[\"amenities\"].apply(lambda x: 1 if items in x else 0)\n",
            "<ipython-input-98-36dc8c5ed2be>:2: PerformanceWarning: DataFrame is highly fragmented.  This is usually the result of calling `frame.insert` many times, which has poor performance.  Consider joining all columns at once using pd.concat(axis=1) instead. To get a de-fragmented frame, use `newframe = frame.copy()`\n",
            "  L_dataset_E2[items] = L_dataset_E2[\"amenities\"].apply(lambda x: 1 if items in x else 0)\n",
            "<ipython-input-98-36dc8c5ed2be>:2: PerformanceWarning: DataFrame is highly fragmented.  This is usually the result of calling `frame.insert` many times, which has poor performance.  Consider joining all columns at once using pd.concat(axis=1) instead. To get a de-fragmented frame, use `newframe = frame.copy()`\n",
            "  L_dataset_E2[items] = L_dataset_E2[\"amenities\"].apply(lambda x: 1 if items in x else 0)\n",
            "<ipython-input-98-36dc8c5ed2be>:2: PerformanceWarning: DataFrame is highly fragmented.  This is usually the result of calling `frame.insert` many times, which has poor performance.  Consider joining all columns at once using pd.concat(axis=1) instead. To get a de-fragmented frame, use `newframe = frame.copy()`\n",
            "  L_dataset_E2[items] = L_dataset_E2[\"amenities\"].apply(lambda x: 1 if items in x else 0)\n",
            "<ipython-input-98-36dc8c5ed2be>:2: PerformanceWarning: DataFrame is highly fragmented.  This is usually the result of calling `frame.insert` many times, which has poor performance.  Consider joining all columns at once using pd.concat(axis=1) instead. To get a de-fragmented frame, use `newframe = frame.copy()`\n",
            "  L_dataset_E2[items] = L_dataset_E2[\"amenities\"].apply(lambda x: 1 if items in x else 0)\n",
            "<ipython-input-98-36dc8c5ed2be>:2: PerformanceWarning: DataFrame is highly fragmented.  This is usually the result of calling `frame.insert` many times, which has poor performance.  Consider joining all columns at once using pd.concat(axis=1) instead. To get a de-fragmented frame, use `newframe = frame.copy()`\n",
            "  L_dataset_E2[items] = L_dataset_E2[\"amenities\"].apply(lambda x: 1 if items in x else 0)\n",
            "<ipython-input-98-36dc8c5ed2be>:2: PerformanceWarning: DataFrame is highly fragmented.  This is usually the result of calling `frame.insert` many times, which has poor performance.  Consider joining all columns at once using pd.concat(axis=1) instead. To get a de-fragmented frame, use `newframe = frame.copy()`\n",
            "  L_dataset_E2[items] = L_dataset_E2[\"amenities\"].apply(lambda x: 1 if items in x else 0)\n",
            "<ipython-input-98-36dc8c5ed2be>:2: PerformanceWarning: DataFrame is highly fragmented.  This is usually the result of calling `frame.insert` many times, which has poor performance.  Consider joining all columns at once using pd.concat(axis=1) instead. To get a de-fragmented frame, use `newframe = frame.copy()`\n",
            "  L_dataset_E2[items] = L_dataset_E2[\"amenities\"].apply(lambda x: 1 if items in x else 0)\n",
            "<ipython-input-98-36dc8c5ed2be>:2: PerformanceWarning: DataFrame is highly fragmented.  This is usually the result of calling `frame.insert` many times, which has poor performance.  Consider joining all columns at once using pd.concat(axis=1) instead. To get a de-fragmented frame, use `newframe = frame.copy()`\n",
            "  L_dataset_E2[items] = L_dataset_E2[\"amenities\"].apply(lambda x: 1 if items in x else 0)\n",
            "<ipython-input-98-36dc8c5ed2be>:2: PerformanceWarning: DataFrame is highly fragmented.  This is usually the result of calling `frame.insert` many times, which has poor performance.  Consider joining all columns at once using pd.concat(axis=1) instead. To get a de-fragmented frame, use `newframe = frame.copy()`\n",
            "  L_dataset_E2[items] = L_dataset_E2[\"amenities\"].apply(lambda x: 1 if items in x else 0)\n",
            "<ipython-input-98-36dc8c5ed2be>:2: PerformanceWarning: DataFrame is highly fragmented.  This is usually the result of calling `frame.insert` many times, which has poor performance.  Consider joining all columns at once using pd.concat(axis=1) instead. To get a de-fragmented frame, use `newframe = frame.copy()`\n",
            "  L_dataset_E2[items] = L_dataset_E2[\"amenities\"].apply(lambda x: 1 if items in x else 0)\n",
            "<ipython-input-98-36dc8c5ed2be>:2: PerformanceWarning: DataFrame is highly fragmented.  This is usually the result of calling `frame.insert` many times, which has poor performance.  Consider joining all columns at once using pd.concat(axis=1) instead. To get a de-fragmented frame, use `newframe = frame.copy()`\n",
            "  L_dataset_E2[items] = L_dataset_E2[\"amenities\"].apply(lambda x: 1 if items in x else 0)\n",
            "<ipython-input-98-36dc8c5ed2be>:2: PerformanceWarning: DataFrame is highly fragmented.  This is usually the result of calling `frame.insert` many times, which has poor performance.  Consider joining all columns at once using pd.concat(axis=1) instead. To get a de-fragmented frame, use `newframe = frame.copy()`\n",
            "  L_dataset_E2[items] = L_dataset_E2[\"amenities\"].apply(lambda x: 1 if items in x else 0)\n",
            "<ipython-input-98-36dc8c5ed2be>:2: PerformanceWarning: DataFrame is highly fragmented.  This is usually the result of calling `frame.insert` many times, which has poor performance.  Consider joining all columns at once using pd.concat(axis=1) instead. To get a de-fragmented frame, use `newframe = frame.copy()`\n",
            "  L_dataset_E2[items] = L_dataset_E2[\"amenities\"].apply(lambda x: 1 if items in x else 0)\n",
            "<ipython-input-98-36dc8c5ed2be>:2: PerformanceWarning: DataFrame is highly fragmented.  This is usually the result of calling `frame.insert` many times, which has poor performance.  Consider joining all columns at once using pd.concat(axis=1) instead. To get a de-fragmented frame, use `newframe = frame.copy()`\n",
            "  L_dataset_E2[items] = L_dataset_E2[\"amenities\"].apply(lambda x: 1 if items in x else 0)\n",
            "<ipython-input-98-36dc8c5ed2be>:2: PerformanceWarning: DataFrame is highly fragmented.  This is usually the result of calling `frame.insert` many times, which has poor performance.  Consider joining all columns at once using pd.concat(axis=1) instead. To get a de-fragmented frame, use `newframe = frame.copy()`\n",
            "  L_dataset_E2[items] = L_dataset_E2[\"amenities\"].apply(lambda x: 1 if items in x else 0)\n",
            "<ipython-input-98-36dc8c5ed2be>:2: PerformanceWarning: DataFrame is highly fragmented.  This is usually the result of calling `frame.insert` many times, which has poor performance.  Consider joining all columns at once using pd.concat(axis=1) instead. To get a de-fragmented frame, use `newframe = frame.copy()`\n",
            "  L_dataset_E2[items] = L_dataset_E2[\"amenities\"].apply(lambda x: 1 if items in x else 0)\n",
            "<ipython-input-98-36dc8c5ed2be>:2: PerformanceWarning: DataFrame is highly fragmented.  This is usually the result of calling `frame.insert` many times, which has poor performance.  Consider joining all columns at once using pd.concat(axis=1) instead. To get a de-fragmented frame, use `newframe = frame.copy()`\n",
            "  L_dataset_E2[items] = L_dataset_E2[\"amenities\"].apply(lambda x: 1 if items in x else 0)\n",
            "<ipython-input-98-36dc8c5ed2be>:2: PerformanceWarning: DataFrame is highly fragmented.  This is usually the result of calling `frame.insert` many times, which has poor performance.  Consider joining all columns at once using pd.concat(axis=1) instead. To get a de-fragmented frame, use `newframe = frame.copy()`\n",
            "  L_dataset_E2[items] = L_dataset_E2[\"amenities\"].apply(lambda x: 1 if items in x else 0)\n",
            "<ipython-input-98-36dc8c5ed2be>:2: PerformanceWarning: DataFrame is highly fragmented.  This is usually the result of calling `frame.insert` many times, which has poor performance.  Consider joining all columns at once using pd.concat(axis=1) instead. To get a de-fragmented frame, use `newframe = frame.copy()`\n",
            "  L_dataset_E2[items] = L_dataset_E2[\"amenities\"].apply(lambda x: 1 if items in x else 0)\n",
            "<ipython-input-98-36dc8c5ed2be>:2: PerformanceWarning: DataFrame is highly fragmented.  This is usually the result of calling `frame.insert` many times, which has poor performance.  Consider joining all columns at once using pd.concat(axis=1) instead. To get a de-fragmented frame, use `newframe = frame.copy()`\n",
            "  L_dataset_E2[items] = L_dataset_E2[\"amenities\"].apply(lambda x: 1 if items in x else 0)\n",
            "<ipython-input-98-36dc8c5ed2be>:2: PerformanceWarning: DataFrame is highly fragmented.  This is usually the result of calling `frame.insert` many times, which has poor performance.  Consider joining all columns at once using pd.concat(axis=1) instead. To get a de-fragmented frame, use `newframe = frame.copy()`\n",
            "  L_dataset_E2[items] = L_dataset_E2[\"amenities\"].apply(lambda x: 1 if items in x else 0)\n",
            "<ipython-input-98-36dc8c5ed2be>:2: PerformanceWarning: DataFrame is highly fragmented.  This is usually the result of calling `frame.insert` many times, which has poor performance.  Consider joining all columns at once using pd.concat(axis=1) instead. To get a de-fragmented frame, use `newframe = frame.copy()`\n",
            "  L_dataset_E2[items] = L_dataset_E2[\"amenities\"].apply(lambda x: 1 if items in x else 0)\n",
            "<ipython-input-98-36dc8c5ed2be>:2: PerformanceWarning: DataFrame is highly fragmented.  This is usually the result of calling `frame.insert` many times, which has poor performance.  Consider joining all columns at once using pd.concat(axis=1) instead. To get a de-fragmented frame, use `newframe = frame.copy()`\n",
            "  L_dataset_E2[items] = L_dataset_E2[\"amenities\"].apply(lambda x: 1 if items in x else 0)\n",
            "<ipython-input-98-36dc8c5ed2be>:2: PerformanceWarning: DataFrame is highly fragmented.  This is usually the result of calling `frame.insert` many times, which has poor performance.  Consider joining all columns at once using pd.concat(axis=1) instead. To get a de-fragmented frame, use `newframe = frame.copy()`\n",
            "  L_dataset_E2[items] = L_dataset_E2[\"amenities\"].apply(lambda x: 1 if items in x else 0)\n",
            "<ipython-input-98-36dc8c5ed2be>:2: PerformanceWarning: DataFrame is highly fragmented.  This is usually the result of calling `frame.insert` many times, which has poor performance.  Consider joining all columns at once using pd.concat(axis=1) instead. To get a de-fragmented frame, use `newframe = frame.copy()`\n",
            "  L_dataset_E2[items] = L_dataset_E2[\"amenities\"].apply(lambda x: 1 if items in x else 0)\n",
            "<ipython-input-98-36dc8c5ed2be>:2: PerformanceWarning: DataFrame is highly fragmented.  This is usually the result of calling `frame.insert` many times, which has poor performance.  Consider joining all columns at once using pd.concat(axis=1) instead. To get a de-fragmented frame, use `newframe = frame.copy()`\n",
            "  L_dataset_E2[items] = L_dataset_E2[\"amenities\"].apply(lambda x: 1 if items in x else 0)\n",
            "<ipython-input-98-36dc8c5ed2be>:2: PerformanceWarning: DataFrame is highly fragmented.  This is usually the result of calling `frame.insert` many times, which has poor performance.  Consider joining all columns at once using pd.concat(axis=1) instead. To get a de-fragmented frame, use `newframe = frame.copy()`\n",
            "  L_dataset_E2[items] = L_dataset_E2[\"amenities\"].apply(lambda x: 1 if items in x else 0)\n",
            "<ipython-input-98-36dc8c5ed2be>:2: PerformanceWarning: DataFrame is highly fragmented.  This is usually the result of calling `frame.insert` many times, which has poor performance.  Consider joining all columns at once using pd.concat(axis=1) instead. To get a de-fragmented frame, use `newframe = frame.copy()`\n",
            "  L_dataset_E2[items] = L_dataset_E2[\"amenities\"].apply(lambda x: 1 if items in x else 0)\n",
            "<ipython-input-98-36dc8c5ed2be>:2: PerformanceWarning: DataFrame is highly fragmented.  This is usually the result of calling `frame.insert` many times, which has poor performance.  Consider joining all columns at once using pd.concat(axis=1) instead. To get a de-fragmented frame, use `newframe = frame.copy()`\n",
            "  L_dataset_E2[items] = L_dataset_E2[\"amenities\"].apply(lambda x: 1 if items in x else 0)\n",
            "<ipython-input-98-36dc8c5ed2be>:2: PerformanceWarning: DataFrame is highly fragmented.  This is usually the result of calling `frame.insert` many times, which has poor performance.  Consider joining all columns at once using pd.concat(axis=1) instead. To get a de-fragmented frame, use `newframe = frame.copy()`\n",
            "  L_dataset_E2[items] = L_dataset_E2[\"amenities\"].apply(lambda x: 1 if items in x else 0)\n",
            "<ipython-input-98-36dc8c5ed2be>:2: PerformanceWarning: DataFrame is highly fragmented.  This is usually the result of calling `frame.insert` many times, which has poor performance.  Consider joining all columns at once using pd.concat(axis=1) instead. To get a de-fragmented frame, use `newframe = frame.copy()`\n",
            "  L_dataset_E2[items] = L_dataset_E2[\"amenities\"].apply(lambda x: 1 if items in x else 0)\n",
            "<ipython-input-98-36dc8c5ed2be>:2: PerformanceWarning: DataFrame is highly fragmented.  This is usually the result of calling `frame.insert` many times, which has poor performance.  Consider joining all columns at once using pd.concat(axis=1) instead. To get a de-fragmented frame, use `newframe = frame.copy()`\n",
            "  L_dataset_E2[items] = L_dataset_E2[\"amenities\"].apply(lambda x: 1 if items in x else 0)\n",
            "<ipython-input-98-36dc8c5ed2be>:2: PerformanceWarning: DataFrame is highly fragmented.  This is usually the result of calling `frame.insert` many times, which has poor performance.  Consider joining all columns at once using pd.concat(axis=1) instead. To get a de-fragmented frame, use `newframe = frame.copy()`\n",
            "  L_dataset_E2[items] = L_dataset_E2[\"amenities\"].apply(lambda x: 1 if items in x else 0)\n",
            "<ipython-input-98-36dc8c5ed2be>:2: PerformanceWarning: DataFrame is highly fragmented.  This is usually the result of calling `frame.insert` many times, which has poor performance.  Consider joining all columns at once using pd.concat(axis=1) instead. To get a de-fragmented frame, use `newframe = frame.copy()`\n",
            "  L_dataset_E2[items] = L_dataset_E2[\"amenities\"].apply(lambda x: 1 if items in x else 0)\n",
            "<ipython-input-98-36dc8c5ed2be>:2: PerformanceWarning: DataFrame is highly fragmented.  This is usually the result of calling `frame.insert` many times, which has poor performance.  Consider joining all columns at once using pd.concat(axis=1) instead. To get a de-fragmented frame, use `newframe = frame.copy()`\n",
            "  L_dataset_E2[items] = L_dataset_E2[\"amenities\"].apply(lambda x: 1 if items in x else 0)\n",
            "<ipython-input-98-36dc8c5ed2be>:2: PerformanceWarning: DataFrame is highly fragmented.  This is usually the result of calling `frame.insert` many times, which has poor performance.  Consider joining all columns at once using pd.concat(axis=1) instead. To get a de-fragmented frame, use `newframe = frame.copy()`\n",
            "  L_dataset_E2[items] = L_dataset_E2[\"amenities\"].apply(lambda x: 1 if items in x else 0)\n",
            "<ipython-input-98-36dc8c5ed2be>:2: PerformanceWarning: DataFrame is highly fragmented.  This is usually the result of calling `frame.insert` many times, which has poor performance.  Consider joining all columns at once using pd.concat(axis=1) instead. To get a de-fragmented frame, use `newframe = frame.copy()`\n",
            "  L_dataset_E2[items] = L_dataset_E2[\"amenities\"].apply(lambda x: 1 if items in x else 0)\n",
            "<ipython-input-98-36dc8c5ed2be>:2: PerformanceWarning: DataFrame is highly fragmented.  This is usually the result of calling `frame.insert` many times, which has poor performance.  Consider joining all columns at once using pd.concat(axis=1) instead. To get a de-fragmented frame, use `newframe = frame.copy()`\n",
            "  L_dataset_E2[items] = L_dataset_E2[\"amenities\"].apply(lambda x: 1 if items in x else 0)\n",
            "<ipython-input-98-36dc8c5ed2be>:2: PerformanceWarning: DataFrame is highly fragmented.  This is usually the result of calling `frame.insert` many times, which has poor performance.  Consider joining all columns at once using pd.concat(axis=1) instead. To get a de-fragmented frame, use `newframe = frame.copy()`\n",
            "  L_dataset_E2[items] = L_dataset_E2[\"amenities\"].apply(lambda x: 1 if items in x else 0)\n",
            "<ipython-input-98-36dc8c5ed2be>:2: PerformanceWarning: DataFrame is highly fragmented.  This is usually the result of calling `frame.insert` many times, which has poor performance.  Consider joining all columns at once using pd.concat(axis=1) instead. To get a de-fragmented frame, use `newframe = frame.copy()`\n",
            "  L_dataset_E2[items] = L_dataset_E2[\"amenities\"].apply(lambda x: 1 if items in x else 0)\n",
            "<ipython-input-98-36dc8c5ed2be>:2: PerformanceWarning: DataFrame is highly fragmented.  This is usually the result of calling `frame.insert` many times, which has poor performance.  Consider joining all columns at once using pd.concat(axis=1) instead. To get a de-fragmented frame, use `newframe = frame.copy()`\n",
            "  L_dataset_E2[items] = L_dataset_E2[\"amenities\"].apply(lambda x: 1 if items in x else 0)\n",
            "<ipython-input-98-36dc8c5ed2be>:2: PerformanceWarning: DataFrame is highly fragmented.  This is usually the result of calling `frame.insert` many times, which has poor performance.  Consider joining all columns at once using pd.concat(axis=1) instead. To get a de-fragmented frame, use `newframe = frame.copy()`\n",
            "  L_dataset_E2[items] = L_dataset_E2[\"amenities\"].apply(lambda x: 1 if items in x else 0)\n",
            "<ipython-input-98-36dc8c5ed2be>:2: PerformanceWarning: DataFrame is highly fragmented.  This is usually the result of calling `frame.insert` many times, which has poor performance.  Consider joining all columns at once using pd.concat(axis=1) instead. To get a de-fragmented frame, use `newframe = frame.copy()`\n",
            "  L_dataset_E2[items] = L_dataset_E2[\"amenities\"].apply(lambda x: 1 if items in x else 0)\n",
            "<ipython-input-98-36dc8c5ed2be>:2: PerformanceWarning: DataFrame is highly fragmented.  This is usually the result of calling `frame.insert` many times, which has poor performance.  Consider joining all columns at once using pd.concat(axis=1) instead. To get a de-fragmented frame, use `newframe = frame.copy()`\n",
            "  L_dataset_E2[items] = L_dataset_E2[\"amenities\"].apply(lambda x: 1 if items in x else 0)\n",
            "<ipython-input-98-36dc8c5ed2be>:2: PerformanceWarning: DataFrame is highly fragmented.  This is usually the result of calling `frame.insert` many times, which has poor performance.  Consider joining all columns at once using pd.concat(axis=1) instead. To get a de-fragmented frame, use `newframe = frame.copy()`\n",
            "  L_dataset_E2[items] = L_dataset_E2[\"amenities\"].apply(lambda x: 1 if items in x else 0)\n",
            "<ipython-input-98-36dc8c5ed2be>:2: PerformanceWarning: DataFrame is highly fragmented.  This is usually the result of calling `frame.insert` many times, which has poor performance.  Consider joining all columns at once using pd.concat(axis=1) instead. To get a de-fragmented frame, use `newframe = frame.copy()`\n",
            "  L_dataset_E2[items] = L_dataset_E2[\"amenities\"].apply(lambda x: 1 if items in x else 0)\n",
            "<ipython-input-98-36dc8c5ed2be>:2: PerformanceWarning: DataFrame is highly fragmented.  This is usually the result of calling `frame.insert` many times, which has poor performance.  Consider joining all columns at once using pd.concat(axis=1) instead. To get a de-fragmented frame, use `newframe = frame.copy()`\n",
            "  L_dataset_E2[items] = L_dataset_E2[\"amenities\"].apply(lambda x: 1 if items in x else 0)\n",
            "<ipython-input-98-36dc8c5ed2be>:2: PerformanceWarning: DataFrame is highly fragmented.  This is usually the result of calling `frame.insert` many times, which has poor performance.  Consider joining all columns at once using pd.concat(axis=1) instead. To get a de-fragmented frame, use `newframe = frame.copy()`\n",
            "  L_dataset_E2[items] = L_dataset_E2[\"amenities\"].apply(lambda x: 1 if items in x else 0)\n",
            "<ipython-input-98-36dc8c5ed2be>:2: PerformanceWarning: DataFrame is highly fragmented.  This is usually the result of calling `frame.insert` many times, which has poor performance.  Consider joining all columns at once using pd.concat(axis=1) instead. To get a de-fragmented frame, use `newframe = frame.copy()`\n",
            "  L_dataset_E2[items] = L_dataset_E2[\"amenities\"].apply(lambda x: 1 if items in x else 0)\n",
            "<ipython-input-98-36dc8c5ed2be>:2: PerformanceWarning: DataFrame is highly fragmented.  This is usually the result of calling `frame.insert` many times, which has poor performance.  Consider joining all columns at once using pd.concat(axis=1) instead. To get a de-fragmented frame, use `newframe = frame.copy()`\n",
            "  L_dataset_E2[items] = L_dataset_E2[\"amenities\"].apply(lambda x: 1 if items in x else 0)\n"
          ]
        }
      ],
      "source": [
        "for items in amenities_list:\n",
        "    L_dataset_E2[items] = L_dataset_E2[\"amenities\"].apply(lambda x: 1 if items in x else 0)"
      ]
    },
    {
      "cell_type": "code",
      "execution_count": 99,
      "metadata": {
        "id": "ahKDDgBuCbZO",
        "colab": {
          "base_uri": "https://localhost:8080/"
        },
        "outputId": "157ee1d0-0f9b-4a5a-a61b-6a98656a3d69"
      },
      "outputs": [
        {
          "output_type": "execute_result",
          "data": {
            "text/plain": [
              "559"
            ]
          },
          "metadata": {},
          "execution_count": 99
        }
      ],
      "source": [
        "len(L_dataset_E2.columns)"
      ]
    },
    {
      "cell_type": "code",
      "execution_count": 100,
      "metadata": {
        "id": "K1cwTznGCY7V"
      },
      "outputs": [],
      "source": [
        "L_dataset_E2.drop(columns=\"amenities\",inplace=True)"
      ]
    },
    {
      "cell_type": "code",
      "execution_count": 101,
      "metadata": {
        "id": "x7xoRz1glpjC"
      },
      "outputs": [],
      "source": [
        "if 'city' in  L_dataset_E2.columns:\n",
        "  L_dataset_E2 = L_dataset_E2.drop('city', axis=1)"
      ]
    },
    {
      "cell_type": "code",
      "execution_count": 102,
      "metadata": {
        "colab": {
          "base_uri": "https://localhost:8080/"
        },
        "id": "AJLK4V0rC1xt",
        "outputId": "f884bccf-e961-4552-e1a8-a10a91443a3b"
      },
      "outputs": [
        {
          "output_type": "stream",
          "name": "stdout",
          "text": [
            "31942\n",
            "listing_id                                       int64\n",
            "host_since                                       int64\n",
            "host_is_superhost                                int64\n",
            "host_total_listings_count                      float64\n",
            "latitude                                       float64\n",
            "                                                ...   \n",
            " LOru00e9al conditioner                          int64\n",
            " seb oven                                        int64\n",
            " Extra pillows and blankets                      int64\n",
            " Dining area for 4 people                        int64\n",
            " Paid parking lot on premises u2013 1 space      int64\n",
            "Length: 557, dtype: object\n"
          ]
        }
      ],
      "source": [
        "print(len(L_dataset_E2))\n",
        "print(L_dataset_E2.dtypes)"
      ]
    },
    {
      "cell_type": "markdown",
      "metadata": {
        "id": "LRtIDHWGDLWC"
      },
      "source": [
        "Finally we got dataset with 561 feature and 31942 columns and one target which is the profit"
      ]
    },
    {
      "cell_type": "code",
      "execution_count": 103,
      "metadata": {
        "id": "D9BYs44HMIz2"
      },
      "outputs": [],
      "source": [
        "# removing nights_reserved column but we should keep price columns\n",
        "if 'nights_reserved' in  L_dataset_E2.columns:\n",
        "  L_dataset_E2 = L_dataset_E2.drop('nights_reserved', axis=1)"
      ]
    },
    {
      "cell_type": "code",
      "source": [
        "L_dataset_E3 = L_dataset_E2.copy()"
      ],
      "metadata": {
        "id": "Z_VQcpwgikET"
      },
      "execution_count": 244,
      "outputs": []
    },
    {
      "cell_type": "code",
      "source": [
        "#L_dataset_E3 = L_dataset_E3.drop('price', axis=1)"
      ],
      "metadata": {
        "id": "CaL9B3Igm7WL"
      },
      "execution_count": 245,
      "outputs": []
    },
    {
      "cell_type": "code",
      "source": [
        "L_dataset_E3 = L_dataset_E3[L_dataset_E3['profit']!=0]\n",
        "L_dataset_E3 = L_dataset_E3[L_dataset_E3['profit']<=40000]\n",
        "L_dataset_E3 = L_dataset_E3[L_dataset_E3['profit']>=10000]"
      ],
      "metadata": {
        "id": "TQN9IcOVitmS"
      },
      "execution_count": 246,
      "outputs": []
    },
    {
      "cell_type": "code",
      "source": [
        "print(len(L_dataset_E3))"
      ],
      "metadata": {
        "colab": {
          "base_uri": "https://localhost:8080/"
        },
        "id": "HBzK1du6lUVq",
        "outputId": "ae864f8f-76d4-419e-82e9-ce8605776269"
      },
      "execution_count": 247,
      "outputs": [
        {
          "output_type": "stream",
          "name": "stdout",
          "text": [
            "18377\n"
          ]
        }
      ]
    },
    {
      "cell_type": "markdown",
      "metadata": {
        "id": "F-afx9odYfvM"
      },
      "source": [
        "# Modeling"
      ]
    },
    {
      "cell_type": "markdown",
      "metadata": {
        "id": "3_rVIOfRYuC-"
      },
      "source": [
        "plitting a dataset into training and testing sets using the train_test_split function from the scikit-learn library."
      ]
    },
    {
      "cell_type": "code",
      "source": [
        "imputer = SimpleImputer(strategy='mean')\n",
        "imputer.fit(L_dataset_E3)\n",
        "L_dataset_E3 = imputed_data = imputer.transform(L_dataset_E3)\n",
        "L_dataset_E3 = pd.DataFrame(L_dataset_E3, columns = L_dataset_E2.columns)"
      ],
      "metadata": {
        "id": "NDxwUxqiG4wr"
      },
      "execution_count": 248,
      "outputs": []
    },
    {
      "cell_type": "code",
      "source": [
        "L_dataset_E3.head(1)"
      ],
      "metadata": {
        "id": "qWH6mbdZHsbQ",
        "colab": {
          "base_uri": "https://localhost:8080/",
          "height": 296
        },
        "outputId": "073eadb0-faf0-4a85-d2c6-f6bf59bef804"
      },
      "execution_count": 249,
      "outputs": [
        {
          "output_type": "execute_result",
          "data": {
            "text/plain": [
              "   listing_id  host_since  host_is_superhost  host_total_listings_count  \\\n",
              "0    281420.0      2011.0                0.0                        1.0   \n",
              "\n",
              "   latitude  longitude  accommodates  bedrooms  price  minimum_nights  ...  \\\n",
              "0  48.88668    2.33343           2.0       1.0  65.72             2.0  ...   \n",
              "\n",
              "    Paid parking garage on premises u2013 680 spaces  \\\n",
              "0                                                0.0   \n",
              "\n",
              "    Petit marseillais  body soap   Savon liquide Petit Marseillais body soap  \\\n",
              "0                            0.0                                         0.0   \n",
              "\n",
              "    petit marseillais bio body soap   Hot water   LOru00e9al conditioner  \\\n",
              "0                               0.0         0.0                      0.0   \n",
              "\n",
              "    seb oven   Extra pillows and blankets   Dining area for 4 people  \\\n",
              "0        0.0                          0.0                        0.0   \n",
              "\n",
              "    Paid parking lot on premises u2013 1 space  \n",
              "0                                          0.0  \n",
              "\n",
              "[1 rows x 556 columns]"
            ],
            "text/html": [
              "\n",
              "  <div id=\"df-77222cc3-3e11-4487-aaa9-77098ef87ae8\">\n",
              "    <div class=\"colab-df-container\">\n",
              "      <div>\n",
              "<style scoped>\n",
              "    .dataframe tbody tr th:only-of-type {\n",
              "        vertical-align: middle;\n",
              "    }\n",
              "\n",
              "    .dataframe tbody tr th {\n",
              "        vertical-align: top;\n",
              "    }\n",
              "\n",
              "    .dataframe thead th {\n",
              "        text-align: right;\n",
              "    }\n",
              "</style>\n",
              "<table border=\"1\" class=\"dataframe\">\n",
              "  <thead>\n",
              "    <tr style=\"text-align: right;\">\n",
              "      <th></th>\n",
              "      <th>listing_id</th>\n",
              "      <th>host_since</th>\n",
              "      <th>host_is_superhost</th>\n",
              "      <th>host_total_listings_count</th>\n",
              "      <th>latitude</th>\n",
              "      <th>longitude</th>\n",
              "      <th>accommodates</th>\n",
              "      <th>bedrooms</th>\n",
              "      <th>price</th>\n",
              "      <th>minimum_nights</th>\n",
              "      <th>...</th>\n",
              "      <th>Paid parking garage on premises u2013 680 spaces</th>\n",
              "      <th>Petit marseillais  body soap</th>\n",
              "      <th>Savon liquide Petit Marseillais body soap</th>\n",
              "      <th>petit marseillais bio body soap</th>\n",
              "      <th>Hot water</th>\n",
              "      <th>LOru00e9al conditioner</th>\n",
              "      <th>seb oven</th>\n",
              "      <th>Extra pillows and blankets</th>\n",
              "      <th>Dining area for 4 people</th>\n",
              "      <th>Paid parking lot on premises u2013 1 space</th>\n",
              "    </tr>\n",
              "  </thead>\n",
              "  <tbody>\n",
              "    <tr>\n",
              "      <th>0</th>\n",
              "      <td>281420.0</td>\n",
              "      <td>2011.0</td>\n",
              "      <td>0.0</td>\n",
              "      <td>1.0</td>\n",
              "      <td>48.88668</td>\n",
              "      <td>2.33343</td>\n",
              "      <td>2.0</td>\n",
              "      <td>1.0</td>\n",
              "      <td>65.72</td>\n",
              "      <td>2.0</td>\n",
              "      <td>...</td>\n",
              "      <td>0.0</td>\n",
              "      <td>0.0</td>\n",
              "      <td>0.0</td>\n",
              "      <td>0.0</td>\n",
              "      <td>0.0</td>\n",
              "      <td>0.0</td>\n",
              "      <td>0.0</td>\n",
              "      <td>0.0</td>\n",
              "      <td>0.0</td>\n",
              "      <td>0.0</td>\n",
              "    </tr>\n",
              "  </tbody>\n",
              "</table>\n",
              "<p>1 rows × 556 columns</p>\n",
              "</div>\n",
              "      <button class=\"colab-df-convert\" onclick=\"convertToInteractive('df-77222cc3-3e11-4487-aaa9-77098ef87ae8')\"\n",
              "              title=\"Convert this dataframe to an interactive table.\"\n",
              "              style=\"display:none;\">\n",
              "        \n",
              "  <svg xmlns=\"http://www.w3.org/2000/svg\" height=\"24px\"viewBox=\"0 0 24 24\"\n",
              "       width=\"24px\">\n",
              "    <path d=\"M0 0h24v24H0V0z\" fill=\"none\"/>\n",
              "    <path d=\"M18.56 5.44l.94 2.06.94-2.06 2.06-.94-2.06-.94-.94-2.06-.94 2.06-2.06.94zm-11 1L8.5 8.5l.94-2.06 2.06-.94-2.06-.94L8.5 2.5l-.94 2.06-2.06.94zm10 10l.94 2.06.94-2.06 2.06-.94-2.06-.94-.94-2.06-.94 2.06-2.06.94z\"/><path d=\"M17.41 7.96l-1.37-1.37c-.4-.4-.92-.59-1.43-.59-.52 0-1.04.2-1.43.59L10.3 9.45l-7.72 7.72c-.78.78-.78 2.05 0 2.83L4 21.41c.39.39.9.59 1.41.59.51 0 1.02-.2 1.41-.59l7.78-7.78 2.81-2.81c.8-.78.8-2.07 0-2.86zM5.41 20L4 18.59l7.72-7.72 1.47 1.35L5.41 20z\"/>\n",
              "  </svg>\n",
              "      </button>\n",
              "      \n",
              "  <style>\n",
              "    .colab-df-container {\n",
              "      display:flex;\n",
              "      flex-wrap:wrap;\n",
              "      gap: 12px;\n",
              "    }\n",
              "\n",
              "    .colab-df-convert {\n",
              "      background-color: #E8F0FE;\n",
              "      border: none;\n",
              "      border-radius: 50%;\n",
              "      cursor: pointer;\n",
              "      display: none;\n",
              "      fill: #1967D2;\n",
              "      height: 32px;\n",
              "      padding: 0 0 0 0;\n",
              "      width: 32px;\n",
              "    }\n",
              "\n",
              "    .colab-df-convert:hover {\n",
              "      background-color: #E2EBFA;\n",
              "      box-shadow: 0px 1px 2px rgba(60, 64, 67, 0.3), 0px 1px 3px 1px rgba(60, 64, 67, 0.15);\n",
              "      fill: #174EA6;\n",
              "    }\n",
              "\n",
              "    [theme=dark] .colab-df-convert {\n",
              "      background-color: #3B4455;\n",
              "      fill: #D2E3FC;\n",
              "    }\n",
              "\n",
              "    [theme=dark] .colab-df-convert:hover {\n",
              "      background-color: #434B5C;\n",
              "      box-shadow: 0px 1px 3px 1px rgba(0, 0, 0, 0.15);\n",
              "      filter: drop-shadow(0px 1px 2px rgba(0, 0, 0, 0.3));\n",
              "      fill: #FFFFFF;\n",
              "    }\n",
              "  </style>\n",
              "\n",
              "      <script>\n",
              "        const buttonEl =\n",
              "          document.querySelector('#df-77222cc3-3e11-4487-aaa9-77098ef87ae8 button.colab-df-convert');\n",
              "        buttonEl.style.display =\n",
              "          google.colab.kernel.accessAllowed ? 'block' : 'none';\n",
              "\n",
              "        async function convertToInteractive(key) {\n",
              "          const element = document.querySelector('#df-77222cc3-3e11-4487-aaa9-77098ef87ae8');\n",
              "          const dataTable =\n",
              "            await google.colab.kernel.invokeFunction('convertToInteractive',\n",
              "                                                     [key], {});\n",
              "          if (!dataTable) return;\n",
              "\n",
              "          const docLinkHtml = 'Like what you see? Visit the ' +\n",
              "            '<a target=\"_blank\" href=https://colab.research.google.com/notebooks/data_table.ipynb>data table notebook</a>'\n",
              "            + ' to learn more about interactive tables.';\n",
              "          element.innerHTML = '';\n",
              "          dataTable['output_type'] = 'display_data';\n",
              "          await google.colab.output.renderOutput(dataTable, element);\n",
              "          const docLink = document.createElement('div');\n",
              "          docLink.innerHTML = docLinkHtml;\n",
              "          element.appendChild(docLink);\n",
              "        }\n",
              "      </script>\n",
              "    </div>\n",
              "  </div>\n",
              "  "
            ]
          },
          "metadata": {},
          "execution_count": 249
        }
      ]
    },
    {
      "cell_type": "code",
      "execution_count": 250,
      "metadata": {
        "id": "KsDkZ2BVMjvP"
      },
      "outputs": [],
      "source": [
        "X_train, X_test, y_train, y_test = train_test_split(L_dataset_E3.copy().drop('profit', axis=1), L_dataset_E3['profit'], test_size=0.2)\n"
      ]
    },
    {
      "cell_type": "code",
      "execution_count": 111,
      "metadata": {
        "colab": {
          "base_uri": "https://localhost:8080/",
          "height": 1000
        },
        "id": "8vCT4Z061mle",
        "outputId": "c7f29ae0-34bd-44bd-9f61-27cc554adcf2"
      },
      "outputs": [
        {
          "output_type": "stream",
          "name": "stderr",
          "text": [
            "/usr/local/lib/python3.9/dist-packages/sklearn/cluster/_kmeans.py:870: FutureWarning: The default value of `n_init` will change from 10 to 'auto' in 1.4. Set the value of `n_init` explicitly to suppress the warning\n",
            "  warnings.warn(\n",
            "/usr/local/lib/python3.9/dist-packages/sklearn/cluster/_kmeans.py:870: FutureWarning: The default value of `n_init` will change from 10 to 'auto' in 1.4. Set the value of `n_init` explicitly to suppress the warning\n",
            "  warnings.warn(\n",
            "/usr/local/lib/python3.9/dist-packages/sklearn/cluster/_kmeans.py:870: FutureWarning: The default value of `n_init` will change from 10 to 'auto' in 1.4. Set the value of `n_init` explicitly to suppress the warning\n",
            "  warnings.warn(\n",
            "/usr/local/lib/python3.9/dist-packages/sklearn/cluster/_kmeans.py:870: FutureWarning: The default value of `n_init` will change from 10 to 'auto' in 1.4. Set the value of `n_init` explicitly to suppress the warning\n",
            "  warnings.warn(\n",
            "/usr/local/lib/python3.9/dist-packages/sklearn/cluster/_kmeans.py:870: FutureWarning: The default value of `n_init` will change from 10 to 'auto' in 1.4. Set the value of `n_init` explicitly to suppress the warning\n",
            "  warnings.warn(\n",
            "/usr/local/lib/python3.9/dist-packages/sklearn/cluster/_kmeans.py:870: FutureWarning: The default value of `n_init` will change from 10 to 'auto' in 1.4. Set the value of `n_init` explicitly to suppress the warning\n",
            "  warnings.warn(\n",
            "/usr/local/lib/python3.9/dist-packages/sklearn/cluster/_kmeans.py:870: FutureWarning: The default value of `n_init` will change from 10 to 'auto' in 1.4. Set the value of `n_init` explicitly to suppress the warning\n",
            "  warnings.warn(\n",
            "/usr/local/lib/python3.9/dist-packages/sklearn/cluster/_kmeans.py:870: FutureWarning: The default value of `n_init` will change from 10 to 'auto' in 1.4. Set the value of `n_init` explicitly to suppress the warning\n",
            "  warnings.warn(\n",
            "/usr/local/lib/python3.9/dist-packages/sklearn/cluster/_kmeans.py:870: FutureWarning: The default value of `n_init` will change from 10 to 'auto' in 1.4. Set the value of `n_init` explicitly to suppress the warning\n",
            "  warnings.warn(\n",
            "/usr/local/lib/python3.9/dist-packages/sklearn/cluster/_kmeans.py:870: FutureWarning: The default value of `n_init` will change from 10 to 'auto' in 1.4. Set the value of `n_init` explicitly to suppress the warning\n",
            "  warnings.warn(\n",
            "/usr/local/lib/python3.9/dist-packages/sklearn/cluster/_kmeans.py:870: FutureWarning: The default value of `n_init` will change from 10 to 'auto' in 1.4. Set the value of `n_init` explicitly to suppress the warning\n",
            "  warnings.warn(\n",
            "/usr/local/lib/python3.9/dist-packages/sklearn/cluster/_kmeans.py:870: FutureWarning: The default value of `n_init` will change from 10 to 'auto' in 1.4. Set the value of `n_init` explicitly to suppress the warning\n",
            "  warnings.warn(\n",
            "/usr/local/lib/python3.9/dist-packages/sklearn/cluster/_kmeans.py:870: FutureWarning: The default value of `n_init` will change from 10 to 'auto' in 1.4. Set the value of `n_init` explicitly to suppress the warning\n",
            "  warnings.warn(\n",
            "/usr/local/lib/python3.9/dist-packages/sklearn/cluster/_kmeans.py:870: FutureWarning: The default value of `n_init` will change from 10 to 'auto' in 1.4. Set the value of `n_init` explicitly to suppress the warning\n",
            "  warnings.warn(\n",
            "/usr/local/lib/python3.9/dist-packages/sklearn/cluster/_kmeans.py:870: FutureWarning: The default value of `n_init` will change from 10 to 'auto' in 1.4. Set the value of `n_init` explicitly to suppress the warning\n",
            "  warnings.warn(\n",
            "/usr/local/lib/python3.9/dist-packages/sklearn/cluster/_kmeans.py:870: FutureWarning: The default value of `n_init` will change from 10 to 'auto' in 1.4. Set the value of `n_init` explicitly to suppress the warning\n",
            "  warnings.warn(\n",
            "/usr/local/lib/python3.9/dist-packages/sklearn/cluster/_kmeans.py:870: FutureWarning: The default value of `n_init` will change from 10 to 'auto' in 1.4. Set the value of `n_init` explicitly to suppress the warning\n",
            "  warnings.warn(\n",
            "/usr/local/lib/python3.9/dist-packages/sklearn/cluster/_kmeans.py:870: FutureWarning: The default value of `n_init` will change from 10 to 'auto' in 1.4. Set the value of `n_init` explicitly to suppress the warning\n",
            "  warnings.warn(\n",
            "/usr/local/lib/python3.9/dist-packages/sklearn/cluster/_kmeans.py:870: FutureWarning: The default value of `n_init` will change from 10 to 'auto' in 1.4. Set the value of `n_init` explicitly to suppress the warning\n",
            "  warnings.warn(\n"
          ]
        },
        {
          "output_type": "display_data",
          "data": {
            "text/plain": [
              "<Figure size 640x480 with 1 Axes>"
            ],
            "image/png": "[encoded data removed]"
          },
          "metadata": {}
        }
      ],
      "source": [
        "from sklearn.cluster import KMeans\n",
        "\n",
        "# create an instance of SimpleImputer with the desired strategy (e.g. mean, median, most_frequent)\n",
        "imputer = SimpleImputer(strategy='most_frequent')\n",
        "\n",
        "# fit the imputer to the feature set with missing values\n",
        "imputer.fit(X_train)\n",
        "\n",
        "# transform the feature set by filling in the missing values\n",
        "X_train_imputed = imputer.transform(X_train)\n",
        "X_test_imputed = imputer.transform(X_test)\n",
        "\n",
        "# Fit PCA to data\n",
        "pca = PCA()\n",
        "pca.fit(X_train_imputed)\n",
        "\n",
        "# Transform data to obtain principal components\n",
        "X_pca = pca.transform(X_train_imputed)\n",
        "\n",
        "# Iterate over a range of values for number of components\n",
        "ssd = []\n",
        "for i in range(1, 20):\n",
        "    kmeans = KMeans(n_clusters=i, random_state=42)\n",
        "    kmeans.fit(X_pca[:,:i])\n",
        "    ssd.append(kmeans.inertia_)\n",
        "\n",
        "# Plot the sum of squared distances for each number of components\n",
        "plt.plot(range(1,20), ssd, 'bx-')\n",
        "plt.xlabel('Number of Components')\n",
        "plt.ylabel('Sum of Squared Distances')\n",
        "plt.title('Elbow Method with PCA')\n",
        "plt.show()\n",
        "\n",
        "\n",
        "\n",
        "\n"
      ]
    },
    {
      "cell_type": "code",
      "execution_count": 112,
      "metadata": {
        "id": "L6ZFZehm0gxt",
        "colab": {
          "base_uri": "https://localhost:8080/",
          "height": 53
        },
        "outputId": "546781f6-e702-4480-ed63-cb5deaed26d5"
      },
      "outputs": [
        {
          "output_type": "execute_result",
          "data": {
            "text/plain": [
              "'pipeline1 = make_pipeline(\\n    SimpleImputer(strategy=\"mean\"),  # Impute missing values with mean\\n    StandardScaler(),  # Scale features to have mean=0 and variance=1\\n    PCA(n_components=10)\\n)\\nmodel = pipeline1.fit(X_train, y_train)'"
            ],
            "application/vnd.google.colaboratory.intrinsic+json": {
              "type": "string"
            }
          },
          "metadata": {},
          "execution_count": 112
        }
      ],
      "source": [
        "\"\"\"pipeline1 = make_pipeline(\n",
        "    SimpleImputer(strategy=\"mean\"),  # Impute missing values with mean\n",
        "    StandardScaler(),  # Scale features to have mean=0 and variance=1\n",
        "    PCA(n_components=10)\n",
        ")\n",
        "model = pipeline1.fit(X_train, y_train)\"\"\""
      ]
    },
    {
      "cell_type": "code",
      "execution_count": 113,
      "metadata": {
        "id": "iyw3APJdng2M",
        "colab": {
          "base_uri": "https://localhost:8080/",
          "height": 352,
          "referenced_widgets": [
            "a23cc874d8984dcfa81994802f12dfff",
            "830a1c5eb5c64833b078ea0f5c02c78d",
            "b4a6ccca330f488999b766578ba3efbd",
            "e420d99952fc4de2b52340d3a527c87c",
            "2023a3647f0b452eab4f4458765e1e07",
            "5434975ec1d147faafefc485549187f3",
            "b3a7909acddd4998988579c42860abe7",
            "ad30d9c5ad504607847f7c95139d852b",
            "37c8632f656b4979a163fc189a5366ff",
            "a7473f4f945049769d9223350c88cfd0",
            "d2335e81328946ed9d4254a9fc8c5cb4"
          ]
        },
        "outputId": "d58baa56-0346-42bb-e48c-7c8feb1e6a9d"
      },
      "outputs": [
        {
          "output_type": "display_data",
          "data": {
            "text/plain": [
              "Optimization Progress:   0%|          | 0/20 [00:00<?, ?pipeline/s]"
            ],
            "application/vnd.jupyter.widget-view+json": {
              "version_major": 2,
              "version_minor": 0,
              "model_id": "a23cc874d8984dcfa81994802f12dfff"
            }
          },
          "metadata": {}
        },
        {
          "output_type": "stream",
          "name": "stdout",
          "text": [
            "\n",
            "Generation 1 - Current best internal CV score: -18957264.955023475\n",
            "\n",
            "Generation 2 - Current best internal CV score: -18957264.955023475\n",
            "\n",
            "61.02 minutes have elapsed. TPOT will close down.\n",
            "TPOT closed during evaluation in one generation.\n",
            "WARNING: TPOT may not provide a good pipeline if TPOT is stopped/interrupted in a early generation.\n",
            "\n",
            "\n",
            "TPOT closed prematurely. Will use the current best pipeline.\n",
            "\n",
            "Best pipeline: RandomForestRegressor(input_matrix, bootstrap=False, max_features=0.7500000000000001, min_samples_leaf=16, min_samples_split=19, n_estimators=100)\n"
          ]
        },
        {
          "output_type": "execute_result",
          "data": {
            "text/plain": [
              "TPOTRegressor(generations=5, max_time_mins=60, population_size=20, verbosity=2)"
            ],
            "text/html": [
              "<style>#sk-container-id-1 {color: black;background-color: white;}#sk-container-id-1 pre{padding: 0;}#sk-container-id-1 div.sk-toggleable {background-color: white;}#sk-container-id-1 label.sk-toggleable__label {cursor: pointer;display: block;width: 100%;margin-bottom: 0;padding: 0.3em;box-sizing: border-box;text-align: center;}#sk-container-id-1 label.sk-toggleable__label-arrow:before {content: \"▸\";float: left;margin-right: 0.25em;color: #696969;}#sk-container-id-1 label.sk-toggleable__label-arrow:hover:before {color: black;}#sk-container-id-1 div.sk-estimator:hover label.sk-toggleable__label-arrow:before {color: black;}#sk-container-id-1 div.sk-toggleable__content {max-height: 0;max-width: 0;overflow: hidden;text-align: left;background-color: #f0f8ff;}#sk-container-id-1 div.sk-toggleable__content pre {margin: 0.2em;color: black;border-radius: 0.25em;background-color: #f0f8ff;}#sk-container-id-1 input.sk-toggleable__control:checked~div.sk-toggleable__content {max-height: 200px;max-width: 100%;overflow: auto;}#sk-container-id-1 input.sk-toggleable__control:checked~label.sk-toggleable__label-arrow:before {content: \"▾\";}#sk-container-id-1 div.sk-estimator input.sk-toggleable__control:checked~label.sk-toggleable__label {background-color: #d4ebff;}#sk-container-id-1 div.sk-label input.sk-toggleable__control:checked~label.sk-toggleable__label {background-color: #d4ebff;}#sk-container-id-1 input.sk-hidden--visually {border: 0;clip: rect(1px 1px 1px 1px);clip: rect(1px, 1px, 1px, 1px);height: 1px;margin: -1px;overflow: hidden;padding: 0;position: absolute;width: 1px;}#sk-container-id-1 div.sk-estimator {font-family: monospace;background-color: #f0f8ff;border: 1px dotted black;border-radius: 0.25em;box-sizing: border-box;margin-bottom: 0.5em;}#sk-container-id-1 div.sk-estimator:hover {background-color: #d4ebff;}#sk-container-id-1 div.sk-parallel-item::after {content: \"\";width: 100%;border-bottom: 1px solid gray;flex-grow: 1;}#sk-container-id-1 div.sk-label:hover label.sk-toggleable__label {background-color: #d4ebff;}#sk-container-id-1 div.sk-serial::before {content: \"\";position: absolute;border-left: 1px solid gray;box-sizing: border-box;top: 0;bottom: 0;left: 50%;z-index: 0;}#sk-container-id-1 div.sk-serial {display: flex;flex-direction: column;align-items: center;background-color: white;padding-right: 0.2em;padding-left: 0.2em;position: relative;}#sk-container-id-1 div.sk-item {position: relative;z-index: 1;}#sk-container-id-1 div.sk-parallel {display: flex;align-items: stretch;justify-content: center;background-color: white;position: relative;}#sk-container-id-1 div.sk-item::before, #sk-container-id-1 div.sk-parallel-item::before {content: \"\";position: absolute;border-left: 1px solid gray;box-sizing: border-box;top: 0;bottom: 0;left: 50%;z-index: -1;}#sk-container-id-1 div.sk-parallel-item {display: flex;flex-direction: column;z-index: 1;position: relative;background-color: white;}#sk-container-id-1 div.sk-parallel-item:first-child::after {align-self: flex-end;width: 50%;}#sk-container-id-1 div.sk-parallel-item:last-child::after {align-self: flex-start;width: 50%;}#sk-container-id-1 div.sk-parallel-item:only-child::after {width: 0;}#sk-container-id-1 div.sk-dashed-wrapped {border: 1px dashed gray;margin: 0 0.4em 0.5em 0.4em;box-sizing: border-box;padding-bottom: 0.4em;background-color: white;}#sk-container-id-1 div.sk-label label {font-family: monospace;font-weight: bold;display: inline-block;line-height: 1.2em;}#sk-container-id-1 div.sk-label-container {text-align: center;}#sk-container-id-1 div.sk-container {/* jupyter's `normalize.less` sets `[hidden] { display: none; }` but bootstrap.min.css set `[hidden] { display: none !important; }` so we also need the `!important` here to be able to override the default hidden behavior on the sphinx rendered scikit-learn.org. See: https://github.com/scikit-learn/scikit-learn/issues/21755 */display: inline-block !important;position: relative;}#sk-container-id-1 div.sk-text-repr-fallback {display: none;}</style><div id=\"sk-container-id-1\" class=\"sk-top-container\"><div class=\"sk-text-repr-fallback\"><pre>TPOTRegressor(generations=5, max_time_mins=60, population_size=20, verbosity=2)</pre><b>In a Jupyter environment, please rerun this cell to show the HTML representation or trust the notebook. <br />On GitHub, the HTML representation is unable to render, please try loading this page with nbviewer.org.</b></div><div class=\"sk-container\" hidden><div class=\"sk-item\"><div class=\"sk-estimator sk-toggleable\"><input class=\"sk-toggleable__control sk-hidden--visually\" id=\"sk-estimator-id-1\" type=\"checkbox\" checked><label for=\"sk-estimator-id-1\" class=\"sk-toggleable__label sk-toggleable__label-arrow\">TPOTRegressor</label><div class=\"sk-toggleable__content\"><pre>TPOTRegressor(generations=5, max_time_mins=60, population_size=20, verbosity=2)</pre></div></div></div></div></div>"
            ]
          },
          "metadata": {},
          "execution_count": 113
        }
      ],
      "source": [
        "from sklearn.linear_model import LinearRegression\n",
        "#pipeline = make_pipeline(\n",
        "#    SimpleImputer(strategy=\"most_frequent\"),  # Impute missing values with mean\n",
        "    #StandardScaler(),  # Scale features to have mean=0 and variance=1\n",
        "    #PCA(n_components=20),  # set the number of components\n",
        "    #LinearRegression()\n",
        "#    TPOTRegressor(generations=5, population_size=20 , verbosity=2)\n",
        "#)\n",
        "pipeline = TPOTRegressor(generations=5, population_size=20 , max_time_mins = 60, verbosity=2)\n",
        "pipeline.fit(X_train, y_train)"
      ]
    },
    {
      "cell_type": "markdown",
      "source": [
        "early version\n",
        "Best pipeline: RandomForestRegressor(LassoLarsCV(ElasticNetCV(input_matrix, l1_ratio=0.8500000000000001, tol=0.001), normalize=True), bootstrap=True, max_features=0.35000000000000003, min_samples_leaf=4, min_samples_split=19, n_estimators=100)\n",
        "score 0.65\n",
        "\n",
        "This is best pipline without priceing profit between 10k and 40k and pca 20"
      ],
      "metadata": {
        "id": "LAMCBp0TzrQt"
      }
    },
    {
      "cell_type": "markdown",
      "source": [
        "# **60min no PCA mean Simple Imputer: **\n",
        "\n",
        "Best pipeline: RandomForestRegressor(input_matrix, bootstrap=False, max_features=0.7500000000000001, min_samples_leaf=16, min_samples_split=19, n_estimators=100)\n",
        "\n",
        "score:0.67"
      ],
      "metadata": {
        "id": "80_VBLnXeLU8"
      }
    },
    {
      "cell_type": "code",
      "source": [
        "pipeline.export(\"10-40-mean-60min.py\")"
      ],
      "metadata": {
        "id": "tZbFqUSscqhT"
      },
      "execution_count": 137,
      "outputs": []
    },
    {
      "cell_type": "code",
      "source": [
        "y_pred = pipeline.predict(X_test)\n",
        "mae = mean_absolute_error(y_test, y_pred)\n",
        "print(f\"Mean absolute error: {mae:.2f}\")\n",
        "print(r2_score(y_test.tolist(),y_pred))"
      ],
      "metadata": {
        "colab": {
          "base_uri": "https://localhost:8080/"
        },
        "id": "NWnnSwRydBq7",
        "outputId": "dbaf680a-d749-430b-a151-41244c3754b8"
      },
      "execution_count": 142,
      "outputs": [
        {
          "output_type": "stream",
          "name": "stdout",
          "text": [
            "Mean absolute error: 2331.72\n",
            "0.6751426639514115\n"
          ]
        }
      ]
    },
    {
      "cell_type": "markdown",
      "source": [
        "# **Evaluation**"
      ],
      "metadata": {
        "id": "lkWuKBC0Bvqn"
      }
    },
    {
      "cell_type": "markdown",
      "source": [
        "Best pipeline: RandomForestRegressor(LassoLarsCV(ElasticNetCV(input_matrix, l1_ratio=0.85, tol=0.001), normalize=True), bootstrap=True, max_features=0.35, min_samples_leaf=4, min_samples_split=19, n_estimators=100)\n",
        "\n",
        "This is best pipline without priceing profit between 10k and 40k and pca 20"
      ],
      "metadata": {
        "id": "JDneCVs_BzyI"
      }
    },
    {
      "cell_type": "code",
      "source": [
        "#Applying the best model \n",
        "from sklearn.ensemble import RandomForestRegressor\n",
        "from sklearn.linear_model import LassoLarsCV, ElasticNetCV\n",
        "from sklearn.pipeline import make_pipeline\n",
        "from sklearn.metrics import mean_squared_error , mean_absolute_error\n",
        "from sklearn.metrics import r2_score\n",
        "\n",
        "pipeline1 = make_pipeline(\n",
        "    SimpleImputer(strategy=\"mean\"),\n",
        "    #PCA(n_components=20),\n",
        "    RandomForestRegressor(\n",
        "        bootstrap=False,\n",
        "        max_features=0.75,\n",
        "        min_samples_leaf=16,\n",
        "        min_samples_split=19,\n",
        "        n_estimators=100\n",
        "    )\n",
        ")\n",
        "pipeline1.fit(X_train, y_train)\n",
        "\n",
        "# Predict on the test data\n",
        "y_pred = pipeline1.predict(X_test)\n",
        "\n",
        "# Evaluate the performance of the pipeline using mean squared error\n",
        "mae = mean_absolute_error(y_test, y_pred)\n",
        "print(f\"Mean absolute error: {mae:.2f}\")\n",
        "print(r2_score(y_test.tolist(),y_pred))"
      ],
      "metadata": {
        "colab": {
          "base_uri": "https://localhost:8080/"
        },
        "id": "PtaQD4lbloNs",
        "outputId": "87b71dfe-34d0-434e-a29e-b1629ba0b033"
      },
      "execution_count": 251,
      "outputs": [
        {
          "output_type": "stream",
          "name": "stdout",
          "text": [
            "Mean absolute error: 2279.56\n",
            "0.6846982191997325\n"
          ]
        }
      ]
    },
    {
      "cell_type": "markdown",
      "source": [
        "As we can see here the Mean Abdolute Error is between 2300 and 3000 depending on the PCA components. how ever it is very good aproximation for the profits +-2500, which will lead to good depolyment in the folowing sections."
      ],
      "metadata": {
        "id": "sm4tCKUxCkiZ"
      }
    },
    {
      "cell_type": "markdown",
      "source": [
        "The folowing diagram show the difference between the distubution of the real profit and predicted one"
      ],
      "metadata": {
        "id": "DxxIfZsyCKnb"
      }
    },
    {
      "cell_type": "code",
      "source": [
        "plt.hist(y_test.tolist(),bins=100,color=\"Blue\")\n",
        "plt.hist(y_pred.tolist(),bins=100,color=\"orange\")\n",
        "plt.title(\"Figure-6\")\n",
        "plt.show()"
      ],
      "metadata": {
        "colab": {
          "base_uri": "https://localhost:8080/",
          "height": 452
        },
        "id": "3r1pTHc7duTF",
        "outputId": "a97bdbd3-5b25-4e44-e7e1-22737930384e"
      },
      "execution_count": 252,
      "outputs": [
        {
          "output_type": "display_data",
          "data": {
            "text/plain": [
              "<Figure size 640x480 with 1 Axes>"
            ],
            "image/png": "[encoded data removed]"
          },
          "metadata": {}
        }
      ]
    },
    {
      "cell_type": "code",
      "source": [
        "import random\n",
        "random_indices = random.sample(range(len(y_test.tolist())), 20)\n",
        "Y1 = [y_test.tolist()[i] for i in random_indices]\n",
        "Y2 = [y_pred.tolist()[i] for i in random_indices]\n",
        "plt.plot(Y1,color=\"Blue\")\n",
        "plt.plot(Y2,color=\"orange\")\n",
        "plt.title(\"Figure-7\")\n",
        "plt.show()"
      ],
      "metadata": {
        "colab": {
          "base_uri": "https://localhost:8080/",
          "height": 452
        },
        "id": "7SDaXmk0711K",
        "outputId": "16f722ef-9b86-4815-d013-dd2b4c11f50f"
      },
      "execution_count": 229,
      "outputs": [
        {
          "output_type": "display_data",
          "data": {
            "text/plain": [
              "<Figure size 640x480 with 1 Axes>"
            ],
            "image/png": "[encoded data removed]"
          },
          "metadata": {}
        }
      ]
    },
    {
      "cell_type": "markdown",
      "source": [
        "The minimum profit show as folowing"
      ],
      "metadata": {
        "id": "_n2oTD0oCZ8Z"
      }
    },
    {
      "cell_type": "code",
      "source": [
        "print(int(y_pred.min()))\n",
        "np.min(y_test.tolist())"
      ],
      "metadata": {
        "colab": {
          "base_uri": "https://localhost:8080/"
        },
        "id": "SykdNEzyfLfP",
        "outputId": "cdbf7939-6b41-4395-a257-771e6e15f03e"
      },
      "execution_count": 253,
      "outputs": [
        {
          "output_type": "stream",
          "name": "stdout",
          "text": [
            "10939\n"
          ]
        },
        {
          "output_type": "execute_result",
          "data": {
            "text/plain": [
              "10044.0"
            ]
          },
          "metadata": {},
          "execution_count": 253
        }
      ]
    },
    {
      "cell_type": "markdown",
      "source": [
        "First 10 samples profits"
      ],
      "metadata": {
        "id": "8tvpYIOQCeOB"
      }
    },
    {
      "cell_type": "code",
      "source": [
        "for i in range(10):\n",
        "  print(int(y_pred[i]),y_test.tolist()[i])"
      ],
      "metadata": {
        "colab": {
          "base_uri": "https://localhost:8080/"
        },
        "id": "BbbTEObhYd7O",
        "outputId": "4259d488-9ed2-4d95-9bf2-191170563ad7"
      },
      "execution_count": 254,
      "outputs": [
        {
          "output_type": "stream",
          "name": "stdout",
          "text": [
            "20355 20367.0\n",
            "23422 23987.0\n",
            "22309 22630.0\n",
            "24541 13680.0\n",
            "37867 38018.0\n",
            "26411 12320.0\n",
            "18883 19009.0\n",
            "28143 29418.0\n",
            "24854 24893.0\n",
            "21357 21143.0\n"
          ]
        }
      ]
    },
    {
      "cell_type": "markdown",
      "source": [
        "# **Depolyment**"
      ],
      "metadata": {
        "id": "G8Mw8cRq1hQa"
      }
    },
    {
      "cell_type": "markdown",
      "source": [
        "### A Sample of A listing has low price and the owner should increase the price to increase his profit"
      ],
      "metadata": {
        "id": "TV_X3PO18BKu"
      }
    },
    {
      "cell_type": "markdown",
      "source": [
        "lets study one sample that has very low MAE result "
      ],
      "metadata": {
        "id": "SVLOtfMIDFII"
      }
    },
    {
      "cell_type": "code",
      "source": [
        "X_sample= X_test.iloc[0]\n",
        "y_sample = y_test.iloc[0]\n",
        "f\"price: {X_sample['price']}\""
      ],
      "metadata": {
        "colab": {
          "base_uri": "https://localhost:8080/",
          "height": 35
        },
        "id": "j5X-SrC8c4kv",
        "outputId": "01273075-d5be-4cd1-eb31-5b8cb5a109c0"
      },
      "execution_count": 255,
      "outputs": [
        {
          "output_type": "execute_result",
          "data": {
            "text/plain": [
              "'price: 55.8'"
            ],
            "application/vnd.google.colaboratory.intrinsic+json": {
              "type": "string"
            }
          },
          "metadata": {},
          "execution_count": 255
        }
      ]
    },
    {
      "cell_type": "code",
      "source": [
        "y_sample_pred = pipeline1.predict(np.array(X_sample).reshape(1, -1))\n",
        "f\"predicted profit for this price: {y_sample_pred[0]}\""
      ],
      "metadata": {
        "colab": {
          "base_uri": "https://localhost:8080/",
          "height": 90
        },
        "id": "-PewH2ka3JWY",
        "outputId": "80892c2f-9bff-468f-cb45-99d3ed555fa6"
      },
      "execution_count": 256,
      "outputs": [
        {
          "output_type": "stream",
          "name": "stderr",
          "text": [
            "/usr/local/lib/python3.9/dist-packages/sklearn/base.py:439: UserWarning: X does not have valid feature names, but SimpleImputer was fitted with feature names\n",
            "  warnings.warn(\n"
          ]
        },
        {
          "output_type": "execute_result",
          "data": {
            "text/plain": [
              "'predicted profit for this price: 20355.920642518'"
            ],
            "application/vnd.google.colaboratory.intrinsic+json": {
              "type": "string"
            }
          },
          "metadata": {},
          "execution_count": 256
        }
      ]
    },
    {
      "cell_type": "code",
      "source": [
        "f\"Real Profit: {y_sample}\""
      ],
      "metadata": {
        "colab": {
          "base_uri": "https://localhost:8080/",
          "height": 35
        },
        "id": "y4mYw-Oi38e2",
        "outputId": "01354533-fbf0-4a6a-e5d8-7d820b578b7d"
      },
      "execution_count": 257,
      "outputs": [
        {
          "output_type": "execute_result",
          "data": {
            "text/plain": [
              "'Real Profit: 20367.0'"
            ],
            "application/vnd.google.colaboratory.intrinsic+json": {
              "type": "string"
            }
          },
          "metadata": {},
          "execution_count": 257
        }
      ]
    },
    {
      "cell_type": "code",
      "source": [
        "#Calculating the profit with changing the price\n",
        "y_sample_pred_list =[]\n",
        "minimum_price=1\n",
        "maximum_price=400 \n",
        "for i in range(minimum_price,maximum_price):\n",
        "  X_sample['price'] = i\n",
        "  y_sample_pred = pipeline1.predict(pd.DataFrame(np.array(X_sample).reshape(1, -1),columns=X_test.columns))\n",
        "  y_sample_pred_list.append(y_sample_pred[0])"
      ],
      "metadata": {
        "id": "KJlwhYZk17Tu"
      },
      "execution_count": 258,
      "outputs": []
    },
    {
      "cell_type": "code",
      "source": [
        "f\"Highest Profit is :{np.max(y_sample_pred_list)}\""
      ],
      "metadata": {
        "colab": {
          "base_uri": "https://localhost:8080/",
          "height": 35
        },
        "id": "yrXPvCCD4VQ2",
        "outputId": "ba3b6ba5-1b71-4919-d23f-22e77310b29d"
      },
      "execution_count": 259,
      "outputs": [
        {
          "output_type": "execute_result",
          "data": {
            "text/plain": [
              "'Highest Profit is :38947.18617342108'"
            ],
            "application/vnd.google.colaboratory.intrinsic+json": {
              "type": "string"
            }
          },
          "metadata": {},
          "execution_count": 259
        }
      ]
    },
    {
      "cell_type": "code",
      "source": [
        "#ploting The profit on Y_axis and price on X_axis\n",
        "X_axis= [i for i in range(minimum_price,maximum_price)]\n",
        "plt.plot(X_axis,y_sample_pred_list)\n",
        "plt.title(\"Figure-8\")\n",
        "plt.show()"
      ],
      "metadata": {
        "colab": {
          "base_uri": "https://localhost:8080/",
          "height": 452
        },
        "id": "QTHKESwl4lbB",
        "outputId": "f120f152-92aa-4c66-e47e-1223c04169f9"
      },
      "execution_count": 260,
      "outputs": [
        {
          "output_type": "display_data",
          "data": {
            "text/plain": [
              "<Figure size 640x480 with 1 Axes>"
            ],
            "image/png": "[encoded data removed]"
          },
          "metadata": {}
        }
      ]
    },
    {
      "cell_type": "code",
      "source": [
        "print(\"details of this Sample: \")\n",
        "for index, value in enumerate(X_test.iloc[2]):\n",
        "  if value:\n",
        "    print(X_test.columns[index],\":\", value)"
      ],
      "metadata": {
        "colab": {
          "base_uri": "https://localhost:8080/"
        },
        "id": "bGSeUL6t57oH",
        "outputId": "37afbe06-5ea2-4578-d1bd-84294ba5e062"
      },
      "execution_count": 261,
      "outputs": [
        {
          "output_type": "stream",
          "name": "stdout",
          "text": [
            "details of this Sample: \n",
            "listing_id : 5275583.0\n",
            "host_since : 2014.0\n",
            "host_total_listings_count : 1.0\n",
            "latitude : 48.85216\n",
            "longitude : 2.36718\n",
            "accommodates : 1.0\n",
            "bedrooms : 1.0\n",
            "price : 62.0\n",
            "minimum_nights : 3.0\n",
            "maximum_nights : 15.0\n",
            "review_scores_rating : 94.0\n",
            "review_scores_accuracy : 10.0\n",
            "review_scores_cleanliness : 10.0\n",
            "review_scores_checkin : 10.0\n",
            "review_scores_communication : 9.0\n",
            "review_scores_location : 10.0\n",
            "review_scores_value : 9.0\n",
            "property_type_Private room in apartment : 1.0\n",
            "room_type_Private room : 1.0\n",
            "Heating : 1.0\n",
            "Kitchen : 1.0\n",
            "Washer : 1.0\n",
            "Indoor fireplace : 1.0\n",
            "Dryer : 1.0\n",
            "TV : 1.0\n",
            "Wifi : 1.0\n",
            "Essentials : 1.0\n"
          ]
        }
      ]
    },
    {
      "cell_type": "code",
      "source": [
        "print(\"Best price for best profit is :\",y_sample_pred_list.index(np.max(y_sample_pred_list)) )\n",
        "print(\"profit will be:\", np.max(y_sample_pred_list))"
      ],
      "metadata": {
        "colab": {
          "base_uri": "https://localhost:8080/"
        },
        "id": "60e8fJQM5Cqu",
        "outputId": "f1d11cb5-2cd7-46ea-dd08-5c8e0461820d"
      },
      "execution_count": 262,
      "outputs": [
        {
          "output_type": "stream",
          "name": "stdout",
          "text": [
            "Best price for best profit is : 107\n",
            "profit will be: 38947.18617342108\n"
          ]
        }
      ]
    },
    {
      "cell_type": "markdown",
      "source": [
        "### A Sample of A listing has high price and the owner should decrease the price to increase his profit"
      ],
      "metadata": {
        "id": "ES1oGHUAAJ-z"
      }
    },
    {
      "cell_type": "markdown",
      "source": [
        "Sample with very hight price and we want to reduce this price to get better profit"
      ],
      "metadata": {
        "id": "m15yEGtlEksh"
      }
    },
    {
      "cell_type": "code",
      "source": [
        "max_price_index = X_test['price'].idxmax()\n",
        "max_price_row_num = X_test.index.get_loc(max_price_index)\n",
        "f\"price: {X_test['price'].max()}\""
      ],
      "metadata": {
        "colab": {
          "base_uri": "https://localhost:8080/",
          "height": 35
        },
        "id": "7TpVQ6SG8W2v",
        "outputId": "d421de01-567a-40e3-9304-deef42012714"
      },
      "execution_count": 274,
      "outputs": [
        {
          "output_type": "execute_result",
          "data": {
            "text/plain": [
              "'price: 7999.0'"
            ],
            "application/vnd.google.colaboratory.intrinsic+json": {
              "type": "string"
            }
          },
          "metadata": {},
          "execution_count": 274
        }
      ]
    },
    {
      "cell_type": "code",
      "source": [
        "X_sample1= X_test.iloc[max_price_row_num]\n",
        "y_sample1 = y_test.iloc[max_price_row_num]\n",
        "f\"price: {X_sample1['price']}\""
      ],
      "metadata": {
        "colab": {
          "base_uri": "https://localhost:8080/",
          "height": 35
        },
        "id": "zCCaIUru8_iW",
        "outputId": "f31d94e9-df87-4457-9b86-8ff052de90fd"
      },
      "execution_count": 275,
      "outputs": [
        {
          "output_type": "execute_result",
          "data": {
            "text/plain": [
              "'price: 7999.0'"
            ],
            "application/vnd.google.colaboratory.intrinsic+json": {
              "type": "string"
            }
          },
          "metadata": {},
          "execution_count": 275
        }
      ]
    },
    {
      "cell_type": "code",
      "source": [
        "y_sample1_pred = pipeline1.predict(np.array(X_sample1).reshape(1, -1))\n",
        "f\"Real Profit: {y_sample1} , Predicted Profit: {int(y_sample1_pred[0])}\""
      ],
      "metadata": {
        "colab": {
          "base_uri": "https://localhost:8080/",
          "height": 90
        },
        "id": "j42QFlno9zJm",
        "outputId": "546ca70b-cedc-4e2b-b0ad-5ad3add77e48"
      },
      "execution_count": 276,
      "outputs": [
        {
          "output_type": "stream",
          "name": "stderr",
          "text": [
            "/usr/local/lib/python3.9/dist-packages/sklearn/base.py:439: UserWarning: X does not have valid feature names, but SimpleImputer was fitted with feature names\n",
            "  warnings.warn(\n"
          ]
        },
        {
          "output_type": "execute_result",
          "data": {
            "text/plain": [
              "'Real Profit: 16368.0 , Predicted Profit: 17648'"
            ],
            "application/vnd.google.colaboratory.intrinsic+json": {
              "type": "string"
            }
          },
          "metadata": {},
          "execution_count": 276
        }
      ]
    },
    {
      "cell_type": "code",
      "source": [
        "#Calculating the profit with changing the price\n",
        "y_sample1_pred_list =[]\n",
        "minimum_price=1\n",
        "maximum_price=8000 \n",
        "for i in range(minimum_price,maximum_price):\n",
        "  X_sample1['price'] = i\n",
        "  y_sample1_pred = pipeline1.predict(pd.DataFrame(np.array(X_sample1).reshape(1, -1),columns=X_test.columns))\n",
        "  y_sample1_pred_list.append(y_sample1_pred[0])"
      ],
      "metadata": {
        "id": "cGIwc69d-jsQ"
      },
      "execution_count": 277,
      "outputs": []
    },
    {
      "cell_type": "code",
      "source": [
        "f\"Highest Profit is :{np.max(y_sample1_pred_list)}\""
      ],
      "metadata": {
        "colab": {
          "base_uri": "https://localhost:8080/",
          "height": 35
        },
        "id": "ODRjHhjt_J5I",
        "outputId": "e1087251-2947-4087-c5dc-66b19dac10d0"
      },
      "execution_count": 278,
      "outputs": [
        {
          "output_type": "execute_result",
          "data": {
            "text/plain": [
              "'Highest Profit is :36095.25409158071'"
            ],
            "application/vnd.google.colaboratory.intrinsic+json": {
              "type": "string"
            }
          },
          "metadata": {},
          "execution_count": 278
        }
      ]
    },
    {
      "cell_type": "code",
      "source": [
        "#ploting The profit on Y_axis and price on X_axis\n",
        "X_axis= [i for i in range(minimum_price,maximum_price)]\n",
        "plt.plot(X_axis,y_sample1_pred_list)"
      ],
      "metadata": {
        "colab": {
          "base_uri": "https://localhost:8080/",
          "height": 447
        },
        "id": "orh-mlNyF1F5",
        "outputId": "7ea0e399-9ccc-4dbd-f433-07e971b7cce1"
      },
      "execution_count": 279,
      "outputs": [
        {
          "output_type": "execute_result",
          "data": {
            "text/plain": [
              "[<matplotlib.lines.Line2D at 0x7fcaa595bca0>]"
            ]
          },
          "metadata": {},
          "execution_count": 279
        },
        {
          "output_type": "display_data",
          "data": {
            "text/plain": [
              "<Figure size 640x480 with 1 Axes>"
            ],
            "image/png": "[encoded data removed]"
          },
          "metadata": {}
        }
      ]
    },
    {
      "cell_type": "code",
      "source": [
        "#ploting The profit on Y_axis and price on X_axis\n",
        "X_axis= [i for i in range(minimum_price,500)]\n",
        "plt.plot(X_axis,y_sample1_pred_list[:499])\n",
        "plt.title(\"Figure-9\")\n",
        "plt.show()"
      ],
      "metadata": {
        "colab": {
          "base_uri": "https://localhost:8080/",
          "height": 452
        },
        "id": "o9PGt7FP_L-m",
        "outputId": "ef7a4960-8160-4752-f68d-3ab4c8f845bb"
      },
      "execution_count": 280,
      "outputs": [
        {
          "output_type": "display_data",
          "data": {
            "text/plain": [
              "<Figure size 640x480 with 1 Axes>"
            ],
            "image/png": "[encoded data removed]"
          },
          "metadata": {}
        }
      ]
    },
    {
      "cell_type": "code",
      "source": [
        "print(\"details of this Sample: \")\n",
        "for index, value in enumerate(X_test.iloc[max_price_row_num]):\n",
        "  if value:\n",
        "    print(X_test.columns[index], value)"
      ],
      "metadata": {
        "colab": {
          "base_uri": "https://localhost:8080/"
        },
        "id": "2VIwiPV8_oL5",
        "outputId": "c8899e57-6454-4da3-aa65-e8beb9549f78"
      },
      "execution_count": 281,
      "outputs": [
        {
          "output_type": "stream",
          "name": "stdout",
          "text": [
            "details of this Sample: \n",
            "listing_id 20471163.0\n",
            "host_since 2018.0\n",
            "host_total_listings_count 15.0\n",
            "latitude 48.86427\n",
            "longitude 2.28641\n",
            "accommodates 4.0\n",
            "bedrooms 2.0\n",
            "price 7999.0\n",
            "minimum_nights 1.0\n",
            "maximum_nights 1125.0\n",
            "review_scores_rating 92.9905467372134\n",
            "review_scores_accuracy 9.622137404580153\n",
            "review_scores_cleanliness 9.166772666242668\n",
            "review_scores_checkin 9.746710060846187\n",
            "review_scores_communication 9.772797964088788\n",
            "review_scores_location 9.58697806086341\n",
            "review_scores_value 9.348029155756846\n",
            "property_type_Entire villa 1.0\n",
            "room_type_Entire place 1.0\n",
            "Heating 1.0\n",
            "Air conditioning 1.0\n",
            "Kitchen 1.0\n",
            "Washer 1.0\n",
            "Dryer 1.0\n",
            "TV 1.0\n",
            "Wifi 1.0\n",
            "Pool 1.0\n"
          ]
        }
      ]
    },
    {
      "cell_type": "code",
      "source": [
        "print(\"Best price for best profit is :\",y_sample1_pred_list.index(np.max(y_sample1_pred_list)) )\n",
        "print(\"profit will be:\", np.max(y_sample1_pred_list))"
      ],
      "metadata": {
        "colab": {
          "base_uri": "https://localhost:8080/"
        },
        "id": "2GK1zhoq_SXH",
        "outputId": "a030fc0b-029b-46c0-b82f-6ec4ad9f7acd"
      },
      "execution_count": 282,
      "outputs": [
        {
          "output_type": "stream",
          "name": "stdout",
          "text": [
            "Best price for best profit is : 107\n",
            "profit will be: 36095.25409158071\n"
          ]
        }
      ]
    },
    {
      "cell_type": "markdown",
      "source": [
        "# **Getting the change in profit of the Data Mining**"
      ],
      "metadata": {
        "id": "jYGQEklAhMDV"
      }
    },
    {
      "cell_type": "markdown",
      "source": [
        "Real total Profit vs predicted total profit"
      ],
      "metadata": {
        "id": "22MRN17_hg8q"
      }
    },
    {
      "cell_type": "code",
      "source": [
        "y_pred.sum() , y_test.sum() , len(X_test)"
      ],
      "metadata": {
        "colab": {
          "base_uri": "https://localhost:8080/"
        },
        "id": "zLs0XyKPhBGy",
        "outputId": "3379f500-d083-4b00-d141-762a6bd0fb66"
      },
      "execution_count": 179,
      "outputs": [
        {
          "output_type": "execute_result",
          "data": {
            "text/plain": [
              "(91498387.07386541, 91808513.0, 3676)"
            ]
          },
          "metadata": {},
          "execution_count": 179
        }
      ]
    },
    {
      "cell_type": "code",
      "source": [
        "def get_max_predicted_profit(X):\n",
        "  #Calculating the profit with changing the price\n",
        "  y_pred_list =[]\n",
        "  minimum_price=1\n",
        "  maximum_price=300 \n",
        "  for i in range(minimum_price,maximum_price,10):\n",
        "    X['price'] = i\n",
        "    y_pred = pipeline1.predict(pd.DataFrame(np.array(X).reshape(1, -1),columns=X_test.columns))\n",
        "    y_pred_list.append(y_pred[0])\n",
        "  return np.max(y_pred_list)"
      ],
      "metadata": {
        "id": "bXWTspNHiiDk"
      },
      "execution_count": 187,
      "outputs": []
    },
    {
      "cell_type": "code",
      "source": [
        "maximum_total_predicted_profit=[]\n",
        "for i in range(len(X_test)):\n",
        "  print(i)\n",
        "  max_profit = get_max_predicted_profit(X_test.iloc[i])\n",
        "  maximum_total_predicted_profit.append(max_profit)\n"
      ],
      "metadata": {
        "colab": {
          "base_uri": "https://localhost:8080/"
        },
        "id": "IvVZbpKbhcB6",
        "outputId": "5b052ea5-1cdd-4707-c19f-6c73eb405cfd"
      },
      "execution_count": null,
      "outputs": [
        {
          "output_type": "stream",
          "name": "stdout",
          "text": [
            "2741\n",
            "2742\n",
            "2743\n",
            "2744\n",
            "2745\n",
            "2746\n",
            "2747\n",
            "2748\n",
            "2749\n",
            "2750\n",
            "2751\n",
            "2752\n",
            "2753\n",
            "2754\n",
            "2755\n",
            "2756\n",
            "2757\n",
            "2758\n",
            "2759\n",
            "2760\n",
            "2761\n",
            "2762\n",
            "2763\n",
            "2764\n",
            "2765\n",
            "2766\n",
            "2767\n",
            "2768\n",
            "2769\n",
            "2770\n",
            "2771\n",
            "2772\n",
            "2773\n",
            "2774\n",
            "2775\n",
            "2776\n",
            "2777\n",
            "2778\n",
            "2779\n",
            "2780\n",
            "2781\n",
            "2782\n",
            "2783\n",
            "2784\n",
            "2785\n",
            "2786\n",
            "2787\n",
            "2788\n",
            "2789\n",
            "2790\n",
            "2791\n",
            "2792\n",
            "2793\n",
            "2794\n",
            "2795\n",
            "2796\n",
            "2797\n",
            "2798\n",
            "2799\n",
            "2800\n",
            "2801\n",
            "2802\n",
            "2803\n",
            "2804\n",
            "2805\n",
            "2806\n",
            "2807\n",
            "2808\n",
            "2809\n",
            "2810\n",
            "2811\n",
            "2812\n",
            "2813\n",
            "2814\n",
            "2815\n",
            "2816\n",
            "2817\n",
            "2818\n",
            "2819\n",
            "2820\n",
            "2821\n",
            "2822\n",
            "2823\n",
            "2824\n",
            "2825\n",
            "2826\n",
            "2827\n",
            "2828\n",
            "2829\n",
            "2830\n",
            "2831\n",
            "2832\n",
            "2833\n",
            "2834\n",
            "2835\n",
            "2836\n",
            "2837\n",
            "2838\n",
            "2839\n",
            "2840\n",
            "2841\n",
            "2842\n",
            "2843\n",
            "2844\n",
            "2845\n",
            "2846\n",
            "2847\n",
            "2848\n",
            "2849\n",
            "2850\n",
            "2851\n",
            "2852\n",
            "2853\n",
            "2854\n",
            "2855\n",
            "2856\n",
            "2857\n",
            "2858\n",
            "2859\n",
            "2860\n",
            "2861\n",
            "2862\n",
            "2863\n",
            "2864\n",
            "2865\n",
            "2866\n",
            "2867\n",
            "2868\n",
            "2869\n",
            "2870\n",
            "2871\n",
            "2872\n",
            "2873\n",
            "2874\n",
            "2875\n",
            "2876\n",
            "2877\n",
            "2878\n",
            "2879\n",
            "2880\n",
            "2881\n",
            "2882\n",
            "2883\n",
            "2884\n",
            "2885\n",
            "2886\n",
            "2887\n",
            "2888\n",
            "2889\n",
            "2890\n",
            "2891\n",
            "2892\n",
            "2893\n",
            "2894\n",
            "2895\n",
            "2896\n",
            "2897\n",
            "2898\n",
            "2899\n",
            "2900\n",
            "2901\n",
            "2902\n",
            "2903\n",
            "2904\n",
            "2905\n",
            "2906\n",
            "2907\n",
            "2908\n",
            "2909\n",
            "2910\n",
            "2911\n",
            "2912\n",
            "2913\n",
            "2914\n",
            "2915\n",
            "2916\n",
            "2917\n",
            "2918\n",
            "2919\n",
            "2920\n",
            "2921\n",
            "2922\n",
            "2923\n",
            "2924\n",
            "2925\n",
            "2926\n",
            "2927\n",
            "2928\n",
            "2929\n",
            "2930\n",
            "2931\n",
            "2932\n",
            "2933\n",
            "2934\n",
            "2935\n",
            "2936\n",
            "2937\n",
            "2938\n",
            "2939\n",
            "2940\n",
            "2941\n",
            "2942\n",
            "2943\n",
            "2944\n",
            "2945\n",
            "2946\n",
            "2947\n",
            "2948\n",
            "2949\n",
            "2950\n",
            "2951\n",
            "2952\n",
            "2953\n",
            "2954\n",
            "2955\n",
            "2956\n",
            "2957\n",
            "2958\n",
            "2959\n",
            "2960\n",
            "2961\n",
            "2962\n",
            "2963\n",
            "2964\n",
            "2965\n",
            "2966\n",
            "2967\n",
            "2968\n",
            "2969\n",
            "2970\n",
            "2971\n",
            "2972\n",
            "2973\n",
            "2974\n",
            "2975\n",
            "2976\n",
            "2977\n",
            "2978\n",
            "2979\n",
            "2980\n",
            "2981\n",
            "2982\n",
            "2983\n",
            "2984\n",
            "2985\n",
            "2986\n",
            "2987\n",
            "2988\n",
            "2989\n",
            "2990\n",
            "2991\n",
            "2992\n",
            "2993\n",
            "2994\n",
            "2995\n",
            "2996\n",
            "2997\n",
            "2998\n",
            "2999\n",
            "3000\n",
            "3001\n",
            "3002\n",
            "3003\n",
            "3004\n",
            "3005\n",
            "3006\n",
            "3007\n",
            "3008\n",
            "3009\n",
            "3010\n",
            "3011\n",
            "3012\n",
            "3013\n",
            "3014\n",
            "3015\n",
            "3016\n",
            "3017\n",
            "3018\n",
            "3019\n",
            "3020\n",
            "3021\n",
            "3022\n",
            "3023\n",
            "3024\n",
            "3025\n",
            "3026\n",
            "3027\n",
            "3028\n",
            "3029\n",
            "3030\n",
            "3031\n",
            "3032\n",
            "3033\n",
            "3034\n",
            "3035\n",
            "3036\n",
            "3037\n",
            "3038\n",
            "3039\n",
            "3040\n",
            "3041\n",
            "3042\n",
            "3043\n",
            "3044\n",
            "3045\n",
            "3046\n",
            "3047\n",
            "3048\n",
            "3049\n",
            "3050\n",
            "3051\n",
            "3052\n",
            "3053\n",
            "3054\n",
            "3055\n",
            "3056\n",
            "3057\n",
            "3058\n",
            "3059\n",
            "3060\n",
            "3061\n",
            "3062\n",
            "3063\n",
            "3064\n",
            "3065\n",
            "3066\n",
            "3067\n",
            "3068\n",
            "3069\n",
            "3070\n",
            "3071\n",
            "3072\n",
            "3073\n",
            "3074\n",
            "3075\n",
            "3076\n",
            "3077\n",
            "3078\n",
            "3079\n",
            "3080\n",
            "3081\n",
            "3082\n",
            "3083\n",
            "3084\n",
            "3085\n",
            "3086\n",
            "3087\n",
            "3088\n",
            "3089\n",
            "3090\n",
            "3091\n",
            "3092\n",
            "3093\n",
            "3094\n",
            "3095\n",
            "3096\n",
            "3097\n",
            "3098\n",
            "3099\n",
            "3100\n",
            "3101\n",
            "3102\n",
            "3103\n",
            "3104\n",
            "3105\n",
            "3106\n",
            "3107\n",
            "3108\n",
            "3109\n",
            "3110\n",
            "3111\n",
            "3112\n",
            "3113\n",
            "3114\n",
            "3115\n",
            "3116\n",
            "3117\n",
            "3118\n",
            "3119\n",
            "3120\n",
            "3121\n",
            "3122\n",
            "3123\n",
            "3124\n",
            "3125\n",
            "3126\n",
            "3127\n",
            "3128\n",
            "3129\n",
            "3130\n",
            "3131\n",
            "3132\n",
            "3133\n",
            "3134\n",
            "3135\n",
            "3136\n",
            "3137\n",
            "3138\n",
            "3139\n",
            "3140\n",
            "3141\n",
            "3142\n",
            "3143\n",
            "3144\n",
            "3145\n",
            "3146\n",
            "3147\n",
            "3148\n",
            "3149\n",
            "3150\n",
            "3151\n",
            "3152\n",
            "3153\n",
            "3154\n",
            "3155\n",
            "3156\n",
            "3157\n",
            "3158\n",
            "3159\n",
            "3160\n",
            "3161\n",
            "3162\n",
            "3163\n",
            "3164\n",
            "3165\n",
            "3166\n",
            "3167\n",
            "3168\n",
            "3169\n",
            "3170\n",
            "3171\n",
            "3172\n",
            "3173\n",
            "3174\n",
            "3175\n",
            "3176\n",
            "3177\n",
            "3178\n",
            "3179\n",
            "3180\n",
            "3181\n",
            "3182\n",
            "3183\n",
            "3184\n",
            "3185\n",
            "3186\n",
            "3187\n",
            "3188\n",
            "3189\n",
            "3190\n"
          ]
        }
      ]
    },
    {
      "cell_type": "code",
      "source": [
        "len(maximum_total_predicted_profit)"
      ],
      "metadata": {
        "colab": {
          "base_uri": "https://localhost:8080/"
        },
        "id": "oOXgqd6wjXGL",
        "outputId": "1af9b5e3-51d8-4fdb-edda-62b5c126b74c"
      },
      "execution_count": 189,
      "outputs": [
        {
          "output_type": "execute_result",
          "data": {
            "text/plain": [
              "3676"
            ]
          },
          "metadata": {},
          "execution_count": 189
        }
      ]
    },
    {
      "cell_type": "code",
      "source": [
        "f\"total predicted maximum profit: {np.sum(maximum_total_predicted_profit)}\""
      ],
      "metadata": {
        "colab": {
          "base_uri": "https://localhost:8080/",
          "height": 35
        },
        "id": "6WY6oxfywhdc",
        "outputId": "73c7f878-7665-45d0-ff40-7fc4fa88e754"
      },
      "execution_count": 196,
      "outputs": [
        {
          "output_type": "execute_result",
          "data": {
            "text/plain": [
              "'total predicted maximum profit: 124012677.58384113'"
            ],
            "application/vnd.google.colaboratory.intrinsic+json": {
              "type": "string"
            }
          },
          "metadata": {},
          "execution_count": 196
        }
      ]
    },
    {
      "cell_type": "code",
      "source": [
        "f\"total diference between old profit and new profit: {int(np.sum(maximum_total_predicted_profit)-y_test.sum())}\""
      ],
      "metadata": {
        "colab": {
          "base_uri": "https://localhost:8080/",
          "height": 35
        },
        "id": "yDyQB6W9wkuM",
        "outputId": "2dd4c456-58e6-48d3-f161-a0e24198a910"
      },
      "execution_count": 197,
      "outputs": [
        {
          "output_type": "execute_result",
          "data": {
            "text/plain": [
              "'total diference between old profit and new profit: 32204164'"
            ],
            "application/vnd.google.colaboratory.intrinsic+json": {
              "type": "string"
            }
          },
          "metadata": {},
          "execution_count": 197
        }
      ]
    },
    {
      "cell_type": "code",
      "source": [
        "Rate_of_increasing = int(np.sum(maximum_total_predicted_profit)-y_test.sum())*100/y_test.sum()\n",
        "f\"The percentage increasment in the profit is : {int(Rate_of_increasing)}%\""
      ],
      "metadata": {
        "colab": {
          "base_uri": "https://localhost:8080/",
          "height": 35
        },
        "id": "_VkMHet3xBFd",
        "outputId": "052003ca-1a04-4b34-c4d2-29ffac704833"
      },
      "execution_count": 201,
      "outputs": [
        {
          "output_type": "execute_result",
          "data": {
            "text/plain": [
              "'The percentage increasment in the profit is : 35%'"
            ],
            "application/vnd.google.colaboratory.intrinsic+json": {
              "type": "string"
            }
          },
          "metadata": {},
          "execution_count": 201
        }
      ]
    },
    {
      "cell_type": "code",
      "source": [
        "Error = len(X_test)*2000\n",
        "f\"Error +-{Error}\""
      ],
      "metadata": {
        "colab": {
          "base_uri": "https://localhost:8080/",
          "height": 35
        },
        "id": "RQG1p0uByNj1",
        "outputId": "d5902910-f9ea-4391-fe5f-f018a9e1985d"
      },
      "execution_count": 203,
      "outputs": [
        {
          "output_type": "execute_result",
          "data": {
            "text/plain": [
              "'Error +-7352000'"
            ],
            "application/vnd.google.colaboratory.intrinsic+json": {
              "type": "string"
            }
          },
          "metadata": {},
          "execution_count": 203
        }
      ]
    },
    {
      "cell_type": "code",
      "source": [
        "lowest_profit_percentage = (int(np.sum(maximum_total_predicted_profit)-y_test.sum())-Error)*100/y_test.sum()\n",
        "maximum_profit_percentage = (int(np.sum(maximum_total_predicted_profit)-y_test.sum())+Error)*100/y_test.sum()\n",
        "f\"The percentage increasment in the profit is between : {int(lowest_profit_percentage)}% - {int(maximum_profit_percentage)}%\""
      ],
      "metadata": {
        "colab": {
          "base_uri": "https://localhost:8080/",
          "height": 35
        },
        "id": "953Ic4aCyc70",
        "outputId": "492eee00-1a8f-4105-97e5-fb80d1ee112a"
      },
      "execution_count": 206,
      "outputs": [
        {
          "output_type": "execute_result",
          "data": {
            "text/plain": [
              "'The percentage increasment in the profit is between : 27% - 43%'"
            ],
            "application/vnd.google.colaboratory.intrinsic+json": {
              "type": "string"
            }
          },
          "metadata": {},
          "execution_count": 206
        }
      ]
    },
    {
      "cell_type": "markdown",
      "source": [
        "The business Goal is achieved with 27% - 43% profit"
      ],
      "metadata": {
        "id": "AL5xid0MzIQY"
      }
    },
    {
      "cell_type": "code",
      "source": [
        "#ploting The max profit on Y_axis and listing index on X_axis\n",
        "X_axis= [i for i in range(0,3676)]\n",
        "plt.plot(X_axis,maximum_total_predicted_profit)\n",
        "plt.title(\"Figure-10\")\n",
        "plt.show()"
      ],
      "metadata": {
        "colab": {
          "base_uri": "https://localhost:8080/",
          "height": 452
        },
        "id": "g1jZ9erAy6Dk",
        "outputId": "d581cded-3747-4608-c547-3d77d6ffbbf2"
      },
      "execution_count": 283,
      "outputs": [
        {
          "output_type": "display_data",
          "data": {
            "text/plain": [
              "<Figure size 640x480 with 1 Axes>"
            ],
            "image/png": "[encoded data removed]"
          },
          "metadata": {}
        }
      ]
    },
    {
      "cell_type": "code",
      "source": [
        "plt.hist(y_test,bins=100)\n",
        "plt.hist(maximum_total_predicted_profit,bins=100)\n",
        "plt.title(\"Figure-11\")\n",
        "plt.show()"
      ],
      "metadata": {
        "colab": {
          "base_uri": "https://localhost:8080/",
          "height": 452
        },
        "id": "omHsWJfn0nU9",
        "outputId": "407ade09-621d-45b4-a1b6-2c02c2e95c22"
      },
      "execution_count": 284,
      "outputs": [
        {
          "output_type": "display_data",
          "data": {
            "text/plain": [
              "<Figure size 640x480 with 1 Axes>"
            ],
            "image/png": "[encoded data removed]"
          },
          "metadata": {}
        }
      ]
    },
    {
      "cell_type": "code",
      "source": [],
      "metadata": {
        "id": "5yYVe4mg0u02"
      },
      "execution_count": null,
      "outputs": []
    }
  ],
  "metadata": {
    "accelerator": "GPU",
    "colab": {
      "provenance": []
    },
    "gpuClass": "standard",
    "kernelspec": {
      "display_name": "Python 3",
      "name": "python3"
    },
    "language_info": {
      "name": "python"
    },
    "widgets": {
      "application/vnd.jupyter.widget-state+json": {
        "a23cc874d8984dcfa81994802f12dfff": {
          "model_module": "@jupyter-widgets/controls",
          "model_name": "HBoxModel",
          "model_module_version": "1.5.0",
          "state": {
            "_dom_classes": [],
            "_model_module": "@jupyter-widgets/controls",
            "_model_module_version": "1.5.0",
            "_model_name": "HBoxModel",
            "_view_count": null,
            "_view_module": "@jupyter-widgets/controls",
            "_view_module_version": "1.5.0",
            "_view_name": "HBoxView",
            "box_style": "",
            "children": [
              "IPY_MODEL_830a1c5eb5c64833b078ea0f5c02c78d",
              "IPY_MODEL_b4a6ccca330f488999b766578ba3efbd",
              "IPY_MODEL_e420d99952fc4de2b52340d3a527c87c"
            ],
            "layout": "IPY_MODEL_2023a3647f0b452eab4f4458765e1e07"
          }
        },
        "830a1c5eb5c64833b078ea0f5c02c78d": {
          "model_module": "@jupyter-widgets/controls",
          "model_name": "HTMLModel",
          "model_module_version": "1.5.0",
          "state": {
            "_dom_classes": [],
            "_model_module": "@jupyter-widgets/controls",
            "_model_module_version": "1.5.0",
            "_model_name": "HTMLModel",
            "_view_count": null,
            "_view_module": "@jupyter-widgets/controls",
            "_view_module_version": "1.5.0",
            "_view_name": "HTMLView",
            "description": "",
            "description_tooltip": null,
            "layout": "IPY_MODEL_5434975ec1d147faafefc485549187f3",
            "placeholder": "​",
            "style": "IPY_MODEL_b3a7909acddd4998988579c42860abe7",
            "value": "Optimization Progress:  84%"
          }
        },
        "b4a6ccca330f488999b766578ba3efbd": {
          "model_module": "@jupyter-widgets/controls",
          "model_name": "FloatProgressModel",
          "model_module_version": "1.5.0",
          "state": {
            "_dom_classes": [],
            "_model_module": "@jupyter-widgets/controls",
            "_model_module_version": "1.5.0",
            "_model_name": "FloatProgressModel",
            "_view_count": null,
            "_view_module": "@jupyter-widgets/controls",
            "_view_module_version": "1.5.0",
            "_view_name": "ProgressView",
            "bar_style": "danger",
            "description": "",
            "description_tooltip": null,
            "layout": "IPY_MODEL_ad30d9c5ad504607847f7c95139d852b",
            "max": 20,
            "min": 0,
            "orientation": "horizontal",
            "style": "IPY_MODEL_37c8632f656b4979a163fc189a5366ff",
            "value": 20
          }
        },
        "e420d99952fc4de2b52340d3a527c87c": {
          "model_module": "@jupyter-widgets/controls",
          "model_name": "HTMLModel",
          "model_module_version": "1.5.0",
          "state": {
            "_dom_classes": [],
            "_model_module": "@jupyter-widgets/controls",
            "_model_module_version": "1.5.0",
            "_model_name": "HTMLModel",
            "_view_count": null,
            "_view_module": "@jupyter-widgets/controls",
            "_view_module_version": "1.5.0",
            "_view_name": "HTMLView",
            "description": "",
            "description_tooltip": null,
            "layout": "IPY_MODEL_a7473f4f945049769d9223350c88cfd0",
            "placeholder": "​",
            "style": "IPY_MODEL_d2335e81328946ed9d4254a9fc8c5cb4",
            "value": " 67/80 [1:00:58&lt;16:39, 76.91s/pipeline]"
          }
        },
        "2023a3647f0b452eab4f4458765e1e07": {
          "model_module": "@jupyter-widgets/base",
          "model_name": "LayoutModel",
          "model_module_version": "1.2.0",
          "state": {
            "_model_module": "@jupyter-widgets/base",
            "_model_module_version": "1.2.0",
            "_model_name": "LayoutModel",
            "_view_count": null,
            "_view_module": "@jupyter-widgets/base",
            "_view_module_version": "1.2.0",
            "_view_name": "LayoutView",
            "align_content": null,
            "align_items": null,
            "align_self": null,
            "border": null,
            "bottom": null,
            "display": null,
            "flex": null,
            "flex_flow": null,
            "grid_area": null,
            "grid_auto_columns": null,
            "grid_auto_flow": null,
            "grid_auto_rows": null,
            "grid_column": null,
            "grid_gap": null,
            "grid_row": null,
            "grid_template_areas": null,
            "grid_template_columns": null,
            "grid_template_rows": null,
            "height": null,
            "justify_content": null,
            "justify_items": null,
            "left": null,
            "margin": null,
            "max_height": null,
            "max_width": null,
            "min_height": null,
            "min_width": null,
            "object_fit": null,
            "object_position": null,
            "order": null,
            "overflow": null,
            "overflow_x": null,
            "overflow_y": null,
            "padding": null,
            "right": null,
            "top": null,
            "visibility": null,
            "width": null
          }
        },
        "5434975ec1d147faafefc485549187f3": {
          "model_module": "@jupyter-widgets/base",
          "model_name": "LayoutModel",
          "model_module_version": "1.2.0",
          "state": {
            "_model_module": "@jupyter-widgets/base",
            "_model_module_version": "1.2.0",
            "_model_name": "LayoutModel",
            "_view_count": null,
            "_view_module": "@jupyter-widgets/base",
            "_view_module_version": "1.2.0",
            "_view_name": "LayoutView",
            "align_content": null,
            "align_items": null,
            "align_self": null,
            "border": null,
            "bottom": null,
            "display": null,
            "flex": null,
            "flex_flow": null,
            "grid_area": null,
            "grid_auto_columns": null,
            "grid_auto_flow": null,
            "grid_auto_rows": null,
            "grid_column": null,
            "grid_gap": null,
            "grid_row": null,
            "grid_template_areas": null,
            "grid_template_columns": null,
            "grid_template_rows": null,
            "height": null,
            "justify_content": null,
            "justify_items": null,
            "left": null,
            "margin": null,
            "max_height": null,
            "max_width": null,
            "min_height": null,
            "min_width": null,
            "object_fit": null,
            "object_position": null,
            "order": null,
            "overflow": null,
            "overflow_x": null,
            "overflow_y": null,
            "padding": null,
            "right": null,
            "top": null,
            "visibility": null,
            "width": null
          }
        },
        "b3a7909acddd4998988579c42860abe7": {
          "model_module": "@jupyter-widgets/controls",
          "model_name": "DescriptionStyleModel",
          "model_module_version": "1.5.0",
          "state": {
            "_model_module": "@jupyter-widgets/controls",
            "_model_module_version": "1.5.0",
            "_model_name": "DescriptionStyleModel",
            "_view_count": null,
            "_view_module": "@jupyter-widgets/base",
            "_view_module_version": "1.2.0",
            "_view_name": "StyleView",
            "description_width": ""
          }
        },
        "ad30d9c5ad504607847f7c95139d852b": {
          "model_module": "@jupyter-widgets/base",
          "model_name": "LayoutModel",
          "model_module_version": "1.2.0",
          "state": {
            "_model_module": "@jupyter-widgets/base",
            "_model_module_version": "1.2.0",
            "_model_name": "LayoutModel",
            "_view_count": null,
            "_view_module": "@jupyter-widgets/base",
            "_view_module_version": "1.2.0",
            "_view_name": "LayoutView",
            "align_content": null,
            "align_items": null,
            "align_self": null,
            "border": null,
            "bottom": null,
            "display": null,
            "flex": null,
            "flex_flow": null,
            "grid_area": null,
            "grid_auto_columns": null,
            "grid_auto_flow": null,
            "grid_auto_rows": null,
            "grid_column": null,
            "grid_gap": null,
            "grid_row": null,
            "grid_template_areas": null,
            "grid_template_columns": null,
            "grid_template_rows": null,
            "height": null,
            "justify_content": null,
            "justify_items": null,
            "left": null,
            "margin": null,
            "max_height": null,
            "max_width": null,
            "min_height": null,
            "min_width": null,
            "object_fit": null,
            "object_position": null,
            "order": null,
            "overflow": null,
            "overflow_x": null,
            "overflow_y": null,
            "padding": null,
            "right": null,
            "top": null,
            "visibility": null,
            "width": null
          }
        },
        "37c8632f656b4979a163fc189a5366ff": {
          "model_module": "@jupyter-widgets/controls",
          "model_name": "ProgressStyleModel",
          "model_module_version": "1.5.0",
          "state": {
            "_model_module": "@jupyter-widgets/controls",
            "_model_module_version": "1.5.0",
            "_model_name": "ProgressStyleModel",
            "_view_count": null,
            "_view_module": "@jupyter-widgets/base",
            "_view_module_version": "1.2.0",
            "_view_name": "StyleView",
            "bar_color": null,
            "description_width": ""
          }
        },
        "a7473f4f945049769d9223350c88cfd0": {
          "model_module": "@jupyter-widgets/base",
          "model_name": "LayoutModel",
          "model_module_version": "1.2.0",
          "state": {
            "_model_module": "@jupyter-widgets/base",
            "_model_module_version": "1.2.0",
            "_model_name": "LayoutModel",
            "_view_count": null,
            "_view_module": "@jupyter-widgets/base",
            "_view_module_version": "1.2.0",
            "_view_name": "LayoutView",
            "align_content": null,
            "align_items": null,
            "align_self": null,
            "border": null,
            "bottom": null,
            "display": null,
            "flex": null,
            "flex_flow": null,
            "grid_area": null,
            "grid_auto_columns": null,
            "grid_auto_flow": null,
            "grid_auto_rows": null,
            "grid_column": null,
            "grid_gap": null,
            "grid_row": null,
            "grid_template_areas": null,
            "grid_template_columns": null,
            "grid_template_rows": null,
            "height": null,
            "justify_content": null,
            "justify_items": null,
            "left": null,
            "margin": null,
            "max_height": null,
            "max_width": null,
            "min_height": null,
            "min_width": null,
            "object_fit": null,
            "object_position": null,
            "order": null,
            "overflow": null,
            "overflow_x": null,
            "overflow_y": null,
            "padding": null,
            "right": null,
            "top": null,
            "visibility": null,
            "width": null
          }
        },
        "d2335e81328946ed9d4254a9fc8c5cb4": {
          "model_module": "@jupyter-widgets/controls",
          "model_name": "DescriptionStyleModel",
          "model_module_version": "1.5.0",
          "state": {
            "_model_module": "@jupyter-widgets/controls",
            "_model_module_version": "1.5.0",
            "_model_name": "DescriptionStyleModel",
            "_view_count": null,
            "_view_module": "@jupyter-widgets/base",
            "_view_module_version": "1.2.0",
            "_view_name": "StyleView",
            "description_width": ""
          }
        }
      }
    }
  },
  "nbformat": 4,
  "nbformat_minor": 0
}