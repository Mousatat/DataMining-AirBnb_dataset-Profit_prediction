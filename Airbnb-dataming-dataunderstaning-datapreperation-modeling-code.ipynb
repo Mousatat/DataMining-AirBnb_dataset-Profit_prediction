{
  "nbformat": 4,
  "nbformat_minor": 0,
  "metadata": {
    "colab": {
      "provenance": []
    },
    "kernelspec": {
      "name": "python3",
      "display_name": "Python 3"
    },
    "language_info": {
      "name": "python"
    },
    "gpuClass": "standard",
    "accelerator": "GPU",
    "widgets": {
      "application/vnd.jupyter.widget-state+json": {
        "b8d0747218044b54837ae070047b9fca": {
          "model_module": "@jupyter-widgets/controls",
          "model_name": "HBoxModel",
          "model_module_version": "1.5.0",
          "state": {
            "_dom_classes": [],
            "_model_module": "@jupyter-widgets/controls",
            "_model_module_version": "1.5.0",
            "_model_name": "HBoxModel",
            "_view_count": null,
            "_view_module": "@jupyter-widgets/controls",
            "_view_module_version": "1.5.0",
            "_view_name": "HBoxView",
            "box_style": "",
            "children": [
              "IPY_MODEL_025a620a90904644a00d7e753e33b878",
              "IPY_MODEL_b6317796ba4e4795930bd18ea2329373",
              "IPY_MODEL_250734b9f8d64f2f946f4bb972cabae0"
            ],
            "layout": "IPY_MODEL_ec22f722c7ba449e932eefb98b2ccf33"
          }
        },
        "025a620a90904644a00d7e753e33b878": {
          "model_module": "@jupyter-widgets/controls",
          "model_name": "HTMLModel",
          "model_module_version": "1.5.0",
          "state": {
            "_dom_classes": [],
            "_model_module": "@jupyter-widgets/controls",
            "_model_module_version": "1.5.0",
            "_model_name": "HTMLModel",
            "_view_count": null,
            "_view_module": "@jupyter-widgets/controls",
            "_view_module_version": "1.5.0",
            "_view_name": "HTMLView",
            "description": "",
            "description_tooltip": null,
            "layout": "IPY_MODEL_e9b6b3719a9e432ca7c9645d63128884",
            "placeholder": "​",
            "style": "IPY_MODEL_6fdc3cb9de7a4c89b318c7f4b68ff3e4",
            "value": "Optimization Progress: 100%"
          }
        },
        "b6317796ba4e4795930bd18ea2329373": {
          "model_module": "@jupyter-widgets/controls",
          "model_name": "FloatProgressModel",
          "model_module_version": "1.5.0",
          "state": {
            "_dom_classes": [],
            "_model_module": "@jupyter-widgets/controls",
            "_model_module_version": "1.5.0",
            "_model_name": "FloatProgressModel",
            "_view_count": null,
            "_view_module": "@jupyter-widgets/controls",
            "_view_module_version": "1.5.0",
            "_view_name": "ProgressView",
            "bar_style": "",
            "description": "",
            "description_tooltip": null,
            "layout": "IPY_MODEL_494db722cdfe44b5a908e47d3fbbd3ab",
            "max": 120,
            "min": 0,
            "orientation": "horizontal",
            "style": "IPY_MODEL_2db4085560764ddb809d26e868f38841",
            "value": 120
          }
        },
        "250734b9f8d64f2f946f4bb972cabae0": {
          "model_module": "@jupyter-widgets/controls",
          "model_name": "HTMLModel",
          "model_module_version": "1.5.0",
          "state": {
            "_dom_classes": [],
            "_model_module": "@jupyter-widgets/controls",
            "_model_module_version": "1.5.0",
            "_model_name": "HTMLModel",
            "_view_count": null,
            "_view_module": "@jupyter-widgets/controls",
            "_view_module_version": "1.5.0",
            "_view_name": "HTMLView",
            "description": "",
            "description_tooltip": null,
            "layout": "IPY_MODEL_93c60a8145f84c72b9e15fc7af6c1250",
            "placeholder": "​",
            "style": "IPY_MODEL_f051e36a080f4ccb922af65d1d6210d2",
            "value": " 120/120 [18:15&lt;00:00, 13.07s/pipeline]"
          }
        },
        "ec22f722c7ba449e932eefb98b2ccf33": {
          "model_module": "@jupyter-widgets/base",
          "model_name": "LayoutModel",
          "model_module_version": "1.2.0",
          "state": {
            "_model_module": "@jupyter-widgets/base",
            "_model_module_version": "1.2.0",
            "_model_name": "LayoutModel",
            "_view_count": null,
            "_view_module": "@jupyter-widgets/base",
            "_view_module_version": "1.2.0",
            "_view_name": "LayoutView",
            "align_content": null,
            "align_items": null,
            "align_self": null,
            "border": null,
            "bottom": null,
            "display": null,
            "flex": null,
            "flex_flow": null,
            "grid_area": null,
            "grid_auto_columns": null,
            "grid_auto_flow": null,
            "grid_auto_rows": null,
            "grid_column": null,
            "grid_gap": null,
            "grid_row": null,
            "grid_template_areas": null,
            "grid_template_columns": null,
            "grid_template_rows": null,
            "height": null,
            "justify_content": null,
            "justify_items": null,
            "left": null,
            "margin": null,
            "max_height": null,
            "max_width": null,
            "min_height": null,
            "min_width": null,
            "object_fit": null,
            "object_position": null,
            "order": null,
            "overflow": null,
            "overflow_x": null,
            "overflow_y": null,
            "padding": null,
            "right": null,
            "top": null,
            "visibility": "hidden",
            "width": null
          }
        },
        "e9b6b3719a9e432ca7c9645d63128884": {
          "model_module": "@jupyter-widgets/base",
          "model_name": "LayoutModel",
          "model_module_version": "1.2.0",
          "state": {
            "_model_module": "@jupyter-widgets/base",
            "_model_module_version": "1.2.0",
            "_model_name": "LayoutModel",
            "_view_count": null,
            "_view_module": "@jupyter-widgets/base",
            "_view_module_version": "1.2.0",
            "_view_name": "LayoutView",
            "align_content": null,
            "align_items": null,
            "align_self": null,
            "border": null,
            "bottom": null,
            "display": null,
            "flex": null,
            "flex_flow": null,
            "grid_area": null,
            "grid_auto_columns": null,
            "grid_auto_flow": null,
            "grid_auto_rows": null,
            "grid_column": null,
            "grid_gap": null,
            "grid_row": null,
            "grid_template_areas": null,
            "grid_template_columns": null,
            "grid_template_rows": null,
            "height": null,
            "justify_content": null,
            "justify_items": null,
            "left": null,
            "margin": null,
            "max_height": null,
            "max_width": null,
            "min_height": null,
            "min_width": null,
            "object_fit": null,
            "object_position": null,
            "order": null,
            "overflow": null,
            "overflow_x": null,
            "overflow_y": null,
            "padding": null,
            "right": null,
            "top": null,
            "visibility": null,
            "width": null
          }
        },
        "6fdc3cb9de7a4c89b318c7f4b68ff3e4": {
          "model_module": "@jupyter-widgets/controls",
          "model_name": "DescriptionStyleModel",
          "model_module_version": "1.5.0",
          "state": {
            "_model_module": "@jupyter-widgets/controls",
            "_model_module_version": "1.5.0",
            "_model_name": "DescriptionStyleModel",
            "_view_count": null,
            "_view_module": "@jupyter-widgets/base",
            "_view_module_version": "1.2.0",
            "_view_name": "StyleView",
            "description_width": ""
          }
        },
        "494db722cdfe44b5a908e47d3fbbd3ab": {
          "model_module": "@jupyter-widgets/base",
          "model_name": "LayoutModel",
          "model_module_version": "1.2.0",
          "state": {
            "_model_module": "@jupyter-widgets/base",
            "_model_module_version": "1.2.0",
            "_model_name": "LayoutModel",
            "_view_count": null,
            "_view_module": "@jupyter-widgets/base",
            "_view_module_version": "1.2.0",
            "_view_name": "LayoutView",
            "align_content": null,
            "align_items": null,
            "align_self": null,
            "border": null,
            "bottom": null,
            "display": null,
            "flex": null,
            "flex_flow": null,
            "grid_area": null,
            "grid_auto_columns": null,
            "grid_auto_flow": null,
            "grid_auto_rows": null,
            "grid_column": null,
            "grid_gap": null,
            "grid_row": null,
            "grid_template_areas": null,
            "grid_template_columns": null,
            "grid_template_rows": null,
            "height": null,
            "justify_content": null,
            "justify_items": null,
            "left": null,
            "margin": null,
            "max_height": null,
            "max_width": null,
            "min_height": null,
            "min_width": null,
            "object_fit": null,
            "object_position": null,
            "order": null,
            "overflow": null,
            "overflow_x": null,
            "overflow_y": null,
            "padding": null,
            "right": null,
            "top": null,
            "visibility": null,
            "width": null
          }
        },
        "2db4085560764ddb809d26e868f38841": {
          "model_module": "@jupyter-widgets/controls",
          "model_name": "ProgressStyleModel",
          "model_module_version": "1.5.0",
          "state": {
            "_model_module": "@jupyter-widgets/controls",
            "_model_module_version": "1.5.0",
            "_model_name": "ProgressStyleModel",
            "_view_count": null,
            "_view_module": "@jupyter-widgets/base",
            "_view_module_version": "1.2.0",
            "_view_name": "StyleView",
            "bar_color": null,
            "description_width": ""
          }
        },
        "93c60a8145f84c72b9e15fc7af6c1250": {
          "model_module": "@jupyter-widgets/base",
          "model_name": "LayoutModel",
          "model_module_version": "1.2.0",
          "state": {
            "_model_module": "@jupyter-widgets/base",
            "_model_module_version": "1.2.0",
            "_model_name": "LayoutModel",
            "_view_count": null,
            "_view_module": "@jupyter-widgets/base",
            "_view_module_version": "1.2.0",
            "_view_name": "LayoutView",
            "align_content": null,
            "align_items": null,
            "align_self": null,
            "border": null,
            "bottom": null,
            "display": null,
            "flex": null,
            "flex_flow": null,
            "grid_area": null,
            "grid_auto_columns": null,
            "grid_auto_flow": null,
            "grid_auto_rows": null,
            "grid_column": null,
            "grid_gap": null,
            "grid_row": null,
            "grid_template_areas": null,
            "grid_template_columns": null,
            "grid_template_rows": null,
            "height": null,
            "justify_content": null,
            "justify_items": null,
            "left": null,
            "margin": null,
            "max_height": null,
            "max_width": null,
            "min_height": null,
            "min_width": null,
            "object_fit": null,
            "object_position": null,
            "order": null,
            "overflow": null,
            "overflow_x": null,
            "overflow_y": null,
            "padding": null,
            "right": null,
            "top": null,
            "visibility": null,
            "width": null
          }
        },
        "f051e36a080f4ccb922af65d1d6210d2": {
          "model_module": "@jupyter-widgets/controls",
          "model_name": "DescriptionStyleModel",
          "model_module_version": "1.5.0",
          "state": {
            "_model_module": "@jupyter-widgets/controls",
            "_model_module_version": "1.5.0",
            "_model_name": "DescriptionStyleModel",
            "_view_count": null,
            "_view_module": "@jupyter-widgets/base",
            "_view_module_version": "1.2.0",
            "_view_name": "StyleView",
            "description_width": ""
          }
        }
      }
    }
  },
  "cells": [
    {
      "cell_type": "markdown",
      "source": [
        "**The following code mounts the Google Drive to the Colab notebook environment.**\n",
        "# install libraries and unzip files"
      ],
      "metadata": {
        "id": "_1gcStSGO6B8"
      }
    },
    {
      "cell_type": "code",
      "execution_count": 1,
      "metadata": {
        "colab": {
          "base_uri": "https://localhost:8080/"
        },
        "id": "NiZtR0g1HEUi",
        "outputId": "3a736314-50fb-4c1c-de79-3a2b6dba8fd7"
      },
      "outputs": [
        {
          "output_type": "stream",
          "name": "stdout",
          "text": [
            "Mounted at /content/drive/\n"
          ]
        }
      ],
      "source": [
        "from google.colab import drive\n",
        "drive.mount('/content/drive/')"
      ]
    },
    {
      "cell_type": "code",
      "source": [
        "!unzip /content/drive/MyDrive/AirbnbDatasets.zip"
      ],
      "metadata": {
        "colab": {
          "base_uri": "https://localhost:8080/"
        },
        "id": "Q8j4M5X4HKOz",
        "outputId": "4f032910-f765-4240-ffa0-294e73e747ff"
      },
      "execution_count": 2,
      "outputs": [
        {
          "output_type": "stream",
          "name": "stdout",
          "text": [
            "Archive:  /content/drive/MyDrive/AirbnbDatasets.zip\n",
            "  inflating: Airbnb Data/Listings.csv  \n",
            "  inflating: Airbnb Data/Listings_data_dictionary.csv  \n",
            "  inflating: Airbnb Data/Reviews.csv  \n",
            "  inflating: Airbnb Data/Reviews_data_dictionary.csv  \n"
          ]
        }
      ]
    },
    {
      "cell_type": "markdown",
      "source": [
        "Link to the resource of the calender paris 2021 dataset\n",
        "https://www.kaggle.com/datasets/joaobatistafilho/airbnbpariscalendar"
      ],
      "metadata": {
        "id": "yhLzr4kfwRpF"
      }
    },
    {
      "cell_type": "code",
      "source": [
        "!unzip /content/drive/MyDrive/Paris-calender.zip"
      ],
      "metadata": {
        "colab": {
          "base_uri": "https://localhost:8080/"
        },
        "id": "RJ1MjTS_KrQ_",
        "outputId": "2491467e-ab68-4fd2-e874-f61b8171a0e8"
      },
      "execution_count": 3,
      "outputs": [
        {
          "output_type": "stream",
          "name": "stdout",
          "text": [
            "Archive:  /content/drive/MyDrive/Paris-calender.zip\n",
            "  inflating: Paris-calendar-2021.csv  \n"
          ]
        }
      ]
    },
    {
      "cell_type": "code",
      "source": [
        "!pip install tpot"
      ],
      "metadata": {
        "colab": {
          "base_uri": "https://localhost:8080/"
        },
        "id": "wc_f3Plrj0Rk",
        "outputId": "15a44039-0f3b-4fad-b772-92b5f1905c40"
      },
      "execution_count": 4,
      "outputs": [
        {
          "output_type": "stream",
          "name": "stdout",
          "text": [
            "Looking in indexes: https://pypi.org/simple, https://us-python.pkg.dev/colab-wheels/public/simple/\n",
            "Collecting tpot\n",
            "  Downloading TPOT-0.11.7-py3-none-any.whl (87 kB)\n",
            "\u001b[2K     \u001b[90m━━━━━━━━━━━━━━━━━━━━━━━━━━━━━━━━━━━━━━━━\u001b[0m \u001b[32m87.2/87.2 KB\u001b[0m \u001b[31m9.9 MB/s\u001b[0m eta \u001b[36m0:00:00\u001b[0m\n",
            "\u001b[?25hRequirement already satisfied: tqdm>=4.36.1 in /usr/local/lib/python3.9/dist-packages (from tpot) (4.65.0)\n",
            "Requirement already satisfied: pandas>=0.24.2 in /usr/local/lib/python3.9/dist-packages (from tpot) (1.4.4)\n",
            "Collecting update-checker>=0.16\n",
            "  Downloading update_checker-0.18.0-py3-none-any.whl (7.0 kB)\n",
            "Requirement already satisfied: numpy>=1.16.3 in /usr/local/lib/python3.9/dist-packages (from tpot) (1.22.4)\n",
            "Requirement already satisfied: joblib>=0.13.2 in /usr/local/lib/python3.9/dist-packages (from tpot) (1.1.1)\n",
            "Requirement already satisfied: xgboost>=1.1.0 in /usr/local/lib/python3.9/dist-packages (from tpot) (1.7.4)\n",
            "Requirement already satisfied: scipy>=1.3.1 in /usr/local/lib/python3.9/dist-packages (from tpot) (1.10.1)\n",
            "Collecting deap>=1.2\n",
            "  Downloading deap-1.3.3-cp39-cp39-manylinux_2_5_x86_64.manylinux1_x86_64.manylinux_2_17_x86_64.manylinux2014_x86_64.whl (139 kB)\n",
            "\u001b[2K     \u001b[90m━━━━━━━━━━━━━━━━━━━━━━━━━━━━━━━━━━━━━━\u001b[0m \u001b[32m139.8/139.8 KB\u001b[0m \u001b[31m15.8 MB/s\u001b[0m eta \u001b[36m0:00:00\u001b[0m\n",
            "\u001b[?25hCollecting stopit>=1.1.1\n",
            "  Downloading stopit-1.1.2.tar.gz (18 kB)\n",
            "  Preparing metadata (setup.py) ... \u001b[?25l\u001b[?25hdone\n",
            "Requirement already satisfied: scikit-learn>=0.22.0 in /usr/local/lib/python3.9/dist-packages (from tpot) (1.2.2)\n",
            "Requirement already satisfied: pytz>=2020.1 in /usr/local/lib/python3.9/dist-packages (from pandas>=0.24.2->tpot) (2022.7.1)\n",
            "Requirement already satisfied: python-dateutil>=2.8.1 in /usr/local/lib/python3.9/dist-packages (from pandas>=0.24.2->tpot) (2.8.2)\n",
            "Requirement already satisfied: threadpoolctl>=2.0.0 in /usr/local/lib/python3.9/dist-packages (from scikit-learn>=0.22.0->tpot) (3.1.0)\n",
            "Requirement already satisfied: requests>=2.3.0 in /usr/local/lib/python3.9/dist-packages (from update-checker>=0.16->tpot) (2.27.1)\n",
            "Requirement already satisfied: six>=1.5 in /usr/local/lib/python3.9/dist-packages (from python-dateutil>=2.8.1->pandas>=0.24.2->tpot) (1.16.0)\n",
            "Requirement already satisfied: certifi>=2017.4.17 in /usr/local/lib/python3.9/dist-packages (from requests>=2.3.0->update-checker>=0.16->tpot) (2022.12.7)\n",
            "Requirement already satisfied: charset-normalizer~=2.0.0 in /usr/local/lib/python3.9/dist-packages (from requests>=2.3.0->update-checker>=0.16->tpot) (2.0.12)\n",
            "Requirement already satisfied: idna<4,>=2.5 in /usr/local/lib/python3.9/dist-packages (from requests>=2.3.0->update-checker>=0.16->tpot) (3.4)\n",
            "Requirement already satisfied: urllib3<1.27,>=1.21.1 in /usr/local/lib/python3.9/dist-packages (from requests>=2.3.0->update-checker>=0.16->tpot) (1.26.15)\n",
            "Building wheels for collected packages: stopit\n",
            "  Building wheel for stopit (setup.py) ... \u001b[?25l\u001b[?25hdone\n",
            "  Created wheel for stopit: filename=stopit-1.1.2-py3-none-any.whl size=11954 sha256=e04d447130a8408a3b163a4c99f4027cedc97e0393d5dda4ba806e7f076fb4ba\n",
            "  Stored in directory: /root/.cache/pip/wheels/48/8c/93/3afb1916772591fe6bcc25cdf8b1c5bdc362f0ec8e2f0fd413\n",
            "Successfully built stopit\n",
            "Installing collected packages: stopit, deap, update-checker, tpot\n",
            "Successfully installed deap-1.3.3 stopit-1.1.2 tpot-0.11.7 update-checker-0.18.0\n"
          ]
        }
      ]
    },
    {
      "cell_type": "markdown",
      "source": [
        "# import section"
      ],
      "metadata": {
        "id": "kRdPbhc9PbxN"
      }
    },
    {
      "cell_type": "code",
      "source": [
        "#import section\n",
        "from sklearn.preprocessing import OneHotEncoder\n",
        "from sklearn.model_selection import train_test_split\n",
        "from tpot import TPOTRegressor\n",
        "import pandas as pd\n",
        "import numpy as np\n",
        "import matplotlib.pyplot as plt\n",
        "from itertools import chain\n",
        "from sklearn.decomposition import PCA\n",
        "from sklearn.pipeline import make_pipeline\n",
        "from sklearn.impute import SimpleImputer\n",
        "from sklearn.preprocessing import StandardScaler"
      ],
      "metadata": {
        "id": "8NWUkYjWHQK0"
      },
      "execution_count": 5,
      "outputs": []
    },
    {
      "cell_type": "code",
      "source": [
        "#retrieve section\n",
        "currency_changed = 0\n",
        "Listings = pd.read_csv('Airbnb Data/Listings.csv',encoding='ISO-8859-1')\n",
        "Reveiws = pd.read_csv('Airbnb Data/Reviews.csv',encoding='ISO-8859-1')"
      ],
      "metadata": {
        "colab": {
          "base_uri": "https://localhost:8080/"
        },
        "id": "nsWU09YUHcM6",
        "outputId": "48f68e75-bfbd-42cf-d2fd-f356e5e39dd3"
      },
      "execution_count": 6,
      "outputs": [
        {
          "output_type": "stream",
          "name": "stderr",
          "text": [
            "<ipython-input-6-e4ca96877fda>:3: DtypeWarning: Columns (5,13) have mixed types. Specify dtype option on import or set low_memory=False.\n",
            "  Listings = pd.read_csv('Airbnb Data/Listings.csv',encoding='ISO-8859-1')\n"
          ]
        }
      ]
    },
    {
      "cell_type": "markdown",
      "source": [
        "# **Data Understanding**"
      ],
      "metadata": {
        "id": "lTvezrSVHr3K"
      }
    },
    {
      "cell_type": "markdown",
      "source": [
        "# basic analysis for listing and reveiws"
      ],
      "metadata": {
        "id": "pOdlWkc0tzIF"
      }
    },
    {
      "cell_type": "markdown",
      "source": [
        "Get the shape of Listings and Reviews datasets"
      ],
      "metadata": {
        "id": "n3zoyE9PQJvS"
      }
    },
    {
      "cell_type": "code",
      "source": [
        "Listings.shape"
      ],
      "metadata": {
        "colab": {
          "base_uri": "https://localhost:8080/"
        },
        "id": "ZigKrZ7swTmV",
        "outputId": "4316c4a6-498b-4381-ac71-58c3f78dc616"
      },
      "execution_count": 7,
      "outputs": [
        {
          "output_type": "execute_result",
          "data": {
            "text/plain": [
              "(279712, 33)"
            ]
          },
          "metadata": {},
          "execution_count": 7
        }
      ]
    },
    {
      "cell_type": "code",
      "source": [
        "Reveiws.shape"
      ],
      "metadata": {
        "colab": {
          "base_uri": "https://localhost:8080/"
        },
        "id": "wEnrvTBWwmpi",
        "outputId": "4bdf6dc2-e849-462c-812d-05d45af69e9c"
      },
      "execution_count": 8,
      "outputs": [
        {
          "output_type": "execute_result",
          "data": {
            "text/plain": [
              "(5373143, 4)"
            ]
          },
          "metadata": {},
          "execution_count": 8
        }
      ]
    },
    {
      "cell_type": "markdown",
      "source": [
        "Read the Listings and Reviews data dictionary files and store them in Listings_Description and Reveiws_Description respectively"
      ],
      "metadata": {
        "id": "wZBgIWOHQNV5"
      }
    },
    {
      "cell_type": "code",
      "source": [
        "Listings_Description =pd.read_csv('/content/Airbnb Data/Listings_data_dictionary.csv',encoding='ISO-8859-1')\n",
        "Reveiws_Description =pd.read_csv('/content/Airbnb Data/Reviews_data_dictionary.csv',encoding='ISO-8859-1')"
      ],
      "metadata": {
        "id": "_nZK4bElvIXt"
      },
      "execution_count": 9,
      "outputs": []
    },
    {
      "cell_type": "markdown",
      "source": [
        "Get the description of the Listings and Reviews data dictionary files"
      ],
      "metadata": {
        "id": "cyE_ohzuQQ1t"
      }
    },
    {
      "cell_type": "code",
      "source": [
        "Listings_Description['Description'].values"
      ],
      "metadata": {
        "colab": {
          "base_uri": "https://localhost:8080/"
        },
        "id": "0jXZ50tkt-UU",
        "outputId": "948d553a-b82e-4e7e-bacf-1034015c5412"
      },
      "execution_count": 10,
      "outputs": [
        {
          "output_type": "execute_result",
          "data": {
            "text/plain": [
              "array(['Listing ID', 'Listing Name', 'Host ID',\n",
              "       'Date the Host joined Airbnb', 'Location where the Host is based',\n",
              "       'Estimate of how long the Host takes to respond',\n",
              "       'Percentage of times the Host responds',\n",
              "       'Percentage of times the Host accepts a booking request',\n",
              "       'Binary field to determine if the Host is a Superhost',\n",
              "       'Total listings the Host has in Airbnb',\n",
              "       'Binary field to determine if the Host has a profile picture',\n",
              "       'Binary field to determine if the Host has a verified identity',\n",
              "       'Neighborhood the Listing is in', 'District the Listing is in',\n",
              "       'City the Listing is in', \"Listing's latitude\",\n",
              "       \"Listing's longitude\", 'Type of property for the Listing',\n",
              "       'Type of room type in Airbnb for the Listing',\n",
              "       'Guests the Listing accomodates', 'Bedrooms in the Listing',\n",
              "       'Amenities the Listing includes',\n",
              "       \"Listing price (in each country's currency)\",\n",
              "       'Minimum nights per booking', 'Maximum nights per booking',\n",
              "       \"Listing's overall rating (out of 100)\",\n",
              "       \"Listing's accuracy score based on what's promoted in Airbnb (out of 10)\",\n",
              "       \"Listing's cleanliness score (out of 10)\",\n",
              "       \"Listing's check-in experience score (out of 10)\",\n",
              "       \"Listing's communication with the Host score (out of 10)\",\n",
              "       \"Listing's location score within the city (out of 10)\",\n",
              "       \"Listing's value score relative to its price (out of 10)\",\n",
              "       'Binary field to determine if the Listing can be booked instantly'],\n",
              "      dtype=object)"
            ]
          },
          "metadata": {},
          "execution_count": 10
        }
      ]
    },
    {
      "cell_type": "code",
      "source": [
        "Reveiws_Description['Description'].values"
      ],
      "metadata": {
        "colab": {
          "base_uri": "https://localhost:8080/"
        },
        "id": "p9prP2qiwxGG",
        "outputId": "16ad4bc6-3d77-413b-f908-7e1a33c5df8e"
      },
      "execution_count": 11,
      "outputs": [
        {
          "output_type": "execute_result",
          "data": {
            "text/plain": [
              "array(['Listing ID', 'Review ID', 'Review date', 'Reviewer ID'],\n",
              "      dtype=object)"
            ]
          },
          "metadata": {},
          "execution_count": 11
        }
      ]
    },
    {
      "cell_type": "markdown",
      "source": [
        "Get the data types of the columns in Listings and Reviews datasets"
      ],
      "metadata": {
        "id": "WZBdPWdMQUda"
      }
    },
    {
      "cell_type": "code",
      "source": [
        "Listings.dtypes.values"
      ],
      "metadata": {
        "colab": {
          "base_uri": "https://localhost:8080/"
        },
        "id": "ewE0ddbDyp0V",
        "outputId": "6bff3465-bbc4-466d-948e-5b479464a1ce"
      },
      "execution_count": 12,
      "outputs": [
        {
          "output_type": "execute_result",
          "data": {
            "text/plain": [
              "array([dtype('int64'), dtype('O'), dtype('int64'), dtype('O'), dtype('O'),\n",
              "       dtype('O'), dtype('float64'), dtype('float64'), dtype('O'),\n",
              "       dtype('float64'), dtype('O'), dtype('O'), dtype('O'), dtype('O'),\n",
              "       dtype('O'), dtype('float64'), dtype('float64'), dtype('O'),\n",
              "       dtype('O'), dtype('int64'), dtype('float64'), dtype('O'),\n",
              "       dtype('int64'), dtype('int64'), dtype('int64'), dtype('float64'),\n",
              "       dtype('float64'), dtype('float64'), dtype('float64'),\n",
              "       dtype('float64'), dtype('float64'), dtype('float64'), dtype('O')],\n",
              "      dtype=object)"
            ]
          },
          "metadata": {},
          "execution_count": 12
        }
      ]
    },
    {
      "cell_type": "code",
      "source": [
        "Reveiws.dtypes.values"
      ],
      "metadata": {
        "colab": {
          "base_uri": "https://localhost:8080/"
        },
        "id": "1hM7F4bQzakr",
        "outputId": "e18eed1c-c41d-4dec-e4cb-564e9f8d033a"
      },
      "execution_count": 13,
      "outputs": [
        {
          "output_type": "execute_result",
          "data": {
            "text/plain": [
              "array([dtype('int64'), dtype('int64'), dtype('O'), dtype('int64')],\n",
              "      dtype=object)"
            ]
          },
          "metadata": {},
          "execution_count": 13
        }
      ]
    },
    {
      "cell_type": "markdown",
      "source": [
        "# Currency exchange"
      ],
      "metadata": {
        "id": "KQ9fA4HjUjde"
      }
    },
    {
      "cell_type": "markdown",
      "source": [
        "Get the names of the cities"
      ],
      "metadata": {
        "id": "JGiSQp0OQYyj"
      }
    },
    {
      "cell_type": "code",
      "source": [
        "\n",
        "list_of_cities = []\n",
        "for i in Listings['city']:\n",
        "  if i not in list_of_cities:\n",
        "    list_of_cities.append(i)\n",
        "print(list_of_cities)"
      ],
      "metadata": {
        "colab": {
          "base_uri": "https://localhost:8080/"
        },
        "id": "jntSyOkMHv1L",
        "outputId": "c719639a-c2a2-4834-e435-7abe4c7a0678"
      },
      "execution_count": 14,
      "outputs": [
        {
          "output_type": "stream",
          "name": "stdout",
          "text": [
            "['Paris', 'New York', 'Bangkok', 'Rio de Janeiro', 'Sydney', 'Istanbul', 'Rome', 'Hong Kong', 'Mexico City', 'Cape Town']\n"
          ]
        }
      ]
    },
    {
      "cell_type": "markdown",
      "source": [
        "currency exchange to dollar"
      ],
      "metadata": {
        "id": "NQ2nGtejQc6T"
      }
    },
    {
      "cell_type": "code",
      "source": [
        "X_to_dollar ={\n",
        "    'Paris':1.24,'New York':1,'Bangkok':0.029,'Rio de Janeiro': 0.196,'Sydney':0.671,'Istanbul':0.052,'Rome':0.220,'Hong Kong':0.13,'Mexico City': 0.055,'Cape Town':0.056\n",
        "}\n",
        "def update_price_to_dollar(row,city,currency_ischanged):\n",
        "  if currency_ischanged:\n",
        "    return row['price'] \n",
        "  return row['price'] * X_to_dollar[city]\n",
        "\n",
        "Listings['price'] = Listings.apply(lambda  row : update_price_to_dollar(row,row['city'],currency_changed), axis = 1)\n",
        "currency_changed = 1"
      ],
      "metadata": {
        "id": "uydSs1YMIIQy"
      },
      "execution_count": 15,
      "outputs": []
    },
    {
      "cell_type": "code",
      "source": [
        "#Represent prices in dollar X-axis is price , Y-axis is number of listings\n",
        "#I filtered the very big prices in this representations because it will distory the diagram\n",
        "print(Listings['price'].describe())   # was used to print the statistical summary of the \n",
        "filtered_df_price = Listings[Listings['price'] < 1000] #was used to filter out the rows where the 'price' column is greater than or equal to 1000.\n",
        "filtered_df_price['price'].hist(bins = 100) # was used to plot a histogram of the 'price' column of the filtered dataframe.\n",
        "plt.title(\"Figure-1\")\n",
        "plt.show()"
      ],
      "metadata": {
        "colab": {
          "base_uri": "https://localhost:8080/",
          "height": 608
        },
        "id": "LXcp4Rt7Qj95",
        "outputId": "9d7f615d-dc6d-4769-bc8d-f0c115f02cd9"
      },
      "execution_count": 16,
      "outputs": [
        {
          "output_type": "stream",
          "name": "stdout",
          "text": [
            "count    279712.000000\n",
            "mean        108.161907\n",
            "std         409.528535\n",
            "min           0.000000\n",
            "25%          27.286750\n",
            "50%          60.842000\n",
            "75%         112.399000\n",
            "max      122542.336000\n",
            "Name: price, dtype: float64\n"
          ]
        },
        {
          "output_type": "display_data",
          "data": {
            "text/plain": [
              "<Figure size 640x480 with 1 Axes>"
            ],
            "image/png": "[encoded data removed]"
          },
          "metadata": {}
        }
      ]
    },
    {
      "cell_type": "markdown",
      "source": [
        "# Date understanding"
      ],
      "metadata": {
        "id": "08ADPZMgUuXC"
      }
    },
    {
      "cell_type": "code",
      "source": [
        "def update_nan_values(row,columns_name, value):\n",
        "  \"\"\"This function is to update null values with a value\"\"\"\n",
        "\n",
        "  if type(row[columns_name]) is float and np.isnan(row[columns_name]) :\n",
        "    return value\n",
        "  else: \n",
        "    return row[columns_name]"
      ],
      "metadata": {
        "id": "grD08ydMZFUH"
      },
      "execution_count": 17,
      "outputs": []
    },
    {
      "cell_type": "code",
      "source": [
        "#This code is used to print the minimum and maximum date from the 'date' column of the Reviews dataset\n",
        "print(Reveiws['date'].min())\n",
        "print(Reveiws['date'].max())"
      ],
      "metadata": {
        "colab": {
          "base_uri": "https://localhost:8080/"
        },
        "id": "z4Kp1xmvU2lw",
        "outputId": "d7b8c9d6-d85f-454a-b34f-e954c2799b6c"
      },
      "execution_count": 18,
      "outputs": [
        {
          "output_type": "stream",
          "name": "stdout",
          "text": [
            "2008-11-16\n",
            "2021-03-01\n"
          ]
        }
      ]
    },
    {
      "cell_type": "code",
      "source": [
        "# remove all nan values from the dataset on host_since field\n",
        "Listings_filtered = Listings.copy()\n",
        "null_value_update = '2014-07-31'\n",
        "Listings_filtered['host_since'] = Listings_filtered.apply(lambda row: update_nan_values(row,'host_since',null_value_update), axis=1)\n",
        "\n",
        "print(Listings_filtered['host_since'].min())\n",
        "print(Listings_filtered['host_since'].max())"
      ],
      "metadata": {
        "colab": {
          "base_uri": "https://localhost:8080/"
        },
        "id": "VR7nqUdzVyLU",
        "outputId": "87ceadaa-81b9-4303-9e7c-edba52bde874"
      },
      "execution_count": 19,
      "outputs": [
        {
          "output_type": "stream",
          "name": "stdout",
          "text": [
            "2008-08-12\n",
            "2021-02-26\n"
          ]
        }
      ]
    },
    {
      "cell_type": "markdown",
      "source": [
        "The code creates a list of years and defines a function that extracts the year from a given date column in a DataFrame, and then groups the filtered Listings and Reviews DataFrames by year using this function."
      ],
      "metadata": {
        "id": "MjUxUNPRRsrJ"
      }
    },
    {
      "cell_type": "code",
      "source": [
        "years=['2008','2009','2010','2011','2012','2013','2014','2015','2016','2017','2018','2019','2020']\n",
        "\n",
        "def grouping_by_date_yearly(row,column_name,df):\n",
        "  year , _ , _ = df[column_name][row].split(\"-\")\n",
        "  return year\n",
        "grouped_Listings_filtered = Listings_filtered.groupby(lambda row: grouping_by_date_yearly(row,'host_since',Listings_filtered))\n",
        "grouped_Reveiws = Reveiws.groupby(lambda row: grouping_by_date_yearly(row,'date',Reveiws))\n",
        "\n"
      ],
      "metadata": {
        "id": "4M8sxnqud1c1"
      },
      "execution_count": 20,
      "outputs": []
    },
    {
      "cell_type": "markdown",
      "source": [
        "I splitted data based on year to see the distrubution of reviews and listing based on year"
      ],
      "metadata": {
        "id": "44moe5WvRw4_"
      }
    },
    {
      "cell_type": "code",
      "source": [
        "year_based_R_df={}\n",
        "year_based_L_df={}\n",
        "for i in years:\n",
        "  year_based_R_df[i] = grouped_Reveiws.get_group(i)\n",
        "  year_based_L_df[i] = grouped_Listings_filtered.get_group(i)\n",
        "  print(i)\n",
        "  print(\"Reviews Example: \",year_based_R_df[i]['date'].head(1))\n",
        "  print(\"\")\n",
        "  print(\"Listing Example:\",year_based_L_df[i]['host_since'].head(1))\n",
        "  print(\"\\n\")"
      ],
      "metadata": {
        "id": "iLrDOknNrCxX",
        "colab": {
          "base_uri": "https://localhost:8080/"
        },
        "outputId": "3b44b2ec-62b2-4d84-9a42-08316b15764f"
      },
      "execution_count": 21,
      "outputs": [
        {
          "output_type": "stream",
          "name": "stdout",
          "text": [
            "2008\n",
            "Reviews Example:  4623201    2008-11-16\n",
            "Name: date, dtype: object\n",
            "\n",
            "Listing Example: 27149    2008-09-19\n",
            "Name: host_since, dtype: object\n",
            "\n",
            "\n",
            "2009\n",
            "Reviews Example:  330335    2009-06-30\n",
            "Name: date, dtype: object\n",
            "\n",
            "Listing Example: 3314    2009-10-28\n",
            "Name: host_since, dtype: object\n",
            "\n",
            "\n",
            "2010\n",
            "Reviews Example:  330340    2010-02-07\n",
            "Name: date, dtype: object\n",
            "\n",
            "Listing Example: 337    2010-09-06\n",
            "Name: host_since, dtype: object\n",
            "\n",
            "\n",
            "2011\n",
            "Reviews Example:  330347    2011-04-20\n",
            "Name: date, dtype: object\n",
            "\n",
            "Listing Example: 0    2011-12-03\n",
            "Name: host_since, dtype: object\n",
            "\n",
            "\n",
            "2012\n",
            "Reviews Example:  330356    2012-01-29\n",
            "Name: date, dtype: object\n",
            "\n",
            "Listing Example: 21    2012-11-18\n",
            "Name: host_since, dtype: object\n",
            "\n",
            "\n",
            "2013\n",
            "Reviews Example:  330364    2013-01-25\n",
            "Name: date, dtype: object\n",
            "\n",
            "Listing Example: 1    2013-11-29\n",
            "Name: host_since, dtype: object\n",
            "\n",
            "\n",
            "2014\n",
            "Reviews Example:  330375    2014-01-07\n",
            "Name: date, dtype: object\n",
            "\n",
            "Listing Example: 2    2014-07-31\n",
            "Name: host_since, dtype: object\n",
            "\n",
            "\n",
            "2015\n",
            "Reviews Example:  255252    2015-09-21\n",
            "Name: date, dtype: object\n",
            "\n",
            "Listing Example: 8    2015-06-14\n",
            "Name: host_since, dtype: object\n",
            "\n",
            "\n",
            "2016\n",
            "Reviews Example:  82958    2016-11-13\n",
            "Name: date, dtype: object\n",
            "\n",
            "Listing Example: 17    2016-03-21\n",
            "Name: host_since, dtype: object\n",
            "\n",
            "\n",
            "2017\n",
            "Reviews Example:  24622    2017-04-17\n",
            "Name: date, dtype: object\n",
            "\n",
            "Listing Example: 51    2017-06-14\n",
            "Name: host_since, dtype: object\n",
            "\n",
            "\n",
            "2018\n",
            "Reviews Example:  0    2018-09-30\n",
            "Name: date, dtype: object\n",
            "\n",
            "Listing Example: 61    2018-05-28\n",
            "Name: host_since, dtype: object\n",
            "\n",
            "\n",
            "2019\n",
            "Reviews Example:  3575    2019-06-02\n",
            "Name: date, dtype: object\n",
            "\n",
            "Listing Example: 75    2019-02-18\n",
            "Name: host_since, dtype: object\n",
            "\n",
            "\n",
            "2020\n",
            "Reviews Example:  54102    2020-01-02\n",
            "Name: date, dtype: object\n",
            "\n",
            "Listing Example: 571    2020-06-08\n",
            "Name: host_since, dtype: object\n",
            "\n",
            "\n"
          ]
        }
      ]
    },
    {
      "cell_type": "markdown",
      "source": [
        "This code calculates the number of reviews and listings for each year between 2008 and 2020 and plots the data on a line chart with the title \"Figure-2\"."
      ],
      "metadata": {
        "id": "Vzml4-fTSK60"
      }
    },
    {
      "cell_type": "code",
      "source": [
        "year_based_R_len = []\n",
        "year_based_L_len = []\n",
        "for year in years:\n",
        "  year_based_R_len.append(len(year_based_R_df[year]))\n",
        "  year_based_L_len.append(len(year_based_L_df[year]))\n",
        "plt.plot(years,year_based_R_len)\n",
        "plt.plot(years,year_based_L_len)\n",
        "plt.title(\"Figure-2\")\n",
        "plt.show()"
      ],
      "metadata": {
        "colab": {
          "base_uri": "https://localhost:8080/",
          "height": 452
        },
        "id": "TvDQ8qqf7nH4",
        "outputId": "e6fdcc70-3ce8-4365-ddc0-95d2259667bd"
      },
      "execution_count": 22,
      "outputs": [
        {
          "output_type": "display_data",
          "data": {
            "text/plain": [
              "<Figure size 640x480 with 1 Axes>"
            ],
            "image/png": "[encoded data removed]"
          },
          "metadata": {}
        }
      ]
    },
    {
      "cell_type": "markdown",
      "source": [
        "# Crossing between calender and listings"
      ],
      "metadata": {
        "id": "wM1MhZlvr1Vu"
      }
    },
    {
      "cell_type": "code",
      "source": [
        "currency_changed_calender = 0\n",
        "Paris_calinder = pd.read_csv('/content/Paris-calendar-2021.csv')"
      ],
      "metadata": {
        "id": "AldKmrgDuc7_"
      },
      "execution_count": 23,
      "outputs": []
    },
    {
      "cell_type": "markdown",
      "source": [
        "# basic understanding of Paris-calendar dataset"
      ],
      "metadata": {
        "id": "bux-YLSGxkzX"
      }
    },
    {
      "cell_type": "code",
      "source": [
        "Paris_calinder.shape"
      ],
      "metadata": {
        "colab": {
          "base_uri": "https://localhost:8080/"
        },
        "id": "JIjiOZSwx0Vm",
        "outputId": "f4638f70-23be-4afe-fa4c-8bec745bec84"
      },
      "execution_count": 24,
      "outputs": [
        {
          "output_type": "execute_result",
          "data": {
            "text/plain": [
              "(23610091, 7)"
            ]
          },
          "metadata": {},
          "execution_count": 24
        }
      ]
    },
    {
      "cell_type": "code",
      "source": [
        "Paris_calinder.columns"
      ],
      "metadata": {
        "colab": {
          "base_uri": "https://localhost:8080/"
        },
        "id": "EorJq5pfx4CG",
        "outputId": "b958cd35-7d28-42f8-8c1d-31f16b85cc0b"
      },
      "execution_count": 25,
      "outputs": [
        {
          "output_type": "execute_result",
          "data": {
            "text/plain": [
              "Index(['listing_id', 'date', 'available', 'price', 'adjusted_price',\n",
              "       'minimum_nights', 'maximum_nights'],\n",
              "      dtype='object')"
            ]
          },
          "metadata": {},
          "execution_count": 25
        }
      ]
    },
    {
      "cell_type": "code",
      "source": [
        "Paris_calinder.dtypes.values"
      ],
      "metadata": {
        "colab": {
          "base_uri": "https://localhost:8080/"
        },
        "id": "FMDEWL7Mzt4O",
        "outputId": "89d8fca3-03b0-47cf-b606-cee26208fdae"
      },
      "execution_count": 26,
      "outputs": [
        {
          "output_type": "execute_result",
          "data": {
            "text/plain": [
              "array([dtype('int64'), dtype('O'), dtype('O'), dtype('O'), dtype('O'),\n",
              "       dtype('float64'), dtype('float64')], dtype=object)"
            ]
          },
          "metadata": {},
          "execution_count": 26
        }
      ]
    },
    {
      "cell_type": "code",
      "source": [
        "print(Paris_calinder['listing_id'].nunique()) # Count the number of unique listing_id values\n",
        "Paris_calinder.head(10)"
      ],
      "metadata": {
        "colab": {
          "base_uri": "https://localhost:8080/",
          "height": 380
        },
        "id": "Z9R3NWUisXOt",
        "outputId": "e5f4a979-a563-46a5-9443-cffdd3e103bc"
      },
      "execution_count": 27,
      "outputs": [
        {
          "output_type": "stream",
          "name": "stdout",
          "text": [
            "64677\n"
          ]
        },
        {
          "output_type": "execute_result",
          "data": {
            "text/plain": [
              "   listing_id        date available    price adjusted_price  minimum_nights  \\\n",
              "0       11170  2021-02-13         f   $75.00         $75.00             2.0   \n",
              "1       55239  2021-02-13         f  $360.00        $353.00             2.0   \n",
              "2       55239  2021-02-14         t  $360.00        $353.00             2.0   \n",
              "3       55239  2021-02-15         t  $360.00        $353.00             2.0   \n",
              "4       55239  2021-02-16         t  $360.00        $353.00             2.0   \n",
              "5       55239  2021-02-17         t  $360.00        $360.00             2.0   \n",
              "6       55239  2021-02-18         t  $360.00        $360.00             2.0   \n",
              "7       55239  2021-02-19         t  $360.00        $360.00             2.0   \n",
              "8       55239  2021-02-20         t  $360.00        $360.00             2.0   \n",
              "9       55239  2021-02-21         t  $360.00        $360.00             2.0   \n",
              "\n",
              "   maximum_nights  \n",
              "0          1125.0  \n",
              "1          1125.0  \n",
              "2          1125.0  \n",
              "3          1125.0  \n",
              "4          1125.0  \n",
              "5          1125.0  \n",
              "6          1125.0  \n",
              "7          1125.0  \n",
              "8          1125.0  \n",
              "9          1125.0  "
            ],
            "text/html": [
              "\n",
              "  <div id=\"df-cebab6c8-596d-49b9-b40f-01f2a1f48d72\">\n",
              "    <div class=\"colab-df-container\">\n",
              "      <div>\n",
              "<style scoped>\n",
              "    .dataframe tbody tr th:only-of-type {\n",
              "        vertical-align: middle;\n",
              "    }\n",
              "\n",
              "    .dataframe tbody tr th {\n",
              "        vertical-align: top;\n",
              "    }\n",
              "\n",
              "    .dataframe thead th {\n",
              "        text-align: right;\n",
              "    }\n",
              "</style>\n",
              "<table border=\"1\" class=\"dataframe\">\n",
              "  <thead>\n",
              "    <tr style=\"text-align: right;\">\n",
              "      <th></th>\n",
              "      <th>listing_id</th>\n",
              "      <th>date</th>\n",
              "      <th>available</th>\n",
              "      <th>price</th>\n",
              "      <th>adjusted_price</th>\n",
              "      <th>minimum_nights</th>\n",
              "      <th>maximum_nights</th>\n",
              "    </tr>\n",
              "  </thead>\n",
              "  <tbody>\n",
              "    <tr>\n",
              "      <th>0</th>\n",
              "      <td>11170</td>\n",
              "      <td>2021-02-13</td>\n",
              "      <td>f</td>\n",
              "      <td>$75.00</td>\n",
              "      <td>$75.00</td>\n",
              "      <td>2.0</td>\n",
              "      <td>1125.0</td>\n",
              "    </tr>\n",
              "    <tr>\n",
              "      <th>1</th>\n",
              "      <td>55239</td>\n",
              "      <td>2021-02-13</td>\n",
              "      <td>f</td>\n",
              "      <td>$360.00</td>\n",
              "      <td>$353.00</td>\n",
              "      <td>2.0</td>\n",
              "      <td>1125.0</td>\n",
              "    </tr>\n",
              "    <tr>\n",
              "      <th>2</th>\n",
              "      <td>55239</td>\n",
              "      <td>2021-02-14</td>\n",
              "      <td>t</td>\n",
              "      <td>$360.00</td>\n",
              "      <td>$353.00</td>\n",
              "      <td>2.0</td>\n",
              "      <td>1125.0</td>\n",
              "    </tr>\n",
              "    <tr>\n",
              "      <th>3</th>\n",
              "      <td>55239</td>\n",
              "      <td>2021-02-15</td>\n",
              "      <td>t</td>\n",
              "      <td>$360.00</td>\n",
              "      <td>$353.00</td>\n",
              "      <td>2.0</td>\n",
              "      <td>1125.0</td>\n",
              "    </tr>\n",
              "    <tr>\n",
              "      <th>4</th>\n",
              "      <td>55239</td>\n",
              "      <td>2021-02-16</td>\n",
              "      <td>t</td>\n",
              "      <td>$360.00</td>\n",
              "      <td>$353.00</td>\n",
              "      <td>2.0</td>\n",
              "      <td>1125.0</td>\n",
              "    </tr>\n",
              "    <tr>\n",
              "      <th>5</th>\n",
              "      <td>55239</td>\n",
              "      <td>2021-02-17</td>\n",
              "      <td>t</td>\n",
              "      <td>$360.00</td>\n",
              "      <td>$360.00</td>\n",
              "      <td>2.0</td>\n",
              "      <td>1125.0</td>\n",
              "    </tr>\n",
              "    <tr>\n",
              "      <th>6</th>\n",
              "      <td>55239</td>\n",
              "      <td>2021-02-18</td>\n",
              "      <td>t</td>\n",
              "      <td>$360.00</td>\n",
              "      <td>$360.00</td>\n",
              "      <td>2.0</td>\n",
              "      <td>1125.0</td>\n",
              "    </tr>\n",
              "    <tr>\n",
              "      <th>7</th>\n",
              "      <td>55239</td>\n",
              "      <td>2021-02-19</td>\n",
              "      <td>t</td>\n",
              "      <td>$360.00</td>\n",
              "      <td>$360.00</td>\n",
              "      <td>2.0</td>\n",
              "      <td>1125.0</td>\n",
              "    </tr>\n",
              "    <tr>\n",
              "      <th>8</th>\n",
              "      <td>55239</td>\n",
              "      <td>2021-02-20</td>\n",
              "      <td>t</td>\n",
              "      <td>$360.00</td>\n",
              "      <td>$360.00</td>\n",
              "      <td>2.0</td>\n",
              "      <td>1125.0</td>\n",
              "    </tr>\n",
              "    <tr>\n",
              "      <th>9</th>\n",
              "      <td>55239</td>\n",
              "      <td>2021-02-21</td>\n",
              "      <td>t</td>\n",
              "      <td>$360.00</td>\n",
              "      <td>$360.00</td>\n",
              "      <td>2.0</td>\n",
              "      <td>1125.0</td>\n",
              "    </tr>\n",
              "  </tbody>\n",
              "</table>\n",
              "</div>\n",
              "      <button class=\"colab-df-convert\" onclick=\"convertToInteractive('df-cebab6c8-596d-49b9-b40f-01f2a1f48d72')\"\n",
              "              title=\"Convert this dataframe to an interactive table.\"\n",
              "              style=\"display:none;\">\n",
              "        \n",
              "  <svg xmlns=\"http://www.w3.org/2000/svg\" height=\"24px\"viewBox=\"0 0 24 24\"\n",
              "       width=\"24px\">\n",
              "    <path d=\"M0 0h24v24H0V0z\" fill=\"none\"/>\n",
              "    <path d=\"M18.56 5.44l.94 2.06.94-2.06 2.06-.94-2.06-.94-.94-2.06-.94 2.06-2.06.94zm-11 1L8.5 8.5l.94-2.06 2.06-.94-2.06-.94L8.5 2.5l-.94 2.06-2.06.94zm10 10l.94 2.06.94-2.06 2.06-.94-2.06-.94-.94-2.06-.94 2.06-2.06.94z\"/><path d=\"M17.41 7.96l-1.37-1.37c-.4-.4-.92-.59-1.43-.59-.52 0-1.04.2-1.43.59L10.3 9.45l-7.72 7.72c-.78.78-.78 2.05 0 2.83L4 21.41c.39.39.9.59 1.41.59.51 0 1.02-.2 1.41-.59l7.78-7.78 2.81-2.81c.8-.78.8-2.07 0-2.86zM5.41 20L4 18.59l7.72-7.72 1.47 1.35L5.41 20z\"/>\n",
              "  </svg>\n",
              "      </button>\n",
              "      \n",
              "  <style>\n",
              "    .colab-df-container {\n",
              "      display:flex;\n",
              "      flex-wrap:wrap;\n",
              "      gap: 12px;\n",
              "    }\n",
              "\n",
              "    .colab-df-convert {\n",
              "      background-color: #E8F0FE;\n",
              "      border: none;\n",
              "      border-radius: 50%;\n",
              "      cursor: pointer;\n",
              "      display: none;\n",
              "      fill: #1967D2;\n",
              "      height: 32px;\n",
              "      padding: 0 0 0 0;\n",
              "      width: 32px;\n",
              "    }\n",
              "\n",
              "    .colab-df-convert:hover {\n",
              "      background-color: #E2EBFA;\n",
              "      box-shadow: 0px 1px 2px rgba(60, 64, 67, 0.3), 0px 1px 3px 1px rgba(60, 64, 67, 0.15);\n",
              "      fill: #174EA6;\n",
              "    }\n",
              "\n",
              "    [theme=dark] .colab-df-convert {\n",
              "      background-color: #3B4455;\n",
              "      fill: #D2E3FC;\n",
              "    }\n",
              "\n",
              "    [theme=dark] .colab-df-convert:hover {\n",
              "      background-color: #434B5C;\n",
              "      box-shadow: 0px 1px 3px 1px rgba(0, 0, 0, 0.15);\n",
              "      filter: drop-shadow(0px 1px 2px rgba(0, 0, 0, 0.3));\n",
              "      fill: #FFFFFF;\n",
              "    }\n",
              "  </style>\n",
              "\n",
              "      <script>\n",
              "        const buttonEl =\n",
              "          document.querySelector('#df-cebab6c8-596d-49b9-b40f-01f2a1f48d72 button.colab-df-convert');\n",
              "        buttonEl.style.display =\n",
              "          google.colab.kernel.accessAllowed ? 'block' : 'none';\n",
              "\n",
              "        async function convertToInteractive(key) {\n",
              "          const element = document.querySelector('#df-cebab6c8-596d-49b9-b40f-01f2a1f48d72');\n",
              "          const dataTable =\n",
              "            await google.colab.kernel.invokeFunction('convertToInteractive',\n",
              "                                                     [key], {});\n",
              "          if (!dataTable) return;\n",
              "\n",
              "          const docLinkHtml = 'Like what you see? Visit the ' +\n",
              "            '<a target=\"_blank\" href=https://colab.research.google.com/notebooks/data_table.ipynb>data table notebook</a>'\n",
              "            + ' to learn more about interactive tables.';\n",
              "          element.innerHTML = '';\n",
              "          dataTable['output_type'] = 'display_data';\n",
              "          await google.colab.output.renderOutput(dataTable, element);\n",
              "          const docLink = document.createElement('div');\n",
              "          docLink.innerHTML = docLinkHtml;\n",
              "          element.appendChild(docLink);\n",
              "        }\n",
              "      </script>\n",
              "    </div>\n",
              "  </div>\n",
              "  "
            ]
          },
          "metadata": {},
          "execution_count": 27
        }
      ]
    },
    {
      "cell_type": "code",
      "source": [
        "paris_ids=[]\n",
        "for index, row in Listings_filtered.iterrows(): # Iterate through each row of Listings_filtered\n",
        "  if (row['listing_id'] in Paris_calinder['listing_id']) and (row['city']=='Paris'): # Check if the listing ID is in the Paris calendar and the city is Paris\n",
        "    paris_ids.append(row['listing_id']) # If it is, add the listing ID to the paris_ids list\n",
        "print(len(paris_ids))"
      ],
      "metadata": {
        "colab": {
          "base_uri": "https://localhost:8080/"
        },
        "id": "hlecr6AXsfHU",
        "outputId": "81b6cf93-a02c-408b-b59f-4c2f0c86cb53"
      },
      "execution_count": 28,
      "outputs": [
        {
          "output_type": "stream",
          "name": "stdout",
          "text": [
            "31942\n"
          ]
        }
      ]
    },
    {
      "cell_type": "code",
      "source": [
        "#to make sure that the calender contain data for the same listing_id in listings dataset\n",
        "#I compared both prices after converting the caleder dataset prices to dollar too \n",
        "row1 = Listings[Listings['listing_id']==paris_ids[100]]\n",
        "print(row1['price'])\n",
        "row2 = Paris_calinder[Paris_calinder['listing_id']==paris_ids[100]]\n",
        "_,price_ex = row2['price'].values[0].split('$')\n",
        "\n",
        "print(float(price_ex)* X_to_dollar['Paris'])"
      ],
      "metadata": {
        "colab": {
          "base_uri": "https://localhost:8080/"
        },
        "id": "ObgIuUfCwbS-",
        "outputId": "bc440be2-a9e3-4175-8fa6-607a9b80aa90"
      },
      "execution_count": 29,
      "outputs": [
        {
          "output_type": "stream",
          "name": "stdout",
          "text": [
            "149    136.4\n",
            "Name: price, dtype: float64\n",
            "136.4\n"
          ]
        }
      ]
    },
    {
      "cell_type": "code",
      "source": [
        "#The next section is much faster with the same result\n",
        "\"\"\"number_of_nights_per_id = {}\n",
        "for index, row in Paris_calinder.iterrows():\n",
        "  if row['available']=='f':\n",
        "    if row['listing_id'] in number_of_nights_per_id:\n",
        "      number_of_nights_per_id[row['listing_id']]  += 1\n",
        "    else:\n",
        "      number_of_nights_per_id[row['listing_id']] = 1\n",
        "\"\"\""
      ],
      "metadata": {
        "colab": {
          "base_uri": "https://localhost:8080/",
          "height": 70
        },
        "id": "lySml908vN-9",
        "outputId": "bf439f69-9130-4b48-ae87-9b222863b8f0"
      },
      "execution_count": 30,
      "outputs": [
        {
          "output_type": "execute_result",
          "data": {
            "text/plain": [
              "\"number_of_nights_per_id = {}\\nfor index, row in Paris_calinder.iterrows():\\n  if row['available']=='f':\\n    if row['listing_id'] in number_of_nights_per_id:\\n      number_of_nights_per_id[row['listing_id']]  += 1\\n    else:\\n      number_of_nights_per_id[row['listing_id']] = 1\\n\""
            ],
            "application/vnd.google.colaboratory.intrinsic+json": {
              "type": "string"
            }
          },
          "metadata": {},
          "execution_count": 30
        }
      ]
    },
    {
      "cell_type": "markdown",
      "source": [
        "iterating through each row of a DataFrame called Paris_calinder and counting the number of nights that each listing ID is available."
      ],
      "metadata": {
        "id": "01SqhfY2UYsz"
      }
    },
    {
      "cell_type": "code",
      "source": [
        "number_of_nights_per_id1 = {}\n",
        "j=0\n",
        "for row in Paris_calinder.itertuples(index=False):\n",
        "  j+=1\n",
        "  if j%1000000 == 0:\n",
        "    print(j)\n",
        "  if row[2]=='f':\n",
        "    if row[0] in number_of_nights_per_id1:\n",
        "      number_of_nights_per_id1[row[0]]  += 1\n",
        "    else:\n",
        "      number_of_nights_per_id1[row[0]] = 1\n",
        "  elif row[2]!='f' and row[0] not in number_of_nights_per_id1:\n",
        "     number_of_nights_per_id1[row[0]] = 0"
      ],
      "metadata": {
        "colab": {
          "base_uri": "https://localhost:8080/"
        },
        "id": "vHl6SD3M7qFw",
        "outputId": "1e4f23f7-fea5-49ac-cb3d-daa77feaba8d"
      },
      "execution_count": 31,
      "outputs": [
        {
          "output_type": "stream",
          "name": "stdout",
          "text": [
            "1000000\n",
            "2000000\n",
            "3000000\n",
            "4000000\n",
            "5000000\n",
            "6000000\n",
            "7000000\n",
            "8000000\n",
            "9000000\n",
            "10000000\n",
            "11000000\n",
            "12000000\n",
            "13000000\n",
            "14000000\n",
            "15000000\n",
            "16000000\n",
            "17000000\n",
            "18000000\n",
            "19000000\n",
            "20000000\n",
            "21000000\n",
            "22000000\n",
            "23000000\n"
          ]
        }
      ]
    },
    {
      "cell_type": "code",
      "source": [
        "#getting only the listing_ids that is exist in our listing dataset\n",
        "number_of_nights_per_id_filtered = number_of_nights_per_id1.copy()\n",
        "\n",
        "print(len (number_of_nights_per_id_filtered))\n",
        "for id in number_of_nights_per_id1:\n",
        "  if id not in paris_ids:\n",
        "    del number_of_nights_per_id_filtered[id]\n",
        "print(len (number_of_nights_per_id_filtered))"
      ],
      "metadata": {
        "colab": {
          "base_uri": "https://localhost:8080/"
        },
        "id": "ue8294mYD1aB",
        "outputId": "ae3dec54-7041-4d11-d7c2-16e805d56f48"
      },
      "execution_count": 32,
      "outputs": [
        {
          "output_type": "stream",
          "name": "stdout",
          "text": [
            "64677\n",
            "31942\n"
          ]
        }
      ]
    },
    {
      "cell_type": "code",
      "source": [
        "# ploting the distribution of the number of days in one year that each listing is full\n",
        "values = list(number_of_nights_per_id_filtered.values())\n",
        "print(len(number_of_nights_per_id_filtered))\n",
        "plt.hist(values, bins=50)"
      ],
      "metadata": {
        "colab": {
          "base_uri": "https://localhost:8080/",
          "height": 708
        },
        "id": "VLTweG5yGAbC",
        "outputId": "6ef0ec87-4f7f-4ec6-94b2-aa9829953d95"
      },
      "execution_count": 33,
      "outputs": [
        {
          "output_type": "stream",
          "name": "stdout",
          "text": [
            "31942\n"
          ]
        },
        {
          "output_type": "execute_result",
          "data": {
            "text/plain": [
              "(array([ 3504.,   347.,   425.,   180.,   187.,   196.,   309.,   137.,\n",
              "          132.,    94.,   204.,    93.,   110.,   204.,   210.,    87.,\n",
              "           87.,    57.,   241.,    96.,    65.,    36.,   116.,    86.,\n",
              "           54.,   682.,   177.,   203.,    50.,    60.,    72.,   163.,\n",
              "           55.,    65.,    77.,   121.,    60.,   924.,   218.,   220.,\n",
              "          106.,   117.,    78.,   475.,   119.,   102.,    71.,   224.,\n",
              "          169., 20077.]),\n",
              " array([  0.  ,   7.36,  14.72,  22.08,  29.44,  36.8 ,  44.16,  51.52,\n",
              "         58.88,  66.24,  73.6 ,  80.96,  88.32,  95.68, 103.04, 110.4 ,\n",
              "        117.76, 125.12, 132.48, 139.84, 147.2 , 154.56, 161.92, 169.28,\n",
              "        176.64, 184.  , 191.36, 198.72, 206.08, 213.44, 220.8 , 228.16,\n",
              "        235.52, 242.88, 250.24, 257.6 , 264.96, 272.32, 279.68, 287.04,\n",
              "        294.4 , 301.76, 309.12, 316.48, 323.84, 331.2 , 338.56, 345.92,\n",
              "        353.28, 360.64, 368.  ]),\n",
              " <BarContainer object of 50 artists>)"
            ]
          },
          "metadata": {},
          "execution_count": 33
        },
        {
          "output_type": "display_data",
          "data": {
            "text/plain": [
              "<Figure size 640x480 with 1 Axes>"
            ],
            "image/png": "[encoded data removed]"
          },
          "metadata": {}
        }
      ]
    },
    {
      "cell_type": "markdown",
      "source": [
        "**preprocess the listing dataset**"
      ],
      "metadata": {
        "id": "B9Qe5qkGITDq"
      }
    },
    {
      "cell_type": "code",
      "source": [
        "# drop the data which is not paris\n",
        "Listing_paris_filter = Listings_filtered.copy()\n",
        "Listing_paris_filter = Listing_paris_filter.drop(Listing_paris_filter[Listing_paris_filter['city'] != 'Paris'].index)\n",
        "print(\"With all Ids\",len(Listing_paris_filter))\n",
        "Listing_paris_filter = Listing_paris_filter[Listing_paris_filter['listing_id'].isin(paris_ids)]\n",
        "print(\"With only shared Ids\",len(Listing_paris_filter))\n",
        "Listing_paris_filter['city'].head(100)"
      ],
      "metadata": {
        "colab": {
          "base_uri": "https://localhost:8080/"
        },
        "id": "5CU0jO-uFuJ7",
        "outputId": "580f69c4-941e-4ae5-9338-b51b86a50298"
      },
      "execution_count": 34,
      "outputs": [
        {
          "output_type": "stream",
          "name": "stdout",
          "text": [
            "With all Ids 64690\n",
            "With only shared Ids 31942\n"
          ]
        },
        {
          "output_type": "execute_result",
          "data": {
            "text/plain": [
              "0      Paris\n",
              "1      Paris\n",
              "2      Paris\n",
              "3      Paris\n",
              "4      Paris\n",
              "       ...  \n",
              "144    Paris\n",
              "145    Paris\n",
              "146    Paris\n",
              "147    Paris\n",
              "148    Paris\n",
              "Name: city, Length: 100, dtype: object"
            ]
          },
          "metadata": {},
          "execution_count": 34
        }
      ]
    },
    {
      "cell_type": "code",
      "source": [
        "for i in paris_ids:\n",
        "  if i not in Listing_paris_filter['listing_id'].values:\n",
        "    print(1)\n",
        "for i in Listing_paris_filter['listing_id']:\n",
        "  if i not in paris_ids:\n",
        "    print(22)\n",
        "for i in paris_ids:\n",
        "  if i not in number_of_nights_per_id_filtered:\n",
        "    print(33)\n",
        "print(Listing_paris_filter['listing_id'])"
      ],
      "metadata": {
        "colab": {
          "base_uri": "https://localhost:8080/"
        },
        "id": "x2tG1vWaOoqQ",
        "outputId": "17d2c3f7-0cfb-451a-e435-0036ba83edb0"
      },
      "execution_count": 35,
      "outputs": [
        {
          "output_type": "stream",
          "name": "stdout",
          "text": [
            "0           281420\n",
            "1          3705183\n",
            "2          4082273\n",
            "3          4797344\n",
            "4          4823489\n",
            "            ...   \n",
            "279636    22980552\n",
            "279637    23016641\n",
            "279638    23103869\n",
            "279639    23227926\n",
            "279640    23552264\n",
            "Name: listing_id, Length: 31942, dtype: int64\n"
          ]
        }
      ]
    },
    {
      "cell_type": "code",
      "source": [
        "Listing_paris_filter['nights_reserved'] = None\n",
        "for index, row in Listing_paris_filter.iterrows():\n",
        "  id = row['listing_id']\n",
        "  x = number_of_nights_per_id_filtered[id]\n",
        "  Listing_paris_filter['nights_reserved'][index] = x\n",
        "print(Listing_paris_filter['nights_reserved'].head(3))"
      ],
      "metadata": {
        "colab": {
          "base_uri": "https://localhost:8080/"
        },
        "id": "-09Z26vcMGGP",
        "outputId": "0cbd4b57-0e19-46f8-de64-bf0459c49a78"
      },
      "execution_count": 36,
      "outputs": [
        {
          "output_type": "stream",
          "name": "stderr",
          "text": [
            "<ipython-input-36-63c94e4972c5>:5: SettingWithCopyWarning: \n",
            "A value is trying to be set on a copy of a slice from a DataFrame\n",
            "\n",
            "See the caveats in the documentation: https://pandas.pydata.org/pandas-docs/stable/user_guide/indexing.html#returning-a-view-versus-a-copy\n",
            "  Listing_paris_filter['nights_reserved'][index] = x\n"
          ]
        },
        {
          "output_type": "stream",
          "name": "stdout",
          "text": [
            "0    365\n",
            "1    365\n",
            "2    365\n",
            "Name: nights_reserved, dtype: object\n"
          ]
        }
      ]
    },
    {
      "cell_type": "code",
      "source": [
        "# finally as we see here the distubution of number of nights reservened in paris at 2021 is very real and similar to the distubution that we saw before\n",
        "print(len(Listing_paris_filter))\n",
        "Listing_paris_filter['nights_reserved'].hist(bins=50)\n",
        "plt.title(\"Figure-3\")\n",
        "plt.show()"
      ],
      "metadata": {
        "colab": {
          "base_uri": "https://localhost:8080/",
          "height": 469
        },
        "id": "0dUpqIAagDnP",
        "outputId": "cb45f238-93a4-4244-b8e4-ca877e7b3cb4"
      },
      "execution_count": 37,
      "outputs": [
        {
          "output_type": "stream",
          "name": "stdout",
          "text": [
            "31942\n"
          ]
        },
        {
          "output_type": "display_data",
          "data": {
            "text/plain": [
              "<Figure size 640x480 with 1 Axes>"
            ],
            "image/png": "[encoded data removed]"
          },
          "metadata": {}
        }
      ]
    },
    {
      "cell_type": "markdown",
      "source": [
        "**calculating profit and assign it as column**"
      ],
      "metadata": {
        "id": "8wReHOeQgq8m"
      }
    },
    {
      "cell_type": "code",
      "source": [
        "def profit_calculater(number_of_nights, price):\n",
        "  return int(number_of_nights * price)\n",
        "Listing_paris_filter['profit'] = None\n",
        "for index, row in Listing_paris_filter.iterrows():\n",
        "  #Listing_paris_filter['profit'] = Listing_paris_filter['nights_reserved'] * Listing_paris_filter['price']\n",
        "  Listing_paris_filter['profit'][index] = profit_calculater(row['nights_reserved'],row['price'])"
      ],
      "metadata": {
        "colab": {
          "base_uri": "https://localhost:8080/"
        },
        "id": "kUGIglVYgxGq",
        "outputId": "4a0e28b6-5414-478e-97e2-bb9e5de00106"
      },
      "execution_count": 38,
      "outputs": [
        {
          "output_type": "stream",
          "name": "stderr",
          "text": [
            "<ipython-input-38-860f8c6d221f>:5: SettingWithCopyWarning: \n",
            "A value is trying to be set on a copy of a slice from a DataFrame\n",
            "\n",
            "See the caveats in the documentation: https://pandas.pydata.org/pandas-docs/stable/user_guide/indexing.html#returning-a-view-versus-a-copy\n",
            "  Listing_paris_filter['profit'][index] = profit_calculater(row['nights_reserved'],row['price'])\n"
          ]
        }
      ]
    },
    {
      "cell_type": "code",
      "source": [
        "# ploting the distubution of profit between listings \n",
        "# of course there will be alot of listing (~3400) with no profit at all and that what we gonna fix it \n",
        "profit_for_plotting =[]\n",
        "profit_count ={}\n",
        "for i in Listing_paris_filter['profit']:\n",
        "  if i in profit_count:\n",
        "    profit_count[i] += 1\n",
        "  else:\n",
        "    profit_count[i] = 1\n",
        "  if i< 100000:\n",
        "    profit_for_plotting.append(i)\n",
        "plt.hist(profit_for_plotting,bins=100)\n",
        "plt.title(\"Figure-4\")\n",
        "plt.show()"
      ],
      "metadata": {
        "colab": {
          "base_uri": "https://localhost:8080/",
          "height": 452
        },
        "id": "SPijFKuoh16v",
        "outputId": "05207b02-f4ee-474a-f3d7-fb131f57b606"
      },
      "execution_count": 39,
      "outputs": [
        {
          "output_type": "display_data",
          "data": {
            "text/plain": [
              "<Figure size 640x480 with 1 Axes>"
            ],
            "image/png": "[encoded data removed]"
          },
          "metadata": {}
        }
      ]
    },
    {
      "cell_type": "markdown",
      "source": [
        "# **Removing the unused columns and continue preprocessing**"
      ],
      "metadata": {
        "id": "KjrCUnbhspOx"
      }
    },
    {
      "cell_type": "code",
      "source": [
        "L_dataset = Listing_paris_filter.copy()\n",
        "L_dataset.columns"
      ],
      "metadata": {
        "colab": {
          "base_uri": "https://localhost:8080/"
        },
        "id": "TFW2xuGrpCji",
        "outputId": "22f70fd2-b3b5-489b-be72-b18b56b720c7"
      },
      "execution_count": 40,
      "outputs": [
        {
          "output_type": "execute_result",
          "data": {
            "text/plain": [
              "Index(['listing_id', 'name', 'host_id', 'host_since', 'host_location',\n",
              "       'host_response_time', 'host_response_rate', 'host_acceptance_rate',\n",
              "       'host_is_superhost', 'host_total_listings_count',\n",
              "       'host_has_profile_pic', 'host_identity_verified', 'neighbourhood',\n",
              "       'district', 'city', 'latitude', 'longitude', 'property_type',\n",
              "       'room_type', 'accommodates', 'bedrooms', 'amenities', 'price',\n",
              "       'minimum_nights', 'maximum_nights', 'review_scores_rating',\n",
              "       'review_scores_accuracy', 'review_scores_cleanliness',\n",
              "       'review_scores_checkin', 'review_scores_communication',\n",
              "       'review_scores_location', 'review_scores_value', 'instant_bookable',\n",
              "       'nights_reserved', 'profit'],\n",
              "      dtype='object')"
            ]
          },
          "metadata": {},
          "execution_count": 40
        }
      ]
    },
    {
      "cell_type": "code",
      "source": [
        "if 'host_id' in L_dataset.columns:\n",
        "  L_dataset = L_dataset.drop('host_id', axis=1)\n",
        "if 'district' in L_dataset.columns:\n",
        " L_dataset = L_dataset.drop('district', axis=1)\n",
        "if 'host_location' in  L_dataset.columns:\n",
        "  L_dataset = L_dataset.drop('host_location', axis=1)\n",
        "if 'host_response_time' in  L_dataset.columns:\n",
        "  L_dataset = L_dataset.drop('host_response_time', axis=1)\n",
        "if 'host_response_rate' in  L_dataset.columns:\n",
        "  L_dataset = L_dataset.drop('host_response_rate', axis=1)\n",
        "if 'host_acceptance_rate' in  L_dataset.columns:\n",
        "  L_dataset = L_dataset.drop('host_acceptance_rate', axis=1)\n",
        "if 'host_response_rate' in  L_dataset.columns:\n",
        "  L_dataset = L_dataset.drop('host_response_rate', axis=1)\n",
        "if 'host_has_profile_pic' in  L_dataset.columns:\n",
        "  L_dataset = L_dataset.drop('host_has_profile_pic', axis=1)\n",
        "if 'host_identity_verified' in  L_dataset.columns:\n",
        "  L_dataset = L_dataset.drop('host_identity_verified', axis=1)\n",
        "if 'neighbourhood' in  L_dataset.columns:\n",
        "  L_dataset = L_dataset.drop('neighbourhood', axis=1)\n",
        "if 'name' in  L_dataset.columns:\n",
        "  L_dataset = L_dataset.drop('name', axis=1)\n",
        "\n"
      ],
      "metadata": {
        "id": "c4zAaRg0s1nh"
      },
      "execution_count": 41,
      "outputs": []
    },
    {
      "cell_type": "code",
      "source": [
        "def update_date_host_since_to_int(row,columns_name, value):\n",
        "  \"\"\"This function is to update date from full representation to int year\"\"\"\n",
        "  if type(row[columns_name]) is int:\n",
        "    return row[columns_name]\n",
        "  return int(row['host_since'][0:4])\n",
        "L_dataset['host_since'] = L_dataset.apply(lambda row: update_date_host_since_to_int(row,'host_since',0), axis=1)\n",
        "L_dataset['host_since'].hist(bins=20)\n",
        "plt.title(\"Figure-5\")\n",
        "plt.show()"
      ],
      "metadata": {
        "colab": {
          "base_uri": "https://localhost:8080/",
          "height": 452
        },
        "id": "q63hcinMwC4a",
        "outputId": "19eeadda-d11a-4035-94da-6e8b15efbc4a"
      },
      "execution_count": 42,
      "outputs": [
        {
          "output_type": "display_data",
          "data": {
            "text/plain": [
              "<Figure size 640x480 with 1 Axes>"
            ],
            "image/png": "[encoded data removed]"
          },
          "metadata": {}
        }
      ]
    },
    {
      "cell_type": "markdown",
      "source": [
        "encoding host_is_superhost"
      ],
      "metadata": {
        "id": "h_cyIWkmXjaO"
      }
    },
    {
      "cell_type": "code",
      "source": [
        "def update_ordinal_encoder_to_bool(row,column):\n",
        "  \"\"\"Ordinal encoding column\"\"\"\n",
        "  if type(row[column]) is bool:\n",
        "    return row[column]\n",
        "  if row[column] == 'f':\n",
        "    return 0\n",
        "  else:\n",
        "    return 1\n",
        "# encoding host_is_superhost\n",
        "L_dataset['host_is_superhost'] = Listings.apply(lambda  row : update_ordinal_encoder_to_bool(row,'host_is_superhost'), axis = 1)\n",
        "L_dataset['host_is_superhost'].hist(bins=10)"
      ],
      "metadata": {
        "colab": {
          "base_uri": "https://localhost:8080/",
          "height": 447
        },
        "id": "cjfZU-EX1nG6",
        "outputId": "4fe455ae-fbf0-4262-e06d-eb9ba43f3579"
      },
      "execution_count": 43,
      "outputs": [
        {
          "output_type": "execute_result",
          "data": {
            "text/plain": [
              "<Axes: >"
            ]
          },
          "metadata": {},
          "execution_count": 43
        },
        {
          "output_type": "display_data",
          "data": {
            "text/plain": [
              "<Figure size 640x480 with 1 Axes>"
            ],
            "image/png": "[encoded data removed]"
          },
          "metadata": {}
        }
      ]
    },
    {
      "cell_type": "markdown",
      "source": [
        "# One hot encoding "
      ],
      "metadata": {
        "id": "aM6NOY2PXpEl"
      }
    },
    {
      "cell_type": "code",
      "source": [
        "def One_Hot_Encoder_function(dataset , column):\n",
        "  \"\"\"This Function to One hot encode any column\"\"\"\n",
        "  if column not in dataset.columns:\n",
        "    return dataset\n",
        "  One_Hot_Encoder = OneHotEncoder()\n",
        "  one_hot_encoded = pd.get_dummies(dataset[column], prefix=column)\n",
        "  one_hot_encoded_df = pd.concat([dataset, one_hot_encoded], axis=1)\n",
        "  one_hot_encoded_df = one_hot_encoded_df.drop(column, axis=1)\n",
        "  return one_hot_encoded_df\n"
      ],
      "metadata": {
        "id": "y3o_C6U84tYk"
      },
      "execution_count": 44,
      "outputs": []
    },
    {
      "cell_type": "code",
      "source": [
        "# encoding property_type\n",
        "print(L_dataset['property_type'].unique())\n",
        "print(len(L_dataset.columns))\n",
        "L_dataset_E1 = One_Hot_Encoder_function(L_dataset,'property_type')\n",
        "print (len(L_dataset_E1.columns))\n",
        "print(L_dataset_E1.columns)"
      ],
      "metadata": {
        "colab": {
          "base_uri": "https://localhost:8080/"
        },
        "id": "nnILNWDs8tut",
        "outputId": "668d79a9-78c5-4c0c-8ff1-34ebb0bc0109"
      },
      "execution_count": 45,
      "outputs": [
        {
          "output_type": "stream",
          "name": "stdout",
          "text": [
            "['Entire apartment' 'Entire loft' 'Entire house'\n",
            " 'Private room in apartment' 'Entire condominium' 'Earth house'\n",
            " 'Entire townhouse' 'Room in serviced apartment'\n",
            " 'Entire serviced apartment' 'Private room in house' 'Entire villa'\n",
            " 'Private room in guest suite' 'Private room in condominium'\n",
            " 'Private room in loft' 'Entire guest suite' 'Entire place'\n",
            " 'Room in boutique hotel' 'Entire floor' 'Entire guesthouse' 'Houseboat'\n",
            " 'Entire cottage' 'Boat' 'Tiny house' 'Private room in guesthouse'\n",
            " 'Entire home/apt' 'Room in bed and breakfast'\n",
            " 'Private room in bed and breakfast' 'Private room in villa'\n",
            " 'Room in aparthotel' 'Private room in chalet' 'Entire bed and breakfast'\n",
            " 'Private room in townhouse' 'Shared room in apartment' 'Cave'\n",
            " 'Private room in boat' 'Private room' 'Private room in earth house'\n",
            " 'Shared room in condominium' 'Room in hotel'\n",
            " 'Private room in serviced apartment' 'Shared room in loft'\n",
            " 'Private room in houseboat' 'Shared room in house'\n",
            " 'Shared room in townhouse' 'Shared room in igloo' 'Treehouse'\n",
            " 'Shared room in tiny house' 'Shared room in guesthouse'\n",
            " 'Shared room in guest suite' 'Private room in hostel'\n",
            " 'Private room in nature lodge' 'Dome house'\n",
            " 'Shared room in bed and breakfast']\n",
            "25\n",
            "77\n",
            "Index(['listing_id', 'host_since', 'host_is_superhost',\n",
            "       'host_total_listings_count', 'city', 'latitude', 'longitude',\n",
            "       'room_type', 'accommodates', 'bedrooms', 'amenities', 'price',\n",
            "       'minimum_nights', 'maximum_nights', 'review_scores_rating',\n",
            "       'review_scores_accuracy', 'review_scores_cleanliness',\n",
            "       'review_scores_checkin', 'review_scores_communication',\n",
            "       'review_scores_location', 'review_scores_value', 'instant_bookable',\n",
            "       'nights_reserved', 'profit', 'property_type_Boat', 'property_type_Cave',\n",
            "       'property_type_Dome house', 'property_type_Earth house',\n",
            "       'property_type_Entire apartment',\n",
            "       'property_type_Entire bed and breakfast',\n",
            "       'property_type_Entire condominium', 'property_type_Entire cottage',\n",
            "       'property_type_Entire floor', 'property_type_Entire guest suite',\n",
            "       'property_type_Entire guesthouse', 'property_type_Entire home/apt',\n",
            "       'property_type_Entire house', 'property_type_Entire loft',\n",
            "       'property_type_Entire place', 'property_type_Entire serviced apartment',\n",
            "       'property_type_Entire townhouse', 'property_type_Entire villa',\n",
            "       'property_type_Houseboat', 'property_type_Private room',\n",
            "       'property_type_Private room in apartment',\n",
            "       'property_type_Private room in bed and breakfast',\n",
            "       'property_type_Private room in boat',\n",
            "       'property_type_Private room in chalet',\n",
            "       'property_type_Private room in condominium',\n",
            "       'property_type_Private room in earth house',\n",
            "       'property_type_Private room in guest suite',\n",
            "       'property_type_Private room in guesthouse',\n",
            "       'property_type_Private room in hostel',\n",
            "       'property_type_Private room in house',\n",
            "       'property_type_Private room in houseboat',\n",
            "       'property_type_Private room in loft',\n",
            "       'property_type_Private room in nature lodge',\n",
            "       'property_type_Private room in serviced apartment',\n",
            "       'property_type_Private room in townhouse',\n",
            "       'property_type_Private room in villa',\n",
            "       'property_type_Room in aparthotel',\n",
            "       'property_type_Room in bed and breakfast',\n",
            "       'property_type_Room in boutique hotel', 'property_type_Room in hotel',\n",
            "       'property_type_Room in serviced apartment',\n",
            "       'property_type_Shared room in apartment',\n",
            "       'property_type_Shared room in bed and breakfast',\n",
            "       'property_type_Shared room in condominium',\n",
            "       'property_type_Shared room in guest suite',\n",
            "       'property_type_Shared room in guesthouse',\n",
            "       'property_type_Shared room in house',\n",
            "       'property_type_Shared room in igloo',\n",
            "       'property_type_Shared room in loft',\n",
            "       'property_type_Shared room in tiny house',\n",
            "       'property_type_Shared room in townhouse', 'property_type_Tiny house',\n",
            "       'property_type_Treehouse'],\n",
            "      dtype='object')\n"
          ]
        }
      ]
    },
    {
      "cell_type": "code",
      "source": [
        "# encoding room_type\n",
        "print(L_dataset_E1['room_type'].unique())\n",
        "L_dataset_E2 = One_Hot_Encoder_function(L_dataset_E1,'room_type')\n",
        "print(len(L_dataset_E2.columns))\n",
        "print(L_dataset_E2.columns)"
      ],
      "metadata": {
        "colab": {
          "base_uri": "https://localhost:8080/"
        },
        "id": "xp--mvG19dOl",
        "outputId": "98029097-4fe7-4622-ffb1-e23c82b96155"
      },
      "execution_count": 46,
      "outputs": [
        {
          "output_type": "stream",
          "name": "stdout",
          "text": [
            "['Entire place' 'Private room' 'Hotel room' 'Shared room']\n",
            "80\n",
            "Index(['listing_id', 'host_since', 'host_is_superhost',\n",
            "       'host_total_listings_count', 'city', 'latitude', 'longitude',\n",
            "       'accommodates', 'bedrooms', 'amenities', 'price', 'minimum_nights',\n",
            "       'maximum_nights', 'review_scores_rating', 'review_scores_accuracy',\n",
            "       'review_scores_cleanliness', 'review_scores_checkin',\n",
            "       'review_scores_communication', 'review_scores_location',\n",
            "       'review_scores_value', 'instant_bookable', 'nights_reserved', 'profit',\n",
            "       'property_type_Boat', 'property_type_Cave', 'property_type_Dome house',\n",
            "       'property_type_Earth house', 'property_type_Entire apartment',\n",
            "       'property_type_Entire bed and breakfast',\n",
            "       'property_type_Entire condominium', 'property_type_Entire cottage',\n",
            "       'property_type_Entire floor', 'property_type_Entire guest suite',\n",
            "       'property_type_Entire guesthouse', 'property_type_Entire home/apt',\n",
            "       'property_type_Entire house', 'property_type_Entire loft',\n",
            "       'property_type_Entire place', 'property_type_Entire serviced apartment',\n",
            "       'property_type_Entire townhouse', 'property_type_Entire villa',\n",
            "       'property_type_Houseboat', 'property_type_Private room',\n",
            "       'property_type_Private room in apartment',\n",
            "       'property_type_Private room in bed and breakfast',\n",
            "       'property_type_Private room in boat',\n",
            "       'property_type_Private room in chalet',\n",
            "       'property_type_Private room in condominium',\n",
            "       'property_type_Private room in earth house',\n",
            "       'property_type_Private room in guest suite',\n",
            "       'property_type_Private room in guesthouse',\n",
            "       'property_type_Private room in hostel',\n",
            "       'property_type_Private room in house',\n",
            "       'property_type_Private room in houseboat',\n",
            "       'property_type_Private room in loft',\n",
            "       'property_type_Private room in nature lodge',\n",
            "       'property_type_Private room in serviced apartment',\n",
            "       'property_type_Private room in townhouse',\n",
            "       'property_type_Private room in villa',\n",
            "       'property_type_Room in aparthotel',\n",
            "       'property_type_Room in bed and breakfast',\n",
            "       'property_type_Room in boutique hotel', 'property_type_Room in hotel',\n",
            "       'property_type_Room in serviced apartment',\n",
            "       'property_type_Shared room in apartment',\n",
            "       'property_type_Shared room in bed and breakfast',\n",
            "       'property_type_Shared room in condominium',\n",
            "       'property_type_Shared room in guest suite',\n",
            "       'property_type_Shared room in guesthouse',\n",
            "       'property_type_Shared room in house',\n",
            "       'property_type_Shared room in igloo',\n",
            "       'property_type_Shared room in loft',\n",
            "       'property_type_Shared room in tiny house',\n",
            "       'property_type_Shared room in townhouse', 'property_type_Tiny house',\n",
            "       'property_type_Treehouse', 'room_type_Entire place',\n",
            "       'room_type_Hotel room', 'room_type_Private room',\n",
            "       'room_type_Shared room'],\n",
            "      dtype='object')\n"
          ]
        }
      ]
    },
    {
      "cell_type": "code",
      "source": [
        "# encoding instant_bookable\n",
        "L_dataset_E2['instant_bookable'] = Listings.apply(lambda  row : update_ordinal_encoder_to_bool(row,'instant_bookable'), axis = 1)\n",
        "L_dataset_E2['instant_bookable'].hist(bins=10)"
      ],
      "metadata": {
        "colab": {
          "base_uri": "https://localhost:8080/",
          "height": 447
        },
        "id": "q4-jFpU7-0CO",
        "outputId": "2f8a7d32-659a-4eeb-e87f-2ecc2954b426"
      },
      "execution_count": 47,
      "outputs": [
        {
          "output_type": "execute_result",
          "data": {
            "text/plain": [
              "<Axes: >"
            ]
          },
          "metadata": {},
          "execution_count": 47
        },
        {
          "output_type": "display_data",
          "data": {
            "text/plain": [
              "<Figure size 640x480 with 1 Axes>"
            ],
            "image/png": "[encoded data removed]"
          },
          "metadata": {}
        }
      ]
    },
    {
      "cell_type": "markdown",
      "source": [
        "# **Amenities Encoding**\n",
        "\n",
        "Unfortunately amenities are saved as a json, but read_csv recognizes only a string. In the first step we will split the string in parts and using regular expressions we will remove unnecessary characters. Then we will encode amenities as dummy variables\n",
        "\n"
      ],
      "metadata": {
        "id": "Y6pHASp4AfS-"
      }
    },
    {
      "cell_type": "code",
      "source": [
        "amenities = L_dataset_E2[\"amenities\"].str.split(\",\",expand=True)\n",
        "amenities.head(3)"
      ],
      "metadata": {
        "colab": {
          "base_uri": "https://localhost:8080/",
          "height": 393
        },
        "id": "Tp-5GbU5_tXc",
        "outputId": "82f04dd5-fe28-4537-87a2-e9f1393262fe"
      },
      "execution_count": 48,
      "outputs": [
        {
          "output_type": "execute_result",
          "data": {
            "text/plain": [
              "           0           1           2              3   \\\n",
              "0  [\"Heating\"   \"Kitchen\"    \"Washer\"         \"Wifi\"   \n",
              "1  [\"Shampoo\"   \"Heating\"   \"Kitchen\"   \"Essentials\"   \n",
              "2  [\"Heating\"        \"TV\"   \"Kitchen\"       \"Washer\"   \n",
              "\n",
              "                            4                            5        6   \\\n",
              "0   \"Long term stays allowed\"]                         None     None   \n",
              "1                     \"Washer\"                      \"Dryer\"   \"Wifi\"   \n",
              "2                       \"Wifi\"   \"Long term stays allowed\"]     None   \n",
              "\n",
              "                            7     8     9   ...    53    54    55    56    57  \\\n",
              "0                         None  None  None  ...  None  None  None  None  None   \n",
              "1   \"Long term stays allowed\"]  None  None  ...  None  None  None  None  None   \n",
              "2                         None  None  None  ...  None  None  None  None  None   \n",
              "\n",
              "     58    59    60    61    62  \n",
              "0  None  None  None  None  None  \n",
              "1  None  None  None  None  None  \n",
              "2  None  None  None  None  None  \n",
              "\n",
              "[3 rows x 63 columns]"
            ],
            "text/html": [
              "\n",
              "  <div id=\"df-f5790a3e-9a4b-4f78-ae44-ea7eefdb2dbf\">\n",
              "    <div class=\"colab-df-container\">\n",
              "      <div>\n",
              "<style scoped>\n",
              "    .dataframe tbody tr th:only-of-type {\n",
              "        vertical-align: middle;\n",
              "    }\n",
              "\n",
              "    .dataframe tbody tr th {\n",
              "        vertical-align: top;\n",
              "    }\n",
              "\n",
              "    .dataframe thead th {\n",
              "        text-align: right;\n",
              "    }\n",
              "</style>\n",
              "<table border=\"1\" class=\"dataframe\">\n",
              "  <thead>\n",
              "    <tr style=\"text-align: right;\">\n",
              "      <th></th>\n",
              "      <th>0</th>\n",
              "      <th>1</th>\n",
              "      <th>2</th>\n",
              "      <th>3</th>\n",
              "      <th>4</th>\n",
              "      <th>5</th>\n",
              "      <th>6</th>\n",
              "      <th>7</th>\n",
              "      <th>8</th>\n",
              "      <th>9</th>\n",
              "      <th>...</th>\n",
              "      <th>53</th>\n",
              "      <th>54</th>\n",
              "      <th>55</th>\n",
              "      <th>56</th>\n",
              "      <th>57</th>\n",
              "      <th>58</th>\n",
              "      <th>59</th>\n",
              "      <th>60</th>\n",
              "      <th>61</th>\n",
              "      <th>62</th>\n",
              "    </tr>\n",
              "  </thead>\n",
              "  <tbody>\n",
              "    <tr>\n",
              "      <th>0</th>\n",
              "      <td>[\"Heating\"</td>\n",
              "      <td>\"Kitchen\"</td>\n",
              "      <td>\"Washer\"</td>\n",
              "      <td>\"Wifi\"</td>\n",
              "      <td>\"Long term stays allowed\"]</td>\n",
              "      <td>None</td>\n",
              "      <td>None</td>\n",
              "      <td>None</td>\n",
              "      <td>None</td>\n",
              "      <td>None</td>\n",
              "      <td>...</td>\n",
              "      <td>None</td>\n",
              "      <td>None</td>\n",
              "      <td>None</td>\n",
              "      <td>None</td>\n",
              "      <td>None</td>\n",
              "      <td>None</td>\n",
              "      <td>None</td>\n",
              "      <td>None</td>\n",
              "      <td>None</td>\n",
              "      <td>None</td>\n",
              "    </tr>\n",
              "    <tr>\n",
              "      <th>1</th>\n",
              "      <td>[\"Shampoo\"</td>\n",
              "      <td>\"Heating\"</td>\n",
              "      <td>\"Kitchen\"</td>\n",
              "      <td>\"Essentials\"</td>\n",
              "      <td>\"Washer\"</td>\n",
              "      <td>\"Dryer\"</td>\n",
              "      <td>\"Wifi\"</td>\n",
              "      <td>\"Long term stays allowed\"]</td>\n",
              "      <td>None</td>\n",
              "      <td>None</td>\n",
              "      <td>...</td>\n",
              "      <td>None</td>\n",
              "      <td>None</td>\n",
              "      <td>None</td>\n",
              "      <td>None</td>\n",
              "      <td>None</td>\n",
              "      <td>None</td>\n",
              "      <td>None</td>\n",
              "      <td>None</td>\n",
              "      <td>None</td>\n",
              "      <td>None</td>\n",
              "    </tr>\n",
              "    <tr>\n",
              "      <th>2</th>\n",
              "      <td>[\"Heating\"</td>\n",
              "      <td>\"TV\"</td>\n",
              "      <td>\"Kitchen\"</td>\n",
              "      <td>\"Washer\"</td>\n",
              "      <td>\"Wifi\"</td>\n",
              "      <td>\"Long term stays allowed\"]</td>\n",
              "      <td>None</td>\n",
              "      <td>None</td>\n",
              "      <td>None</td>\n",
              "      <td>None</td>\n",
              "      <td>...</td>\n",
              "      <td>None</td>\n",
              "      <td>None</td>\n",
              "      <td>None</td>\n",
              "      <td>None</td>\n",
              "      <td>None</td>\n",
              "      <td>None</td>\n",
              "      <td>None</td>\n",
              "      <td>None</td>\n",
              "      <td>None</td>\n",
              "      <td>None</td>\n",
              "    </tr>\n",
              "  </tbody>\n",
              "</table>\n",
              "<p>3 rows × 63 columns</p>\n",
              "</div>\n",
              "      <button class=\"colab-df-convert\" onclick=\"convertToInteractive('df-f5790a3e-9a4b-4f78-ae44-ea7eefdb2dbf')\"\n",
              "              title=\"Convert this dataframe to an interactive table.\"\n",
              "              style=\"display:none;\">\n",
              "        \n",
              "  <svg xmlns=\"http://www.w3.org/2000/svg\" height=\"24px\"viewBox=\"0 0 24 24\"\n",
              "       width=\"24px\">\n",
              "    <path d=\"M0 0h24v24H0V0z\" fill=\"none\"/>\n",
              "    <path d=\"M18.56 5.44l.94 2.06.94-2.06 2.06-.94-2.06-.94-.94-2.06-.94 2.06-2.06.94zm-11 1L8.5 8.5l.94-2.06 2.06-.94-2.06-.94L8.5 2.5l-.94 2.06-2.06.94zm10 10l.94 2.06.94-2.06 2.06-.94-2.06-.94-.94-2.06-.94 2.06-2.06.94z\"/><path d=\"M17.41 7.96l-1.37-1.37c-.4-.4-.92-.59-1.43-.59-.52 0-1.04.2-1.43.59L10.3 9.45l-7.72 7.72c-.78.78-.78 2.05 0 2.83L4 21.41c.39.39.9.59 1.41.59.51 0 1.02-.2 1.41-.59l7.78-7.78 2.81-2.81c.8-.78.8-2.07 0-2.86zM5.41 20L4 18.59l7.72-7.72 1.47 1.35L5.41 20z\"/>\n",
              "  </svg>\n",
              "      </button>\n",
              "      \n",
              "  <style>\n",
              "    .colab-df-container {\n",
              "      display:flex;\n",
              "      flex-wrap:wrap;\n",
              "      gap: 12px;\n",
              "    }\n",
              "\n",
              "    .colab-df-convert {\n",
              "      background-color: #E8F0FE;\n",
              "      border: none;\n",
              "      border-radius: 50%;\n",
              "      cursor: pointer;\n",
              "      display: none;\n",
              "      fill: #1967D2;\n",
              "      height: 32px;\n",
              "      padding: 0 0 0 0;\n",
              "      width: 32px;\n",
              "    }\n",
              "\n",
              "    .colab-df-convert:hover {\n",
              "      background-color: #E2EBFA;\n",
              "      box-shadow: 0px 1px 2px rgba(60, 64, 67, 0.3), 0px 1px 3px 1px rgba(60, 64, 67, 0.15);\n",
              "      fill: #174EA6;\n",
              "    }\n",
              "\n",
              "    [theme=dark] .colab-df-convert {\n",
              "      background-color: #3B4455;\n",
              "      fill: #D2E3FC;\n",
              "    }\n",
              "\n",
              "    [theme=dark] .colab-df-convert:hover {\n",
              "      background-color: #434B5C;\n",
              "      box-shadow: 0px 1px 3px 1px rgba(0, 0, 0, 0.15);\n",
              "      filter: drop-shadow(0px 1px 2px rgba(0, 0, 0, 0.3));\n",
              "      fill: #FFFFFF;\n",
              "    }\n",
              "  </style>\n",
              "\n",
              "      <script>\n",
              "        const buttonEl =\n",
              "          document.querySelector('#df-f5790a3e-9a4b-4f78-ae44-ea7eefdb2dbf button.colab-df-convert');\n",
              "        buttonEl.style.display =\n",
              "          google.colab.kernel.accessAllowed ? 'block' : 'none';\n",
              "\n",
              "        async function convertToInteractive(key) {\n",
              "          const element = document.querySelector('#df-f5790a3e-9a4b-4f78-ae44-ea7eefdb2dbf');\n",
              "          const dataTable =\n",
              "            await google.colab.kernel.invokeFunction('convertToInteractive',\n",
              "                                                     [key], {});\n",
              "          if (!dataTable) return;\n",
              "\n",
              "          const docLinkHtml = 'Like what you see? Visit the ' +\n",
              "            '<a target=\"_blank\" href=https://colab.research.google.com/notebooks/data_table.ipynb>data table notebook</a>'\n",
              "            + ' to learn more about interactive tables.';\n",
              "          element.innerHTML = '';\n",
              "          dataTable['output_type'] = 'display_data';\n",
              "          await google.colab.output.renderOutput(dataTable, element);\n",
              "          const docLink = document.createElement('div');\n",
              "          docLink.innerHTML = docLinkHtml;\n",
              "          element.appendChild(docLink);\n",
              "        }\n",
              "      </script>\n",
              "    </div>\n",
              "  </div>\n",
              "  "
            ]
          },
          "metadata": {},
          "execution_count": 48
        }
      ]
    },
    {
      "cell_type": "markdown",
      "source": [
        "The first line is using the \"replace\" method on the \"amenities\" dataframe to replace any non-word and non-space characters with an empty string (i.e., removing them from the strings in the dataframe).\n",
        "The second line is creating a list called \"amenities_list\" that contains the unique values of each column in the \"amenities\" dataframe (as a list) using a list comprehension and the \"unique\" and \"tolist\" methods.\n",
        "The third line is flattening the nested list structure of \"amenities_list\" using the \"chain.from_iterable\" method from the \"itertools\" library, converting the resulting iterable to a list, and then creating a set from that list. This essentially creates a set of all unique values across all columns in the \"amenities\" dataframe.\n",
        "The fourth line is removing any empty strings or None values from the set of unique values."
      ],
      "metadata": {
        "id": "ceDFNqS8YKHH"
      }
    },
    {
      "cell_type": "code",
      "source": [
        "amenities = amenities.replace(regex=[\"[^\\w\\s]\"], value=\"\")\n",
        "amenities_list = [amenities[item].unique().tolist() for item in amenities.columns.values]\n",
        "amenities_list = set(list(chain.from_iterable(amenities_list)))\n",
        "amenities_list.remove('')\n",
        "amenities_list.remove(None) "
      ],
      "metadata": {
        "id": "qYSKgSUtBIJz"
      },
      "execution_count": 49,
      "outputs": []
    },
    {
      "cell_type": "code",
      "source": [
        "amenities_list"
      ],
      "metadata": {
        "colab": {
          "base_uri": "https://localhost:8080/"
        },
        "id": "Tdtg_zlJYZgS",
        "outputId": "e2fb063e-44fb-4a1e-e888-c938f107fd7a"
      },
      "execution_count": 124,
      "outputs": [
        {
          "output_type": "execute_result",
          "data": {
            "text/plain": [
              "{' 1 space',\n",
              " ' 103 TV with Netflix',\n",
              " ' 2 fours Microonde et chaleur tournante stainless steel oven',\n",
              " ' 23 HDTV with premium cable',\n",
              " ' 32 HDTV',\n",
              " ' 40 HDTV with Netflix',\n",
              " ' 41 HDTV with standard cable',\n",
              " ' 42 HDTV with Netflix',\n",
              " ' 45 HDTV with Netflix',\n",
              " ' 48 HDTV with premium cable',\n",
              " ' 55 HDTV with Netflix',\n",
              " ' 60 HDTV',\n",
              " ' AESOP shampoo',\n",
              " ' Aderma body soap',\n",
              " ' Aesop  body soap',\n",
              " ' Aesop  conditioner',\n",
              " ' Aesop conditioner',\n",
              " ' Aesop shampoo',\n",
              " ' Air conditioning',\n",
              " ' Alarm system',\n",
              " ' Amazon Prime Video',\n",
              " ' Amu00e9ricain refrigerator',\n",
              " ' Apple  Bluetooth sound system',\n",
              " ' BBQ grill',\n",
              " ' Baby bath',\n",
              " ' Baby monitor',\n",
              " ' Baby safety gates',\n",
              " ' Babysitter recommendations',\n",
              " ' Baking sheet',\n",
              " ' Balcony',\n",
              " ' Bang  Olufsen Bluetooth sound system',\n",
              " ' Barbecue utensils',\n",
              " ' Bathroom essentials',\n",
              " ' Bathtub',\n",
              " ' Beach essentials',\n",
              " ' Beachfront',\n",
              " ' Bed linens',\n",
              " ' Bedroom comforts',\n",
              " ' Bikes',\n",
              " ' Blender',\n",
              " ' BluRay player',\n",
              " ' Bluetooth sound system',\n",
              " ' Board games',\n",
              " ' Body soap',\n",
              " ' Bosch stainless steel gas stove',\n",
              " ' Bosch stainless steel oven',\n",
              " ' Bose Bluetooth sound system',\n",
              " ' Bose sound system with Bluetooth and aux',\n",
              " ' Bose sound system with aux',\n",
              " ' Brandt gas stove',\n",
              " ' Brandt stainless steel oven',\n",
              " ' Bread maker',\n",
              " ' Breakfast',\n",
              " ' Building staff',\n",
              " ' Cable TV',\n",
              " ' Cadum ou Fer u00e0 Cheval body soap',\n",
              " ' Candy refrigerator',\n",
              " ' Carbon monoxide alarm',\n",
              " ' Ceiling fan',\n",
              " ' Central air conditioning',\n",
              " ' Central heating',\n",
              " ' Changing table',\n",
              " ' Chefs kitchen',\n",
              " ' Childrenu2019s books and toys',\n",
              " ' Childrenu2019s books and toys for ages 10 years old',\n",
              " ' Childrenu2019s dinnerware',\n",
              " ' Chromecast',\n",
              " ' Cleaning before checkout',\n",
              " ' Cleaning products',\n",
              " ' Clothing storage',\n",
              " ' Clothing storage closet',\n",
              " ' Clothing storage closet and dresser',\n",
              " ' Clothing storage closet and walkin closet',\n",
              " ' Clothing storage closet and wardrobe',\n",
              " ' Clothing storage dresser',\n",
              " ' Clothing storage dresser and closet',\n",
              " ' Clothing storage walkin closet',\n",
              " ' Clothing storage walkin closet and closet',\n",
              " ' Clothing storage walkin closet and dresser',\n",
              " ' Clothing storage wardrobe',\n",
              " ' Clothing storage wardrobe and closet',\n",
              " ' Clothing storage wardrobe and dresser',\n",
              " ' Clothing storage wardrobe and walkin closet',\n",
              " ' Coffee maker',\n",
              " ' Conditioner',\n",
              " ' Cooking basics',\n",
              " ' Courtyard',\n",
              " ' Crib',\n",
              " ' DJCODE body soap',\n",
              " ' DVD player',\n",
              " ' DeDietrich stainless steel oven',\n",
              " ' Dedicated workspace',\n",
              " ' Dedicated workspace desk',\n",
              " ' Dedicated workspace office chair and desk',\n",
              " ' Dedicated workspace office chair and table',\n",
              " ' Dedicated workspace table',\n",
              " ' Dedicated workspace table and desk',\n",
              " ' Dedicated workspace table and office chair',\n",
              " ' Denon  Megaboom sound system with Bluetooth and aux',\n",
              " ' Denon Bluetooth sound system',\n",
              " ' Denon sound system with Bluetooth and aux',\n",
              " ' Dining area',\n",
              " ' Dining area for 10 people',\n",
              " ' Dining area for 4 people',\n",
              " ' Dining table',\n",
              " ' Dishes and silverware',\n",
              " ' Dishwasher',\n",
              " ' Dop',\n",
              " ' Dop or le petit marseillais shampoo',\n",
              " ' Dove body soap',\n",
              " ' Dryer',\n",
              " ' Dryer u2013 In building',\n",
              " ' Dryer u2013u00a0In unit',\n",
              " ' Drying rack for clothing',\n",
              " ' EV charger',\n",
              " ' Electric stove',\n",
              " ' Electrolux induction stove',\n",
              " ' Elevator',\n",
              " ' Espresso machine',\n",
              " ' Essentials',\n",
              " ' Ethernet connection',\n",
              " ' Extra pillows and blankets',\n",
              " ' Fire extinguisher',\n",
              " ' Fireplace guards',\n",
              " ' First aid kit',\n",
              " ' Free driveway parking on premises u2013 1 space',\n",
              " ' Free dryeru2013In building',\n",
              " ' Free dryeru2013In unit',\n",
              " ' Free parking garage on premises',\n",
              " ' Free parking garage on premises u2013 1 space',\n",
              " ' Free parking on premises',\n",
              " ' Free residential garage on premises u2013 1 space',\n",
              " ' Free street parking',\n",
              " ' Free washer',\n",
              " ' Free washeru2013In building',\n",
              " ' Free washeru2013In unit',\n",
              " ' Freezer',\n",
              " ' Full kitchen',\n",
              " ' Game console',\n",
              " ' Game console Nintendo Switch',\n",
              " ' Game console Nintendo Wii',\n",
              " ' Game room',\n",
              " ' Garden',\n",
              " ' Garden or backyard',\n",
              " ' Garnier shampoo',\n",
              " ' Gas grill',\n",
              " ' Gas stove',\n",
              " ' Gautier Bluetooth sound system',\n",
              " ' Gym',\n",
              " ' HBO Max',\n",
              " ' HDTV',\n",
              " ' HDTV with Amazon Prime Video',\n",
              " ' HDTV with Chromecast',\n",
              " ' HDTV with Netflix',\n",
              " ' HDTV with premium cable',\n",
              " ' HDTV with standard cable',\n",
              " ' Hair dryer',\n",
              " ' Hangers',\n",
              " ' Harman Kardon sound system with Bluetooth and aux',\n",
              " ' Heating',\n",
              " ' High chair',\n",
              " ' Hitachi stainless steel oven',\n",
              " ' Host greets you',\n",
              " ' Hot tub',\n",
              " ' Hot water',\n",
              " ' Hot water kettle',\n",
              " ' Ikea refrigerator',\n",
              " ' Indoor fireplace',\n",
              " ' Indu00e9sit refrigerator',\n",
              " ' Induction stove',\n",
              " ' Internet',\n",
              " ' Iron',\n",
              " ' Ironing board',\n",
              " ' Keurig coffee machine',\n",
              " ' Keypad',\n",
              " ' Kitchen',\n",
              " ' LACANCHE gas stove',\n",
              " ' LG refrigerator',\n",
              " ' LIEBHERR refrigerator',\n",
              " ' LOru00e9al conditioner',\n",
              " ' Lake access',\n",
              " ' Laundromat nearby',\n",
              " ' Le Petit Marseillais body soap',\n",
              " ' Le Petit Marseillais shampoo',\n",
              " ' Le petit Marseillais body soap',\n",
              " ' Library',\n",
              " ' Liebherr  petit congu00e9lateur refrigerator',\n",
              " ' Lock on bedroom door',\n",
              " ' Lockbox',\n",
              " ' Long term stays allowed',\n",
              " ' Loreal  conditioner',\n",
              " ' Lounge area',\n",
              " ' Lu2019Oru00e9al  conditioner',\n",
              " ' Lu2019oreal shampoo',\n",
              " ' Luggage dropoff allowed',\n",
              " ' MIELE refrigerator',\n",
              " ' Marshall  sound system with Bluetooth and aux',\n",
              " ' Marshall Bluetooth sound system',\n",
              " ' Massage bed',\n",
              " ' Microwave',\n",
              " ' Miele refrigerator',\n",
              " ' Mini four oven',\n",
              " ' Mini fridge',\n",
              " ' Mosquito net',\n",
              " ' Moulinex oven',\n",
              " ' Music system',\n",
              " ' Naim audio et enceintes avant Scu00e8ne sound system',\n",
              " ' Nespresso machine',\n",
              " ' Netflix',\n",
              " ' ONKYO sound system',\n",
              " ' Office',\n",
              " ' Outdoor dining area',\n",
              " ' Outdoor furniture',\n",
              " ' Outdoor shower',\n",
              " ' Outlet covers',\n",
              " ' Oven',\n",
              " ' PANASONIC sound system',\n",
              " ' PRO LINE electric stove',\n",
              " ' PRO LINE refrigerator',\n",
              " ' Pack u2019n Playtravel crib',\n",
              " ' Paid dryeru2013In unit',\n",
              " ' Paid parking garage off premises',\n",
              " ' Paid parking garage off premises u2013 EUR35 per day',\n",
              " ' Paid parking garage on premises',\n",
              " ' Paid parking garage on premises u2013 1 space',\n",
              " ' Paid parking garage on premises u2013 680 spaces',\n",
              " ' Paid parking garage on premises u2013 EUR20 per day',\n",
              " ' Paid parking lot on premises',\n",
              " ' Paid parking lot on premises u2013 1 space',\n",
              " ' Paid parking off premises',\n",
              " ' Paid parking on premises',\n",
              " ' Paid street parking off premises',\n",
              " ' Paid street parking off premises u2013 EUR2 per hour',\n",
              " ' Paid street parking off premises u2013 EUR35 per day',\n",
              " ' Paid street parking off premises u2013 EUR4 per hour',\n",
              " ' Paid valet parking on premises u2013 400 spaces',\n",
              " ' Paid washeru2013In unit',\n",
              " ' Parking',\n",
              " ' Patio',\n",
              " ' Patio or balcony',\n",
              " ' Petit Marseillais body soap',\n",
              " ' Petit marseillais  body soap',\n",
              " ' Pets allowed',\n",
              " ' Piano',\n",
              " ' Ping pong table',\n",
              " ' Pioneer Bluetooth sound system',\n",
              " ' Pocket wifi',\n",
              " ' Pool',\n",
              " ' Portable air conditioning',\n",
              " ' Portable fans',\n",
              " ' Portable heater',\n",
              " ' Pourover coffee',\n",
              " ' Printer',\n",
              " ' Private entrance',\n",
              " ' Private garden or backyard',\n",
              " ' Private living room',\n",
              " ' Private sauna',\n",
              " ' Projector',\n",
              " ' Proline refrigerator',\n",
              " ' ROSIERES electric stove',\n",
              " ' Radiant heating',\n",
              " ' Record player',\n",
              " ' Refrigerator',\n",
              " ' Restaurant',\n",
              " ' Rice maker',\n",
              " ' Roomdarkening shades',\n",
              " ' Ru00e9frigerateur congu00e9lateur marque Siemens refrigerator',\n",
              " ' SAMSUNG refrigerator',\n",
              " ' SCOTT sound system with aux',\n",
              " ' SMEG induction stove',\n",
              " ' SMEG stainless steel gas stove',\n",
              " ' SONOS sound system',\n",
              " ' Safe',\n",
              " ' Samsung oven',\n",
              " ' Samsung refrigerator',\n",
              " ' Sanex body soap',\n",
              " ' Savon de Marseille body soap',\n",
              " ' Savon de marseille body soap',\n",
              " ' Savon liquide Petit Marseillais body soap',\n",
              " ' Schneider oven',\n",
              " ' Self checkin',\n",
              " ' Shampoo',\n",
              " ' Shared fenced garden or backyard',\n",
              " ' Shared garden or backyard',\n",
              " ' Shower gel',\n",
              " ' Siemens',\n",
              " ' Siemens oven',\n",
              " ' Siemens refrigerator',\n",
              " ' Single level home',\n",
              " ' SkiinSkiout',\n",
              " ' Smart lock',\n",
              " ' Smeg induction stove',\n",
              " ' Smeg refrigerator',\n",
              " ' Smoke alarm',\n",
              " ' Smoking allowed',\n",
              " ' Smoking parlor',\n",
              " ' Sonos sound system',\n",
              " ' Sonos sound system with aux',\n",
              " ' Sony sound system',\n",
              " ' Sony sound system with Bluetooth and aux',\n",
              " ' Sound system',\n",
              " ' Sound system with Bluetooth and aux',\n",
              " ' Sound system with aux',\n",
              " ' Spa access',\n",
              " ' Spa equipment',\n",
              " ' Stainless steel oven',\n",
              " ' Steam room',\n",
              " ' Stove',\n",
              " ' Suitable for events',\n",
              " ' Surround sound system',\n",
              " ' TV',\n",
              " ' TV with Chromecast',\n",
              " ' TV with Netflix',\n",
              " ' TV with standard cable',\n",
              " ' Table corner guards',\n",
              " ' Terrace',\n",
              " ' Thomson refrigerator',\n",
              " ' Thomson sound system with Bluetooth and aux',\n",
              " ' Toaster',\n",
              " ' Trash compactor',\n",
              " ' URIAGE GEL DERMATOLOGIQUE body soap',\n",
              " ' Video Games',\n",
              " ' Washer',\n",
              " ' Washer u2013u00a0In building',\n",
              " ' Washer u2013u00a0In unit',\n",
              " ' Waterfront',\n",
              " ' Whirlpool refrigerator',\n",
              " ' Whirlpool stainless steel oven',\n",
              " ' Wifi',\n",
              " ' Wifi u2013 100 Mbps',\n",
              " ' Wifi u2013 1000 Mbps',\n",
              " ' Wifi u2013 250 Mbps',\n",
              " ' Wifi u2013 300 Mbps',\n",
              " ' Wifi u2013 500 Mbps',\n",
              " ' Window AC unit',\n",
              " ' Window guards',\n",
              " ' Wine glasses',\n",
              " ' Wonderboom Bluetooth sound system',\n",
              " ' Yves Rocher conditioner',\n",
              " ' and closet',\n",
              " ' and dresser',\n",
              " ' and office chair',\n",
              " ' and table',\n",
              " ' and walkin closet',\n",
              " ' avec friseur refrigerator',\n",
              " ' bio  organic   body soap',\n",
              " ' bosch stainless steel oven',\n",
              " ' bose Bluetooth sound system',\n",
              " ' bose sound system with Bluetooth and aux',\n",
              " ' combi ru00e9frigu00e9rateur  4 freezer refrigerator',\n",
              " ' creative sound system with Bluetooth and aux',\n",
              " ' desk',\n",
              " ' dresser',\n",
              " ' electrolux refrigerator',\n",
              " ' elseve conditioner',\n",
              " ' fait maison au karitu00e9 body soap',\n",
              " ' firstline oven',\n",
              " ' firstline refrigerator',\n",
              " ' iPad',\n",
              " ' iPod dock',\n",
              " ' neffe stainless steel gas stove',\n",
              " ' office chair',\n",
              " ' petit marseillais bio body soap',\n",
              " ' petit marseillais conditioner',\n",
              " ' plaque de cuisson 5 feux marque Neff gas stove',\n",
              " ' premium cable',\n",
              " ' pur savon de Marseille body soap',\n",
              " ' real soap from Aleppo body soap',\n",
              " ' rosiere stainless steel induction stove',\n",
              " ' rosiere stainless steel oven',\n",
              " ' rosiu00e8re stainless steel induction stove',\n",
              " ' sans du00e9conner  conditioner',\n",
              " ' sauter oven',\n",
              " ' seb oven',\n",
              " ' sony sound system',\n",
              " ' standard cable',\n",
              " ' walkin closet',\n",
              " ' wardrobe',\n",
              " ' whirlpool refrigerator',\n",
              " ' whirlpool stainless steel oven',\n",
              " 'Air conditioning',\n",
              " 'BBQ grill',\n",
              " 'BOSE sound system',\n",
              " 'Babysitter recommendations',\n",
              " 'Baking sheet',\n",
              " 'Bathtub',\n",
              " 'Bedroom comforts',\n",
              " 'Bidet',\n",
              " 'Board games',\n",
              " 'Body soap',\n",
              " 'Books',\n",
              " 'Breakfast',\n",
              " 'Building staff',\n",
              " 'Carbon monoxide alarm',\n",
              " 'Chefs kitchen',\n",
              " 'Childrenu2019s books and toys',\n",
              " 'Clothing storage dresser and walkin closet',\n",
              " 'Coffee maker',\n",
              " 'Cooking basics',\n",
              " 'Crib',\n",
              " 'Dedicated workspace',\n",
              " 'Dedicated workspace table',\n",
              " 'Dishes and silverware',\n",
              " 'Dishwasher',\n",
              " 'Dryer',\n",
              " 'Electric stove',\n",
              " 'Elevator',\n",
              " 'Essentials',\n",
              " 'Ethernet connection',\n",
              " 'Extra pillows and blankets',\n",
              " 'Fire extinguisher',\n",
              " 'Fireplace guards',\n",
              " 'First Line refrigerator',\n",
              " 'First aid kit',\n",
              " 'Free parking on premises',\n",
              " 'Free street parking',\n",
              " 'Game console',\n",
              " 'Garden or backyard',\n",
              " 'Gas stove',\n",
              " 'Gym',\n",
              " 'HDTV with premium cable',\n",
              " 'Hair dryer',\n",
              " 'Hangers',\n",
              " 'Heating',\n",
              " 'High chair',\n",
              " 'Host greets you',\n",
              " 'Hot tub',\n",
              " 'Hot water',\n",
              " 'Hot water kettle',\n",
              " 'Indoor fireplace',\n",
              " 'Iron',\n",
              " 'Kitchen',\n",
              " 'Lacanche oven',\n",
              " 'Lake access',\n",
              " 'Liebherr refrigerator',\n",
              " 'Lock on bedroom door',\n",
              " 'Lockbox',\n",
              " 'Long term stays allowed',\n",
              " 'Luggage dropoff allowed',\n",
              " 'MIELE oven',\n",
              " 'Oceanic induction stove',\n",
              " 'Outdoor dining area',\n",
              " 'Outdoor shower',\n",
              " 'Outlet covers',\n",
              " 'Oven',\n",
              " 'PRO LINE oven',\n",
              " 'Pack u2019n Playtravel crib',\n",
              " 'Paid parking garage on premises u2013 680 spaces',\n",
              " 'Paid parking lot off premises',\n",
              " 'Paid parking off premises',\n",
              " 'Paid parking on premises',\n",
              " 'Patio or balcony',\n",
              " 'Petit Marseillais body soap',\n",
              " 'Philips Bluetooth sound system',\n",
              " 'Pocket wifi',\n",
              " 'Pool',\n",
              " 'Portable heater',\n",
              " 'Pourover coffee',\n",
              " 'Private entrance',\n",
              " 'Private fenced garden or backyard',\n",
              " 'Private living room',\n",
              " 'Self checkin',\n",
              " 'Shampoo',\n",
              " 'Shower gel',\n",
              " 'Siemens stainless steel oven',\n",
              " 'Single level home',\n",
              " 'Smeg stainless steel oven',\n",
              " 'Smoke alarm',\n",
              " 'Sound system',\n",
              " 'Stove',\n",
              " 'TV',\n",
              " 'Table corner guards',\n",
              " 'Washer',\n",
              " 'Washer u2013u00a0In building',\n",
              " 'Washer u2013u00a0In unit',\n",
              " 'Wifi',\n",
              " 'Wifi u2013 1024 Mbps',\n",
              " 'Window guards',\n",
              " 'bosch induction stove'}"
            ]
          },
          "metadata": {},
          "execution_count": 124
        }
      ]
    },
    {
      "cell_type": "code",
      "source": [
        "len(amenities_list)"
      ],
      "metadata": {
        "colab": {
          "base_uri": "https://localhost:8080/"
        },
        "id": "KB1vfwpdBRIE",
        "outputId": "a560e7df-e93c-41b4-e1b5-298e5d0fd736"
      },
      "execution_count": 50,
      "outputs": [
        {
          "output_type": "execute_result",
          "data": {
            "text/plain": [
              "479"
            ]
          },
          "metadata": {},
          "execution_count": 50
        }
      ]
    },
    {
      "cell_type": "code",
      "source": [
        "for items in amenities_list:\n",
        "    L_dataset_E2[items] = L_dataset_E2[\"amenities\"].apply(lambda x: 1 if items in x else 0)"
      ],
      "metadata": {
        "colab": {
          "base_uri": "https://localhost:8080/"
        },
        "id": "Zz0bhY2BCJFU",
        "outputId": "242a47a6-3740-43f5-ec71-a2c0367e2dac"
      },
      "execution_count": 51,
      "outputs": [
        {
          "output_type": "stream",
          "name": "stderr",
          "text": [
            "<ipython-input-51-36dc8c5ed2be>:2: PerformanceWarning: DataFrame is highly fragmented.  This is usually the result of calling `frame.insert` many times, which has poor performance.  Consider joining all columns at once using pd.concat(axis=1) instead. To get a de-fragmented frame, use `newframe = frame.copy()`\n",
            "  L_dataset_E2[items] = L_dataset_E2[\"amenities\"].apply(lambda x: 1 if items in x else 0)\n",
            "<ipython-input-51-36dc8c5ed2be>:2: PerformanceWarning: DataFrame is highly fragmented.  This is usually the result of calling `frame.insert` many times, which has poor performance.  Consider joining all columns at once using pd.concat(axis=1) instead. To get a de-fragmented frame, use `newframe = frame.copy()`\n",
            "  L_dataset_E2[items] = L_dataset_E2[\"amenities\"].apply(lambda x: 1 if items in x else 0)\n",
            "<ipython-input-51-36dc8c5ed2be>:2: PerformanceWarning: DataFrame is highly fragmented.  This is usually the result of calling `frame.insert` many times, which has poor performance.  Consider joining all columns at once using pd.concat(axis=1) instead. To get a de-fragmented frame, use `newframe = frame.copy()`\n",
            "  L_dataset_E2[items] = L_dataset_E2[\"amenities\"].apply(lambda x: 1 if items in x else 0)\n",
            "<ipython-input-51-36dc8c5ed2be>:2: PerformanceWarning: DataFrame is highly fragmented.  This is usually the result of calling `frame.insert` many times, which has poor performance.  Consider joining all columns at once using pd.concat(axis=1) instead. To get a de-fragmented frame, use `newframe = frame.copy()`\n",
            "  L_dataset_E2[items] = L_dataset_E2[\"amenities\"].apply(lambda x: 1 if items in x else 0)\n",
            "<ipython-input-51-36dc8c5ed2be>:2: PerformanceWarning: DataFrame is highly fragmented.  This is usually the result of calling `frame.insert` many times, which has poor performance.  Consider joining all columns at once using pd.concat(axis=1) instead. To get a de-fragmented frame, use `newframe = frame.copy()`\n",
            "  L_dataset_E2[items] = L_dataset_E2[\"amenities\"].apply(lambda x: 1 if items in x else 0)\n",
            "<ipython-input-51-36dc8c5ed2be>:2: PerformanceWarning: DataFrame is highly fragmented.  This is usually the result of calling `frame.insert` many times, which has poor performance.  Consider joining all columns at once using pd.concat(axis=1) instead. To get a de-fragmented frame, use `newframe = frame.copy()`\n",
            "  L_dataset_E2[items] = L_dataset_E2[\"amenities\"].apply(lambda x: 1 if items in x else 0)\n",
            "<ipython-input-51-36dc8c5ed2be>:2: PerformanceWarning: DataFrame is highly fragmented.  This is usually the result of calling `frame.insert` many times, which has poor performance.  Consider joining all columns at once using pd.concat(axis=1) instead. To get a de-fragmented frame, use `newframe = frame.copy()`\n",
            "  L_dataset_E2[items] = L_dataset_E2[\"amenities\"].apply(lambda x: 1 if items in x else 0)\n",
            "<ipython-input-51-36dc8c5ed2be>:2: PerformanceWarning: DataFrame is highly fragmented.  This is usually the result of calling `frame.insert` many times, which has poor performance.  Consider joining all columns at once using pd.concat(axis=1) instead. To get a de-fragmented frame, use `newframe = frame.copy()`\n",
            "  L_dataset_E2[items] = L_dataset_E2[\"amenities\"].apply(lambda x: 1 if items in x else 0)\n",
            "<ipython-input-51-36dc8c5ed2be>:2: PerformanceWarning: DataFrame is highly fragmented.  This is usually the result of calling `frame.insert` many times, which has poor performance.  Consider joining all columns at once using pd.concat(axis=1) instead. To get a de-fragmented frame, use `newframe = frame.copy()`\n",
            "  L_dataset_E2[items] = L_dataset_E2[\"amenities\"].apply(lambda x: 1 if items in x else 0)\n",
            "<ipython-input-51-36dc8c5ed2be>:2: PerformanceWarning: DataFrame is highly fragmented.  This is usually the result of calling `frame.insert` many times, which has poor performance.  Consider joining all columns at once using pd.concat(axis=1) instead. To get a de-fragmented frame, use `newframe = frame.copy()`\n",
            "  L_dataset_E2[items] = L_dataset_E2[\"amenities\"].apply(lambda x: 1 if items in x else 0)\n",
            "<ipython-input-51-36dc8c5ed2be>:2: PerformanceWarning: DataFrame is highly fragmented.  This is usually the result of calling `frame.insert` many times, which has poor performance.  Consider joining all columns at once using pd.concat(axis=1) instead. To get a de-fragmented frame, use `newframe = frame.copy()`\n",
            "  L_dataset_E2[items] = L_dataset_E2[\"amenities\"].apply(lambda x: 1 if items in x else 0)\n",
            "<ipython-input-51-36dc8c5ed2be>:2: PerformanceWarning: DataFrame is highly fragmented.  This is usually the result of calling `frame.insert` many times, which has poor performance.  Consider joining all columns at once using pd.concat(axis=1) instead. To get a de-fragmented frame, use `newframe = frame.copy()`\n",
            "  L_dataset_E2[items] = L_dataset_E2[\"amenities\"].apply(lambda x: 1 if items in x else 0)\n",
            "<ipython-input-51-36dc8c5ed2be>:2: PerformanceWarning: DataFrame is highly fragmented.  This is usually the result of calling `frame.insert` many times, which has poor performance.  Consider joining all columns at once using pd.concat(axis=1) instead. To get a de-fragmented frame, use `newframe = frame.copy()`\n",
            "  L_dataset_E2[items] = L_dataset_E2[\"amenities\"].apply(lambda x: 1 if items in x else 0)\n",
            "<ipython-input-51-36dc8c5ed2be>:2: PerformanceWarning: DataFrame is highly fragmented.  This is usually the result of calling `frame.insert` many times, which has poor performance.  Consider joining all columns at once using pd.concat(axis=1) instead. To get a de-fragmented frame, use `newframe = frame.copy()`\n",
            "  L_dataset_E2[items] = L_dataset_E2[\"amenities\"].apply(lambda x: 1 if items in x else 0)\n",
            "<ipython-input-51-36dc8c5ed2be>:2: PerformanceWarning: DataFrame is highly fragmented.  This is usually the result of calling `frame.insert` many times, which has poor performance.  Consider joining all columns at once using pd.concat(axis=1) instead. To get a de-fragmented frame, use `newframe = frame.copy()`\n",
            "  L_dataset_E2[items] = L_dataset_E2[\"amenities\"].apply(lambda x: 1 if items in x else 0)\n",
            "<ipython-input-51-36dc8c5ed2be>:2: PerformanceWarning: DataFrame is highly fragmented.  This is usually the result of calling `frame.insert` many times, which has poor performance.  Consider joining all columns at once using pd.concat(axis=1) instead. To get a de-fragmented frame, use `newframe = frame.copy()`\n",
            "  L_dataset_E2[items] = L_dataset_E2[\"amenities\"].apply(lambda x: 1 if items in x else 0)\n",
            "<ipython-input-51-36dc8c5ed2be>:2: PerformanceWarning: DataFrame is highly fragmented.  This is usually the result of calling `frame.insert` many times, which has poor performance.  Consider joining all columns at once using pd.concat(axis=1) instead. To get a de-fragmented frame, use `newframe = frame.copy()`\n",
            "  L_dataset_E2[items] = L_dataset_E2[\"amenities\"].apply(lambda x: 1 if items in x else 0)\n",
            "<ipython-input-51-36dc8c5ed2be>:2: PerformanceWarning: DataFrame is highly fragmented.  This is usually the result of calling `frame.insert` many times, which has poor performance.  Consider joining all columns at once using pd.concat(axis=1) instead. To get a de-fragmented frame, use `newframe = frame.copy()`\n",
            "  L_dataset_E2[items] = L_dataset_E2[\"amenities\"].apply(lambda x: 1 if items in x else 0)\n",
            "<ipython-input-51-36dc8c5ed2be>:2: PerformanceWarning: DataFrame is highly fragmented.  This is usually the result of calling `frame.insert` many times, which has poor performance.  Consider joining all columns at once using pd.concat(axis=1) instead. To get a de-fragmented frame, use `newframe = frame.copy()`\n",
            "  L_dataset_E2[items] = L_dataset_E2[\"amenities\"].apply(lambda x: 1 if items in x else 0)\n",
            "<ipython-input-51-36dc8c5ed2be>:2: PerformanceWarning: DataFrame is highly fragmented.  This is usually the result of calling `frame.insert` many times, which has poor performance.  Consider joining all columns at once using pd.concat(axis=1) instead. To get a de-fragmented frame, use `newframe = frame.copy()`\n",
            "  L_dataset_E2[items] = L_dataset_E2[\"amenities\"].apply(lambda x: 1 if items in x else 0)\n",
            "<ipython-input-51-36dc8c5ed2be>:2: PerformanceWarning: DataFrame is highly fragmented.  This is usually the result of calling `frame.insert` many times, which has poor performance.  Consider joining all columns at once using pd.concat(axis=1) instead. To get a de-fragmented frame, use `newframe = frame.copy()`\n",
            "  L_dataset_E2[items] = L_dataset_E2[\"amenities\"].apply(lambda x: 1 if items in x else 0)\n",
            "<ipython-input-51-36dc8c5ed2be>:2: PerformanceWarning: DataFrame is highly fragmented.  This is usually the result of calling `frame.insert` many times, which has poor performance.  Consider joining all columns at once using pd.concat(axis=1) instead. To get a de-fragmented frame, use `newframe = frame.copy()`\n",
            "  L_dataset_E2[items] = L_dataset_E2[\"amenities\"].apply(lambda x: 1 if items in x else 0)\n",
            "<ipython-input-51-36dc8c5ed2be>:2: PerformanceWarning: DataFrame is highly fragmented.  This is usually the result of calling `frame.insert` many times, which has poor performance.  Consider joining all columns at once using pd.concat(axis=1) instead. To get a de-fragmented frame, use `newframe = frame.copy()`\n",
            "  L_dataset_E2[items] = L_dataset_E2[\"amenities\"].apply(lambda x: 1 if items in x else 0)\n",
            "<ipython-input-51-36dc8c5ed2be>:2: PerformanceWarning: DataFrame is highly fragmented.  This is usually the result of calling `frame.insert` many times, which has poor performance.  Consider joining all columns at once using pd.concat(axis=1) instead. To get a de-fragmented frame, use `newframe = frame.copy()`\n",
            "  L_dataset_E2[items] = L_dataset_E2[\"amenities\"].apply(lambda x: 1 if items in x else 0)\n",
            "<ipython-input-51-36dc8c5ed2be>:2: PerformanceWarning: DataFrame is highly fragmented.  This is usually the result of calling `frame.insert` many times, which has poor performance.  Consider joining all columns at once using pd.concat(axis=1) instead. To get a de-fragmented frame, use `newframe = frame.copy()`\n",
            "  L_dataset_E2[items] = L_dataset_E2[\"amenities\"].apply(lambda x: 1 if items in x else 0)\n",
            "<ipython-input-51-36dc8c5ed2be>:2: PerformanceWarning: DataFrame is highly fragmented.  This is usually the result of calling `frame.insert` many times, which has poor performance.  Consider joining all columns at once using pd.concat(axis=1) instead. To get a de-fragmented frame, use `newframe = frame.copy()`\n",
            "  L_dataset_E2[items] = L_dataset_E2[\"amenities\"].apply(lambda x: 1 if items in x else 0)\n",
            "<ipython-input-51-36dc8c5ed2be>:2: PerformanceWarning: DataFrame is highly fragmented.  This is usually the result of calling `frame.insert` many times, which has poor performance.  Consider joining all columns at once using pd.concat(axis=1) instead. To get a de-fragmented frame, use `newframe = frame.copy()`\n",
            "  L_dataset_E2[items] = L_dataset_E2[\"amenities\"].apply(lambda x: 1 if items in x else 0)\n",
            "<ipython-input-51-36dc8c5ed2be>:2: PerformanceWarning: DataFrame is highly fragmented.  This is usually the result of calling `frame.insert` many times, which has poor performance.  Consider joining all columns at once using pd.concat(axis=1) instead. To get a de-fragmented frame, use `newframe = frame.copy()`\n",
            "  L_dataset_E2[items] = L_dataset_E2[\"amenities\"].apply(lambda x: 1 if items in x else 0)\n",
            "<ipython-input-51-36dc8c5ed2be>:2: PerformanceWarning: DataFrame is highly fragmented.  This is usually the result of calling `frame.insert` many times, which has poor performance.  Consider joining all columns at once using pd.concat(axis=1) instead. To get a de-fragmented frame, use `newframe = frame.copy()`\n",
            "  L_dataset_E2[items] = L_dataset_E2[\"amenities\"].apply(lambda x: 1 if items in x else 0)\n",
            "<ipython-input-51-36dc8c5ed2be>:2: PerformanceWarning: DataFrame is highly fragmented.  This is usually the result of calling `frame.insert` many times, which has poor performance.  Consider joining all columns at once using pd.concat(axis=1) instead. To get a de-fragmented frame, use `newframe = frame.copy()`\n",
            "  L_dataset_E2[items] = L_dataset_E2[\"amenities\"].apply(lambda x: 1 if items in x else 0)\n",
            "<ipython-input-51-36dc8c5ed2be>:2: PerformanceWarning: DataFrame is highly fragmented.  This is usually the result of calling `frame.insert` many times, which has poor performance.  Consider joining all columns at once using pd.concat(axis=1) instead. To get a de-fragmented frame, use `newframe = frame.copy()`\n",
            "  L_dataset_E2[items] = L_dataset_E2[\"amenities\"].apply(lambda x: 1 if items in x else 0)\n",
            "<ipython-input-51-36dc8c5ed2be>:2: PerformanceWarning: DataFrame is highly fragmented.  This is usually the result of calling `frame.insert` many times, which has poor performance.  Consider joining all columns at once using pd.concat(axis=1) instead. To get a de-fragmented frame, use `newframe = frame.copy()`\n",
            "  L_dataset_E2[items] = L_dataset_E2[\"amenities\"].apply(lambda x: 1 if items in x else 0)\n",
            "<ipython-input-51-36dc8c5ed2be>:2: PerformanceWarning: DataFrame is highly fragmented.  This is usually the result of calling `frame.insert` many times, which has poor performance.  Consider joining all columns at once using pd.concat(axis=1) instead. To get a de-fragmented frame, use `newframe = frame.copy()`\n",
            "  L_dataset_E2[items] = L_dataset_E2[\"amenities\"].apply(lambda x: 1 if items in x else 0)\n",
            "<ipython-input-51-36dc8c5ed2be>:2: PerformanceWarning: DataFrame is highly fragmented.  This is usually the result of calling `frame.insert` many times, which has poor performance.  Consider joining all columns at once using pd.concat(axis=1) instead. To get a de-fragmented frame, use `newframe = frame.copy()`\n",
            "  L_dataset_E2[items] = L_dataset_E2[\"amenities\"].apply(lambda x: 1 if items in x else 0)\n",
            "<ipython-input-51-36dc8c5ed2be>:2: PerformanceWarning: DataFrame is highly fragmented.  This is usually the result of calling `frame.insert` many times, which has poor performance.  Consider joining all columns at once using pd.concat(axis=1) instead. To get a de-fragmented frame, use `newframe = frame.copy()`\n",
            "  L_dataset_E2[items] = L_dataset_E2[\"amenities\"].apply(lambda x: 1 if items in x else 0)\n",
            "<ipython-input-51-36dc8c5ed2be>:2: PerformanceWarning: DataFrame is highly fragmented.  This is usually the result of calling `frame.insert` many times, which has poor performance.  Consider joining all columns at once using pd.concat(axis=1) instead. To get a de-fragmented frame, use `newframe = frame.copy()`\n",
            "  L_dataset_E2[items] = L_dataset_E2[\"amenities\"].apply(lambda x: 1 if items in x else 0)\n",
            "<ipython-input-51-36dc8c5ed2be>:2: PerformanceWarning: DataFrame is highly fragmented.  This is usually the result of calling `frame.insert` many times, which has poor performance.  Consider joining all columns at once using pd.concat(axis=1) instead. To get a de-fragmented frame, use `newframe = frame.copy()`\n",
            "  L_dataset_E2[items] = L_dataset_E2[\"amenities\"].apply(lambda x: 1 if items in x else 0)\n",
            "<ipython-input-51-36dc8c5ed2be>:2: PerformanceWarning: DataFrame is highly fragmented.  This is usually the result of calling `frame.insert` many times, which has poor performance.  Consider joining all columns at once using pd.concat(axis=1) instead. To get a de-fragmented frame, use `newframe = frame.copy()`\n",
            "  L_dataset_E2[items] = L_dataset_E2[\"amenities\"].apply(lambda x: 1 if items in x else 0)\n",
            "<ipython-input-51-36dc8c5ed2be>:2: PerformanceWarning: DataFrame is highly fragmented.  This is usually the result of calling `frame.insert` many times, which has poor performance.  Consider joining all columns at once using pd.concat(axis=1) instead. To get a de-fragmented frame, use `newframe = frame.copy()`\n",
            "  L_dataset_E2[items] = L_dataset_E2[\"amenities\"].apply(lambda x: 1 if items in x else 0)\n",
            "<ipython-input-51-36dc8c5ed2be>:2: PerformanceWarning: DataFrame is highly fragmented.  This is usually the result of calling `frame.insert` many times, which has poor performance.  Consider joining all columns at once using pd.concat(axis=1) instead. To get a de-fragmented frame, use `newframe = frame.copy()`\n",
            "  L_dataset_E2[items] = L_dataset_E2[\"amenities\"].apply(lambda x: 1 if items in x else 0)\n",
            "<ipython-input-51-36dc8c5ed2be>:2: PerformanceWarning: DataFrame is highly fragmented.  This is usually the result of calling `frame.insert` many times, which has poor performance.  Consider joining all columns at once using pd.concat(axis=1) instead. To get a de-fragmented frame, use `newframe = frame.copy()`\n",
            "  L_dataset_E2[items] = L_dataset_E2[\"amenities\"].apply(lambda x: 1 if items in x else 0)\n",
            "<ipython-input-51-36dc8c5ed2be>:2: PerformanceWarning: DataFrame is highly fragmented.  This is usually the result of calling `frame.insert` many times, which has poor performance.  Consider joining all columns at once using pd.concat(axis=1) instead. To get a de-fragmented frame, use `newframe = frame.copy()`\n",
            "  L_dataset_E2[items] = L_dataset_E2[\"amenities\"].apply(lambda x: 1 if items in x else 0)\n",
            "<ipython-input-51-36dc8c5ed2be>:2: PerformanceWarning: DataFrame is highly fragmented.  This is usually the result of calling `frame.insert` many times, which has poor performance.  Consider joining all columns at once using pd.concat(axis=1) instead. To get a de-fragmented frame, use `newframe = frame.copy()`\n",
            "  L_dataset_E2[items] = L_dataset_E2[\"amenities\"].apply(lambda x: 1 if items in x else 0)\n",
            "<ipython-input-51-36dc8c5ed2be>:2: PerformanceWarning: DataFrame is highly fragmented.  This is usually the result of calling `frame.insert` many times, which has poor performance.  Consider joining all columns at once using pd.concat(axis=1) instead. To get a de-fragmented frame, use `newframe = frame.copy()`\n",
            "  L_dataset_E2[items] = L_dataset_E2[\"amenities\"].apply(lambda x: 1 if items in x else 0)\n",
            "<ipython-input-51-36dc8c5ed2be>:2: PerformanceWarning: DataFrame is highly fragmented.  This is usually the result of calling `frame.insert` many times, which has poor performance.  Consider joining all columns at once using pd.concat(axis=1) instead. To get a de-fragmented frame, use `newframe = frame.copy()`\n",
            "  L_dataset_E2[items] = L_dataset_E2[\"amenities\"].apply(lambda x: 1 if items in x else 0)\n",
            "<ipython-input-51-36dc8c5ed2be>:2: PerformanceWarning: DataFrame is highly fragmented.  This is usually the result of calling `frame.insert` many times, which has poor performance.  Consider joining all columns at once using pd.concat(axis=1) instead. To get a de-fragmented frame, use `newframe = frame.copy()`\n",
            "  L_dataset_E2[items] = L_dataset_E2[\"amenities\"].apply(lambda x: 1 if items in x else 0)\n",
            "<ipython-input-51-36dc8c5ed2be>:2: PerformanceWarning: DataFrame is highly fragmented.  This is usually the result of calling `frame.insert` many times, which has poor performance.  Consider joining all columns at once using pd.concat(axis=1) instead. To get a de-fragmented frame, use `newframe = frame.copy()`\n",
            "  L_dataset_E2[items] = L_dataset_E2[\"amenities\"].apply(lambda x: 1 if items in x else 0)\n",
            "<ipython-input-51-36dc8c5ed2be>:2: PerformanceWarning: DataFrame is highly fragmented.  This is usually the result of calling `frame.insert` many times, which has poor performance.  Consider joining all columns at once using pd.concat(axis=1) instead. To get a de-fragmented frame, use `newframe = frame.copy()`\n",
            "  L_dataset_E2[items] = L_dataset_E2[\"amenities\"].apply(lambda x: 1 if items in x else 0)\n",
            "<ipython-input-51-36dc8c5ed2be>:2: PerformanceWarning: DataFrame is highly fragmented.  This is usually the result of calling `frame.insert` many times, which has poor performance.  Consider joining all columns at once using pd.concat(axis=1) instead. To get a de-fragmented frame, use `newframe = frame.copy()`\n",
            "  L_dataset_E2[items] = L_dataset_E2[\"amenities\"].apply(lambda x: 1 if items in x else 0)\n",
            "<ipython-input-51-36dc8c5ed2be>:2: PerformanceWarning: DataFrame is highly fragmented.  This is usually the result of calling `frame.insert` many times, which has poor performance.  Consider joining all columns at once using pd.concat(axis=1) instead. To get a de-fragmented frame, use `newframe = frame.copy()`\n",
            "  L_dataset_E2[items] = L_dataset_E2[\"amenities\"].apply(lambda x: 1 if items in x else 0)\n",
            "<ipython-input-51-36dc8c5ed2be>:2: PerformanceWarning: DataFrame is highly fragmented.  This is usually the result of calling `frame.insert` many times, which has poor performance.  Consider joining all columns at once using pd.concat(axis=1) instead. To get a de-fragmented frame, use `newframe = frame.copy()`\n",
            "  L_dataset_E2[items] = L_dataset_E2[\"amenities\"].apply(lambda x: 1 if items in x else 0)\n",
            "<ipython-input-51-36dc8c5ed2be>:2: PerformanceWarning: DataFrame is highly fragmented.  This is usually the result of calling `frame.insert` many times, which has poor performance.  Consider joining all columns at once using pd.concat(axis=1) instead. To get a de-fragmented frame, use `newframe = frame.copy()`\n",
            "  L_dataset_E2[items] = L_dataset_E2[\"amenities\"].apply(lambda x: 1 if items in x else 0)\n",
            "<ipython-input-51-36dc8c5ed2be>:2: PerformanceWarning: DataFrame is highly fragmented.  This is usually the result of calling `frame.insert` many times, which has poor performance.  Consider joining all columns at once using pd.concat(axis=1) instead. To get a de-fragmented frame, use `newframe = frame.copy()`\n",
            "  L_dataset_E2[items] = L_dataset_E2[\"amenities\"].apply(lambda x: 1 if items in x else 0)\n",
            "<ipython-input-51-36dc8c5ed2be>:2: PerformanceWarning: DataFrame is highly fragmented.  This is usually the result of calling `frame.insert` many times, which has poor performance.  Consider joining all columns at once using pd.concat(axis=1) instead. To get a de-fragmented frame, use `newframe = frame.copy()`\n",
            "  L_dataset_E2[items] = L_dataset_E2[\"amenities\"].apply(lambda x: 1 if items in x else 0)\n",
            "<ipython-input-51-36dc8c5ed2be>:2: PerformanceWarning: DataFrame is highly fragmented.  This is usually the result of calling `frame.insert` many times, which has poor performance.  Consider joining all columns at once using pd.concat(axis=1) instead. To get a de-fragmented frame, use `newframe = frame.copy()`\n",
            "  L_dataset_E2[items] = L_dataset_E2[\"amenities\"].apply(lambda x: 1 if items in x else 0)\n",
            "<ipython-input-51-36dc8c5ed2be>:2: PerformanceWarning: DataFrame is highly fragmented.  This is usually the result of calling `frame.insert` many times, which has poor performance.  Consider joining all columns at once using pd.concat(axis=1) instead. To get a de-fragmented frame, use `newframe = frame.copy()`\n",
            "  L_dataset_E2[items] = L_dataset_E2[\"amenities\"].apply(lambda x: 1 if items in x else 0)\n",
            "<ipython-input-51-36dc8c5ed2be>:2: PerformanceWarning: DataFrame is highly fragmented.  This is usually the result of calling `frame.insert` many times, which has poor performance.  Consider joining all columns at once using pd.concat(axis=1) instead. To get a de-fragmented frame, use `newframe = frame.copy()`\n",
            "  L_dataset_E2[items] = L_dataset_E2[\"amenities\"].apply(lambda x: 1 if items in x else 0)\n",
            "<ipython-input-51-36dc8c5ed2be>:2: PerformanceWarning: DataFrame is highly fragmented.  This is usually the result of calling `frame.insert` many times, which has poor performance.  Consider joining all columns at once using pd.concat(axis=1) instead. To get a de-fragmented frame, use `newframe = frame.copy()`\n",
            "  L_dataset_E2[items] = L_dataset_E2[\"amenities\"].apply(lambda x: 1 if items in x else 0)\n",
            "<ipython-input-51-36dc8c5ed2be>:2: PerformanceWarning: DataFrame is highly fragmented.  This is usually the result of calling `frame.insert` many times, which has poor performance.  Consider joining all columns at once using pd.concat(axis=1) instead. To get a de-fragmented frame, use `newframe = frame.copy()`\n",
            "  L_dataset_E2[items] = L_dataset_E2[\"amenities\"].apply(lambda x: 1 if items in x else 0)\n",
            "<ipython-input-51-36dc8c5ed2be>:2: PerformanceWarning: DataFrame is highly fragmented.  This is usually the result of calling `frame.insert` many times, which has poor performance.  Consider joining all columns at once using pd.concat(axis=1) instead. To get a de-fragmented frame, use `newframe = frame.copy()`\n",
            "  L_dataset_E2[items] = L_dataset_E2[\"amenities\"].apply(lambda x: 1 if items in x else 0)\n",
            "<ipython-input-51-36dc8c5ed2be>:2: PerformanceWarning: DataFrame is highly fragmented.  This is usually the result of calling `frame.insert` many times, which has poor performance.  Consider joining all columns at once using pd.concat(axis=1) instead. To get a de-fragmented frame, use `newframe = frame.copy()`\n",
            "  L_dataset_E2[items] = L_dataset_E2[\"amenities\"].apply(lambda x: 1 if items in x else 0)\n",
            "<ipython-input-51-36dc8c5ed2be>:2: PerformanceWarning: DataFrame is highly fragmented.  This is usually the result of calling `frame.insert` many times, which has poor performance.  Consider joining all columns at once using pd.concat(axis=1) instead. To get a de-fragmented frame, use `newframe = frame.copy()`\n",
            "  L_dataset_E2[items] = L_dataset_E2[\"amenities\"].apply(lambda x: 1 if items in x else 0)\n",
            "<ipython-input-51-36dc8c5ed2be>:2: PerformanceWarning: DataFrame is highly fragmented.  This is usually the result of calling `frame.insert` many times, which has poor performance.  Consider joining all columns at once using pd.concat(axis=1) instead. To get a de-fragmented frame, use `newframe = frame.copy()`\n",
            "  L_dataset_E2[items] = L_dataset_E2[\"amenities\"].apply(lambda x: 1 if items in x else 0)\n",
            "<ipython-input-51-36dc8c5ed2be>:2: PerformanceWarning: DataFrame is highly fragmented.  This is usually the result of calling `frame.insert` many times, which has poor performance.  Consider joining all columns at once using pd.concat(axis=1) instead. To get a de-fragmented frame, use `newframe = frame.copy()`\n",
            "  L_dataset_E2[items] = L_dataset_E2[\"amenities\"].apply(lambda x: 1 if items in x else 0)\n",
            "<ipython-input-51-36dc8c5ed2be>:2: PerformanceWarning: DataFrame is highly fragmented.  This is usually the result of calling `frame.insert` many times, which has poor performance.  Consider joining all columns at once using pd.concat(axis=1) instead. To get a de-fragmented frame, use `newframe = frame.copy()`\n",
            "  L_dataset_E2[items] = L_dataset_E2[\"amenities\"].apply(lambda x: 1 if items in x else 0)\n",
            "<ipython-input-51-36dc8c5ed2be>:2: PerformanceWarning: DataFrame is highly fragmented.  This is usually the result of calling `frame.insert` many times, which has poor performance.  Consider joining all columns at once using pd.concat(axis=1) instead. To get a de-fragmented frame, use `newframe = frame.copy()`\n",
            "  L_dataset_E2[items] = L_dataset_E2[\"amenities\"].apply(lambda x: 1 if items in x else 0)\n",
            "<ipython-input-51-36dc8c5ed2be>:2: PerformanceWarning: DataFrame is highly fragmented.  This is usually the result of calling `frame.insert` many times, which has poor performance.  Consider joining all columns at once using pd.concat(axis=1) instead. To get a de-fragmented frame, use `newframe = frame.copy()`\n",
            "  L_dataset_E2[items] = L_dataset_E2[\"amenities\"].apply(lambda x: 1 if items in x else 0)\n",
            "<ipython-input-51-36dc8c5ed2be>:2: PerformanceWarning: DataFrame is highly fragmented.  This is usually the result of calling `frame.insert` many times, which has poor performance.  Consider joining all columns at once using pd.concat(axis=1) instead. To get a de-fragmented frame, use `newframe = frame.copy()`\n",
            "  L_dataset_E2[items] = L_dataset_E2[\"amenities\"].apply(lambda x: 1 if items in x else 0)\n",
            "<ipython-input-51-36dc8c5ed2be>:2: PerformanceWarning: DataFrame is highly fragmented.  This is usually the result of calling `frame.insert` many times, which has poor performance.  Consider joining all columns at once using pd.concat(axis=1) instead. To get a de-fragmented frame, use `newframe = frame.copy()`\n",
            "  L_dataset_E2[items] = L_dataset_E2[\"amenities\"].apply(lambda x: 1 if items in x else 0)\n",
            "<ipython-input-51-36dc8c5ed2be>:2: PerformanceWarning: DataFrame is highly fragmented.  This is usually the result of calling `frame.insert` many times, which has poor performance.  Consider joining all columns at once using pd.concat(axis=1) instead. To get a de-fragmented frame, use `newframe = frame.copy()`\n",
            "  L_dataset_E2[items] = L_dataset_E2[\"amenities\"].apply(lambda x: 1 if items in x else 0)\n",
            "<ipython-input-51-36dc8c5ed2be>:2: PerformanceWarning: DataFrame is highly fragmented.  This is usually the result of calling `frame.insert` many times, which has poor performance.  Consider joining all columns at once using pd.concat(axis=1) instead. To get a de-fragmented frame, use `newframe = frame.copy()`\n",
            "  L_dataset_E2[items] = L_dataset_E2[\"amenities\"].apply(lambda x: 1 if items in x else 0)\n",
            "<ipython-input-51-36dc8c5ed2be>:2: PerformanceWarning: DataFrame is highly fragmented.  This is usually the result of calling `frame.insert` many times, which has poor performance.  Consider joining all columns at once using pd.concat(axis=1) instead. To get a de-fragmented frame, use `newframe = frame.copy()`\n",
            "  L_dataset_E2[items] = L_dataset_E2[\"amenities\"].apply(lambda x: 1 if items in x else 0)\n",
            "<ipython-input-51-36dc8c5ed2be>:2: PerformanceWarning: DataFrame is highly fragmented.  This is usually the result of calling `frame.insert` many times, which has poor performance.  Consider joining all columns at once using pd.concat(axis=1) instead. To get a de-fragmented frame, use `newframe = frame.copy()`\n",
            "  L_dataset_E2[items] = L_dataset_E2[\"amenities\"].apply(lambda x: 1 if items in x else 0)\n",
            "<ipython-input-51-36dc8c5ed2be>:2: PerformanceWarning: DataFrame is highly fragmented.  This is usually the result of calling `frame.insert` many times, which has poor performance.  Consider joining all columns at once using pd.concat(axis=1) instead. To get a de-fragmented frame, use `newframe = frame.copy()`\n",
            "  L_dataset_E2[items] = L_dataset_E2[\"amenities\"].apply(lambda x: 1 if items in x else 0)\n",
            "<ipython-input-51-36dc8c5ed2be>:2: PerformanceWarning: DataFrame is highly fragmented.  This is usually the result of calling `frame.insert` many times, which has poor performance.  Consider joining all columns at once using pd.concat(axis=1) instead. To get a de-fragmented frame, use `newframe = frame.copy()`\n",
            "  L_dataset_E2[items] = L_dataset_E2[\"amenities\"].apply(lambda x: 1 if items in x else 0)\n",
            "<ipython-input-51-36dc8c5ed2be>:2: PerformanceWarning: DataFrame is highly fragmented.  This is usually the result of calling `frame.insert` many times, which has poor performance.  Consider joining all columns at once using pd.concat(axis=1) instead. To get a de-fragmented frame, use `newframe = frame.copy()`\n",
            "  L_dataset_E2[items] = L_dataset_E2[\"amenities\"].apply(lambda x: 1 if items in x else 0)\n",
            "<ipython-input-51-36dc8c5ed2be>:2: PerformanceWarning: DataFrame is highly fragmented.  This is usually the result of calling `frame.insert` many times, which has poor performance.  Consider joining all columns at once using pd.concat(axis=1) instead. To get a de-fragmented frame, use `newframe = frame.copy()`\n",
            "  L_dataset_E2[items] = L_dataset_E2[\"amenities\"].apply(lambda x: 1 if items in x else 0)\n",
            "<ipython-input-51-36dc8c5ed2be>:2: PerformanceWarning: DataFrame is highly fragmented.  This is usually the result of calling `frame.insert` many times, which has poor performance.  Consider joining all columns at once using pd.concat(axis=1) instead. To get a de-fragmented frame, use `newframe = frame.copy()`\n",
            "  L_dataset_E2[items] = L_dataset_E2[\"amenities\"].apply(lambda x: 1 if items in x else 0)\n",
            "<ipython-input-51-36dc8c5ed2be>:2: PerformanceWarning: DataFrame is highly fragmented.  This is usually the result of calling `frame.insert` many times, which has poor performance.  Consider joining all columns at once using pd.concat(axis=1) instead. To get a de-fragmented frame, use `newframe = frame.copy()`\n",
            "  L_dataset_E2[items] = L_dataset_E2[\"amenities\"].apply(lambda x: 1 if items in x else 0)\n",
            "<ipython-input-51-36dc8c5ed2be>:2: PerformanceWarning: DataFrame is highly fragmented.  This is usually the result of calling `frame.insert` many times, which has poor performance.  Consider joining all columns at once using pd.concat(axis=1) instead. To get a de-fragmented frame, use `newframe = frame.copy()`\n",
            "  L_dataset_E2[items] = L_dataset_E2[\"amenities\"].apply(lambda x: 1 if items in x else 0)\n",
            "<ipython-input-51-36dc8c5ed2be>:2: PerformanceWarning: DataFrame is highly fragmented.  This is usually the result of calling `frame.insert` many times, which has poor performance.  Consider joining all columns at once using pd.concat(axis=1) instead. To get a de-fragmented frame, use `newframe = frame.copy()`\n",
            "  L_dataset_E2[items] = L_dataset_E2[\"amenities\"].apply(lambda x: 1 if items in x else 0)\n",
            "<ipython-input-51-36dc8c5ed2be>:2: PerformanceWarning: DataFrame is highly fragmented.  This is usually the result of calling `frame.insert` many times, which has poor performance.  Consider joining all columns at once using pd.concat(axis=1) instead. To get a de-fragmented frame, use `newframe = frame.copy()`\n",
            "  L_dataset_E2[items] = L_dataset_E2[\"amenities\"].apply(lambda x: 1 if items in x else 0)\n",
            "<ipython-input-51-36dc8c5ed2be>:2: PerformanceWarning: DataFrame is highly fragmented.  This is usually the result of calling `frame.insert` many times, which has poor performance.  Consider joining all columns at once using pd.concat(axis=1) instead. To get a de-fragmented frame, use `newframe = frame.copy()`\n",
            "  L_dataset_E2[items] = L_dataset_E2[\"amenities\"].apply(lambda x: 1 if items in x else 0)\n",
            "<ipython-input-51-36dc8c5ed2be>:2: PerformanceWarning: DataFrame is highly fragmented.  This is usually the result of calling `frame.insert` many times, which has poor performance.  Consider joining all columns at once using pd.concat(axis=1) instead. To get a de-fragmented frame, use `newframe = frame.copy()`\n",
            "  L_dataset_E2[items] = L_dataset_E2[\"amenities\"].apply(lambda x: 1 if items in x else 0)\n",
            "<ipython-input-51-36dc8c5ed2be>:2: PerformanceWarning: DataFrame is highly fragmented.  This is usually the result of calling `frame.insert` many times, which has poor performance.  Consider joining all columns at once using pd.concat(axis=1) instead. To get a de-fragmented frame, use `newframe = frame.copy()`\n",
            "  L_dataset_E2[items] = L_dataset_E2[\"amenities\"].apply(lambda x: 1 if items in x else 0)\n",
            "<ipython-input-51-36dc8c5ed2be>:2: PerformanceWarning: DataFrame is highly fragmented.  This is usually the result of calling `frame.insert` many times, which has poor performance.  Consider joining all columns at once using pd.concat(axis=1) instead. To get a de-fragmented frame, use `newframe = frame.copy()`\n",
            "  L_dataset_E2[items] = L_dataset_E2[\"amenities\"].apply(lambda x: 1 if items in x else 0)\n",
            "<ipython-input-51-36dc8c5ed2be>:2: PerformanceWarning: DataFrame is highly fragmented.  This is usually the result of calling `frame.insert` many times, which has poor performance.  Consider joining all columns at once using pd.concat(axis=1) instead. To get a de-fragmented frame, use `newframe = frame.copy()`\n",
            "  L_dataset_E2[items] = L_dataset_E2[\"amenities\"].apply(lambda x: 1 if items in x else 0)\n",
            "<ipython-input-51-36dc8c5ed2be>:2: PerformanceWarning: DataFrame is highly fragmented.  This is usually the result of calling `frame.insert` many times, which has poor performance.  Consider joining all columns at once using pd.concat(axis=1) instead. To get a de-fragmented frame, use `newframe = frame.copy()`\n",
            "  L_dataset_E2[items] = L_dataset_E2[\"amenities\"].apply(lambda x: 1 if items in x else 0)\n",
            "<ipython-input-51-36dc8c5ed2be>:2: PerformanceWarning: DataFrame is highly fragmented.  This is usually the result of calling `frame.insert` many times, which has poor performance.  Consider joining all columns at once using pd.concat(axis=1) instead. To get a de-fragmented frame, use `newframe = frame.copy()`\n",
            "  L_dataset_E2[items] = L_dataset_E2[\"amenities\"].apply(lambda x: 1 if items in x else 0)\n",
            "<ipython-input-51-36dc8c5ed2be>:2: PerformanceWarning: DataFrame is highly fragmented.  This is usually the result of calling `frame.insert` many times, which has poor performance.  Consider joining all columns at once using pd.concat(axis=1) instead. To get a de-fragmented frame, use `newframe = frame.copy()`\n",
            "  L_dataset_E2[items] = L_dataset_E2[\"amenities\"].apply(lambda x: 1 if items in x else 0)\n",
            "<ipython-input-51-36dc8c5ed2be>:2: PerformanceWarning: DataFrame is highly fragmented.  This is usually the result of calling `frame.insert` many times, which has poor performance.  Consider joining all columns at once using pd.concat(axis=1) instead. To get a de-fragmented frame, use `newframe = frame.copy()`\n",
            "  L_dataset_E2[items] = L_dataset_E2[\"amenities\"].apply(lambda x: 1 if items in x else 0)\n",
            "<ipython-input-51-36dc8c5ed2be>:2: PerformanceWarning: DataFrame is highly fragmented.  This is usually the result of calling `frame.insert` many times, which has poor performance.  Consider joining all columns at once using pd.concat(axis=1) instead. To get a de-fragmented frame, use `newframe = frame.copy()`\n",
            "  L_dataset_E2[items] = L_dataset_E2[\"amenities\"].apply(lambda x: 1 if items in x else 0)\n",
            "<ipython-input-51-36dc8c5ed2be>:2: PerformanceWarning: DataFrame is highly fragmented.  This is usually the result of calling `frame.insert` many times, which has poor performance.  Consider joining all columns at once using pd.concat(axis=1) instead. To get a de-fragmented frame, use `newframe = frame.copy()`\n",
            "  L_dataset_E2[items] = L_dataset_E2[\"amenities\"].apply(lambda x: 1 if items in x else 0)\n",
            "<ipython-input-51-36dc8c5ed2be>:2: PerformanceWarning: DataFrame is highly fragmented.  This is usually the result of calling `frame.insert` many times, which has poor performance.  Consider joining all columns at once using pd.concat(axis=1) instead. To get a de-fragmented frame, use `newframe = frame.copy()`\n",
            "  L_dataset_E2[items] = L_dataset_E2[\"amenities\"].apply(lambda x: 1 if items in x else 0)\n",
            "<ipython-input-51-36dc8c5ed2be>:2: PerformanceWarning: DataFrame is highly fragmented.  This is usually the result of calling `frame.insert` many times, which has poor performance.  Consider joining all columns at once using pd.concat(axis=1) instead. To get a de-fragmented frame, use `newframe = frame.copy()`\n",
            "  L_dataset_E2[items] = L_dataset_E2[\"amenities\"].apply(lambda x: 1 if items in x else 0)\n",
            "<ipython-input-51-36dc8c5ed2be>:2: PerformanceWarning: DataFrame is highly fragmented.  This is usually the result of calling `frame.insert` many times, which has poor performance.  Consider joining all columns at once using pd.concat(axis=1) instead. To get a de-fragmented frame, use `newframe = frame.copy()`\n",
            "  L_dataset_E2[items] = L_dataset_E2[\"amenities\"].apply(lambda x: 1 if items in x else 0)\n",
            "<ipython-input-51-36dc8c5ed2be>:2: PerformanceWarning: DataFrame is highly fragmented.  This is usually the result of calling `frame.insert` many times, which has poor performance.  Consider joining all columns at once using pd.concat(axis=1) instead. To get a de-fragmented frame, use `newframe = frame.copy()`\n",
            "  L_dataset_E2[items] = L_dataset_E2[\"amenities\"].apply(lambda x: 1 if items in x else 0)\n",
            "<ipython-input-51-36dc8c5ed2be>:2: PerformanceWarning: DataFrame is highly fragmented.  This is usually the result of calling `frame.insert` many times, which has poor performance.  Consider joining all columns at once using pd.concat(axis=1) instead. To get a de-fragmented frame, use `newframe = frame.copy()`\n",
            "  L_dataset_E2[items] = L_dataset_E2[\"amenities\"].apply(lambda x: 1 if items in x else 0)\n",
            "<ipython-input-51-36dc8c5ed2be>:2: PerformanceWarning: DataFrame is highly fragmented.  This is usually the result of calling `frame.insert` many times, which has poor performance.  Consider joining all columns at once using pd.concat(axis=1) instead. To get a de-fragmented frame, use `newframe = frame.copy()`\n",
            "  L_dataset_E2[items] = L_dataset_E2[\"amenities\"].apply(lambda x: 1 if items in x else 0)\n",
            "<ipython-input-51-36dc8c5ed2be>:2: PerformanceWarning: DataFrame is highly fragmented.  This is usually the result of calling `frame.insert` many times, which has poor performance.  Consider joining all columns at once using pd.concat(axis=1) instead. To get a de-fragmented frame, use `newframe = frame.copy()`\n",
            "  L_dataset_E2[items] = L_dataset_E2[\"amenities\"].apply(lambda x: 1 if items in x else 0)\n",
            "<ipython-input-51-36dc8c5ed2be>:2: PerformanceWarning: DataFrame is highly fragmented.  This is usually the result of calling `frame.insert` many times, which has poor performance.  Consider joining all columns at once using pd.concat(axis=1) instead. To get a de-fragmented frame, use `newframe = frame.copy()`\n",
            "  L_dataset_E2[items] = L_dataset_E2[\"amenities\"].apply(lambda x: 1 if items in x else 0)\n",
            "<ipython-input-51-36dc8c5ed2be>:2: PerformanceWarning: DataFrame is highly fragmented.  This is usually the result of calling `frame.insert` many times, which has poor performance.  Consider joining all columns at once using pd.concat(axis=1) instead. To get a de-fragmented frame, use `newframe = frame.copy()`\n",
            "  L_dataset_E2[items] = L_dataset_E2[\"amenities\"].apply(lambda x: 1 if items in x else 0)\n",
            "<ipython-input-51-36dc8c5ed2be>:2: PerformanceWarning: DataFrame is highly fragmented.  This is usually the result of calling `frame.insert` many times, which has poor performance.  Consider joining all columns at once using pd.concat(axis=1) instead. To get a de-fragmented frame, use `newframe = frame.copy()`\n",
            "  L_dataset_E2[items] = L_dataset_E2[\"amenities\"].apply(lambda x: 1 if items in x else 0)\n",
            "<ipython-input-51-36dc8c5ed2be>:2: PerformanceWarning: DataFrame is highly fragmented.  This is usually the result of calling `frame.insert` many times, which has poor performance.  Consider joining all columns at once using pd.concat(axis=1) instead. To get a de-fragmented frame, use `newframe = frame.copy()`\n",
            "  L_dataset_E2[items] = L_dataset_E2[\"amenities\"].apply(lambda x: 1 if items in x else 0)\n",
            "<ipython-input-51-36dc8c5ed2be>:2: PerformanceWarning: DataFrame is highly fragmented.  This is usually the result of calling `frame.insert` many times, which has poor performance.  Consider joining all columns at once using pd.concat(axis=1) instead. To get a de-fragmented frame, use `newframe = frame.copy()`\n",
            "  L_dataset_E2[items] = L_dataset_E2[\"amenities\"].apply(lambda x: 1 if items in x else 0)\n",
            "<ipython-input-51-36dc8c5ed2be>:2: PerformanceWarning: DataFrame is highly fragmented.  This is usually the result of calling `frame.insert` many times, which has poor performance.  Consider joining all columns at once using pd.concat(axis=1) instead. To get a de-fragmented frame, use `newframe = frame.copy()`\n",
            "  L_dataset_E2[items] = L_dataset_E2[\"amenities\"].apply(lambda x: 1 if items in x else 0)\n",
            "<ipython-input-51-36dc8c5ed2be>:2: PerformanceWarning: DataFrame is highly fragmented.  This is usually the result of calling `frame.insert` many times, which has poor performance.  Consider joining all columns at once using pd.concat(axis=1) instead. To get a de-fragmented frame, use `newframe = frame.copy()`\n",
            "  L_dataset_E2[items] = L_dataset_E2[\"amenities\"].apply(lambda x: 1 if items in x else 0)\n",
            "<ipython-input-51-36dc8c5ed2be>:2: PerformanceWarning: DataFrame is highly fragmented.  This is usually the result of calling `frame.insert` many times, which has poor performance.  Consider joining all columns at once using pd.concat(axis=1) instead. To get a de-fragmented frame, use `newframe = frame.copy()`\n",
            "  L_dataset_E2[items] = L_dataset_E2[\"amenities\"].apply(lambda x: 1 if items in x else 0)\n",
            "<ipython-input-51-36dc8c5ed2be>:2: PerformanceWarning: DataFrame is highly fragmented.  This is usually the result of calling `frame.insert` many times, which has poor performance.  Consider joining all columns at once using pd.concat(axis=1) instead. To get a de-fragmented frame, use `newframe = frame.copy()`\n",
            "  L_dataset_E2[items] = L_dataset_E2[\"amenities\"].apply(lambda x: 1 if items in x else 0)\n",
            "<ipython-input-51-36dc8c5ed2be>:2: PerformanceWarning: DataFrame is highly fragmented.  This is usually the result of calling `frame.insert` many times, which has poor performance.  Consider joining all columns at once using pd.concat(axis=1) instead. To get a de-fragmented frame, use `newframe = frame.copy()`\n",
            "  L_dataset_E2[items] = L_dataset_E2[\"amenities\"].apply(lambda x: 1 if items in x else 0)\n",
            "<ipython-input-51-36dc8c5ed2be>:2: PerformanceWarning: DataFrame is highly fragmented.  This is usually the result of calling `frame.insert` many times, which has poor performance.  Consider joining all columns at once using pd.concat(axis=1) instead. To get a de-fragmented frame, use `newframe = frame.copy()`\n",
            "  L_dataset_E2[items] = L_dataset_E2[\"amenities\"].apply(lambda x: 1 if items in x else 0)\n",
            "<ipython-input-51-36dc8c5ed2be>:2: PerformanceWarning: DataFrame is highly fragmented.  This is usually the result of calling `frame.insert` many times, which has poor performance.  Consider joining all columns at once using pd.concat(axis=1) instead. To get a de-fragmented frame, use `newframe = frame.copy()`\n",
            "  L_dataset_E2[items] = L_dataset_E2[\"amenities\"].apply(lambda x: 1 if items in x else 0)\n",
            "<ipython-input-51-36dc8c5ed2be>:2: PerformanceWarning: DataFrame is highly fragmented.  This is usually the result of calling `frame.insert` many times, which has poor performance.  Consider joining all columns at once using pd.concat(axis=1) instead. To get a de-fragmented frame, use `newframe = frame.copy()`\n",
            "  L_dataset_E2[items] = L_dataset_E2[\"amenities\"].apply(lambda x: 1 if items in x else 0)\n",
            "<ipython-input-51-36dc8c5ed2be>:2: PerformanceWarning: DataFrame is highly fragmented.  This is usually the result of calling `frame.insert` many times, which has poor performance.  Consider joining all columns at once using pd.concat(axis=1) instead. To get a de-fragmented frame, use `newframe = frame.copy()`\n",
            "  L_dataset_E2[items] = L_dataset_E2[\"amenities\"].apply(lambda x: 1 if items in x else 0)\n",
            "<ipython-input-51-36dc8c5ed2be>:2: PerformanceWarning: DataFrame is highly fragmented.  This is usually the result of calling `frame.insert` many times, which has poor performance.  Consider joining all columns at once using pd.concat(axis=1) instead. To get a de-fragmented frame, use `newframe = frame.copy()`\n",
            "  L_dataset_E2[items] = L_dataset_E2[\"amenities\"].apply(lambda x: 1 if items in x else 0)\n",
            "<ipython-input-51-36dc8c5ed2be>:2: PerformanceWarning: DataFrame is highly fragmented.  This is usually the result of calling `frame.insert` many times, which has poor performance.  Consider joining all columns at once using pd.concat(axis=1) instead. To get a de-fragmented frame, use `newframe = frame.copy()`\n",
            "  L_dataset_E2[items] = L_dataset_E2[\"amenities\"].apply(lambda x: 1 if items in x else 0)\n",
            "<ipython-input-51-36dc8c5ed2be>:2: PerformanceWarning: DataFrame is highly fragmented.  This is usually the result of calling `frame.insert` many times, which has poor performance.  Consider joining all columns at once using pd.concat(axis=1) instead. To get a de-fragmented frame, use `newframe = frame.copy()`\n",
            "  L_dataset_E2[items] = L_dataset_E2[\"amenities\"].apply(lambda x: 1 if items in x else 0)\n",
            "<ipython-input-51-36dc8c5ed2be>:2: PerformanceWarning: DataFrame is highly fragmented.  This is usually the result of calling `frame.insert` many times, which has poor performance.  Consider joining all columns at once using pd.concat(axis=1) instead. To get a de-fragmented frame, use `newframe = frame.copy()`\n",
            "  L_dataset_E2[items] = L_dataset_E2[\"amenities\"].apply(lambda x: 1 if items in x else 0)\n",
            "<ipython-input-51-36dc8c5ed2be>:2: PerformanceWarning: DataFrame is highly fragmented.  This is usually the result of calling `frame.insert` many times, which has poor performance.  Consider joining all columns at once using pd.concat(axis=1) instead. To get a de-fragmented frame, use `newframe = frame.copy()`\n",
            "  L_dataset_E2[items] = L_dataset_E2[\"amenities\"].apply(lambda x: 1 if items in x else 0)\n",
            "<ipython-input-51-36dc8c5ed2be>:2: PerformanceWarning: DataFrame is highly fragmented.  This is usually the result of calling `frame.insert` many times, which has poor performance.  Consider joining all columns at once using pd.concat(axis=1) instead. To get a de-fragmented frame, use `newframe = frame.copy()`\n",
            "  L_dataset_E2[items] = L_dataset_E2[\"amenities\"].apply(lambda x: 1 if items in x else 0)\n",
            "<ipython-input-51-36dc8c5ed2be>:2: PerformanceWarning: DataFrame is highly fragmented.  This is usually the result of calling `frame.insert` many times, which has poor performance.  Consider joining all columns at once using pd.concat(axis=1) instead. To get a de-fragmented frame, use `newframe = frame.copy()`\n",
            "  L_dataset_E2[items] = L_dataset_E2[\"amenities\"].apply(lambda x: 1 if items in x else 0)\n",
            "<ipython-input-51-36dc8c5ed2be>:2: PerformanceWarning: DataFrame is highly fragmented.  This is usually the result of calling `frame.insert` many times, which has poor performance.  Consider joining all columns at once using pd.concat(axis=1) instead. To get a de-fragmented frame, use `newframe = frame.copy()`\n",
            "  L_dataset_E2[items] = L_dataset_E2[\"amenities\"].apply(lambda x: 1 if items in x else 0)\n",
            "<ipython-input-51-36dc8c5ed2be>:2: PerformanceWarning: DataFrame is highly fragmented.  This is usually the result of calling `frame.insert` many times, which has poor performance.  Consider joining all columns at once using pd.concat(axis=1) instead. To get a de-fragmented frame, use `newframe = frame.copy()`\n",
            "  L_dataset_E2[items] = L_dataset_E2[\"amenities\"].apply(lambda x: 1 if items in x else 0)\n",
            "<ipython-input-51-36dc8c5ed2be>:2: PerformanceWarning: DataFrame is highly fragmented.  This is usually the result of calling `frame.insert` many times, which has poor performance.  Consider joining all columns at once using pd.concat(axis=1) instead. To get a de-fragmented frame, use `newframe = frame.copy()`\n",
            "  L_dataset_E2[items] = L_dataset_E2[\"amenities\"].apply(lambda x: 1 if items in x else 0)\n",
            "<ipython-input-51-36dc8c5ed2be>:2: PerformanceWarning: DataFrame is highly fragmented.  This is usually the result of calling `frame.insert` many times, which has poor performance.  Consider joining all columns at once using pd.concat(axis=1) instead. To get a de-fragmented frame, use `newframe = frame.copy()`\n",
            "  L_dataset_E2[items] = L_dataset_E2[\"amenities\"].apply(lambda x: 1 if items in x else 0)\n",
            "<ipython-input-51-36dc8c5ed2be>:2: PerformanceWarning: DataFrame is highly fragmented.  This is usually the result of calling `frame.insert` many times, which has poor performance.  Consider joining all columns at once using pd.concat(axis=1) instead. To get a de-fragmented frame, use `newframe = frame.copy()`\n",
            "  L_dataset_E2[items] = L_dataset_E2[\"amenities\"].apply(lambda x: 1 if items in x else 0)\n",
            "<ipython-input-51-36dc8c5ed2be>:2: PerformanceWarning: DataFrame is highly fragmented.  This is usually the result of calling `frame.insert` many times, which has poor performance.  Consider joining all columns at once using pd.concat(axis=1) instead. To get a de-fragmented frame, use `newframe = frame.copy()`\n",
            "  L_dataset_E2[items] = L_dataset_E2[\"amenities\"].apply(lambda x: 1 if items in x else 0)\n",
            "<ipython-input-51-36dc8c5ed2be>:2: PerformanceWarning: DataFrame is highly fragmented.  This is usually the result of calling `frame.insert` many times, which has poor performance.  Consider joining all columns at once using pd.concat(axis=1) instead. To get a de-fragmented frame, use `newframe = frame.copy()`\n",
            "  L_dataset_E2[items] = L_dataset_E2[\"amenities\"].apply(lambda x: 1 if items in x else 0)\n",
            "<ipython-input-51-36dc8c5ed2be>:2: PerformanceWarning: DataFrame is highly fragmented.  This is usually the result of calling `frame.insert` many times, which has poor performance.  Consider joining all columns at once using pd.concat(axis=1) instead. To get a de-fragmented frame, use `newframe = frame.copy()`\n",
            "  L_dataset_E2[items] = L_dataset_E2[\"amenities\"].apply(lambda x: 1 if items in x else 0)\n",
            "<ipython-input-51-36dc8c5ed2be>:2: PerformanceWarning: DataFrame is highly fragmented.  This is usually the result of calling `frame.insert` many times, which has poor performance.  Consider joining all columns at once using pd.concat(axis=1) instead. To get a de-fragmented frame, use `newframe = frame.copy()`\n",
            "  L_dataset_E2[items] = L_dataset_E2[\"amenities\"].apply(lambda x: 1 if items in x else 0)\n",
            "<ipython-input-51-36dc8c5ed2be>:2: PerformanceWarning: DataFrame is highly fragmented.  This is usually the result of calling `frame.insert` many times, which has poor performance.  Consider joining all columns at once using pd.concat(axis=1) instead. To get a de-fragmented frame, use `newframe = frame.copy()`\n",
            "  L_dataset_E2[items] = L_dataset_E2[\"amenities\"].apply(lambda x: 1 if items in x else 0)\n",
            "<ipython-input-51-36dc8c5ed2be>:2: PerformanceWarning: DataFrame is highly fragmented.  This is usually the result of calling `frame.insert` many times, which has poor performance.  Consider joining all columns at once using pd.concat(axis=1) instead. To get a de-fragmented frame, use `newframe = frame.copy()`\n",
            "  L_dataset_E2[items] = L_dataset_E2[\"amenities\"].apply(lambda x: 1 if items in x else 0)\n",
            "<ipython-input-51-36dc8c5ed2be>:2: PerformanceWarning: DataFrame is highly fragmented.  This is usually the result of calling `frame.insert` many times, which has poor performance.  Consider joining all columns at once using pd.concat(axis=1) instead. To get a de-fragmented frame, use `newframe = frame.copy()`\n",
            "  L_dataset_E2[items] = L_dataset_E2[\"amenities\"].apply(lambda x: 1 if items in x else 0)\n",
            "<ipython-input-51-36dc8c5ed2be>:2: PerformanceWarning: DataFrame is highly fragmented.  This is usually the result of calling `frame.insert` many times, which has poor performance.  Consider joining all columns at once using pd.concat(axis=1) instead. To get a de-fragmented frame, use `newframe = frame.copy()`\n",
            "  L_dataset_E2[items] = L_dataset_E2[\"amenities\"].apply(lambda x: 1 if items in x else 0)\n",
            "<ipython-input-51-36dc8c5ed2be>:2: PerformanceWarning: DataFrame is highly fragmented.  This is usually the result of calling `frame.insert` many times, which has poor performance.  Consider joining all columns at once using pd.concat(axis=1) instead. To get a de-fragmented frame, use `newframe = frame.copy()`\n",
            "  L_dataset_E2[items] = L_dataset_E2[\"amenities\"].apply(lambda x: 1 if items in x else 0)\n",
            "<ipython-input-51-36dc8c5ed2be>:2: PerformanceWarning: DataFrame is highly fragmented.  This is usually the result of calling `frame.insert` many times, which has poor performance.  Consider joining all columns at once using pd.concat(axis=1) instead. To get a de-fragmented frame, use `newframe = frame.copy()`\n",
            "  L_dataset_E2[items] = L_dataset_E2[\"amenities\"].apply(lambda x: 1 if items in x else 0)\n",
            "<ipython-input-51-36dc8c5ed2be>:2: PerformanceWarning: DataFrame is highly fragmented.  This is usually the result of calling `frame.insert` many times, which has poor performance.  Consider joining all columns at once using pd.concat(axis=1) instead. To get a de-fragmented frame, use `newframe = frame.copy()`\n",
            "  L_dataset_E2[items] = L_dataset_E2[\"amenities\"].apply(lambda x: 1 if items in x else 0)\n",
            "<ipython-input-51-36dc8c5ed2be>:2: PerformanceWarning: DataFrame is highly fragmented.  This is usually the result of calling `frame.insert` many times, which has poor performance.  Consider joining all columns at once using pd.concat(axis=1) instead. To get a de-fragmented frame, use `newframe = frame.copy()`\n",
            "  L_dataset_E2[items] = L_dataset_E2[\"amenities\"].apply(lambda x: 1 if items in x else 0)\n",
            "<ipython-input-51-36dc8c5ed2be>:2: PerformanceWarning: DataFrame is highly fragmented.  This is usually the result of calling `frame.insert` many times, which has poor performance.  Consider joining all columns at once using pd.concat(axis=1) instead. To get a de-fragmented frame, use `newframe = frame.copy()`\n",
            "  L_dataset_E2[items] = L_dataset_E2[\"amenities\"].apply(lambda x: 1 if items in x else 0)\n",
            "<ipython-input-51-36dc8c5ed2be>:2: PerformanceWarning: DataFrame is highly fragmented.  This is usually the result of calling `frame.insert` many times, which has poor performance.  Consider joining all columns at once using pd.concat(axis=1) instead. To get a de-fragmented frame, use `newframe = frame.copy()`\n",
            "  L_dataset_E2[items] = L_dataset_E2[\"amenities\"].apply(lambda x: 1 if items in x else 0)\n",
            "<ipython-input-51-36dc8c5ed2be>:2: PerformanceWarning: DataFrame is highly fragmented.  This is usually the result of calling `frame.insert` many times, which has poor performance.  Consider joining all columns at once using pd.concat(axis=1) instead. To get a de-fragmented frame, use `newframe = frame.copy()`\n",
            "  L_dataset_E2[items] = L_dataset_E2[\"amenities\"].apply(lambda x: 1 if items in x else 0)\n",
            "<ipython-input-51-36dc8c5ed2be>:2: PerformanceWarning: DataFrame is highly fragmented.  This is usually the result of calling `frame.insert` many times, which has poor performance.  Consider joining all columns at once using pd.concat(axis=1) instead. To get a de-fragmented frame, use `newframe = frame.copy()`\n",
            "  L_dataset_E2[items] = L_dataset_E2[\"amenities\"].apply(lambda x: 1 if items in x else 0)\n",
            "<ipython-input-51-36dc8c5ed2be>:2: PerformanceWarning: DataFrame is highly fragmented.  This is usually the result of calling `frame.insert` many times, which has poor performance.  Consider joining all columns at once using pd.concat(axis=1) instead. To get a de-fragmented frame, use `newframe = frame.copy()`\n",
            "  L_dataset_E2[items] = L_dataset_E2[\"amenities\"].apply(lambda x: 1 if items in x else 0)\n",
            "<ipython-input-51-36dc8c5ed2be>:2: PerformanceWarning: DataFrame is highly fragmented.  This is usually the result of calling `frame.insert` many times, which has poor performance.  Consider joining all columns at once using pd.concat(axis=1) instead. To get a de-fragmented frame, use `newframe = frame.copy()`\n",
            "  L_dataset_E2[items] = L_dataset_E2[\"amenities\"].apply(lambda x: 1 if items in x else 0)\n",
            "<ipython-input-51-36dc8c5ed2be>:2: PerformanceWarning: DataFrame is highly fragmented.  This is usually the result of calling `frame.insert` many times, which has poor performance.  Consider joining all columns at once using pd.concat(axis=1) instead. To get a de-fragmented frame, use `newframe = frame.copy()`\n",
            "  L_dataset_E2[items] = L_dataset_E2[\"amenities\"].apply(lambda x: 1 if items in x else 0)\n",
            "<ipython-input-51-36dc8c5ed2be>:2: PerformanceWarning: DataFrame is highly fragmented.  This is usually the result of calling `frame.insert` many times, which has poor performance.  Consider joining all columns at once using pd.concat(axis=1) instead. To get a de-fragmented frame, use `newframe = frame.copy()`\n",
            "  L_dataset_E2[items] = L_dataset_E2[\"amenities\"].apply(lambda x: 1 if items in x else 0)\n",
            "<ipython-input-51-36dc8c5ed2be>:2: PerformanceWarning: DataFrame is highly fragmented.  This is usually the result of calling `frame.insert` many times, which has poor performance.  Consider joining all columns at once using pd.concat(axis=1) instead. To get a de-fragmented frame, use `newframe = frame.copy()`\n",
            "  L_dataset_E2[items] = L_dataset_E2[\"amenities\"].apply(lambda x: 1 if items in x else 0)\n",
            "<ipython-input-51-36dc8c5ed2be>:2: PerformanceWarning: DataFrame is highly fragmented.  This is usually the result of calling `frame.insert` many times, which has poor performance.  Consider joining all columns at once using pd.concat(axis=1) instead. To get a de-fragmented frame, use `newframe = frame.copy()`\n",
            "  L_dataset_E2[items] = L_dataset_E2[\"amenities\"].apply(lambda x: 1 if items in x else 0)\n",
            "<ipython-input-51-36dc8c5ed2be>:2: PerformanceWarning: DataFrame is highly fragmented.  This is usually the result of calling `frame.insert` many times, which has poor performance.  Consider joining all columns at once using pd.concat(axis=1) instead. To get a de-fragmented frame, use `newframe = frame.copy()`\n",
            "  L_dataset_E2[items] = L_dataset_E2[\"amenities\"].apply(lambda x: 1 if items in x else 0)\n",
            "<ipython-input-51-36dc8c5ed2be>:2: PerformanceWarning: DataFrame is highly fragmented.  This is usually the result of calling `frame.insert` many times, which has poor performance.  Consider joining all columns at once using pd.concat(axis=1) instead. To get a de-fragmented frame, use `newframe = frame.copy()`\n",
            "  L_dataset_E2[items] = L_dataset_E2[\"amenities\"].apply(lambda x: 1 if items in x else 0)\n",
            "<ipython-input-51-36dc8c5ed2be>:2: PerformanceWarning: DataFrame is highly fragmented.  This is usually the result of calling `frame.insert` many times, which has poor performance.  Consider joining all columns at once using pd.concat(axis=1) instead. To get a de-fragmented frame, use `newframe = frame.copy()`\n",
            "  L_dataset_E2[items] = L_dataset_E2[\"amenities\"].apply(lambda x: 1 if items in x else 0)\n",
            "<ipython-input-51-36dc8c5ed2be>:2: PerformanceWarning: DataFrame is highly fragmented.  This is usually the result of calling `frame.insert` many times, which has poor performance.  Consider joining all columns at once using pd.concat(axis=1) instead. To get a de-fragmented frame, use `newframe = frame.copy()`\n",
            "  L_dataset_E2[items] = L_dataset_E2[\"amenities\"].apply(lambda x: 1 if items in x else 0)\n",
            "<ipython-input-51-36dc8c5ed2be>:2: PerformanceWarning: DataFrame is highly fragmented.  This is usually the result of calling `frame.insert` many times, which has poor performance.  Consider joining all columns at once using pd.concat(axis=1) instead. To get a de-fragmented frame, use `newframe = frame.copy()`\n",
            "  L_dataset_E2[items] = L_dataset_E2[\"amenities\"].apply(lambda x: 1 if items in x else 0)\n",
            "<ipython-input-51-36dc8c5ed2be>:2: PerformanceWarning: DataFrame is highly fragmented.  This is usually the result of calling `frame.insert` many times, which has poor performance.  Consider joining all columns at once using pd.concat(axis=1) instead. To get a de-fragmented frame, use `newframe = frame.copy()`\n",
            "  L_dataset_E2[items] = L_dataset_E2[\"amenities\"].apply(lambda x: 1 if items in x else 0)\n",
            "<ipython-input-51-36dc8c5ed2be>:2: PerformanceWarning: DataFrame is highly fragmented.  This is usually the result of calling `frame.insert` many times, which has poor performance.  Consider joining all columns at once using pd.concat(axis=1) instead. To get a de-fragmented frame, use `newframe = frame.copy()`\n",
            "  L_dataset_E2[items] = L_dataset_E2[\"amenities\"].apply(lambda x: 1 if items in x else 0)\n",
            "<ipython-input-51-36dc8c5ed2be>:2: PerformanceWarning: DataFrame is highly fragmented.  This is usually the result of calling `frame.insert` many times, which has poor performance.  Consider joining all columns at once using pd.concat(axis=1) instead. To get a de-fragmented frame, use `newframe = frame.copy()`\n",
            "  L_dataset_E2[items] = L_dataset_E2[\"amenities\"].apply(lambda x: 1 if items in x else 0)\n",
            "<ipython-input-51-36dc8c5ed2be>:2: PerformanceWarning: DataFrame is highly fragmented.  This is usually the result of calling `frame.insert` many times, which has poor performance.  Consider joining all columns at once using pd.concat(axis=1) instead. To get a de-fragmented frame, use `newframe = frame.copy()`\n",
            "  L_dataset_E2[items] = L_dataset_E2[\"amenities\"].apply(lambda x: 1 if items in x else 0)\n",
            "<ipython-input-51-36dc8c5ed2be>:2: PerformanceWarning: DataFrame is highly fragmented.  This is usually the result of calling `frame.insert` many times, which has poor performance.  Consider joining all columns at once using pd.concat(axis=1) instead. To get a de-fragmented frame, use `newframe = frame.copy()`\n",
            "  L_dataset_E2[items] = L_dataset_E2[\"amenities\"].apply(lambda x: 1 if items in x else 0)\n",
            "<ipython-input-51-36dc8c5ed2be>:2: PerformanceWarning: DataFrame is highly fragmented.  This is usually the result of calling `frame.insert` many times, which has poor performance.  Consider joining all columns at once using pd.concat(axis=1) instead. To get a de-fragmented frame, use `newframe = frame.copy()`\n",
            "  L_dataset_E2[items] = L_dataset_E2[\"amenities\"].apply(lambda x: 1 if items in x else 0)\n",
            "<ipython-input-51-36dc8c5ed2be>:2: PerformanceWarning: DataFrame is highly fragmented.  This is usually the result of calling `frame.insert` many times, which has poor performance.  Consider joining all columns at once using pd.concat(axis=1) instead. To get a de-fragmented frame, use `newframe = frame.copy()`\n",
            "  L_dataset_E2[items] = L_dataset_E2[\"amenities\"].apply(lambda x: 1 if items in x else 0)\n",
            "<ipython-input-51-36dc8c5ed2be>:2: PerformanceWarning: DataFrame is highly fragmented.  This is usually the result of calling `frame.insert` many times, which has poor performance.  Consider joining all columns at once using pd.concat(axis=1) instead. To get a de-fragmented frame, use `newframe = frame.copy()`\n",
            "  L_dataset_E2[items] = L_dataset_E2[\"amenities\"].apply(lambda x: 1 if items in x else 0)\n",
            "<ipython-input-51-36dc8c5ed2be>:2: PerformanceWarning: DataFrame is highly fragmented.  This is usually the result of calling `frame.insert` many times, which has poor performance.  Consider joining all columns at once using pd.concat(axis=1) instead. To get a de-fragmented frame, use `newframe = frame.copy()`\n",
            "  L_dataset_E2[items] = L_dataset_E2[\"amenities\"].apply(lambda x: 1 if items in x else 0)\n",
            "<ipython-input-51-36dc8c5ed2be>:2: PerformanceWarning: DataFrame is highly fragmented.  This is usually the result of calling `frame.insert` many times, which has poor performance.  Consider joining all columns at once using pd.concat(axis=1) instead. To get a de-fragmented frame, use `newframe = frame.copy()`\n",
            "  L_dataset_E2[items] = L_dataset_E2[\"amenities\"].apply(lambda x: 1 if items in x else 0)\n",
            "<ipython-input-51-36dc8c5ed2be>:2: PerformanceWarning: DataFrame is highly fragmented.  This is usually the result of calling `frame.insert` many times, which has poor performance.  Consider joining all columns at once using pd.concat(axis=1) instead. To get a de-fragmented frame, use `newframe = frame.copy()`\n",
            "  L_dataset_E2[items] = L_dataset_E2[\"amenities\"].apply(lambda x: 1 if items in x else 0)\n",
            "<ipython-input-51-36dc8c5ed2be>:2: PerformanceWarning: DataFrame is highly fragmented.  This is usually the result of calling `frame.insert` many times, which has poor performance.  Consider joining all columns at once using pd.concat(axis=1) instead. To get a de-fragmented frame, use `newframe = frame.copy()`\n",
            "  L_dataset_E2[items] = L_dataset_E2[\"amenities\"].apply(lambda x: 1 if items in x else 0)\n",
            "<ipython-input-51-36dc8c5ed2be>:2: PerformanceWarning: DataFrame is highly fragmented.  This is usually the result of calling `frame.insert` many times, which has poor performance.  Consider joining all columns at once using pd.concat(axis=1) instead. To get a de-fragmented frame, use `newframe = frame.copy()`\n",
            "  L_dataset_E2[items] = L_dataset_E2[\"amenities\"].apply(lambda x: 1 if items in x else 0)\n",
            "<ipython-input-51-36dc8c5ed2be>:2: PerformanceWarning: DataFrame is highly fragmented.  This is usually the result of calling `frame.insert` many times, which has poor performance.  Consider joining all columns at once using pd.concat(axis=1) instead. To get a de-fragmented frame, use `newframe = frame.copy()`\n",
            "  L_dataset_E2[items] = L_dataset_E2[\"amenities\"].apply(lambda x: 1 if items in x else 0)\n",
            "<ipython-input-51-36dc8c5ed2be>:2: PerformanceWarning: DataFrame is highly fragmented.  This is usually the result of calling `frame.insert` many times, which has poor performance.  Consider joining all columns at once using pd.concat(axis=1) instead. To get a de-fragmented frame, use `newframe = frame.copy()`\n",
            "  L_dataset_E2[items] = L_dataset_E2[\"amenities\"].apply(lambda x: 1 if items in x else 0)\n",
            "<ipython-input-51-36dc8c5ed2be>:2: PerformanceWarning: DataFrame is highly fragmented.  This is usually the result of calling `frame.insert` many times, which has poor performance.  Consider joining all columns at once using pd.concat(axis=1) instead. To get a de-fragmented frame, use `newframe = frame.copy()`\n",
            "  L_dataset_E2[items] = L_dataset_E2[\"amenities\"].apply(lambda x: 1 if items in x else 0)\n",
            "<ipython-input-51-36dc8c5ed2be>:2: PerformanceWarning: DataFrame is highly fragmented.  This is usually the result of calling `frame.insert` many times, which has poor performance.  Consider joining all columns at once using pd.concat(axis=1) instead. To get a de-fragmented frame, use `newframe = frame.copy()`\n",
            "  L_dataset_E2[items] = L_dataset_E2[\"amenities\"].apply(lambda x: 1 if items in x else 0)\n",
            "<ipython-input-51-36dc8c5ed2be>:2: PerformanceWarning: DataFrame is highly fragmented.  This is usually the result of calling `frame.insert` many times, which has poor performance.  Consider joining all columns at once using pd.concat(axis=1) instead. To get a de-fragmented frame, use `newframe = frame.copy()`\n",
            "  L_dataset_E2[items] = L_dataset_E2[\"amenities\"].apply(lambda x: 1 if items in x else 0)\n",
            "<ipython-input-51-36dc8c5ed2be>:2: PerformanceWarning: DataFrame is highly fragmented.  This is usually the result of calling `frame.insert` many times, which has poor performance.  Consider joining all columns at once using pd.concat(axis=1) instead. To get a de-fragmented frame, use `newframe = frame.copy()`\n",
            "  L_dataset_E2[items] = L_dataset_E2[\"amenities\"].apply(lambda x: 1 if items in x else 0)\n",
            "<ipython-input-51-36dc8c5ed2be>:2: PerformanceWarning: DataFrame is highly fragmented.  This is usually the result of calling `frame.insert` many times, which has poor performance.  Consider joining all columns at once using pd.concat(axis=1) instead. To get a de-fragmented frame, use `newframe = frame.copy()`\n",
            "  L_dataset_E2[items] = L_dataset_E2[\"amenities\"].apply(lambda x: 1 if items in x else 0)\n",
            "<ipython-input-51-36dc8c5ed2be>:2: PerformanceWarning: DataFrame is highly fragmented.  This is usually the result of calling `frame.insert` many times, which has poor performance.  Consider joining all columns at once using pd.concat(axis=1) instead. To get a de-fragmented frame, use `newframe = frame.copy()`\n",
            "  L_dataset_E2[items] = L_dataset_E2[\"amenities\"].apply(lambda x: 1 if items in x else 0)\n",
            "<ipython-input-51-36dc8c5ed2be>:2: PerformanceWarning: DataFrame is highly fragmented.  This is usually the result of calling `frame.insert` many times, which has poor performance.  Consider joining all columns at once using pd.concat(axis=1) instead. To get a de-fragmented frame, use `newframe = frame.copy()`\n",
            "  L_dataset_E2[items] = L_dataset_E2[\"amenities\"].apply(lambda x: 1 if items in x else 0)\n",
            "<ipython-input-51-36dc8c5ed2be>:2: PerformanceWarning: DataFrame is highly fragmented.  This is usually the result of calling `frame.insert` many times, which has poor performance.  Consider joining all columns at once using pd.concat(axis=1) instead. To get a de-fragmented frame, use `newframe = frame.copy()`\n",
            "  L_dataset_E2[items] = L_dataset_E2[\"amenities\"].apply(lambda x: 1 if items in x else 0)\n",
            "<ipython-input-51-36dc8c5ed2be>:2: PerformanceWarning: DataFrame is highly fragmented.  This is usually the result of calling `frame.insert` many times, which has poor performance.  Consider joining all columns at once using pd.concat(axis=1) instead. To get a de-fragmented frame, use `newframe = frame.copy()`\n",
            "  L_dataset_E2[items] = L_dataset_E2[\"amenities\"].apply(lambda x: 1 if items in x else 0)\n",
            "<ipython-input-51-36dc8c5ed2be>:2: PerformanceWarning: DataFrame is highly fragmented.  This is usually the result of calling `frame.insert` many times, which has poor performance.  Consider joining all columns at once using pd.concat(axis=1) instead. To get a de-fragmented frame, use `newframe = frame.copy()`\n",
            "  L_dataset_E2[items] = L_dataset_E2[\"amenities\"].apply(lambda x: 1 if items in x else 0)\n",
            "<ipython-input-51-36dc8c5ed2be>:2: PerformanceWarning: DataFrame is highly fragmented.  This is usually the result of calling `frame.insert` many times, which has poor performance.  Consider joining all columns at once using pd.concat(axis=1) instead. To get a de-fragmented frame, use `newframe = frame.copy()`\n",
            "  L_dataset_E2[items] = L_dataset_E2[\"amenities\"].apply(lambda x: 1 if items in x else 0)\n",
            "<ipython-input-51-36dc8c5ed2be>:2: PerformanceWarning: DataFrame is highly fragmented.  This is usually the result of calling `frame.insert` many times, which has poor performance.  Consider joining all columns at once using pd.concat(axis=1) instead. To get a de-fragmented frame, use `newframe = frame.copy()`\n",
            "  L_dataset_E2[items] = L_dataset_E2[\"amenities\"].apply(lambda x: 1 if items in x else 0)\n",
            "<ipython-input-51-36dc8c5ed2be>:2: PerformanceWarning: DataFrame is highly fragmented.  This is usually the result of calling `frame.insert` many times, which has poor performance.  Consider joining all columns at once using pd.concat(axis=1) instead. To get a de-fragmented frame, use `newframe = frame.copy()`\n",
            "  L_dataset_E2[items] = L_dataset_E2[\"amenities\"].apply(lambda x: 1 if items in x else 0)\n",
            "<ipython-input-51-36dc8c5ed2be>:2: PerformanceWarning: DataFrame is highly fragmented.  This is usually the result of calling `frame.insert` many times, which has poor performance.  Consider joining all columns at once using pd.concat(axis=1) instead. To get a de-fragmented frame, use `newframe = frame.copy()`\n",
            "  L_dataset_E2[items] = L_dataset_E2[\"amenities\"].apply(lambda x: 1 if items in x else 0)\n",
            "<ipython-input-51-36dc8c5ed2be>:2: PerformanceWarning: DataFrame is highly fragmented.  This is usually the result of calling `frame.insert` many times, which has poor performance.  Consider joining all columns at once using pd.concat(axis=1) instead. To get a de-fragmented frame, use `newframe = frame.copy()`\n",
            "  L_dataset_E2[items] = L_dataset_E2[\"amenities\"].apply(lambda x: 1 if items in x else 0)\n",
            "<ipython-input-51-36dc8c5ed2be>:2: PerformanceWarning: DataFrame is highly fragmented.  This is usually the result of calling `frame.insert` many times, which has poor performance.  Consider joining all columns at once using pd.concat(axis=1) instead. To get a de-fragmented frame, use `newframe = frame.copy()`\n",
            "  L_dataset_E2[items] = L_dataset_E2[\"amenities\"].apply(lambda x: 1 if items in x else 0)\n",
            "<ipython-input-51-36dc8c5ed2be>:2: PerformanceWarning: DataFrame is highly fragmented.  This is usually the result of calling `frame.insert` many times, which has poor performance.  Consider joining all columns at once using pd.concat(axis=1) instead. To get a de-fragmented frame, use `newframe = frame.copy()`\n",
            "  L_dataset_E2[items] = L_dataset_E2[\"amenities\"].apply(lambda x: 1 if items in x else 0)\n",
            "<ipython-input-51-36dc8c5ed2be>:2: PerformanceWarning: DataFrame is highly fragmented.  This is usually the result of calling `frame.insert` many times, which has poor performance.  Consider joining all columns at once using pd.concat(axis=1) instead. To get a de-fragmented frame, use `newframe = frame.copy()`\n",
            "  L_dataset_E2[items] = L_dataset_E2[\"amenities\"].apply(lambda x: 1 if items in x else 0)\n",
            "<ipython-input-51-36dc8c5ed2be>:2: PerformanceWarning: DataFrame is highly fragmented.  This is usually the result of calling `frame.insert` many times, which has poor performance.  Consider joining all columns at once using pd.concat(axis=1) instead. To get a de-fragmented frame, use `newframe = frame.copy()`\n",
            "  L_dataset_E2[items] = L_dataset_E2[\"amenities\"].apply(lambda x: 1 if items in x else 0)\n",
            "<ipython-input-51-36dc8c5ed2be>:2: PerformanceWarning: DataFrame is highly fragmented.  This is usually the result of calling `frame.insert` many times, which has poor performance.  Consider joining all columns at once using pd.concat(axis=1) instead. To get a de-fragmented frame, use `newframe = frame.copy()`\n",
            "  L_dataset_E2[items] = L_dataset_E2[\"amenities\"].apply(lambda x: 1 if items in x else 0)\n",
            "<ipython-input-51-36dc8c5ed2be>:2: PerformanceWarning: DataFrame is highly fragmented.  This is usually the result of calling `frame.insert` many times, which has poor performance.  Consider joining all columns at once using pd.concat(axis=1) instead. To get a de-fragmented frame, use `newframe = frame.copy()`\n",
            "  L_dataset_E2[items] = L_dataset_E2[\"amenities\"].apply(lambda x: 1 if items in x else 0)\n",
            "<ipython-input-51-36dc8c5ed2be>:2: PerformanceWarning: DataFrame is highly fragmented.  This is usually the result of calling `frame.insert` many times, which has poor performance.  Consider joining all columns at once using pd.concat(axis=1) instead. To get a de-fragmented frame, use `newframe = frame.copy()`\n",
            "  L_dataset_E2[items] = L_dataset_E2[\"amenities\"].apply(lambda x: 1 if items in x else 0)\n",
            "<ipython-input-51-36dc8c5ed2be>:2: PerformanceWarning: DataFrame is highly fragmented.  This is usually the result of calling `frame.insert` many times, which has poor performance.  Consider joining all columns at once using pd.concat(axis=1) instead. To get a de-fragmented frame, use `newframe = frame.copy()`\n",
            "  L_dataset_E2[items] = L_dataset_E2[\"amenities\"].apply(lambda x: 1 if items in x else 0)\n",
            "<ipython-input-51-36dc8c5ed2be>:2: PerformanceWarning: DataFrame is highly fragmented.  This is usually the result of calling `frame.insert` many times, which has poor performance.  Consider joining all columns at once using pd.concat(axis=1) instead. To get a de-fragmented frame, use `newframe = frame.copy()`\n",
            "  L_dataset_E2[items] = L_dataset_E2[\"amenities\"].apply(lambda x: 1 if items in x else 0)\n",
            "<ipython-input-51-36dc8c5ed2be>:2: PerformanceWarning: DataFrame is highly fragmented.  This is usually the result of calling `frame.insert` many times, which has poor performance.  Consider joining all columns at once using pd.concat(axis=1) instead. To get a de-fragmented frame, use `newframe = frame.copy()`\n",
            "  L_dataset_E2[items] = L_dataset_E2[\"amenities\"].apply(lambda x: 1 if items in x else 0)\n",
            "<ipython-input-51-36dc8c5ed2be>:2: PerformanceWarning: DataFrame is highly fragmented.  This is usually the result of calling `frame.insert` many times, which has poor performance.  Consider joining all columns at once using pd.concat(axis=1) instead. To get a de-fragmented frame, use `newframe = frame.copy()`\n",
            "  L_dataset_E2[items] = L_dataset_E2[\"amenities\"].apply(lambda x: 1 if items in x else 0)\n",
            "<ipython-input-51-36dc8c5ed2be>:2: PerformanceWarning: DataFrame is highly fragmented.  This is usually the result of calling `frame.insert` many times, which has poor performance.  Consider joining all columns at once using pd.concat(axis=1) instead. To get a de-fragmented frame, use `newframe = frame.copy()`\n",
            "  L_dataset_E2[items] = L_dataset_E2[\"amenities\"].apply(lambda x: 1 if items in x else 0)\n",
            "<ipython-input-51-36dc8c5ed2be>:2: PerformanceWarning: DataFrame is highly fragmented.  This is usually the result of calling `frame.insert` many times, which has poor performance.  Consider joining all columns at once using pd.concat(axis=1) instead. To get a de-fragmented frame, use `newframe = frame.copy()`\n",
            "  L_dataset_E2[items] = L_dataset_E2[\"amenities\"].apply(lambda x: 1 if items in x else 0)\n",
            "<ipython-input-51-36dc8c5ed2be>:2: PerformanceWarning: DataFrame is highly fragmented.  This is usually the result of calling `frame.insert` many times, which has poor performance.  Consider joining all columns at once using pd.concat(axis=1) instead. To get a de-fragmented frame, use `newframe = frame.copy()`\n",
            "  L_dataset_E2[items] = L_dataset_E2[\"amenities\"].apply(lambda x: 1 if items in x else 0)\n",
            "<ipython-input-51-36dc8c5ed2be>:2: PerformanceWarning: DataFrame is highly fragmented.  This is usually the result of calling `frame.insert` many times, which has poor performance.  Consider joining all columns at once using pd.concat(axis=1) instead. To get a de-fragmented frame, use `newframe = frame.copy()`\n",
            "  L_dataset_E2[items] = L_dataset_E2[\"amenities\"].apply(lambda x: 1 if items in x else 0)\n",
            "<ipython-input-51-36dc8c5ed2be>:2: PerformanceWarning: DataFrame is highly fragmented.  This is usually the result of calling `frame.insert` many times, which has poor performance.  Consider joining all columns at once using pd.concat(axis=1) instead. To get a de-fragmented frame, use `newframe = frame.copy()`\n",
            "  L_dataset_E2[items] = L_dataset_E2[\"amenities\"].apply(lambda x: 1 if items in x else 0)\n",
            "<ipython-input-51-36dc8c5ed2be>:2: PerformanceWarning: DataFrame is highly fragmented.  This is usually the result of calling `frame.insert` many times, which has poor performance.  Consider joining all columns at once using pd.concat(axis=1) instead. To get a de-fragmented frame, use `newframe = frame.copy()`\n",
            "  L_dataset_E2[items] = L_dataset_E2[\"amenities\"].apply(lambda x: 1 if items in x else 0)\n",
            "<ipython-input-51-36dc8c5ed2be>:2: PerformanceWarning: DataFrame is highly fragmented.  This is usually the result of calling `frame.insert` many times, which has poor performance.  Consider joining all columns at once using pd.concat(axis=1) instead. To get a de-fragmented frame, use `newframe = frame.copy()`\n",
            "  L_dataset_E2[items] = L_dataset_E2[\"amenities\"].apply(lambda x: 1 if items in x else 0)\n",
            "<ipython-input-51-36dc8c5ed2be>:2: PerformanceWarning: DataFrame is highly fragmented.  This is usually the result of calling `frame.insert` many times, which has poor performance.  Consider joining all columns at once using pd.concat(axis=1) instead. To get a de-fragmented frame, use `newframe = frame.copy()`\n",
            "  L_dataset_E2[items] = L_dataset_E2[\"amenities\"].apply(lambda x: 1 if items in x else 0)\n",
            "<ipython-input-51-36dc8c5ed2be>:2: PerformanceWarning: DataFrame is highly fragmented.  This is usually the result of calling `frame.insert` many times, which has poor performance.  Consider joining all columns at once using pd.concat(axis=1) instead. To get a de-fragmented frame, use `newframe = frame.copy()`\n",
            "  L_dataset_E2[items] = L_dataset_E2[\"amenities\"].apply(lambda x: 1 if items in x else 0)\n",
            "<ipython-input-51-36dc8c5ed2be>:2: PerformanceWarning: DataFrame is highly fragmented.  This is usually the result of calling `frame.insert` many times, which has poor performance.  Consider joining all columns at once using pd.concat(axis=1) instead. To get a de-fragmented frame, use `newframe = frame.copy()`\n",
            "  L_dataset_E2[items] = L_dataset_E2[\"amenities\"].apply(lambda x: 1 if items in x else 0)\n",
            "<ipython-input-51-36dc8c5ed2be>:2: PerformanceWarning: DataFrame is highly fragmented.  This is usually the result of calling `frame.insert` many times, which has poor performance.  Consider joining all columns at once using pd.concat(axis=1) instead. To get a de-fragmented frame, use `newframe = frame.copy()`\n",
            "  L_dataset_E2[items] = L_dataset_E2[\"amenities\"].apply(lambda x: 1 if items in x else 0)\n",
            "<ipython-input-51-36dc8c5ed2be>:2: PerformanceWarning: DataFrame is highly fragmented.  This is usually the result of calling `frame.insert` many times, which has poor performance.  Consider joining all columns at once using pd.concat(axis=1) instead. To get a de-fragmented frame, use `newframe = frame.copy()`\n",
            "  L_dataset_E2[items] = L_dataset_E2[\"amenities\"].apply(lambda x: 1 if items in x else 0)\n",
            "<ipython-input-51-36dc8c5ed2be>:2: PerformanceWarning: DataFrame is highly fragmented.  This is usually the result of calling `frame.insert` many times, which has poor performance.  Consider joining all columns at once using pd.concat(axis=1) instead. To get a de-fragmented frame, use `newframe = frame.copy()`\n",
            "  L_dataset_E2[items] = L_dataset_E2[\"amenities\"].apply(lambda x: 1 if items in x else 0)\n",
            "<ipython-input-51-36dc8c5ed2be>:2: PerformanceWarning: DataFrame is highly fragmented.  This is usually the result of calling `frame.insert` many times, which has poor performance.  Consider joining all columns at once using pd.concat(axis=1) instead. To get a de-fragmented frame, use `newframe = frame.copy()`\n",
            "  L_dataset_E2[items] = L_dataset_E2[\"amenities\"].apply(lambda x: 1 if items in x else 0)\n",
            "<ipython-input-51-36dc8c5ed2be>:2: PerformanceWarning: DataFrame is highly fragmented.  This is usually the result of calling `frame.insert` many times, which has poor performance.  Consider joining all columns at once using pd.concat(axis=1) instead. To get a de-fragmented frame, use `newframe = frame.copy()`\n",
            "  L_dataset_E2[items] = L_dataset_E2[\"amenities\"].apply(lambda x: 1 if items in x else 0)\n",
            "<ipython-input-51-36dc8c5ed2be>:2: PerformanceWarning: DataFrame is highly fragmented.  This is usually the result of calling `frame.insert` many times, which has poor performance.  Consider joining all columns at once using pd.concat(axis=1) instead. To get a de-fragmented frame, use `newframe = frame.copy()`\n",
            "  L_dataset_E2[items] = L_dataset_E2[\"amenities\"].apply(lambda x: 1 if items in x else 0)\n",
            "<ipython-input-51-36dc8c5ed2be>:2: PerformanceWarning: DataFrame is highly fragmented.  This is usually the result of calling `frame.insert` many times, which has poor performance.  Consider joining all columns at once using pd.concat(axis=1) instead. To get a de-fragmented frame, use `newframe = frame.copy()`\n",
            "  L_dataset_E2[items] = L_dataset_E2[\"amenities\"].apply(lambda x: 1 if items in x else 0)\n",
            "<ipython-input-51-36dc8c5ed2be>:2: PerformanceWarning: DataFrame is highly fragmented.  This is usually the result of calling `frame.insert` many times, which has poor performance.  Consider joining all columns at once using pd.concat(axis=1) instead. To get a de-fragmented frame, use `newframe = frame.copy()`\n",
            "  L_dataset_E2[items] = L_dataset_E2[\"amenities\"].apply(lambda x: 1 if items in x else 0)\n",
            "<ipython-input-51-36dc8c5ed2be>:2: PerformanceWarning: DataFrame is highly fragmented.  This is usually the result of calling `frame.insert` many times, which has poor performance.  Consider joining all columns at once using pd.concat(axis=1) instead. To get a de-fragmented frame, use `newframe = frame.copy()`\n",
            "  L_dataset_E2[items] = L_dataset_E2[\"amenities\"].apply(lambda x: 1 if items in x else 0)\n",
            "<ipython-input-51-36dc8c5ed2be>:2: PerformanceWarning: DataFrame is highly fragmented.  This is usually the result of calling `frame.insert` many times, which has poor performance.  Consider joining all columns at once using pd.concat(axis=1) instead. To get a de-fragmented frame, use `newframe = frame.copy()`\n",
            "  L_dataset_E2[items] = L_dataset_E2[\"amenities\"].apply(lambda x: 1 if items in x else 0)\n",
            "<ipython-input-51-36dc8c5ed2be>:2: PerformanceWarning: DataFrame is highly fragmented.  This is usually the result of calling `frame.insert` many times, which has poor performance.  Consider joining all columns at once using pd.concat(axis=1) instead. To get a de-fragmented frame, use `newframe = frame.copy()`\n",
            "  L_dataset_E2[items] = L_dataset_E2[\"amenities\"].apply(lambda x: 1 if items in x else 0)\n",
            "<ipython-input-51-36dc8c5ed2be>:2: PerformanceWarning: DataFrame is highly fragmented.  This is usually the result of calling `frame.insert` many times, which has poor performance.  Consider joining all columns at once using pd.concat(axis=1) instead. To get a de-fragmented frame, use `newframe = frame.copy()`\n",
            "  L_dataset_E2[items] = L_dataset_E2[\"amenities\"].apply(lambda x: 1 if items in x else 0)\n",
            "<ipython-input-51-36dc8c5ed2be>:2: PerformanceWarning: DataFrame is highly fragmented.  This is usually the result of calling `frame.insert` many times, which has poor performance.  Consider joining all columns at once using pd.concat(axis=1) instead. To get a de-fragmented frame, use `newframe = frame.copy()`\n",
            "  L_dataset_E2[items] = L_dataset_E2[\"amenities\"].apply(lambda x: 1 if items in x else 0)\n",
            "<ipython-input-51-36dc8c5ed2be>:2: PerformanceWarning: DataFrame is highly fragmented.  This is usually the result of calling `frame.insert` many times, which has poor performance.  Consider joining all columns at once using pd.concat(axis=1) instead. To get a de-fragmented frame, use `newframe = frame.copy()`\n",
            "  L_dataset_E2[items] = L_dataset_E2[\"amenities\"].apply(lambda x: 1 if items in x else 0)\n",
            "<ipython-input-51-36dc8c5ed2be>:2: PerformanceWarning: DataFrame is highly fragmented.  This is usually the result of calling `frame.insert` many times, which has poor performance.  Consider joining all columns at once using pd.concat(axis=1) instead. To get a de-fragmented frame, use `newframe = frame.copy()`\n",
            "  L_dataset_E2[items] = L_dataset_E2[\"amenities\"].apply(lambda x: 1 if items in x else 0)\n",
            "<ipython-input-51-36dc8c5ed2be>:2: PerformanceWarning: DataFrame is highly fragmented.  This is usually the result of calling `frame.insert` many times, which has poor performance.  Consider joining all columns at once using pd.concat(axis=1) instead. To get a de-fragmented frame, use `newframe = frame.copy()`\n",
            "  L_dataset_E2[items] = L_dataset_E2[\"amenities\"].apply(lambda x: 1 if items in x else 0)\n",
            "<ipython-input-51-36dc8c5ed2be>:2: PerformanceWarning: DataFrame is highly fragmented.  This is usually the result of calling `frame.insert` many times, which has poor performance.  Consider joining all columns at once using pd.concat(axis=1) instead. To get a de-fragmented frame, use `newframe = frame.copy()`\n",
            "  L_dataset_E2[items] = L_dataset_E2[\"amenities\"].apply(lambda x: 1 if items in x else 0)\n",
            "<ipython-input-51-36dc8c5ed2be>:2: PerformanceWarning: DataFrame is highly fragmented.  This is usually the result of calling `frame.insert` many times, which has poor performance.  Consider joining all columns at once using pd.concat(axis=1) instead. To get a de-fragmented frame, use `newframe = frame.copy()`\n",
            "  L_dataset_E2[items] = L_dataset_E2[\"amenities\"].apply(lambda x: 1 if items in x else 0)\n",
            "<ipython-input-51-36dc8c5ed2be>:2: PerformanceWarning: DataFrame is highly fragmented.  This is usually the result of calling `frame.insert` many times, which has poor performance.  Consider joining all columns at once using pd.concat(axis=1) instead. To get a de-fragmented frame, use `newframe = frame.copy()`\n",
            "  L_dataset_E2[items] = L_dataset_E2[\"amenities\"].apply(lambda x: 1 if items in x else 0)\n",
            "<ipython-input-51-36dc8c5ed2be>:2: PerformanceWarning: DataFrame is highly fragmented.  This is usually the result of calling `frame.insert` many times, which has poor performance.  Consider joining all columns at once using pd.concat(axis=1) instead. To get a de-fragmented frame, use `newframe = frame.copy()`\n",
            "  L_dataset_E2[items] = L_dataset_E2[\"amenities\"].apply(lambda x: 1 if items in x else 0)\n",
            "<ipython-input-51-36dc8c5ed2be>:2: PerformanceWarning: DataFrame is highly fragmented.  This is usually the result of calling `frame.insert` many times, which has poor performance.  Consider joining all columns at once using pd.concat(axis=1) instead. To get a de-fragmented frame, use `newframe = frame.copy()`\n",
            "  L_dataset_E2[items] = L_dataset_E2[\"amenities\"].apply(lambda x: 1 if items in x else 0)\n",
            "<ipython-input-51-36dc8c5ed2be>:2: PerformanceWarning: DataFrame is highly fragmented.  This is usually the result of calling `frame.insert` many times, which has poor performance.  Consider joining all columns at once using pd.concat(axis=1) instead. To get a de-fragmented frame, use `newframe = frame.copy()`\n",
            "  L_dataset_E2[items] = L_dataset_E2[\"amenities\"].apply(lambda x: 1 if items in x else 0)\n",
            "<ipython-input-51-36dc8c5ed2be>:2: PerformanceWarning: DataFrame is highly fragmented.  This is usually the result of calling `frame.insert` many times, which has poor performance.  Consider joining all columns at once using pd.concat(axis=1) instead. To get a de-fragmented frame, use `newframe = frame.copy()`\n",
            "  L_dataset_E2[items] = L_dataset_E2[\"amenities\"].apply(lambda x: 1 if items in x else 0)\n",
            "<ipython-input-51-36dc8c5ed2be>:2: PerformanceWarning: DataFrame is highly fragmented.  This is usually the result of calling `frame.insert` many times, which has poor performance.  Consider joining all columns at once using pd.concat(axis=1) instead. To get a de-fragmented frame, use `newframe = frame.copy()`\n",
            "  L_dataset_E2[items] = L_dataset_E2[\"amenities\"].apply(lambda x: 1 if items in x else 0)\n",
            "<ipython-input-51-36dc8c5ed2be>:2: PerformanceWarning: DataFrame is highly fragmented.  This is usually the result of calling `frame.insert` many times, which has poor performance.  Consider joining all columns at once using pd.concat(axis=1) instead. To get a de-fragmented frame, use `newframe = frame.copy()`\n",
            "  L_dataset_E2[items] = L_dataset_E2[\"amenities\"].apply(lambda x: 1 if items in x else 0)\n",
            "<ipython-input-51-36dc8c5ed2be>:2: PerformanceWarning: DataFrame is highly fragmented.  This is usually the result of calling `frame.insert` many times, which has poor performance.  Consider joining all columns at once using pd.concat(axis=1) instead. To get a de-fragmented frame, use `newframe = frame.copy()`\n",
            "  L_dataset_E2[items] = L_dataset_E2[\"amenities\"].apply(lambda x: 1 if items in x else 0)\n",
            "<ipython-input-51-36dc8c5ed2be>:2: PerformanceWarning: DataFrame is highly fragmented.  This is usually the result of calling `frame.insert` many times, which has poor performance.  Consider joining all columns at once using pd.concat(axis=1) instead. To get a de-fragmented frame, use `newframe = frame.copy()`\n",
            "  L_dataset_E2[items] = L_dataset_E2[\"amenities\"].apply(lambda x: 1 if items in x else 0)\n",
            "<ipython-input-51-36dc8c5ed2be>:2: PerformanceWarning: DataFrame is highly fragmented.  This is usually the result of calling `frame.insert` many times, which has poor performance.  Consider joining all columns at once using pd.concat(axis=1) instead. To get a de-fragmented frame, use `newframe = frame.copy()`\n",
            "  L_dataset_E2[items] = L_dataset_E2[\"amenities\"].apply(lambda x: 1 if items in x else 0)\n",
            "<ipython-input-51-36dc8c5ed2be>:2: PerformanceWarning: DataFrame is highly fragmented.  This is usually the result of calling `frame.insert` many times, which has poor performance.  Consider joining all columns at once using pd.concat(axis=1) instead. To get a de-fragmented frame, use `newframe = frame.copy()`\n",
            "  L_dataset_E2[items] = L_dataset_E2[\"amenities\"].apply(lambda x: 1 if items in x else 0)\n",
            "<ipython-input-51-36dc8c5ed2be>:2: PerformanceWarning: DataFrame is highly fragmented.  This is usually the result of calling `frame.insert` many times, which has poor performance.  Consider joining all columns at once using pd.concat(axis=1) instead. To get a de-fragmented frame, use `newframe = frame.copy()`\n",
            "  L_dataset_E2[items] = L_dataset_E2[\"amenities\"].apply(lambda x: 1 if items in x else 0)\n",
            "<ipython-input-51-36dc8c5ed2be>:2: PerformanceWarning: DataFrame is highly fragmented.  This is usually the result of calling `frame.insert` many times, which has poor performance.  Consider joining all columns at once using pd.concat(axis=1) instead. To get a de-fragmented frame, use `newframe = frame.copy()`\n",
            "  L_dataset_E2[items] = L_dataset_E2[\"amenities\"].apply(lambda x: 1 if items in x else 0)\n",
            "<ipython-input-51-36dc8c5ed2be>:2: PerformanceWarning: DataFrame is highly fragmented.  This is usually the result of calling `frame.insert` many times, which has poor performance.  Consider joining all columns at once using pd.concat(axis=1) instead. To get a de-fragmented frame, use `newframe = frame.copy()`\n",
            "  L_dataset_E2[items] = L_dataset_E2[\"amenities\"].apply(lambda x: 1 if items in x else 0)\n",
            "<ipython-input-51-36dc8c5ed2be>:2: PerformanceWarning: DataFrame is highly fragmented.  This is usually the result of calling `frame.insert` many times, which has poor performance.  Consider joining all columns at once using pd.concat(axis=1) instead. To get a de-fragmented frame, use `newframe = frame.copy()`\n",
            "  L_dataset_E2[items] = L_dataset_E2[\"amenities\"].apply(lambda x: 1 if items in x else 0)\n",
            "<ipython-input-51-36dc8c5ed2be>:2: PerformanceWarning: DataFrame is highly fragmented.  This is usually the result of calling `frame.insert` many times, which has poor performance.  Consider joining all columns at once using pd.concat(axis=1) instead. To get a de-fragmented frame, use `newframe = frame.copy()`\n",
            "  L_dataset_E2[items] = L_dataset_E2[\"amenities\"].apply(lambda x: 1 if items in x else 0)\n",
            "<ipython-input-51-36dc8c5ed2be>:2: PerformanceWarning: DataFrame is highly fragmented.  This is usually the result of calling `frame.insert` many times, which has poor performance.  Consider joining all columns at once using pd.concat(axis=1) instead. To get a de-fragmented frame, use `newframe = frame.copy()`\n",
            "  L_dataset_E2[items] = L_dataset_E2[\"amenities\"].apply(lambda x: 1 if items in x else 0)\n",
            "<ipython-input-51-36dc8c5ed2be>:2: PerformanceWarning: DataFrame is highly fragmented.  This is usually the result of calling `frame.insert` many times, which has poor performance.  Consider joining all columns at once using pd.concat(axis=1) instead. To get a de-fragmented frame, use `newframe = frame.copy()`\n",
            "  L_dataset_E2[items] = L_dataset_E2[\"amenities\"].apply(lambda x: 1 if items in x else 0)\n",
            "<ipython-input-51-36dc8c5ed2be>:2: PerformanceWarning: DataFrame is highly fragmented.  This is usually the result of calling `frame.insert` many times, which has poor performance.  Consider joining all columns at once using pd.concat(axis=1) instead. To get a de-fragmented frame, use `newframe = frame.copy()`\n",
            "  L_dataset_E2[items] = L_dataset_E2[\"amenities\"].apply(lambda x: 1 if items in x else 0)\n",
            "<ipython-input-51-36dc8c5ed2be>:2: PerformanceWarning: DataFrame is highly fragmented.  This is usually the result of calling `frame.insert` many times, which has poor performance.  Consider joining all columns at once using pd.concat(axis=1) instead. To get a de-fragmented frame, use `newframe = frame.copy()`\n",
            "  L_dataset_E2[items] = L_dataset_E2[\"amenities\"].apply(lambda x: 1 if items in x else 0)\n",
            "<ipython-input-51-36dc8c5ed2be>:2: PerformanceWarning: DataFrame is highly fragmented.  This is usually the result of calling `frame.insert` many times, which has poor performance.  Consider joining all columns at once using pd.concat(axis=1) instead. To get a de-fragmented frame, use `newframe = frame.copy()`\n",
            "  L_dataset_E2[items] = L_dataset_E2[\"amenities\"].apply(lambda x: 1 if items in x else 0)\n",
            "<ipython-input-51-36dc8c5ed2be>:2: PerformanceWarning: DataFrame is highly fragmented.  This is usually the result of calling `frame.insert` many times, which has poor performance.  Consider joining all columns at once using pd.concat(axis=1) instead. To get a de-fragmented frame, use `newframe = frame.copy()`\n",
            "  L_dataset_E2[items] = L_dataset_E2[\"amenities\"].apply(lambda x: 1 if items in x else 0)\n",
            "<ipython-input-51-36dc8c5ed2be>:2: PerformanceWarning: DataFrame is highly fragmented.  This is usually the result of calling `frame.insert` many times, which has poor performance.  Consider joining all columns at once using pd.concat(axis=1) instead. To get a de-fragmented frame, use `newframe = frame.copy()`\n",
            "  L_dataset_E2[items] = L_dataset_E2[\"amenities\"].apply(lambda x: 1 if items in x else 0)\n",
            "<ipython-input-51-36dc8c5ed2be>:2: PerformanceWarning: DataFrame is highly fragmented.  This is usually the result of calling `frame.insert` many times, which has poor performance.  Consider joining all columns at once using pd.concat(axis=1) instead. To get a de-fragmented frame, use `newframe = frame.copy()`\n",
            "  L_dataset_E2[items] = L_dataset_E2[\"amenities\"].apply(lambda x: 1 if items in x else 0)\n",
            "<ipython-input-51-36dc8c5ed2be>:2: PerformanceWarning: DataFrame is highly fragmented.  This is usually the result of calling `frame.insert` many times, which has poor performance.  Consider joining all columns at once using pd.concat(axis=1) instead. To get a de-fragmented frame, use `newframe = frame.copy()`\n",
            "  L_dataset_E2[items] = L_dataset_E2[\"amenities\"].apply(lambda x: 1 if items in x else 0)\n",
            "<ipython-input-51-36dc8c5ed2be>:2: PerformanceWarning: DataFrame is highly fragmented.  This is usually the result of calling `frame.insert` many times, which has poor performance.  Consider joining all columns at once using pd.concat(axis=1) instead. To get a de-fragmented frame, use `newframe = frame.copy()`\n",
            "  L_dataset_E2[items] = L_dataset_E2[\"amenities\"].apply(lambda x: 1 if items in x else 0)\n",
            "<ipython-input-51-36dc8c5ed2be>:2: PerformanceWarning: DataFrame is highly fragmented.  This is usually the result of calling `frame.insert` many times, which has poor performance.  Consider joining all columns at once using pd.concat(axis=1) instead. To get a de-fragmented frame, use `newframe = frame.copy()`\n",
            "  L_dataset_E2[items] = L_dataset_E2[\"amenities\"].apply(lambda x: 1 if items in x else 0)\n",
            "<ipython-input-51-36dc8c5ed2be>:2: PerformanceWarning: DataFrame is highly fragmented.  This is usually the result of calling `frame.insert` many times, which has poor performance.  Consider joining all columns at once using pd.concat(axis=1) instead. To get a de-fragmented frame, use `newframe = frame.copy()`\n",
            "  L_dataset_E2[items] = L_dataset_E2[\"amenities\"].apply(lambda x: 1 if items in x else 0)\n",
            "<ipython-input-51-36dc8c5ed2be>:2: PerformanceWarning: DataFrame is highly fragmented.  This is usually the result of calling `frame.insert` many times, which has poor performance.  Consider joining all columns at once using pd.concat(axis=1) instead. To get a de-fragmented frame, use `newframe = frame.copy()`\n",
            "  L_dataset_E2[items] = L_dataset_E2[\"amenities\"].apply(lambda x: 1 if items in x else 0)\n",
            "<ipython-input-51-36dc8c5ed2be>:2: PerformanceWarning: DataFrame is highly fragmented.  This is usually the result of calling `frame.insert` many times, which has poor performance.  Consider joining all columns at once using pd.concat(axis=1) instead. To get a de-fragmented frame, use `newframe = frame.copy()`\n",
            "  L_dataset_E2[items] = L_dataset_E2[\"amenities\"].apply(lambda x: 1 if items in x else 0)\n",
            "<ipython-input-51-36dc8c5ed2be>:2: PerformanceWarning: DataFrame is highly fragmented.  This is usually the result of calling `frame.insert` many times, which has poor performance.  Consider joining all columns at once using pd.concat(axis=1) instead. To get a de-fragmented frame, use `newframe = frame.copy()`\n",
            "  L_dataset_E2[items] = L_dataset_E2[\"amenities\"].apply(lambda x: 1 if items in x else 0)\n",
            "<ipython-input-51-36dc8c5ed2be>:2: PerformanceWarning: DataFrame is highly fragmented.  This is usually the result of calling `frame.insert` many times, which has poor performance.  Consider joining all columns at once using pd.concat(axis=1) instead. To get a de-fragmented frame, use `newframe = frame.copy()`\n",
            "  L_dataset_E2[items] = L_dataset_E2[\"amenities\"].apply(lambda x: 1 if items in x else 0)\n",
            "<ipython-input-51-36dc8c5ed2be>:2: PerformanceWarning: DataFrame is highly fragmented.  This is usually the result of calling `frame.insert` many times, which has poor performance.  Consider joining all columns at once using pd.concat(axis=1) instead. To get a de-fragmented frame, use `newframe = frame.copy()`\n",
            "  L_dataset_E2[items] = L_dataset_E2[\"amenities\"].apply(lambda x: 1 if items in x else 0)\n",
            "<ipython-input-51-36dc8c5ed2be>:2: PerformanceWarning: DataFrame is highly fragmented.  This is usually the result of calling `frame.insert` many times, which has poor performance.  Consider joining all columns at once using pd.concat(axis=1) instead. To get a de-fragmented frame, use `newframe = frame.copy()`\n",
            "  L_dataset_E2[items] = L_dataset_E2[\"amenities\"].apply(lambda x: 1 if items in x else 0)\n",
            "<ipython-input-51-36dc8c5ed2be>:2: PerformanceWarning: DataFrame is highly fragmented.  This is usually the result of calling `frame.insert` many times, which has poor performance.  Consider joining all columns at once using pd.concat(axis=1) instead. To get a de-fragmented frame, use `newframe = frame.copy()`\n",
            "  L_dataset_E2[items] = L_dataset_E2[\"amenities\"].apply(lambda x: 1 if items in x else 0)\n",
            "<ipython-input-51-36dc8c5ed2be>:2: PerformanceWarning: DataFrame is highly fragmented.  This is usually the result of calling `frame.insert` many times, which has poor performance.  Consider joining all columns at once using pd.concat(axis=1) instead. To get a de-fragmented frame, use `newframe = frame.copy()`\n",
            "  L_dataset_E2[items] = L_dataset_E2[\"amenities\"].apply(lambda x: 1 if items in x else 0)\n",
            "<ipython-input-51-36dc8c5ed2be>:2: PerformanceWarning: DataFrame is highly fragmented.  This is usually the result of calling `frame.insert` many times, which has poor performance.  Consider joining all columns at once using pd.concat(axis=1) instead. To get a de-fragmented frame, use `newframe = frame.copy()`\n",
            "  L_dataset_E2[items] = L_dataset_E2[\"amenities\"].apply(lambda x: 1 if items in x else 0)\n",
            "<ipython-input-51-36dc8c5ed2be>:2: PerformanceWarning: DataFrame is highly fragmented.  This is usually the result of calling `frame.insert` many times, which has poor performance.  Consider joining all columns at once using pd.concat(axis=1) instead. To get a de-fragmented frame, use `newframe = frame.copy()`\n",
            "  L_dataset_E2[items] = L_dataset_E2[\"amenities\"].apply(lambda x: 1 if items in x else 0)\n",
            "<ipython-input-51-36dc8c5ed2be>:2: PerformanceWarning: DataFrame is highly fragmented.  This is usually the result of calling `frame.insert` many times, which has poor performance.  Consider joining all columns at once using pd.concat(axis=1) instead. To get a de-fragmented frame, use `newframe = frame.copy()`\n",
            "  L_dataset_E2[items] = L_dataset_E2[\"amenities\"].apply(lambda x: 1 if items in x else 0)\n",
            "<ipython-input-51-36dc8c5ed2be>:2: PerformanceWarning: DataFrame is highly fragmented.  This is usually the result of calling `frame.insert` many times, which has poor performance.  Consider joining all columns at once using pd.concat(axis=1) instead. To get a de-fragmented frame, use `newframe = frame.copy()`\n",
            "  L_dataset_E2[items] = L_dataset_E2[\"amenities\"].apply(lambda x: 1 if items in x else 0)\n",
            "<ipython-input-51-36dc8c5ed2be>:2: PerformanceWarning: DataFrame is highly fragmented.  This is usually the result of calling `frame.insert` many times, which has poor performance.  Consider joining all columns at once using pd.concat(axis=1) instead. To get a de-fragmented frame, use `newframe = frame.copy()`\n",
            "  L_dataset_E2[items] = L_dataset_E2[\"amenities\"].apply(lambda x: 1 if items in x else 0)\n",
            "<ipython-input-51-36dc8c5ed2be>:2: PerformanceWarning: DataFrame is highly fragmented.  This is usually the result of calling `frame.insert` many times, which has poor performance.  Consider joining all columns at once using pd.concat(axis=1) instead. To get a de-fragmented frame, use `newframe = frame.copy()`\n",
            "  L_dataset_E2[items] = L_dataset_E2[\"amenities\"].apply(lambda x: 1 if items in x else 0)\n",
            "<ipython-input-51-36dc8c5ed2be>:2: PerformanceWarning: DataFrame is highly fragmented.  This is usually the result of calling `frame.insert` many times, which has poor performance.  Consider joining all columns at once using pd.concat(axis=1) instead. To get a de-fragmented frame, use `newframe = frame.copy()`\n",
            "  L_dataset_E2[items] = L_dataset_E2[\"amenities\"].apply(lambda x: 1 if items in x else 0)\n",
            "<ipython-input-51-36dc8c5ed2be>:2: PerformanceWarning: DataFrame is highly fragmented.  This is usually the result of calling `frame.insert` many times, which has poor performance.  Consider joining all columns at once using pd.concat(axis=1) instead. To get a de-fragmented frame, use `newframe = frame.copy()`\n",
            "  L_dataset_E2[items] = L_dataset_E2[\"amenities\"].apply(lambda x: 1 if items in x else 0)\n",
            "<ipython-input-51-36dc8c5ed2be>:2: PerformanceWarning: DataFrame is highly fragmented.  This is usually the result of calling `frame.insert` many times, which has poor performance.  Consider joining all columns at once using pd.concat(axis=1) instead. To get a de-fragmented frame, use `newframe = frame.copy()`\n",
            "  L_dataset_E2[items] = L_dataset_E2[\"amenities\"].apply(lambda x: 1 if items in x else 0)\n",
            "<ipython-input-51-36dc8c5ed2be>:2: PerformanceWarning: DataFrame is highly fragmented.  This is usually the result of calling `frame.insert` many times, which has poor performance.  Consider joining all columns at once using pd.concat(axis=1) instead. To get a de-fragmented frame, use `newframe = frame.copy()`\n",
            "  L_dataset_E2[items] = L_dataset_E2[\"amenities\"].apply(lambda x: 1 if items in x else 0)\n",
            "<ipython-input-51-36dc8c5ed2be>:2: PerformanceWarning: DataFrame is highly fragmented.  This is usually the result of calling `frame.insert` many times, which has poor performance.  Consider joining all columns at once using pd.concat(axis=1) instead. To get a de-fragmented frame, use `newframe = frame.copy()`\n",
            "  L_dataset_E2[items] = L_dataset_E2[\"amenities\"].apply(lambda x: 1 if items in x else 0)\n",
            "<ipython-input-51-36dc8c5ed2be>:2: PerformanceWarning: DataFrame is highly fragmented.  This is usually the result of calling `frame.insert` many times, which has poor performance.  Consider joining all columns at once using pd.concat(axis=1) instead. To get a de-fragmented frame, use `newframe = frame.copy()`\n",
            "  L_dataset_E2[items] = L_dataset_E2[\"amenities\"].apply(lambda x: 1 if items in x else 0)\n",
            "<ipython-input-51-36dc8c5ed2be>:2: PerformanceWarning: DataFrame is highly fragmented.  This is usually the result of calling `frame.insert` many times, which has poor performance.  Consider joining all columns at once using pd.concat(axis=1) instead. To get a de-fragmented frame, use `newframe = frame.copy()`\n",
            "  L_dataset_E2[items] = L_dataset_E2[\"amenities\"].apply(lambda x: 1 if items in x else 0)\n",
            "<ipython-input-51-36dc8c5ed2be>:2: PerformanceWarning: DataFrame is highly fragmented.  This is usually the result of calling `frame.insert` many times, which has poor performance.  Consider joining all columns at once using pd.concat(axis=1) instead. To get a de-fragmented frame, use `newframe = frame.copy()`\n",
            "  L_dataset_E2[items] = L_dataset_E2[\"amenities\"].apply(lambda x: 1 if items in x else 0)\n",
            "<ipython-input-51-36dc8c5ed2be>:2: PerformanceWarning: DataFrame is highly fragmented.  This is usually the result of calling `frame.insert` many times, which has poor performance.  Consider joining all columns at once using pd.concat(axis=1) instead. To get a de-fragmented frame, use `newframe = frame.copy()`\n",
            "  L_dataset_E2[items] = L_dataset_E2[\"amenities\"].apply(lambda x: 1 if items in x else 0)\n",
            "<ipython-input-51-36dc8c5ed2be>:2: PerformanceWarning: DataFrame is highly fragmented.  This is usually the result of calling `frame.insert` many times, which has poor performance.  Consider joining all columns at once using pd.concat(axis=1) instead. To get a de-fragmented frame, use `newframe = frame.copy()`\n",
            "  L_dataset_E2[items] = L_dataset_E2[\"amenities\"].apply(lambda x: 1 if items in x else 0)\n",
            "<ipython-input-51-36dc8c5ed2be>:2: PerformanceWarning: DataFrame is highly fragmented.  This is usually the result of calling `frame.insert` many times, which has poor performance.  Consider joining all columns at once using pd.concat(axis=1) instead. To get a de-fragmented frame, use `newframe = frame.copy()`\n",
            "  L_dataset_E2[items] = L_dataset_E2[\"amenities\"].apply(lambda x: 1 if items in x else 0)\n",
            "<ipython-input-51-36dc8c5ed2be>:2: PerformanceWarning: DataFrame is highly fragmented.  This is usually the result of calling `frame.insert` many times, which has poor performance.  Consider joining all columns at once using pd.concat(axis=1) instead. To get a de-fragmented frame, use `newframe = frame.copy()`\n",
            "  L_dataset_E2[items] = L_dataset_E2[\"amenities\"].apply(lambda x: 1 if items in x else 0)\n",
            "<ipython-input-51-36dc8c5ed2be>:2: PerformanceWarning: DataFrame is highly fragmented.  This is usually the result of calling `frame.insert` many times, which has poor performance.  Consider joining all columns at once using pd.concat(axis=1) instead. To get a de-fragmented frame, use `newframe = frame.copy()`\n",
            "  L_dataset_E2[items] = L_dataset_E2[\"amenities\"].apply(lambda x: 1 if items in x else 0)\n",
            "<ipython-input-51-36dc8c5ed2be>:2: PerformanceWarning: DataFrame is highly fragmented.  This is usually the result of calling `frame.insert` many times, which has poor performance.  Consider joining all columns at once using pd.concat(axis=1) instead. To get a de-fragmented frame, use `newframe = frame.copy()`\n",
            "  L_dataset_E2[items] = L_dataset_E2[\"amenities\"].apply(lambda x: 1 if items in x else 0)\n",
            "<ipython-input-51-36dc8c5ed2be>:2: PerformanceWarning: DataFrame is highly fragmented.  This is usually the result of calling `frame.insert` many times, which has poor performance.  Consider joining all columns at once using pd.concat(axis=1) instead. To get a de-fragmented frame, use `newframe = frame.copy()`\n",
            "  L_dataset_E2[items] = L_dataset_E2[\"amenities\"].apply(lambda x: 1 if items in x else 0)\n",
            "<ipython-input-51-36dc8c5ed2be>:2: PerformanceWarning: DataFrame is highly fragmented.  This is usually the result of calling `frame.insert` many times, which has poor performance.  Consider joining all columns at once using pd.concat(axis=1) instead. To get a de-fragmented frame, use `newframe = frame.copy()`\n",
            "  L_dataset_E2[items] = L_dataset_E2[\"amenities\"].apply(lambda x: 1 if items in x else 0)\n",
            "<ipython-input-51-36dc8c5ed2be>:2: PerformanceWarning: DataFrame is highly fragmented.  This is usually the result of calling `frame.insert` many times, which has poor performance.  Consider joining all columns at once using pd.concat(axis=1) instead. To get a de-fragmented frame, use `newframe = frame.copy()`\n",
            "  L_dataset_E2[items] = L_dataset_E2[\"amenities\"].apply(lambda x: 1 if items in x else 0)\n",
            "<ipython-input-51-36dc8c5ed2be>:2: PerformanceWarning: DataFrame is highly fragmented.  This is usually the result of calling `frame.insert` many times, which has poor performance.  Consider joining all columns at once using pd.concat(axis=1) instead. To get a de-fragmented frame, use `newframe = frame.copy()`\n",
            "  L_dataset_E2[items] = L_dataset_E2[\"amenities\"].apply(lambda x: 1 if items in x else 0)\n",
            "<ipython-input-51-36dc8c5ed2be>:2: PerformanceWarning: DataFrame is highly fragmented.  This is usually the result of calling `frame.insert` many times, which has poor performance.  Consider joining all columns at once using pd.concat(axis=1) instead. To get a de-fragmented frame, use `newframe = frame.copy()`\n",
            "  L_dataset_E2[items] = L_dataset_E2[\"amenities\"].apply(lambda x: 1 if items in x else 0)\n",
            "<ipython-input-51-36dc8c5ed2be>:2: PerformanceWarning: DataFrame is highly fragmented.  This is usually the result of calling `frame.insert` many times, which has poor performance.  Consider joining all columns at once using pd.concat(axis=1) instead. To get a de-fragmented frame, use `newframe = frame.copy()`\n",
            "  L_dataset_E2[items] = L_dataset_E2[\"amenities\"].apply(lambda x: 1 if items in x else 0)\n",
            "<ipython-input-51-36dc8c5ed2be>:2: PerformanceWarning: DataFrame is highly fragmented.  This is usually the result of calling `frame.insert` many times, which has poor performance.  Consider joining all columns at once using pd.concat(axis=1) instead. To get a de-fragmented frame, use `newframe = frame.copy()`\n",
            "  L_dataset_E2[items] = L_dataset_E2[\"amenities\"].apply(lambda x: 1 if items in x else 0)\n",
            "<ipython-input-51-36dc8c5ed2be>:2: PerformanceWarning: DataFrame is highly fragmented.  This is usually the result of calling `frame.insert` many times, which has poor performance.  Consider joining all columns at once using pd.concat(axis=1) instead. To get a de-fragmented frame, use `newframe = frame.copy()`\n",
            "  L_dataset_E2[items] = L_dataset_E2[\"amenities\"].apply(lambda x: 1 if items in x else 0)\n",
            "<ipython-input-51-36dc8c5ed2be>:2: PerformanceWarning: DataFrame is highly fragmented.  This is usually the result of calling `frame.insert` many times, which has poor performance.  Consider joining all columns at once using pd.concat(axis=1) instead. To get a de-fragmented frame, use `newframe = frame.copy()`\n",
            "  L_dataset_E2[items] = L_dataset_E2[\"amenities\"].apply(lambda x: 1 if items in x else 0)\n",
            "<ipython-input-51-36dc8c5ed2be>:2: PerformanceWarning: DataFrame is highly fragmented.  This is usually the result of calling `frame.insert` many times, which has poor performance.  Consider joining all columns at once using pd.concat(axis=1) instead. To get a de-fragmented frame, use `newframe = frame.copy()`\n",
            "  L_dataset_E2[items] = L_dataset_E2[\"amenities\"].apply(lambda x: 1 if items in x else 0)\n",
            "<ipython-input-51-36dc8c5ed2be>:2: PerformanceWarning: DataFrame is highly fragmented.  This is usually the result of calling `frame.insert` many times, which has poor performance.  Consider joining all columns at once using pd.concat(axis=1) instead. To get a de-fragmented frame, use `newframe = frame.copy()`\n",
            "  L_dataset_E2[items] = L_dataset_E2[\"amenities\"].apply(lambda x: 1 if items in x else 0)\n",
            "<ipython-input-51-36dc8c5ed2be>:2: PerformanceWarning: DataFrame is highly fragmented.  This is usually the result of calling `frame.insert` many times, which has poor performance.  Consider joining all columns at once using pd.concat(axis=1) instead. To get a de-fragmented frame, use `newframe = frame.copy()`\n",
            "  L_dataset_E2[items] = L_dataset_E2[\"amenities\"].apply(lambda x: 1 if items in x else 0)\n",
            "<ipython-input-51-36dc8c5ed2be>:2: PerformanceWarning: DataFrame is highly fragmented.  This is usually the result of calling `frame.insert` many times, which has poor performance.  Consider joining all columns at once using pd.concat(axis=1) instead. To get a de-fragmented frame, use `newframe = frame.copy()`\n",
            "  L_dataset_E2[items] = L_dataset_E2[\"amenities\"].apply(lambda x: 1 if items in x else 0)\n",
            "<ipython-input-51-36dc8c5ed2be>:2: PerformanceWarning: DataFrame is highly fragmented.  This is usually the result of calling `frame.insert` many times, which has poor performance.  Consider joining all columns at once using pd.concat(axis=1) instead. To get a de-fragmented frame, use `newframe = frame.copy()`\n",
            "  L_dataset_E2[items] = L_dataset_E2[\"amenities\"].apply(lambda x: 1 if items in x else 0)\n",
            "<ipython-input-51-36dc8c5ed2be>:2: PerformanceWarning: DataFrame is highly fragmented.  This is usually the result of calling `frame.insert` many times, which has poor performance.  Consider joining all columns at once using pd.concat(axis=1) instead. To get a de-fragmented frame, use `newframe = frame.copy()`\n",
            "  L_dataset_E2[items] = L_dataset_E2[\"amenities\"].apply(lambda x: 1 if items in x else 0)\n",
            "<ipython-input-51-36dc8c5ed2be>:2: PerformanceWarning: DataFrame is highly fragmented.  This is usually the result of calling `frame.insert` many times, which has poor performance.  Consider joining all columns at once using pd.concat(axis=1) instead. To get a de-fragmented frame, use `newframe = frame.copy()`\n",
            "  L_dataset_E2[items] = L_dataset_E2[\"amenities\"].apply(lambda x: 1 if items in x else 0)\n",
            "<ipython-input-51-36dc8c5ed2be>:2: PerformanceWarning: DataFrame is highly fragmented.  This is usually the result of calling `frame.insert` many times, which has poor performance.  Consider joining all columns at once using pd.concat(axis=1) instead. To get a de-fragmented frame, use `newframe = frame.copy()`\n",
            "  L_dataset_E2[items] = L_dataset_E2[\"amenities\"].apply(lambda x: 1 if items in x else 0)\n",
            "<ipython-input-51-36dc8c5ed2be>:2: PerformanceWarning: DataFrame is highly fragmented.  This is usually the result of calling `frame.insert` many times, which has poor performance.  Consider joining all columns at once using pd.concat(axis=1) instead. To get a de-fragmented frame, use `newframe = frame.copy()`\n",
            "  L_dataset_E2[items] = L_dataset_E2[\"amenities\"].apply(lambda x: 1 if items in x else 0)\n",
            "<ipython-input-51-36dc8c5ed2be>:2: PerformanceWarning: DataFrame is highly fragmented.  This is usually the result of calling `frame.insert` many times, which has poor performance.  Consider joining all columns at once using pd.concat(axis=1) instead. To get a de-fragmented frame, use `newframe = frame.copy()`\n",
            "  L_dataset_E2[items] = L_dataset_E2[\"amenities\"].apply(lambda x: 1 if items in x else 0)\n",
            "<ipython-input-51-36dc8c5ed2be>:2: PerformanceWarning: DataFrame is highly fragmented.  This is usually the result of calling `frame.insert` many times, which has poor performance.  Consider joining all columns at once using pd.concat(axis=1) instead. To get a de-fragmented frame, use `newframe = frame.copy()`\n",
            "  L_dataset_E2[items] = L_dataset_E2[\"amenities\"].apply(lambda x: 1 if items in x else 0)\n",
            "<ipython-input-51-36dc8c5ed2be>:2: PerformanceWarning: DataFrame is highly fragmented.  This is usually the result of calling `frame.insert` many times, which has poor performance.  Consider joining all columns at once using pd.concat(axis=1) instead. To get a de-fragmented frame, use `newframe = frame.copy()`\n",
            "  L_dataset_E2[items] = L_dataset_E2[\"amenities\"].apply(lambda x: 1 if items in x else 0)\n",
            "<ipython-input-51-36dc8c5ed2be>:2: PerformanceWarning: DataFrame is highly fragmented.  This is usually the result of calling `frame.insert` many times, which has poor performance.  Consider joining all columns at once using pd.concat(axis=1) instead. To get a de-fragmented frame, use `newframe = frame.copy()`\n",
            "  L_dataset_E2[items] = L_dataset_E2[\"amenities\"].apply(lambda x: 1 if items in x else 0)\n",
            "<ipython-input-51-36dc8c5ed2be>:2: PerformanceWarning: DataFrame is highly fragmented.  This is usually the result of calling `frame.insert` many times, which has poor performance.  Consider joining all columns at once using pd.concat(axis=1) instead. To get a de-fragmented frame, use `newframe = frame.copy()`\n",
            "  L_dataset_E2[items] = L_dataset_E2[\"amenities\"].apply(lambda x: 1 if items in x else 0)\n",
            "<ipython-input-51-36dc8c5ed2be>:2: PerformanceWarning: DataFrame is highly fragmented.  This is usually the result of calling `frame.insert` many times, which has poor performance.  Consider joining all columns at once using pd.concat(axis=1) instead. To get a de-fragmented frame, use `newframe = frame.copy()`\n",
            "  L_dataset_E2[items] = L_dataset_E2[\"amenities\"].apply(lambda x: 1 if items in x else 0)\n",
            "<ipython-input-51-36dc8c5ed2be>:2: PerformanceWarning: DataFrame is highly fragmented.  This is usually the result of calling `frame.insert` many times, which has poor performance.  Consider joining all columns at once using pd.concat(axis=1) instead. To get a de-fragmented frame, use `newframe = frame.copy()`\n",
            "  L_dataset_E2[items] = L_dataset_E2[\"amenities\"].apply(lambda x: 1 if items in x else 0)\n",
            "<ipython-input-51-36dc8c5ed2be>:2: PerformanceWarning: DataFrame is highly fragmented.  This is usually the result of calling `frame.insert` many times, which has poor performance.  Consider joining all columns at once using pd.concat(axis=1) instead. To get a de-fragmented frame, use `newframe = frame.copy()`\n",
            "  L_dataset_E2[items] = L_dataset_E2[\"amenities\"].apply(lambda x: 1 if items in x else 0)\n",
            "<ipython-input-51-36dc8c5ed2be>:2: PerformanceWarning: DataFrame is highly fragmented.  This is usually the result of calling `frame.insert` many times, which has poor performance.  Consider joining all columns at once using pd.concat(axis=1) instead. To get a de-fragmented frame, use `newframe = frame.copy()`\n",
            "  L_dataset_E2[items] = L_dataset_E2[\"amenities\"].apply(lambda x: 1 if items in x else 0)\n",
            "<ipython-input-51-36dc8c5ed2be>:2: PerformanceWarning: DataFrame is highly fragmented.  This is usually the result of calling `frame.insert` many times, which has poor performance.  Consider joining all columns at once using pd.concat(axis=1) instead. To get a de-fragmented frame, use `newframe = frame.copy()`\n",
            "  L_dataset_E2[items] = L_dataset_E2[\"amenities\"].apply(lambda x: 1 if items in x else 0)\n",
            "<ipython-input-51-36dc8c5ed2be>:2: PerformanceWarning: DataFrame is highly fragmented.  This is usually the result of calling `frame.insert` many times, which has poor performance.  Consider joining all columns at once using pd.concat(axis=1) instead. To get a de-fragmented frame, use `newframe = frame.copy()`\n",
            "  L_dataset_E2[items] = L_dataset_E2[\"amenities\"].apply(lambda x: 1 if items in x else 0)\n",
            "<ipython-input-51-36dc8c5ed2be>:2: PerformanceWarning: DataFrame is highly fragmented.  This is usually the result of calling `frame.insert` many times, which has poor performance.  Consider joining all columns at once using pd.concat(axis=1) instead. To get a de-fragmented frame, use `newframe = frame.copy()`\n",
            "  L_dataset_E2[items] = L_dataset_E2[\"amenities\"].apply(lambda x: 1 if items in x else 0)\n",
            "<ipython-input-51-36dc8c5ed2be>:2: PerformanceWarning: DataFrame is highly fragmented.  This is usually the result of calling `frame.insert` many times, which has poor performance.  Consider joining all columns at once using pd.concat(axis=1) instead. To get a de-fragmented frame, use `newframe = frame.copy()`\n",
            "  L_dataset_E2[items] = L_dataset_E2[\"amenities\"].apply(lambda x: 1 if items in x else 0)\n",
            "<ipython-input-51-36dc8c5ed2be>:2: PerformanceWarning: DataFrame is highly fragmented.  This is usually the result of calling `frame.insert` many times, which has poor performance.  Consider joining all columns at once using pd.concat(axis=1) instead. To get a de-fragmented frame, use `newframe = frame.copy()`\n",
            "  L_dataset_E2[items] = L_dataset_E2[\"amenities\"].apply(lambda x: 1 if items in x else 0)\n",
            "<ipython-input-51-36dc8c5ed2be>:2: PerformanceWarning: DataFrame is highly fragmented.  This is usually the result of calling `frame.insert` many times, which has poor performance.  Consider joining all columns at once using pd.concat(axis=1) instead. To get a de-fragmented frame, use `newframe = frame.copy()`\n",
            "  L_dataset_E2[items] = L_dataset_E2[\"amenities\"].apply(lambda x: 1 if items in x else 0)\n",
            "<ipython-input-51-36dc8c5ed2be>:2: PerformanceWarning: DataFrame is highly fragmented.  This is usually the result of calling `frame.insert` many times, which has poor performance.  Consider joining all columns at once using pd.concat(axis=1) instead. To get a de-fragmented frame, use `newframe = frame.copy()`\n",
            "  L_dataset_E2[items] = L_dataset_E2[\"amenities\"].apply(lambda x: 1 if items in x else 0)\n",
            "<ipython-input-51-36dc8c5ed2be>:2: PerformanceWarning: DataFrame is highly fragmented.  This is usually the result of calling `frame.insert` many times, which has poor performance.  Consider joining all columns at once using pd.concat(axis=1) instead. To get a de-fragmented frame, use `newframe = frame.copy()`\n",
            "  L_dataset_E2[items] = L_dataset_E2[\"amenities\"].apply(lambda x: 1 if items in x else 0)\n",
            "<ipython-input-51-36dc8c5ed2be>:2: PerformanceWarning: DataFrame is highly fragmented.  This is usually the result of calling `frame.insert` many times, which has poor performance.  Consider joining all columns at once using pd.concat(axis=1) instead. To get a de-fragmented frame, use `newframe = frame.copy()`\n",
            "  L_dataset_E2[items] = L_dataset_E2[\"amenities\"].apply(lambda x: 1 if items in x else 0)\n",
            "<ipython-input-51-36dc8c5ed2be>:2: PerformanceWarning: DataFrame is highly fragmented.  This is usually the result of calling `frame.insert` many times, which has poor performance.  Consider joining all columns at once using pd.concat(axis=1) instead. To get a de-fragmented frame, use `newframe = frame.copy()`\n",
            "  L_dataset_E2[items] = L_dataset_E2[\"amenities\"].apply(lambda x: 1 if items in x else 0)\n",
            "<ipython-input-51-36dc8c5ed2be>:2: PerformanceWarning: DataFrame is highly fragmented.  This is usually the result of calling `frame.insert` many times, which has poor performance.  Consider joining all columns at once using pd.concat(axis=1) instead. To get a de-fragmented frame, use `newframe = frame.copy()`\n",
            "  L_dataset_E2[items] = L_dataset_E2[\"amenities\"].apply(lambda x: 1 if items in x else 0)\n",
            "<ipython-input-51-36dc8c5ed2be>:2: PerformanceWarning: DataFrame is highly fragmented.  This is usually the result of calling `frame.insert` many times, which has poor performance.  Consider joining all columns at once using pd.concat(axis=1) instead. To get a de-fragmented frame, use `newframe = frame.copy()`\n",
            "  L_dataset_E2[items] = L_dataset_E2[\"amenities\"].apply(lambda x: 1 if items in x else 0)\n",
            "<ipython-input-51-36dc8c5ed2be>:2: PerformanceWarning: DataFrame is highly fragmented.  This is usually the result of calling `frame.insert` many times, which has poor performance.  Consider joining all columns at once using pd.concat(axis=1) instead. To get a de-fragmented frame, use `newframe = frame.copy()`\n",
            "  L_dataset_E2[items] = L_dataset_E2[\"amenities\"].apply(lambda x: 1 if items in x else 0)\n",
            "<ipython-input-51-36dc8c5ed2be>:2: PerformanceWarning: DataFrame is highly fragmented.  This is usually the result of calling `frame.insert` many times, which has poor performance.  Consider joining all columns at once using pd.concat(axis=1) instead. To get a de-fragmented frame, use `newframe = frame.copy()`\n",
            "  L_dataset_E2[items] = L_dataset_E2[\"amenities\"].apply(lambda x: 1 if items in x else 0)\n",
            "<ipython-input-51-36dc8c5ed2be>:2: PerformanceWarning: DataFrame is highly fragmented.  This is usually the result of calling `frame.insert` many times, which has poor performance.  Consider joining all columns at once using pd.concat(axis=1) instead. To get a de-fragmented frame, use `newframe = frame.copy()`\n",
            "  L_dataset_E2[items] = L_dataset_E2[\"amenities\"].apply(lambda x: 1 if items in x else 0)\n",
            "<ipython-input-51-36dc8c5ed2be>:2: PerformanceWarning: DataFrame is highly fragmented.  This is usually the result of calling `frame.insert` many times, which has poor performance.  Consider joining all columns at once using pd.concat(axis=1) instead. To get a de-fragmented frame, use `newframe = frame.copy()`\n",
            "  L_dataset_E2[items] = L_dataset_E2[\"amenities\"].apply(lambda x: 1 if items in x else 0)\n",
            "<ipython-input-51-36dc8c5ed2be>:2: PerformanceWarning: DataFrame is highly fragmented.  This is usually the result of calling `frame.insert` many times, which has poor performance.  Consider joining all columns at once using pd.concat(axis=1) instead. To get a de-fragmented frame, use `newframe = frame.copy()`\n",
            "  L_dataset_E2[items] = L_dataset_E2[\"amenities\"].apply(lambda x: 1 if items in x else 0)\n",
            "<ipython-input-51-36dc8c5ed2be>:2: PerformanceWarning: DataFrame is highly fragmented.  This is usually the result of calling `frame.insert` many times, which has poor performance.  Consider joining all columns at once using pd.concat(axis=1) instead. To get a de-fragmented frame, use `newframe = frame.copy()`\n",
            "  L_dataset_E2[items] = L_dataset_E2[\"amenities\"].apply(lambda x: 1 if items in x else 0)\n",
            "<ipython-input-51-36dc8c5ed2be>:2: PerformanceWarning: DataFrame is highly fragmented.  This is usually the result of calling `frame.insert` many times, which has poor performance.  Consider joining all columns at once using pd.concat(axis=1) instead. To get a de-fragmented frame, use `newframe = frame.copy()`\n",
            "  L_dataset_E2[items] = L_dataset_E2[\"amenities\"].apply(lambda x: 1 if items in x else 0)\n",
            "<ipython-input-51-36dc8c5ed2be>:2: PerformanceWarning: DataFrame is highly fragmented.  This is usually the result of calling `frame.insert` many times, which has poor performance.  Consider joining all columns at once using pd.concat(axis=1) instead. To get a de-fragmented frame, use `newframe = frame.copy()`\n",
            "  L_dataset_E2[items] = L_dataset_E2[\"amenities\"].apply(lambda x: 1 if items in x else 0)\n",
            "<ipython-input-51-36dc8c5ed2be>:2: PerformanceWarning: DataFrame is highly fragmented.  This is usually the result of calling `frame.insert` many times, which has poor performance.  Consider joining all columns at once using pd.concat(axis=1) instead. To get a de-fragmented frame, use `newframe = frame.copy()`\n",
            "  L_dataset_E2[items] = L_dataset_E2[\"amenities\"].apply(lambda x: 1 if items in x else 0)\n",
            "<ipython-input-51-36dc8c5ed2be>:2: PerformanceWarning: DataFrame is highly fragmented.  This is usually the result of calling `frame.insert` many times, which has poor performance.  Consider joining all columns at once using pd.concat(axis=1) instead. To get a de-fragmented frame, use `newframe = frame.copy()`\n",
            "  L_dataset_E2[items] = L_dataset_E2[\"amenities\"].apply(lambda x: 1 if items in x else 0)\n",
            "<ipython-input-51-36dc8c5ed2be>:2: PerformanceWarning: DataFrame is highly fragmented.  This is usually the result of calling `frame.insert` many times, which has poor performance.  Consider joining all columns at once using pd.concat(axis=1) instead. To get a de-fragmented frame, use `newframe = frame.copy()`\n",
            "  L_dataset_E2[items] = L_dataset_E2[\"amenities\"].apply(lambda x: 1 if items in x else 0)\n",
            "<ipython-input-51-36dc8c5ed2be>:2: PerformanceWarning: DataFrame is highly fragmented.  This is usually the result of calling `frame.insert` many times, which has poor performance.  Consider joining all columns at once using pd.concat(axis=1) instead. To get a de-fragmented frame, use `newframe = frame.copy()`\n",
            "  L_dataset_E2[items] = L_dataset_E2[\"amenities\"].apply(lambda x: 1 if items in x else 0)\n",
            "<ipython-input-51-36dc8c5ed2be>:2: PerformanceWarning: DataFrame is highly fragmented.  This is usually the result of calling `frame.insert` many times, which has poor performance.  Consider joining all columns at once using pd.concat(axis=1) instead. To get a de-fragmented frame, use `newframe = frame.copy()`\n",
            "  L_dataset_E2[items] = L_dataset_E2[\"amenities\"].apply(lambda x: 1 if items in x else 0)\n",
            "<ipython-input-51-36dc8c5ed2be>:2: PerformanceWarning: DataFrame is highly fragmented.  This is usually the result of calling `frame.insert` many times, which has poor performance.  Consider joining all columns at once using pd.concat(axis=1) instead. To get a de-fragmented frame, use `newframe = frame.copy()`\n",
            "  L_dataset_E2[items] = L_dataset_E2[\"amenities\"].apply(lambda x: 1 if items in x else 0)\n",
            "<ipython-input-51-36dc8c5ed2be>:2: PerformanceWarning: DataFrame is highly fragmented.  This is usually the result of calling `frame.insert` many times, which has poor performance.  Consider joining all columns at once using pd.concat(axis=1) instead. To get a de-fragmented frame, use `newframe = frame.copy()`\n",
            "  L_dataset_E2[items] = L_dataset_E2[\"amenities\"].apply(lambda x: 1 if items in x else 0)\n",
            "<ipython-input-51-36dc8c5ed2be>:2: PerformanceWarning: DataFrame is highly fragmented.  This is usually the result of calling `frame.insert` many times, which has poor performance.  Consider joining all columns at once using pd.concat(axis=1) instead. To get a de-fragmented frame, use `newframe = frame.copy()`\n",
            "  L_dataset_E2[items] = L_dataset_E2[\"amenities\"].apply(lambda x: 1 if items in x else 0)\n",
            "<ipython-input-51-36dc8c5ed2be>:2: PerformanceWarning: DataFrame is highly fragmented.  This is usually the result of calling `frame.insert` many times, which has poor performance.  Consider joining all columns at once using pd.concat(axis=1) instead. To get a de-fragmented frame, use `newframe = frame.copy()`\n",
            "  L_dataset_E2[items] = L_dataset_E2[\"amenities\"].apply(lambda x: 1 if items in x else 0)\n",
            "<ipython-input-51-36dc8c5ed2be>:2: PerformanceWarning: DataFrame is highly fragmented.  This is usually the result of calling `frame.insert` many times, which has poor performance.  Consider joining all columns at once using pd.concat(axis=1) instead. To get a de-fragmented frame, use `newframe = frame.copy()`\n",
            "  L_dataset_E2[items] = L_dataset_E2[\"amenities\"].apply(lambda x: 1 if items in x else 0)\n",
            "<ipython-input-51-36dc8c5ed2be>:2: PerformanceWarning: DataFrame is highly fragmented.  This is usually the result of calling `frame.insert` many times, which has poor performance.  Consider joining all columns at once using pd.concat(axis=1) instead. To get a de-fragmented frame, use `newframe = frame.copy()`\n",
            "  L_dataset_E2[items] = L_dataset_E2[\"amenities\"].apply(lambda x: 1 if items in x else 0)\n",
            "<ipython-input-51-36dc8c5ed2be>:2: PerformanceWarning: DataFrame is highly fragmented.  This is usually the result of calling `frame.insert` many times, which has poor performance.  Consider joining all columns at once using pd.concat(axis=1) instead. To get a de-fragmented frame, use `newframe = frame.copy()`\n",
            "  L_dataset_E2[items] = L_dataset_E2[\"amenities\"].apply(lambda x: 1 if items in x else 0)\n",
            "<ipython-input-51-36dc8c5ed2be>:2: PerformanceWarning: DataFrame is highly fragmented.  This is usually the result of calling `frame.insert` many times, which has poor performance.  Consider joining all columns at once using pd.concat(axis=1) instead. To get a de-fragmented frame, use `newframe = frame.copy()`\n",
            "  L_dataset_E2[items] = L_dataset_E2[\"amenities\"].apply(lambda x: 1 if items in x else 0)\n",
            "<ipython-input-51-36dc8c5ed2be>:2: PerformanceWarning: DataFrame is highly fragmented.  This is usually the result of calling `frame.insert` many times, which has poor performance.  Consider joining all columns at once using pd.concat(axis=1) instead. To get a de-fragmented frame, use `newframe = frame.copy()`\n",
            "  L_dataset_E2[items] = L_dataset_E2[\"amenities\"].apply(lambda x: 1 if items in x else 0)\n",
            "<ipython-input-51-36dc8c5ed2be>:2: PerformanceWarning: DataFrame is highly fragmented.  This is usually the result of calling `frame.insert` many times, which has poor performance.  Consider joining all columns at once using pd.concat(axis=1) instead. To get a de-fragmented frame, use `newframe = frame.copy()`\n",
            "  L_dataset_E2[items] = L_dataset_E2[\"amenities\"].apply(lambda x: 1 if items in x else 0)\n",
            "<ipython-input-51-36dc8c5ed2be>:2: PerformanceWarning: DataFrame is highly fragmented.  This is usually the result of calling `frame.insert` many times, which has poor performance.  Consider joining all columns at once using pd.concat(axis=1) instead. To get a de-fragmented frame, use `newframe = frame.copy()`\n",
            "  L_dataset_E2[items] = L_dataset_E2[\"amenities\"].apply(lambda x: 1 if items in x else 0)\n",
            "<ipython-input-51-36dc8c5ed2be>:2: PerformanceWarning: DataFrame is highly fragmented.  This is usually the result of calling `frame.insert` many times, which has poor performance.  Consider joining all columns at once using pd.concat(axis=1) instead. To get a de-fragmented frame, use `newframe = frame.copy()`\n",
            "  L_dataset_E2[items] = L_dataset_E2[\"amenities\"].apply(lambda x: 1 if items in x else 0)\n",
            "<ipython-input-51-36dc8c5ed2be>:2: PerformanceWarning: DataFrame is highly fragmented.  This is usually the result of calling `frame.insert` many times, which has poor performance.  Consider joining all columns at once using pd.concat(axis=1) instead. To get a de-fragmented frame, use `newframe = frame.copy()`\n",
            "  L_dataset_E2[items] = L_dataset_E2[\"amenities\"].apply(lambda x: 1 if items in x else 0)\n",
            "<ipython-input-51-36dc8c5ed2be>:2: PerformanceWarning: DataFrame is highly fragmented.  This is usually the result of calling `frame.insert` many times, which has poor performance.  Consider joining all columns at once using pd.concat(axis=1) instead. To get a de-fragmented frame, use `newframe = frame.copy()`\n",
            "  L_dataset_E2[items] = L_dataset_E2[\"amenities\"].apply(lambda x: 1 if items in x else 0)\n",
            "<ipython-input-51-36dc8c5ed2be>:2: PerformanceWarning: DataFrame is highly fragmented.  This is usually the result of calling `frame.insert` many times, which has poor performance.  Consider joining all columns at once using pd.concat(axis=1) instead. To get a de-fragmented frame, use `newframe = frame.copy()`\n",
            "  L_dataset_E2[items] = L_dataset_E2[\"amenities\"].apply(lambda x: 1 if items in x else 0)\n",
            "<ipython-input-51-36dc8c5ed2be>:2: PerformanceWarning: DataFrame is highly fragmented.  This is usually the result of calling `frame.insert` many times, which has poor performance.  Consider joining all columns at once using pd.concat(axis=1) instead. To get a de-fragmented frame, use `newframe = frame.copy()`\n",
            "  L_dataset_E2[items] = L_dataset_E2[\"amenities\"].apply(lambda x: 1 if items in x else 0)\n",
            "<ipython-input-51-36dc8c5ed2be>:2: PerformanceWarning: DataFrame is highly fragmented.  This is usually the result of calling `frame.insert` many times, which has poor performance.  Consider joining all columns at once using pd.concat(axis=1) instead. To get a de-fragmented frame, use `newframe = frame.copy()`\n",
            "  L_dataset_E2[items] = L_dataset_E2[\"amenities\"].apply(lambda x: 1 if items in x else 0)\n",
            "<ipython-input-51-36dc8c5ed2be>:2: PerformanceWarning: DataFrame is highly fragmented.  This is usually the result of calling `frame.insert` many times, which has poor performance.  Consider joining all columns at once using pd.concat(axis=1) instead. To get a de-fragmented frame, use `newframe = frame.copy()`\n",
            "  L_dataset_E2[items] = L_dataset_E2[\"amenities\"].apply(lambda x: 1 if items in x else 0)\n",
            "<ipython-input-51-36dc8c5ed2be>:2: PerformanceWarning: DataFrame is highly fragmented.  This is usually the result of calling `frame.insert` many times, which has poor performance.  Consider joining all columns at once using pd.concat(axis=1) instead. To get a de-fragmented frame, use `newframe = frame.copy()`\n",
            "  L_dataset_E2[items] = L_dataset_E2[\"amenities\"].apply(lambda x: 1 if items in x else 0)\n",
            "<ipython-input-51-36dc8c5ed2be>:2: PerformanceWarning: DataFrame is highly fragmented.  This is usually the result of calling `frame.insert` many times, which has poor performance.  Consider joining all columns at once using pd.concat(axis=1) instead. To get a de-fragmented frame, use `newframe = frame.copy()`\n",
            "  L_dataset_E2[items] = L_dataset_E2[\"amenities\"].apply(lambda x: 1 if items in x else 0)\n",
            "<ipython-input-51-36dc8c5ed2be>:2: PerformanceWarning: DataFrame is highly fragmented.  This is usually the result of calling `frame.insert` many times, which has poor performance.  Consider joining all columns at once using pd.concat(axis=1) instead. To get a de-fragmented frame, use `newframe = frame.copy()`\n",
            "  L_dataset_E2[items] = L_dataset_E2[\"amenities\"].apply(lambda x: 1 if items in x else 0)\n",
            "<ipython-input-51-36dc8c5ed2be>:2: PerformanceWarning: DataFrame is highly fragmented.  This is usually the result of calling `frame.insert` many times, which has poor performance.  Consider joining all columns at once using pd.concat(axis=1) instead. To get a de-fragmented frame, use `newframe = frame.copy()`\n",
            "  L_dataset_E2[items] = L_dataset_E2[\"amenities\"].apply(lambda x: 1 if items in x else 0)\n",
            "<ipython-input-51-36dc8c5ed2be>:2: PerformanceWarning: DataFrame is highly fragmented.  This is usually the result of calling `frame.insert` many times, which has poor performance.  Consider joining all columns at once using pd.concat(axis=1) instead. To get a de-fragmented frame, use `newframe = frame.copy()`\n",
            "  L_dataset_E2[items] = L_dataset_E2[\"amenities\"].apply(lambda x: 1 if items in x else 0)\n",
            "<ipython-input-51-36dc8c5ed2be>:2: PerformanceWarning: DataFrame is highly fragmented.  This is usually the result of calling `frame.insert` many times, which has poor performance.  Consider joining all columns at once using pd.concat(axis=1) instead. To get a de-fragmented frame, use `newframe = frame.copy()`\n",
            "  L_dataset_E2[items] = L_dataset_E2[\"amenities\"].apply(lambda x: 1 if items in x else 0)\n",
            "<ipython-input-51-36dc8c5ed2be>:2: PerformanceWarning: DataFrame is highly fragmented.  This is usually the result of calling `frame.insert` many times, which has poor performance.  Consider joining all columns at once using pd.concat(axis=1) instead. To get a de-fragmented frame, use `newframe = frame.copy()`\n",
            "  L_dataset_E2[items] = L_dataset_E2[\"amenities\"].apply(lambda x: 1 if items in x else 0)\n",
            "<ipython-input-51-36dc8c5ed2be>:2: PerformanceWarning: DataFrame is highly fragmented.  This is usually the result of calling `frame.insert` many times, which has poor performance.  Consider joining all columns at once using pd.concat(axis=1) instead. To get a de-fragmented frame, use `newframe = frame.copy()`\n",
            "  L_dataset_E2[items] = L_dataset_E2[\"amenities\"].apply(lambda x: 1 if items in x else 0)\n",
            "<ipython-input-51-36dc8c5ed2be>:2: PerformanceWarning: DataFrame is highly fragmented.  This is usually the result of calling `frame.insert` many times, which has poor performance.  Consider joining all columns at once using pd.concat(axis=1) instead. To get a de-fragmented frame, use `newframe = frame.copy()`\n",
            "  L_dataset_E2[items] = L_dataset_E2[\"amenities\"].apply(lambda x: 1 if items in x else 0)\n",
            "<ipython-input-51-36dc8c5ed2be>:2: PerformanceWarning: DataFrame is highly fragmented.  This is usually the result of calling `frame.insert` many times, which has poor performance.  Consider joining all columns at once using pd.concat(axis=1) instead. To get a de-fragmented frame, use `newframe = frame.copy()`\n",
            "  L_dataset_E2[items] = L_dataset_E2[\"amenities\"].apply(lambda x: 1 if items in x else 0)\n",
            "<ipython-input-51-36dc8c5ed2be>:2: PerformanceWarning: DataFrame is highly fragmented.  This is usually the result of calling `frame.insert` many times, which has poor performance.  Consider joining all columns at once using pd.concat(axis=1) instead. To get a de-fragmented frame, use `newframe = frame.copy()`\n",
            "  L_dataset_E2[items] = L_dataset_E2[\"amenities\"].apply(lambda x: 1 if items in x else 0)\n",
            "<ipython-input-51-36dc8c5ed2be>:2: PerformanceWarning: DataFrame is highly fragmented.  This is usually the result of calling `frame.insert` many times, which has poor performance.  Consider joining all columns at once using pd.concat(axis=1) instead. To get a de-fragmented frame, use `newframe = frame.copy()`\n",
            "  L_dataset_E2[items] = L_dataset_E2[\"amenities\"].apply(lambda x: 1 if items in x else 0)\n",
            "<ipython-input-51-36dc8c5ed2be>:2: PerformanceWarning: DataFrame is highly fragmented.  This is usually the result of calling `frame.insert` many times, which has poor performance.  Consider joining all columns at once using pd.concat(axis=1) instead. To get a de-fragmented frame, use `newframe = frame.copy()`\n",
            "  L_dataset_E2[items] = L_dataset_E2[\"amenities\"].apply(lambda x: 1 if items in x else 0)\n",
            "<ipython-input-51-36dc8c5ed2be>:2: PerformanceWarning: DataFrame is highly fragmented.  This is usually the result of calling `frame.insert` many times, which has poor performance.  Consider joining all columns at once using pd.concat(axis=1) instead. To get a de-fragmented frame, use `newframe = frame.copy()`\n",
            "  L_dataset_E2[items] = L_dataset_E2[\"amenities\"].apply(lambda x: 1 if items in x else 0)\n",
            "<ipython-input-51-36dc8c5ed2be>:2: PerformanceWarning: DataFrame is highly fragmented.  This is usually the result of calling `frame.insert` many times, which has poor performance.  Consider joining all columns at once using pd.concat(axis=1) instead. To get a de-fragmented frame, use `newframe = frame.copy()`\n",
            "  L_dataset_E2[items] = L_dataset_E2[\"amenities\"].apply(lambda x: 1 if items in x else 0)\n",
            "<ipython-input-51-36dc8c5ed2be>:2: PerformanceWarning: DataFrame is highly fragmented.  This is usually the result of calling `frame.insert` many times, which has poor performance.  Consider joining all columns at once using pd.concat(axis=1) instead. To get a de-fragmented frame, use `newframe = frame.copy()`\n",
            "  L_dataset_E2[items] = L_dataset_E2[\"amenities\"].apply(lambda x: 1 if items in x else 0)\n",
            "<ipython-input-51-36dc8c5ed2be>:2: PerformanceWarning: DataFrame is highly fragmented.  This is usually the result of calling `frame.insert` many times, which has poor performance.  Consider joining all columns at once using pd.concat(axis=1) instead. To get a de-fragmented frame, use `newframe = frame.copy()`\n",
            "  L_dataset_E2[items] = L_dataset_E2[\"amenities\"].apply(lambda x: 1 if items in x else 0)\n",
            "<ipython-input-51-36dc8c5ed2be>:2: PerformanceWarning: DataFrame is highly fragmented.  This is usually the result of calling `frame.insert` many times, which has poor performance.  Consider joining all columns at once using pd.concat(axis=1) instead. To get a de-fragmented frame, use `newframe = frame.copy()`\n",
            "  L_dataset_E2[items] = L_dataset_E2[\"amenities\"].apply(lambda x: 1 if items in x else 0)\n",
            "<ipython-input-51-36dc8c5ed2be>:2: PerformanceWarning: DataFrame is highly fragmented.  This is usually the result of calling `frame.insert` many times, which has poor performance.  Consider joining all columns at once using pd.concat(axis=1) instead. To get a de-fragmented frame, use `newframe = frame.copy()`\n",
            "  L_dataset_E2[items] = L_dataset_E2[\"amenities\"].apply(lambda x: 1 if items in x else 0)\n",
            "<ipython-input-51-36dc8c5ed2be>:2: PerformanceWarning: DataFrame is highly fragmented.  This is usually the result of calling `frame.insert` many times, which has poor performance.  Consider joining all columns at once using pd.concat(axis=1) instead. To get a de-fragmented frame, use `newframe = frame.copy()`\n",
            "  L_dataset_E2[items] = L_dataset_E2[\"amenities\"].apply(lambda x: 1 if items in x else 0)\n",
            "<ipython-input-51-36dc8c5ed2be>:2: PerformanceWarning: DataFrame is highly fragmented.  This is usually the result of calling `frame.insert` many times, which has poor performance.  Consider joining all columns at once using pd.concat(axis=1) instead. To get a de-fragmented frame, use `newframe = frame.copy()`\n",
            "  L_dataset_E2[items] = L_dataset_E2[\"amenities\"].apply(lambda x: 1 if items in x else 0)\n",
            "<ipython-input-51-36dc8c5ed2be>:2: PerformanceWarning: DataFrame is highly fragmented.  This is usually the result of calling `frame.insert` many times, which has poor performance.  Consider joining all columns at once using pd.concat(axis=1) instead. To get a de-fragmented frame, use `newframe = frame.copy()`\n",
            "  L_dataset_E2[items] = L_dataset_E2[\"amenities\"].apply(lambda x: 1 if items in x else 0)\n",
            "<ipython-input-51-36dc8c5ed2be>:2: PerformanceWarning: DataFrame is highly fragmented.  This is usually the result of calling `frame.insert` many times, which has poor performance.  Consider joining all columns at once using pd.concat(axis=1) instead. To get a de-fragmented frame, use `newframe = frame.copy()`\n",
            "  L_dataset_E2[items] = L_dataset_E2[\"amenities\"].apply(lambda x: 1 if items in x else 0)\n",
            "<ipython-input-51-36dc8c5ed2be>:2: PerformanceWarning: DataFrame is highly fragmented.  This is usually the result of calling `frame.insert` many times, which has poor performance.  Consider joining all columns at once using pd.concat(axis=1) instead. To get a de-fragmented frame, use `newframe = frame.copy()`\n",
            "  L_dataset_E2[items] = L_dataset_E2[\"amenities\"].apply(lambda x: 1 if items in x else 0)\n",
            "<ipython-input-51-36dc8c5ed2be>:2: PerformanceWarning: DataFrame is highly fragmented.  This is usually the result of calling `frame.insert` many times, which has poor performance.  Consider joining all columns at once using pd.concat(axis=1) instead. To get a de-fragmented frame, use `newframe = frame.copy()`\n",
            "  L_dataset_E2[items] = L_dataset_E2[\"amenities\"].apply(lambda x: 1 if items in x else 0)\n",
            "<ipython-input-51-36dc8c5ed2be>:2: PerformanceWarning: DataFrame is highly fragmented.  This is usually the result of calling `frame.insert` many times, which has poor performance.  Consider joining all columns at once using pd.concat(axis=1) instead. To get a de-fragmented frame, use `newframe = frame.copy()`\n",
            "  L_dataset_E2[items] = L_dataset_E2[\"amenities\"].apply(lambda x: 1 if items in x else 0)\n",
            "<ipython-input-51-36dc8c5ed2be>:2: PerformanceWarning: DataFrame is highly fragmented.  This is usually the result of calling `frame.insert` many times, which has poor performance.  Consider joining all columns at once using pd.concat(axis=1) instead. To get a de-fragmented frame, use `newframe = frame.copy()`\n",
            "  L_dataset_E2[items] = L_dataset_E2[\"amenities\"].apply(lambda x: 1 if items in x else 0)\n",
            "<ipython-input-51-36dc8c5ed2be>:2: PerformanceWarning: DataFrame is highly fragmented.  This is usually the result of calling `frame.insert` many times, which has poor performance.  Consider joining all columns at once using pd.concat(axis=1) instead. To get a de-fragmented frame, use `newframe = frame.copy()`\n",
            "  L_dataset_E2[items] = L_dataset_E2[\"amenities\"].apply(lambda x: 1 if items in x else 0)\n",
            "<ipython-input-51-36dc8c5ed2be>:2: PerformanceWarning: DataFrame is highly fragmented.  This is usually the result of calling `frame.insert` many times, which has poor performance.  Consider joining all columns at once using pd.concat(axis=1) instead. To get a de-fragmented frame, use `newframe = frame.copy()`\n",
            "  L_dataset_E2[items] = L_dataset_E2[\"amenities\"].apply(lambda x: 1 if items in x else 0)\n",
            "<ipython-input-51-36dc8c5ed2be>:2: PerformanceWarning: DataFrame is highly fragmented.  This is usually the result of calling `frame.insert` many times, which has poor performance.  Consider joining all columns at once using pd.concat(axis=1) instead. To get a de-fragmented frame, use `newframe = frame.copy()`\n",
            "  L_dataset_E2[items] = L_dataset_E2[\"amenities\"].apply(lambda x: 1 if items in x else 0)\n",
            "<ipython-input-51-36dc8c5ed2be>:2: PerformanceWarning: DataFrame is highly fragmented.  This is usually the result of calling `frame.insert` many times, which has poor performance.  Consider joining all columns at once using pd.concat(axis=1) instead. To get a de-fragmented frame, use `newframe = frame.copy()`\n",
            "  L_dataset_E2[items] = L_dataset_E2[\"amenities\"].apply(lambda x: 1 if items in x else 0)\n",
            "<ipython-input-51-36dc8c5ed2be>:2: PerformanceWarning: DataFrame is highly fragmented.  This is usually the result of calling `frame.insert` many times, which has poor performance.  Consider joining all columns at once using pd.concat(axis=1) instead. To get a de-fragmented frame, use `newframe = frame.copy()`\n",
            "  L_dataset_E2[items] = L_dataset_E2[\"amenities\"].apply(lambda x: 1 if items in x else 0)\n",
            "<ipython-input-51-36dc8c5ed2be>:2: PerformanceWarning: DataFrame is highly fragmented.  This is usually the result of calling `frame.insert` many times, which has poor performance.  Consider joining all columns at once using pd.concat(axis=1) instead. To get a de-fragmented frame, use `newframe = frame.copy()`\n",
            "  L_dataset_E2[items] = L_dataset_E2[\"amenities\"].apply(lambda x: 1 if items in x else 0)\n",
            "<ipython-input-51-36dc8c5ed2be>:2: PerformanceWarning: DataFrame is highly fragmented.  This is usually the result of calling `frame.insert` many times, which has poor performance.  Consider joining all columns at once using pd.concat(axis=1) instead. To get a de-fragmented frame, use `newframe = frame.copy()`\n",
            "  L_dataset_E2[items] = L_dataset_E2[\"amenities\"].apply(lambda x: 1 if items in x else 0)\n",
            "<ipython-input-51-36dc8c5ed2be>:2: PerformanceWarning: DataFrame is highly fragmented.  This is usually the result of calling `frame.insert` many times, which has poor performance.  Consider joining all columns at once using pd.concat(axis=1) instead. To get a de-fragmented frame, use `newframe = frame.copy()`\n",
            "  L_dataset_E2[items] = L_dataset_E2[\"amenities\"].apply(lambda x: 1 if items in x else 0)\n",
            "<ipython-input-51-36dc8c5ed2be>:2: PerformanceWarning: DataFrame is highly fragmented.  This is usually the result of calling `frame.insert` many times, which has poor performance.  Consider joining all columns at once using pd.concat(axis=1) instead. To get a de-fragmented frame, use `newframe = frame.copy()`\n",
            "  L_dataset_E2[items] = L_dataset_E2[\"amenities\"].apply(lambda x: 1 if items in x else 0)\n",
            "<ipython-input-51-36dc8c5ed2be>:2: PerformanceWarning: DataFrame is highly fragmented.  This is usually the result of calling `frame.insert` many times, which has poor performance.  Consider joining all columns at once using pd.concat(axis=1) instead. To get a de-fragmented frame, use `newframe = frame.copy()`\n",
            "  L_dataset_E2[items] = L_dataset_E2[\"amenities\"].apply(lambda x: 1 if items in x else 0)\n",
            "<ipython-input-51-36dc8c5ed2be>:2: PerformanceWarning: DataFrame is highly fragmented.  This is usually the result of calling `frame.insert` many times, which has poor performance.  Consider joining all columns at once using pd.concat(axis=1) instead. To get a de-fragmented frame, use `newframe = frame.copy()`\n",
            "  L_dataset_E2[items] = L_dataset_E2[\"amenities\"].apply(lambda x: 1 if items in x else 0)\n",
            "<ipython-input-51-36dc8c5ed2be>:2: PerformanceWarning: DataFrame is highly fragmented.  This is usually the result of calling `frame.insert` many times, which has poor performance.  Consider joining all columns at once using pd.concat(axis=1) instead. To get a de-fragmented frame, use `newframe = frame.copy()`\n",
            "  L_dataset_E2[items] = L_dataset_E2[\"amenities\"].apply(lambda x: 1 if items in x else 0)\n",
            "<ipython-input-51-36dc8c5ed2be>:2: PerformanceWarning: DataFrame is highly fragmented.  This is usually the result of calling `frame.insert` many times, which has poor performance.  Consider joining all columns at once using pd.concat(axis=1) instead. To get a de-fragmented frame, use `newframe = frame.copy()`\n",
            "  L_dataset_E2[items] = L_dataset_E2[\"amenities\"].apply(lambda x: 1 if items in x else 0)\n",
            "<ipython-input-51-36dc8c5ed2be>:2: PerformanceWarning: DataFrame is highly fragmented.  This is usually the result of calling `frame.insert` many times, which has poor performance.  Consider joining all columns at once using pd.concat(axis=1) instead. To get a de-fragmented frame, use `newframe = frame.copy()`\n",
            "  L_dataset_E2[items] = L_dataset_E2[\"amenities\"].apply(lambda x: 1 if items in x else 0)\n",
            "<ipython-input-51-36dc8c5ed2be>:2: PerformanceWarning: DataFrame is highly fragmented.  This is usually the result of calling `frame.insert` many times, which has poor performance.  Consider joining all columns at once using pd.concat(axis=1) instead. To get a de-fragmented frame, use `newframe = frame.copy()`\n",
            "  L_dataset_E2[items] = L_dataset_E2[\"amenities\"].apply(lambda x: 1 if items in x else 0)\n",
            "<ipython-input-51-36dc8c5ed2be>:2: PerformanceWarning: DataFrame is highly fragmented.  This is usually the result of calling `frame.insert` many times, which has poor performance.  Consider joining all columns at once using pd.concat(axis=1) instead. To get a de-fragmented frame, use `newframe = frame.copy()`\n",
            "  L_dataset_E2[items] = L_dataset_E2[\"amenities\"].apply(lambda x: 1 if items in x else 0)\n",
            "<ipython-input-51-36dc8c5ed2be>:2: PerformanceWarning: DataFrame is highly fragmented.  This is usually the result of calling `frame.insert` many times, which has poor performance.  Consider joining all columns at once using pd.concat(axis=1) instead. To get a de-fragmented frame, use `newframe = frame.copy()`\n",
            "  L_dataset_E2[items] = L_dataset_E2[\"amenities\"].apply(lambda x: 1 if items in x else 0)\n",
            "<ipython-input-51-36dc8c5ed2be>:2: PerformanceWarning: DataFrame is highly fragmented.  This is usually the result of calling `frame.insert` many times, which has poor performance.  Consider joining all columns at once using pd.concat(axis=1) instead. To get a de-fragmented frame, use `newframe = frame.copy()`\n",
            "  L_dataset_E2[items] = L_dataset_E2[\"amenities\"].apply(lambda x: 1 if items in x else 0)\n",
            "<ipython-input-51-36dc8c5ed2be>:2: PerformanceWarning: DataFrame is highly fragmented.  This is usually the result of calling `frame.insert` many times, which has poor performance.  Consider joining all columns at once using pd.concat(axis=1) instead. To get a de-fragmented frame, use `newframe = frame.copy()`\n",
            "  L_dataset_E2[items] = L_dataset_E2[\"amenities\"].apply(lambda x: 1 if items in x else 0)\n",
            "<ipython-input-51-36dc8c5ed2be>:2: PerformanceWarning: DataFrame is highly fragmented.  This is usually the result of calling `frame.insert` many times, which has poor performance.  Consider joining all columns at once using pd.concat(axis=1) instead. To get a de-fragmented frame, use `newframe = frame.copy()`\n",
            "  L_dataset_E2[items] = L_dataset_E2[\"amenities\"].apply(lambda x: 1 if items in x else 0)\n"
          ]
        }
      ]
    },
    {
      "cell_type": "code",
      "source": [
        "len(L_dataset_E2.columns)"
      ],
      "metadata": {
        "colab": {
          "base_uri": "https://localhost:8080/"
        },
        "id": "ahKDDgBuCbZO",
        "outputId": "72da96c8-756d-4900-b501-f437b8214238"
      },
      "execution_count": 52,
      "outputs": [
        {
          "output_type": "execute_result",
          "data": {
            "text/plain": [
              "559"
            ]
          },
          "metadata": {},
          "execution_count": 52
        }
      ]
    },
    {
      "cell_type": "code",
      "source": [
        "L_dataset_E2.drop(columns=\"amenities\",inplace=True)"
      ],
      "metadata": {
        "id": "K1cwTznGCY7V"
      },
      "execution_count": 53,
      "outputs": []
    },
    {
      "cell_type": "code",
      "source": [
        "if 'city' in  L_dataset_E2.columns:\n",
        "  L_dataset_E2 = L_dataset_E2.drop('city', axis=1)"
      ],
      "metadata": {
        "id": "x7xoRz1glpjC"
      },
      "execution_count": 54,
      "outputs": []
    },
    {
      "cell_type": "code",
      "source": [
        "print(len(L_dataset_E2))\n",
        "print(L_dataset_E2.dtypes)"
      ],
      "metadata": {
        "colab": {
          "base_uri": "https://localhost:8080/"
        },
        "id": "AJLK4V0rC1xt",
        "outputId": "e59e8615-c463-4bd6-d7ff-7a101b7a53c9"
      },
      "execution_count": 55,
      "outputs": [
        {
          "output_type": "stream",
          "name": "stdout",
          "text": [
            "31942\n",
            "listing_id                         int64\n",
            "host_since                         int64\n",
            "host_is_superhost                  int64\n",
            "host_total_listings_count        float64\n",
            "latitude                         float64\n",
            "                                  ...   \n",
            " Outdoor furniture                 int64\n",
            " Denon Bluetooth sound system      int64\n",
            " ONKYO sound system                int64\n",
            " SONOS sound system                int64\n",
            " 48 HDTV with premium cable        int64\n",
            "Length: 557, dtype: object\n"
          ]
        }
      ]
    },
    {
      "cell_type": "markdown",
      "source": [
        "Finally we got dataset with 561 feature and 31942 columns and one target which is the profit"
      ],
      "metadata": {
        "id": "LRtIDHWGDLWC"
      }
    },
    {
      "cell_type": "code",
      "source": [
        "# removing nights_reserved column but we should keep price columns\n",
        "if 'nights_reserved' in  L_dataset_E2.columns:\n",
        "  L_dataset_E2 = L_dataset_E2.drop('nights_reserved', axis=1)"
      ],
      "metadata": {
        "id": "D9BYs44HMIz2"
      },
      "execution_count": 56,
      "outputs": []
    },
    {
      "cell_type": "markdown",
      "source": [
        "# Modeling"
      ],
      "metadata": {
        "id": "F-afx9odYfvM"
      }
    },
    {
      "cell_type": "markdown",
      "source": [
        "plitting a dataset into training and testing sets using the train_test_split function from the scikit-learn library."
      ],
      "metadata": {
        "id": "3_rVIOfRYuC-"
      }
    },
    {
      "cell_type": "code",
      "source": [
        "X_train, X_test, y_train, y_test = train_test_split(L_dataset_E2.copy().drop('profit', axis=1), L_dataset_E2['profit'], test_size=0.2)\n"
      ],
      "metadata": {
        "id": "KsDkZ2BVMjvP"
      },
      "execution_count": 57,
      "outputs": []
    },
    {
      "cell_type": "code",
      "source": [
        "from sklearn.cluster import KMeans\n",
        "\n",
        "# create an instance of SimpleImputer with the desired strategy (e.g. mean, median, most_frequent)\n",
        "imputer = SimpleImputer(strategy='most_frequent')\n",
        "\n",
        "# fit the imputer to the feature set with missing values\n",
        "imputer.fit(X_train)\n",
        "\n",
        "# transform the feature set by filling in the missing values\n",
        "X_train_imputed = imputer.transform(X_train)\n",
        "X_test_imputed = imputer.transform(X_test)\n",
        "\n",
        "# Fit PCA to data\n",
        "pca = PCA()\n",
        "pca.fit(X_train_imputed)\n",
        "\n",
        "# Transform data to obtain principal components\n",
        "X_pca = pca.transform(X_train_imputed)\n",
        "\n",
        "# Iterate over a range of values for number of components\n",
        "ssd = []\n",
        "for i in range(1, 20):\n",
        "    kmeans = KMeans(n_clusters=i, random_state=42)\n",
        "    kmeans.fit(X_pca[:,:i])\n",
        "    ssd.append(kmeans.inertia_)\n",
        "\n",
        "# Plot the sum of squared distances for each number of components\n",
        "plt.plot(range(1,20), ssd, 'bx-')\n",
        "plt.xlabel('Number of Components')\n",
        "plt.ylabel('Sum of Squared Distances')\n",
        "plt.title('Elbow Method with PCA')\n",
        "plt.show()\n",
        "\n",
        "\n",
        "\n",
        "\n"
      ],
      "metadata": {
        "colab": {
          "base_uri": "https://localhost:8080/",
          "height": 1000
        },
        "id": "8vCT4Z061mle",
        "outputId": "2a3e434d-ac41-4c7f-b306-1a33133d7673"
      },
      "execution_count": 96,
      "outputs": [
        {
          "output_type": "stream",
          "name": "stderr",
          "text": [
            "/usr/local/lib/python3.9/dist-packages/sklearn/cluster/_kmeans.py:870: FutureWarning: The default value of `n_init` will change from 10 to 'auto' in 1.4. Set the value of `n_init` explicitly to suppress the warning\n",
            "  warnings.warn(\n",
            "/usr/local/lib/python3.9/dist-packages/sklearn/cluster/_kmeans.py:870: FutureWarning: The default value of `n_init` will change from 10 to 'auto' in 1.4. Set the value of `n_init` explicitly to suppress the warning\n",
            "  warnings.warn(\n",
            "/usr/local/lib/python3.9/dist-packages/sklearn/cluster/_kmeans.py:870: FutureWarning: The default value of `n_init` will change from 10 to 'auto' in 1.4. Set the value of `n_init` explicitly to suppress the warning\n",
            "  warnings.warn(\n",
            "/usr/local/lib/python3.9/dist-packages/sklearn/cluster/_kmeans.py:870: FutureWarning: The default value of `n_init` will change from 10 to 'auto' in 1.4. Set the value of `n_init` explicitly to suppress the warning\n",
            "  warnings.warn(\n",
            "/usr/local/lib/python3.9/dist-packages/sklearn/cluster/_kmeans.py:870: FutureWarning: The default value of `n_init` will change from 10 to 'auto' in 1.4. Set the value of `n_init` explicitly to suppress the warning\n",
            "  warnings.warn(\n",
            "/usr/local/lib/python3.9/dist-packages/sklearn/cluster/_kmeans.py:870: FutureWarning: The default value of `n_init` will change from 10 to 'auto' in 1.4. Set the value of `n_init` explicitly to suppress the warning\n",
            "  warnings.warn(\n",
            "/usr/local/lib/python3.9/dist-packages/sklearn/cluster/_kmeans.py:870: FutureWarning: The default value of `n_init` will change from 10 to 'auto' in 1.4. Set the value of `n_init` explicitly to suppress the warning\n",
            "  warnings.warn(\n",
            "/usr/local/lib/python3.9/dist-packages/sklearn/cluster/_kmeans.py:870: FutureWarning: The default value of `n_init` will change from 10 to 'auto' in 1.4. Set the value of `n_init` explicitly to suppress the warning\n",
            "  warnings.warn(\n",
            "/usr/local/lib/python3.9/dist-packages/sklearn/cluster/_kmeans.py:870: FutureWarning: The default value of `n_init` will change from 10 to 'auto' in 1.4. Set the value of `n_init` explicitly to suppress the warning\n",
            "  warnings.warn(\n",
            "/usr/local/lib/python3.9/dist-packages/sklearn/cluster/_kmeans.py:870: FutureWarning: The default value of `n_init` will change from 10 to 'auto' in 1.4. Set the value of `n_init` explicitly to suppress the warning\n",
            "  warnings.warn(\n",
            "/usr/local/lib/python3.9/dist-packages/sklearn/cluster/_kmeans.py:870: FutureWarning: The default value of `n_init` will change from 10 to 'auto' in 1.4. Set the value of `n_init` explicitly to suppress the warning\n",
            "  warnings.warn(\n",
            "/usr/local/lib/python3.9/dist-packages/sklearn/cluster/_kmeans.py:870: FutureWarning: The default value of `n_init` will change from 10 to 'auto' in 1.4. Set the value of `n_init` explicitly to suppress the warning\n",
            "  warnings.warn(\n",
            "/usr/local/lib/python3.9/dist-packages/sklearn/cluster/_kmeans.py:870: FutureWarning: The default value of `n_init` will change from 10 to 'auto' in 1.4. Set the value of `n_init` explicitly to suppress the warning\n",
            "  warnings.warn(\n",
            "/usr/local/lib/python3.9/dist-packages/sklearn/cluster/_kmeans.py:870: FutureWarning: The default value of `n_init` will change from 10 to 'auto' in 1.4. Set the value of `n_init` explicitly to suppress the warning\n",
            "  warnings.warn(\n",
            "/usr/local/lib/python3.9/dist-packages/sklearn/cluster/_kmeans.py:870: FutureWarning: The default value of `n_init` will change from 10 to 'auto' in 1.4. Set the value of `n_init` explicitly to suppress the warning\n",
            "  warnings.warn(\n",
            "/usr/local/lib/python3.9/dist-packages/sklearn/cluster/_kmeans.py:870: FutureWarning: The default value of `n_init` will change from 10 to 'auto' in 1.4. Set the value of `n_init` explicitly to suppress the warning\n",
            "  warnings.warn(\n",
            "/usr/local/lib/python3.9/dist-packages/sklearn/cluster/_kmeans.py:870: FutureWarning: The default value of `n_init` will change from 10 to 'auto' in 1.4. Set the value of `n_init` explicitly to suppress the warning\n",
            "  warnings.warn(\n",
            "/usr/local/lib/python3.9/dist-packages/sklearn/cluster/_kmeans.py:870: FutureWarning: The default value of `n_init` will change from 10 to 'auto' in 1.4. Set the value of `n_init` explicitly to suppress the warning\n",
            "  warnings.warn(\n",
            "/usr/local/lib/python3.9/dist-packages/sklearn/cluster/_kmeans.py:870: FutureWarning: The default value of `n_init` will change from 10 to 'auto' in 1.4. Set the value of `n_init` explicitly to suppress the warning\n",
            "  warnings.warn(\n"
          ]
        },
        {
          "output_type": "display_data",
          "data": {
            "text/plain": [
              "<Figure size 640x480 with 1 Axes>"
            ],
            "image/png": "[encoded data removed]"
          },
          "metadata": {}
        }
      ]
    },
    {
      "cell_type": "code",
      "source": [
        "\"\"\"pipeline1 = make_pipeline(\n",
        "    SimpleImputer(strategy=\"mean\"),  # Impute missing values with mean\n",
        "    StandardScaler(),  # Scale features to have mean=0 and variance=1\n",
        "    PCA(n_components=10)\n",
        ")\n",
        "model = pipeline1.fit(X_train, y_train)\"\"\""
      ],
      "metadata": {
        "id": "L6ZFZehm0gxt"
      },
      "execution_count": 69,
      "outputs": []
    },
    {
      "cell_type": "code",
      "source": [
        "from sklearn.linear_model import LinearRegression\n",
        "pipeline = make_pipeline(\n",
        "    SimpleImputer(strategy=\"most_frequent\"),  # Impute missing values with mean\n",
        "    StandardScaler(),  # Scale features to have mean=0 and variance=1\n",
        "    PCA(n_components=5),  # set the number of components\n",
        "    #LinearRegression()\n",
        "    TPOTRegressor(generations=5, population_size=20, scoring='neg_mean_squared_error'  , verbosity=2)\n",
        ")\n",
        "pipeline.fit(X_train, y_train)"
      ],
      "metadata": {
        "colab": {
          "base_uri": "https://localhost:8080/",
          "height": 424,
          "referenced_widgets": [
            "b8d0747218044b54837ae070047b9fca",
            "025a620a90904644a00d7e753e33b878",
            "b6317796ba4e4795930bd18ea2329373",
            "250734b9f8d64f2f946f4bb972cabae0",
            "ec22f722c7ba449e932eefb98b2ccf33",
            "e9b6b3719a9e432ca7c9645d63128884",
            "6fdc3cb9de7a4c89b318c7f4b68ff3e4",
            "494db722cdfe44b5a908e47d3fbbd3ab",
            "2db4085560764ddb809d26e868f38841",
            "93c60a8145f84c72b9e15fc7af6c1250",
            "f051e36a080f4ccb922af65d1d6210d2"
          ]
        },
        "id": "iyw3APJdng2M",
        "outputId": "a9114057-0e89-4326-b0c7-b00ec8c767ad"
      },
      "execution_count": 122,
      "outputs": [
        {
          "output_type": "display_data",
          "data": {
            "text/plain": [
              "Optimization Progress:   0%|          | 0/120 [00:00<?, ?pipeline/s]"
            ],
            "application/vnd.jupyter.widget-view+json": {
              "version_major": 2,
              "version_minor": 0,
              "model_id": "b8d0747218044b54837ae070047b9fca"
            }
          },
          "metadata": {}
        },
        {
          "output_type": "stream",
          "name": "stdout",
          "text": [
            "\n",
            "Generation 1 - Current best internal CV score: -1179629272.927702\n",
            "\n",
            "Generation 2 - Current best internal CV score: -1179629272.927702\n",
            "\n",
            "Generation 3 - Current best internal CV score: -1179629272.927702\n",
            "\n",
            "Generation 4 - Current best internal CV score: -1179629272.927702\n",
            "\n",
            "Generation 5 - Current best internal CV score: -1179629272.927702\n",
            "\n",
            "Best pipeline: AdaBoostRegressor(ExtraTreesRegressor(input_matrix, bootstrap=False, max_features=0.15000000000000002, min_samples_leaf=2, min_samples_split=9, n_estimators=100), learning_rate=0.1, loss=exponential, n_estimators=100)\n"
          ]
        },
        {
          "output_type": "execute_result",
          "data": {
            "text/plain": [
              "Pipeline(steps=[('simpleimputer', SimpleImputer(strategy='most_frequent')),\n",
              "                ('standardscaler', StandardScaler()),\n",
              "                ('pca', PCA(n_components=5)),\n",
              "                ('tpotregressor',\n",
              "                 TPOTRegressor(generations=5, population_size=20,\n",
              "                               scoring='neg_mean_squared_error',\n",
              "                               verbosity=2))])"
            ],
            "text/html": [
              "<style>#sk-container-id-19 {color: black;background-color: white;}#sk-container-id-19 pre{padding: 0;}#sk-container-id-19 div.sk-toggleable {background-color: white;}#sk-container-id-19 label.sk-toggleable__label {cursor: pointer;display: block;width: 100%;margin-bottom: 0;padding: 0.3em;box-sizing: border-box;text-align: center;}#sk-container-id-19 label.sk-toggleable__label-arrow:before {content: \"▸\";float: left;margin-right: 0.25em;color: #696969;}#sk-container-id-19 label.sk-toggleable__label-arrow:hover:before {color: black;}#sk-container-id-19 div.sk-estimator:hover label.sk-toggleable__label-arrow:before {color: black;}#sk-container-id-19 div.sk-toggleable__content {max-height: 0;max-width: 0;overflow: hidden;text-align: left;background-color: #f0f8ff;}#sk-container-id-19 div.sk-toggleable__content pre {margin: 0.2em;color: black;border-radius: 0.25em;background-color: #f0f8ff;}#sk-container-id-19 input.sk-toggleable__control:checked~div.sk-toggleable__content {max-height: 200px;max-width: 100%;overflow: auto;}#sk-container-id-19 input.sk-toggleable__control:checked~label.sk-toggleable__label-arrow:before {content: \"▾\";}#sk-container-id-19 div.sk-estimator input.sk-toggleable__control:checked~label.sk-toggleable__label {background-color: #d4ebff;}#sk-container-id-19 div.sk-label input.sk-toggleable__control:checked~label.sk-toggleable__label {background-color: #d4ebff;}#sk-container-id-19 input.sk-hidden--visually {border: 0;clip: rect(1px 1px 1px 1px);clip: rect(1px, 1px, 1px, 1px);height: 1px;margin: -1px;overflow: hidden;padding: 0;position: absolute;width: 1px;}#sk-container-id-19 div.sk-estimator {font-family: monospace;background-color: #f0f8ff;border: 1px dotted black;border-radius: 0.25em;box-sizing: border-box;margin-bottom: 0.5em;}#sk-container-id-19 div.sk-estimator:hover {background-color: #d4ebff;}#sk-container-id-19 div.sk-parallel-item::after {content: \"\";width: 100%;border-bottom: 1px solid gray;flex-grow: 1;}#sk-container-id-19 div.sk-label:hover label.sk-toggleable__label {background-color: #d4ebff;}#sk-container-id-19 div.sk-serial::before {content: \"\";position: absolute;border-left: 1px solid gray;box-sizing: border-box;top: 0;bottom: 0;left: 50%;z-index: 0;}#sk-container-id-19 div.sk-serial {display: flex;flex-direction: column;align-items: center;background-color: white;padding-right: 0.2em;padding-left: 0.2em;position: relative;}#sk-container-id-19 div.sk-item {position: relative;z-index: 1;}#sk-container-id-19 div.sk-parallel {display: flex;align-items: stretch;justify-content: center;background-color: white;position: relative;}#sk-container-id-19 div.sk-item::before, #sk-container-id-19 div.sk-parallel-item::before {content: \"\";position: absolute;border-left: 1px solid gray;box-sizing: border-box;top: 0;bottom: 0;left: 50%;z-index: -1;}#sk-container-id-19 div.sk-parallel-item {display: flex;flex-direction: column;z-index: 1;position: relative;background-color: white;}#sk-container-id-19 div.sk-parallel-item:first-child::after {align-self: flex-end;width: 50%;}#sk-container-id-19 div.sk-parallel-item:last-child::after {align-self: flex-start;width: 50%;}#sk-container-id-19 div.sk-parallel-item:only-child::after {width: 0;}#sk-container-id-19 div.sk-dashed-wrapped {border: 1px dashed gray;margin: 0 0.4em 0.5em 0.4em;box-sizing: border-box;padding-bottom: 0.4em;background-color: white;}#sk-container-id-19 div.sk-label label {font-family: monospace;font-weight: bold;display: inline-block;line-height: 1.2em;}#sk-container-id-19 div.sk-label-container {text-align: center;}#sk-container-id-19 div.sk-container {/* jupyter's `normalize.less` sets `[hidden] { display: none; }` but bootstrap.min.css set `[hidden] { display: none !important; }` so we also need the `!important` here to be able to override the default hidden behavior on the sphinx rendered scikit-learn.org. See: https://github.com/scikit-learn/scikit-learn/issues/21755 */display: inline-block !important;position: relative;}#sk-container-id-19 div.sk-text-repr-fallback {display: none;}</style><div id=\"sk-container-id-19\" class=\"sk-top-container\"><div class=\"sk-text-repr-fallback\"><pre>Pipeline(steps=[(&#x27;simpleimputer&#x27;, SimpleImputer(strategy=&#x27;most_frequent&#x27;)),\n",
              "                (&#x27;standardscaler&#x27;, StandardScaler()),\n",
              "                (&#x27;pca&#x27;, PCA(n_components=5)),\n",
              "                (&#x27;tpotregressor&#x27;,\n",
              "                 TPOTRegressor(generations=5, population_size=20,\n",
              "                               scoring=&#x27;neg_mean_squared_error&#x27;,\n",
              "                               verbosity=2))])</pre><b>In a Jupyter environment, please rerun this cell to show the HTML representation or trust the notebook. <br />On GitHub, the HTML representation is unable to render, please try loading this page with nbviewer.org.</b></div><div class=\"sk-container\" hidden><div class=\"sk-item sk-dashed-wrapped\"><div class=\"sk-label-container\"><div class=\"sk-label sk-toggleable\"><input class=\"sk-toggleable__control sk-hidden--visually\" id=\"sk-estimator-id-73\" type=\"checkbox\" ><label for=\"sk-estimator-id-73\" class=\"sk-toggleable__label sk-toggleable__label-arrow\">Pipeline</label><div class=\"sk-toggleable__content\"><pre>Pipeline(steps=[(&#x27;simpleimputer&#x27;, SimpleImputer(strategy=&#x27;most_frequent&#x27;)),\n",
              "                (&#x27;standardscaler&#x27;, StandardScaler()),\n",
              "                (&#x27;pca&#x27;, PCA(n_components=5)),\n",
              "                (&#x27;tpotregressor&#x27;,\n",
              "                 TPOTRegressor(generations=5, population_size=20,\n",
              "                               scoring=&#x27;neg_mean_squared_error&#x27;,\n",
              "                               verbosity=2))])</pre></div></div></div><div class=\"sk-serial\"><div class=\"sk-item\"><div class=\"sk-estimator sk-toggleable\"><input class=\"sk-toggleable__control sk-hidden--visually\" id=\"sk-estimator-id-74\" type=\"checkbox\" ><label for=\"sk-estimator-id-74\" class=\"sk-toggleable__label sk-toggleable__label-arrow\">SimpleImputer</label><div class=\"sk-toggleable__content\"><pre>SimpleImputer(strategy=&#x27;most_frequent&#x27;)</pre></div></div></div><div class=\"sk-item\"><div class=\"sk-estimator sk-toggleable\"><input class=\"sk-toggleable__control sk-hidden--visually\" id=\"sk-estimator-id-75\" type=\"checkbox\" ><label for=\"sk-estimator-id-75\" class=\"sk-toggleable__label sk-toggleable__label-arrow\">StandardScaler</label><div class=\"sk-toggleable__content\"><pre>StandardScaler()</pre></div></div></div><div class=\"sk-item\"><div class=\"sk-estimator sk-toggleable\"><input class=\"sk-toggleable__control sk-hidden--visually\" id=\"sk-estimator-id-76\" type=\"checkbox\" ><label for=\"sk-estimator-id-76\" class=\"sk-toggleable__label sk-toggleable__label-arrow\">PCA</label><div class=\"sk-toggleable__content\"><pre>PCA(n_components=5)</pre></div></div></div><div class=\"sk-item\"><div class=\"sk-estimator sk-toggleable\"><input class=\"sk-toggleable__control sk-hidden--visually\" id=\"sk-estimator-id-77\" type=\"checkbox\" ><label for=\"sk-estimator-id-77\" class=\"sk-toggleable__label sk-toggleable__label-arrow\">TPOTRegressor</label><div class=\"sk-toggleable__content\"><pre>TPOTRegressor(generations=5, population_size=20,\n",
              "              scoring=&#x27;neg_mean_squared_error&#x27;, verbosity=2)</pre></div></div></div></div></div></div></div>"
            ]
          },
          "metadata": {},
          "execution_count": 122
        }
      ]
    },
    {
      "cell_type": "code",
      "source": [
        "score = pipeline.score(X_test, y_test)\n",
        "print(score)"
      ],
      "metadata": {
        "colab": {
          "base_uri": "https://localhost:8080/"
        },
        "id": "gglZYusUoNfN",
        "outputId": "b0875a53-6616-432f-ccb3-c2832ac6dc30"
      },
      "execution_count": 123,
      "outputs": [
        {
          "output_type": "stream",
          "name": "stdout",
          "text": [
            "-5783435334.713932\n"
          ]
        },
        {
          "output_type": "stream",
          "name": "stderr",
          "text": [
            "/usr/local/lib/python3.9/dist-packages/sklearn/metrics/_scorer.py:794: FutureWarning: sklearn.metrics.SCORERS is deprecated and will be removed in v1.3. Please use sklearn.metrics.get_scorer_names to get a list of available scorers and sklearn.metrics.get_metric to get scorer.\n",
            "  warnings.warn(\n"
          ]
        }
      ]
    }
  ]
}